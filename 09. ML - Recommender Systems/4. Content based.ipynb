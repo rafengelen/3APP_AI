{
 "cells": [
  {
   "cell_type": "markdown",
   "metadata": {},
   "source": [
    "# Content based recommendation engine\n",
    "\n",
    "Wondered how Google comes up with movies that are similar to the ones you like? In this section we will build one such recommendation system ourselves."
   ]
  },
  {
   "cell_type": "markdown",
   "metadata": {},
   "source": [
    "## 1. Finding the similarity\n",
    "\n",
    "We know that our recommendation engine will be content based. So, we need to find similar movies to a given movie and then recommend those similar movies to the user. The logic is pretty straightforward. Right?\n",
    "\n",
    "But, wait…. How can we find out which movies are similar to the given movie in the first place? How can we find out how much similar (or dissimilar) two movies are?\n",
    "\n",
    "Let us start with something simple and easy to understand. Suppose, you are given the following two texts:\n",
    "\n",
    "- Text A: London Paris London\n",
    "- Text B: Paris Paris London\n",
    "\n",
    "How would you find the similarity between Text A and Text B? Let’s analyze these texts...\n",
    "\n",
    "- Text A contains the word \"London\" twice and the word \"Paris\" once.\n",
    "- Text B contains the word \"London\" once and the word \"Paris\" twice.\n",
    "\n",
    "What will happen if we try to represent these two texts in a 2D plane (with \"London\" in X axis and \"Paris\" in Y axis)? Let’s try to do this. It will look like this:\n",
    "\n",
    "<img src=\"./resources/cos1.png\"  style=\"height: 250px\"/>\n",
    "\n",
    "Here, the red vector represents \"Text A\" and the blue vector represents \"Text B\". Now we have graphically represented these two texts. So can we find out the similarity between these two texts?\n",
    "\n",
    "The answer is \"Yes, we can\". But, exactly how? These two texts are represented as vectors. Right? So, we can say that two vectors are similar if the distance between them is small. By distance, we mean the angular distance between two vectors, which is represented by θ (theta).\n",
    "\n",
    "<img src=\"./resources/cos2.png\"  style=\"height: 250px\"/>\n",
    "\n",
    "By thinking further from the machine learning perspective, we can understand that the value of cos θ makes more sense to us rather than the value of θ (theta) because, the cosine function will map the value of θ in the first quadrant between 0 to 1 (Remember? cos 90° = 0 and cos 0° = 1 ). Can you see that the smaller θ is (more similarity between the two texts), the larger the value of cos θ will be?\n",
    " \n",
    "<img src=\"./resources/cos3.png\"  style=\"height: 250px\"/>\n",
    "\n",
    "## 2. Cosine_similarity()\n",
    "\n",
    "Don’t get scared, we don’t need to implement the formula from scratch to calculate cos θ. We have our friend Scikit-Learn to calculate that for us :) Just remember: cosine similarity is a simple, but very effective vector similarity metric, that's heavily used, especially in the field of NLP (Natural Language Processing).\n",
    "\n",
    "Let’s see how we can do that.\n",
    "\n",
    "At first, we need to have text A and B in our program (we will take four cities):"
   ]
  },
  {
   "cell_type": "code",
   "execution_count": 1,
   "metadata": {},
   "outputs": [],
   "source": [
    "text = [\"London Paris London Amsterdam\", \"Paris Paris London Brussels\"]"
   ]
  },
  {
   "cell_type": "markdown",
   "metadata": {},
   "source": [
    "Now, we need to find a way to represent these texts as vectors, because we need to calculate with them. So, we have to kind of 'encode' our text, to get our numerical representation, in the form of a vector (not just a single scalar, so we have more expressive power).  \n",
    "\n",
    "The CountVectorizer() class can do this for us."
   ]
  },
  {
   "cell_type": "code",
   "execution_count": 2,
   "metadata": {},
   "outputs": [],
   "source": [
    "from sklearn.feature_extraction.text import CountVectorizer\n",
    "\n",
    "cv = CountVectorizer()\n",
    "count_matrix = cv.fit_transform(text)"
   ]
  },
  {
   "cell_type": "markdown",
   "metadata": {},
   "source": [
    "count_matrix gives us a sparse matrix. "
   ]
  },
  {
   "cell_type": "code",
   "execution_count": 3,
   "metadata": {},
   "outputs": [
    {
     "data": {
      "text/plain": [
       "<2x4 sparse matrix of type '<class 'numpy.int64'>'\n",
       "\twith 6 stored elements in Compressed Sparse Row format>"
      ]
     },
     "execution_count": 3,
     "metadata": {},
     "output_type": "execute_result"
    }
   ],
   "source": [
    "count_matrix"
   ]
  },
  {
   "cell_type": "markdown",
   "metadata": {},
   "source": [
    "To make it in human readable form, we need to apply the `toarrray()` method over it. And before printing out this count_matrix, let us first print out the feature list (or, word list), which has been fed to our `CountVectorizer()` object."
   ]
  },
  {
   "cell_type": "code",
   "execution_count": 5,
   "metadata": {},
   "outputs": [
    {
     "name": "stdout",
     "output_type": "stream",
     "text": [
      "['amsterdam' 'brussels' 'london' 'paris']\n",
      "[[1 0 2 1]\n",
      " [0 1 1 2]]\n"
     ]
    }
   ],
   "source": [
    "print(cv.get_feature_names_out())\n",
    "print(count_matrix.toarray())"
   ]
  },
  {
   "cell_type": "markdown",
   "metadata": {},
   "source": [
    "This indicates that the word amsterdam occurs 1 time in A and 0 times in B, brussels occurs 0 times in A and 1 time in B, london occurs 2 times in A and 1 time in B and paris occurs 1 time in A and 2 times in B. Makes sense. Right?\n",
    "\n",
    "Now, we need to find cosine  similarity between these vectors to find out how similar they are to each other. We can calculate this using `cosine_similarity()` function:"
   ]
  },
  {
   "cell_type": "code",
   "execution_count": 6,
   "metadata": {},
   "outputs": [
    {
     "name": "stdout",
     "output_type": "stream",
     "text": [
      "[[1.         0.66666667]\n",
      " [0.66666667 1.        ]]\n"
     ]
    }
   ],
   "source": [
    "from sklearn.metrics.pairwise import cosine_similarity\n",
    "\n",
    "similarity_scores = cosine_similarity(count_matrix)\n",
    "print(similarity_scores)"
   ]
  },
  {
   "cell_type": "markdown",
   "metadata": {},
   "source": [
    "What does this output indicate? We can interpret this output like this: \n",
    "\n",
    "1. Each row of the similarity matrix indicates each sentence of our input. So, row 0 = Text A and row 1 = Text B.\n",
    "2. The same thing applies for columns.\n",
    "\n",
    "To get a better understanding of this, we can say that the output given above is the same as the following:\n",
    "\n",
    "```\n",
    "        Text A      Text B\n",
    "Text A    1          0.66\n",
    "Text B   0.66         1\n",
    "```\n",
    "\n",
    "By interpreting this, the output says that Text A is similar to Text A (itself) by 100% (position [0,0]) and Text A is similar to Text B by 66% (position [0,1]). We can easily see that the output is always going to be a symmetric matrix. Because if Text A is similar to Text B by 66% then, Text B is also going to be similar to Text A by 66%."
   ]
  },
  {
   "cell_type": "markdown",
   "metadata": {},
   "source": [
    "## 3. Building the recommendation engine - Exercise\n",
    "\n",
    "Now we know how to find similarity between contents. So, let’s try to apply this knowledge to build a content based movie recommendation engine. \n",
    "\n",
    "### 3.1 Read the data\n",
    "\n",
    "Import all the required libraries and then read the `movie_dataset.csv` file from the `resources` directory using the `read_csv()` method."
   ]
  },
  {
   "cell_type": "code",
   "execution_count": null,
   "metadata": {},
   "outputs": [],
   "source": [
    "\n"
   ]
  },
  {
   "cell_type": "markdown",
   "metadata": {},
   "source": [
    "Explore the data by showing the first 5 lines."
   ]
  },
  {
   "cell_type": "code",
   "execution_count": null,
   "metadata": {},
   "outputs": [],
   "source": [
    "\n"
   ]
  },
  {
   "cell_type": "markdown",
   "metadata": {},
   "source": [
    "You will see that it has many extra info about a movie. We don’t need all of them. So, we choose the keywords, cast, genres and director column to use as our feature set. We also need to clean and preprocess the data for our use. We will fill all the NaN values with blank strings in the dataframe (for the columns keywords, cast, genres and director)."
   ]
  },
  {
   "cell_type": "code",
   "execution_count": 6,
   "metadata": {},
   "outputs": [
    {
     "ename": "NameError",
     "evalue": "name 'movies_df' is not defined",
     "output_type": "error",
     "traceback": [
      "\u001b[1;31m---------------------------------------------------------------------------\u001b[0m",
      "\u001b[1;31mNameError\u001b[0m                                 Traceback (most recent call last)",
      "Cell \u001b[1;32mIn [6], line 5\u001b[0m\n\u001b[0;32m      3\u001b[0m \u001b[38;5;66;03m# filling all NaNs with blank strings\u001b[39;00m\n\u001b[0;32m      4\u001b[0m \u001b[38;5;28;01mfor\u001b[39;00m feature \u001b[38;5;129;01min\u001b[39;00m features:\n\u001b[1;32m----> 5\u001b[0m     movies_df[feature] \u001b[38;5;241m=\u001b[39m movies_df[feature]\u001b[38;5;241m.\u001b[39mfillna(\u001b[38;5;124m'\u001b[39m\u001b[38;5;124m'\u001b[39m)\n",
      "\u001b[1;31mNameError\u001b[0m: name 'movies_df' is not defined"
     ]
    }
   ],
   "source": [
    "features = ['keywords', 'cast', 'genres', 'director']\n",
    "\n",
    "# filling all NaNs with blank strings\n",
    "for feature in features:\n",
    "    movies_df[feature] = movies_df[feature].fillna('') "
   ]
  },
  {
   "cell_type": "markdown",
   "metadata": {},
   "source": [
    "Your next task is to create a function for combining the values of these columns into a single string and call this function over each row of our dataframe. The name of the new column is `combined_features`."
   ]
  },
  {
   "cell_type": "code",
   "execution_count": null,
   "metadata": {},
   "outputs": [],
   "source": [
    "\n"
   ]
  },
  {
   "cell_type": "markdown",
   "metadata": {},
   "source": [
    "Check the content of the new `combined_features` column by showing the first 5 rows."
   ]
  },
  {
   "cell_type": "code",
   "execution_count": null,
   "metadata": {},
   "outputs": [],
   "source": [
    "\n"
   ]
  },
  {
   "cell_type": "markdown",
   "metadata": {},
   "source": [
    "### 3.2 Create the matrix\n",
    "\n",
    "Now that you have obtained the combined_features column, you can now feed these strings to a CountVectorizer() object for getting the count matrix."
   ]
  },
  {
   "cell_type": "code",
   "execution_count": null,
   "metadata": {},
   "outputs": [],
   "source": [
    "\n"
   ]
  },
  {
   "cell_type": "markdown",
   "metadata": {},
   "source": [
    "Print the total number of different words found in the combined_features column."
   ]
  },
  {
   "cell_type": "code",
   "execution_count": null,
   "metadata": {},
   "outputs": [],
   "source": [
    "\n"
   ]
  },
  {
   "cell_type": "markdown",
   "metadata": {},
   "source": [
    "Print all the words found in the combined_features column."
   ]
  },
  {
   "cell_type": "code",
   "execution_count": null,
   "metadata": {},
   "outputs": [],
   "source": [
    "\n"
   ]
  },
  {
   "cell_type": "markdown",
   "metadata": {},
   "source": [
    "Print the number of films and the number of features."
   ]
  },
  {
   "cell_type": "code",
   "execution_count": null,
   "metadata": {},
   "outputs": [],
   "source": [
    "\n"
   ]
  },
  {
   "cell_type": "markdown",
   "metadata": {},
   "source": [
    "Print the number of films and the number of words."
   ]
  },
  {
   "cell_type": "code",
   "execution_count": null,
   "metadata": {},
   "outputs": [],
   "source": [
    "\n"
   ]
  },
  {
   "cell_type": "markdown",
   "metadata": {},
   "source": [
    "Print the content of the count_matrix."
   ]
  },
  {
   "cell_type": "code",
   "execution_count": null,
   "metadata": {},
   "outputs": [],
   "source": [
    "\n"
   ]
  },
  {
   "cell_type": "markdown",
   "metadata": {},
   "source": [
    "Now, obtain the cosine similarity matrix from the count matrix."
   ]
  },
  {
   "cell_type": "code",
   "execution_count": null,
   "metadata": {},
   "outputs": [],
   "source": [
    "\n"
   ]
  },
  {
   "cell_type": "markdown",
   "metadata": {},
   "source": [
    "We will define two helper functions to get movie title from movie index and vice-versa."
   ]
  },
  {
   "cell_type": "code",
   "execution_count": null,
   "metadata": {},
   "outputs": [],
   "source": [
    "def get_title_from_index(index):\n",
    "    return movies_df[movies_df.index == index][\"title\"].values[0]\n",
    "def get_index_from_title(title):\n",
    "    return movies_df[movies_df.title == title][\"index\"].values[0]"
   ]
  },
  {
   "cell_type": "markdown",
   "metadata": {},
   "source": [
    "Print the index of Interstellar."
   ]
  },
  {
   "cell_type": "code",
   "execution_count": null,
   "metadata": {},
   "outputs": [],
   "source": [
    "\n"
   ]
  },
  {
   "cell_type": "markdown",
   "metadata": {},
   "source": [
    "Print the title of the film with index 95."
   ]
  },
  {
   "cell_type": "code",
   "execution_count": null,
   "metadata": {},
   "outputs": [],
   "source": [
    "\n"
   ]
  },
  {
   "cell_type": "markdown",
   "metadata": {},
   "source": [
    "### 3.3 Find similar movies\n",
    "\n",
    "We will need the functions `enumerate()` and `list()`:"
   ]
  },
  {
   "cell_type": "code",
   "execution_count": null,
   "metadata": {},
   "outputs": [],
   "source": [
    "x = ['apple', 'banana', 'cherry']\n",
    "# enumerate over x and make a tuple (index, fruit)\n",
    "print(list(enumerate(x)))"
   ]
  },
  {
   "cell_type": "markdown",
   "metadata": {},
   "source": [
    "- We will find the index of the movie the user likes. \n",
    "- After that, we will access the row corresponding to this movie in the similarity matrix. Thus, we will get the similarity scores of all other movies from the current movie.\n",
    "- Then we will enumerate through all the similarity scores of that movie to make a tuple of movie index and similarity score. "
   ]
  },
  {
   "cell_type": "code",
   "execution_count": null,
   "metadata": {},
   "outputs": [],
   "source": [
    "movie_user_likes = \"Pulp Fiction\"\n",
    "movie_index = get_index_from_title(movie_user_likes)\n",
    "similar_movies = list(enumerate(cosine_sim[movie_index]))"
   ]
  },
  {
   "cell_type": "markdown",
   "metadata": {},
   "source": [
    "This will convert a row of similarity scores like this [1 0.5 0.2 0.9] to this [(0, 1) (1, 0.5) (2, 0.2) (3, 0.9)]. Here, each item is in this form (movie index, similarity score)."
   ]
  },
  {
   "cell_type": "code",
   "execution_count": null,
   "metadata": {},
   "outputs": [],
   "source": [
    "print(similar_movies)"
   ]
  },
  {
   "cell_type": "markdown",
   "metadata": {},
   "source": [
    "### Question\n",
    "\n",
    "If you print the index of Pulp Fiction, what will be the value of y in (index, y) in similar_movies? Makes sense? Right?"
   ]
  },
  {
   "cell_type": "code",
   "execution_count": null,
   "metadata": {},
   "outputs": [],
   "source": [
    "print(movie_index)"
   ]
  },
  {
   "cell_type": "markdown",
   "metadata": {},
   "source": [
    "### 3.4 Sort and print Top 9 similar movies\n",
    "\n",
    "We will sort the list similar_movies according to similarity scores in descending order. Since the most similar movie to a given movie will be itself, we will discard the first element after sorting the movies."
   ]
  },
  {
   "cell_type": "code",
   "execution_count": null,
   "metadata": {},
   "outputs": [],
   "source": [
    "sorted_similar_movies = sorted(similar_movies,key=lambda x:x[1],reverse=True)[1:]"
   ]
  },
  {
   "cell_type": "code",
   "execution_count": null,
   "metadata": {},
   "outputs": [],
   "source": [
    "i = 0\n",
    "print(\"Top 9 similar movies to \" + movie_user_likes + \" are:\\n\")\n",
    "for element in sorted_similar_movies:\n",
    "    print(get_title_from_index(element[0]))\n",
    "    i = i + 1\n",
    "    if i > 8:\n",
    "        break"
   ]
  },
  {
   "cell_type": "markdown",
   "metadata": {},
   "source": [
    "You can compare your results with the collaborative filtering based recommendation engine from Google. 4/9. Mmm, not bad.\n",
    "\n",
    "<img src=\"./resources/pulp.png\"/>"
   ]
  },
  {
   "cell_type": "markdown",
   "metadata": {},
   "source": [
    "Maybe you can try to find similar movies for some other movie you like."
   ]
  }
 ],
 "metadata": {
  "kernelspec": {
   "display_name": "Python 3.10.6 ('ML_env': venv)",
   "language": "python",
   "name": "python3"
  },
  "language_info": {
   "codemirror_mode": {
    "name": "ipython",
    "version": 3
   },
   "file_extension": ".py",
   "mimetype": "text/x-python",
   "name": "python",
   "nbconvert_exporter": "python",
   "pygments_lexer": "ipython3",
   "version": "3.10.6"
  },
  "vscode": {
   "interpreter": {
    "hash": "3762fa38335283772957b8ad4850e1d344741e862c3aa7ec1c26d17780db6975"
   }
  }
 },
 "nbformat": 4,
 "nbformat_minor": 2
}
