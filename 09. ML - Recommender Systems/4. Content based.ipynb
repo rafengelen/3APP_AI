{
 "cells": [
  {
   "cell_type": "markdown",
   "metadata": {},
   "source": [
    "# Content based recommendation engine\n",
    "\n",
    "Wondered how Google comes up with movies that are similar to the ones you like? In this section we will build one such recommendation system ourselves."
   ]
  },
  {
   "cell_type": "markdown",
   "metadata": {},
   "source": [
    "## 1. Finding the similarity\n",
    "\n",
    "We know that our recommendation engine will be content based. So, we need to find similar movies to a given movie and then recommend those similar movies to the user. The logic is pretty straightforward. Right?\n",
    "\n",
    "But, wait…. How can we find out which movies are similar to the given movie in the first place? How can we find out how much similar (or dissimilar) two movies are?\n",
    "\n",
    "Let us start with something simple and easy to understand. Suppose, you are given the following two texts:\n",
    "\n",
    "- Text A: London Paris London\n",
    "- Text B: Paris Paris London\n",
    "\n",
    "How would you find the similarity between Text A and Text B? Let’s analyze these texts...\n",
    "\n",
    "- Text A contains the word \"London\" twice and the word \"Paris\" once.\n",
    "- Text B contains the word \"London\" once and the word \"Paris\" twice.\n",
    "\n",
    "What will happen if we try to represent these two texts in a 2D plane (with \"London\" in X axis and \"Paris\" in Y axis)? Let’s try to do this. It will look like this:\n",
    "\n",
    "<img src=\"./resources/cos1.png\"  style=\"height: 250px\"/>\n",
    "\n",
    "Here, the red vector represents \"Text A\" and the blue vector represents \"Text B\". Now we have graphically represented these two texts. So can we find out the similarity between these two texts?\n",
    "\n",
    "The answer is \"Yes, we can\". But, exactly how? These two texts are represented as vectors. Right? So, we can say that two vectors are similar if the distance between them is small. By distance, we mean the angular distance between two vectors, which is represented by θ (theta).\n",
    "\n",
    "<img src=\"./resources/cos2.png\"  style=\"height: 250px\"/>\n",
    "\n",
    "By thinking further from the machine learning perspective, we can understand that the value of cos θ makes more sense to us rather than the value of θ (theta) because, the cosine function will map the value of θ in the first quadrant between 0 to 1 (Remember? cos 90° = 0 and cos 0° = 1 ). Can you see that the smaller θ is (more similarity between the two texts), the larger the value of cos θ will be?\n",
    " \n",
    "<img src=\"./resources/cos3.png\"  style=\"height: 250px\"/>\n",
    "\n",
    "## 2. Cosine_similarity()\n",
    "\n",
    "Don’t get scared, we don’t need to implement the formula from scratch to calculate cos θ. We have our friend Scikit-Learn to calculate that for us :) Just remember: cosine similarity is a simple, but very effective vector similarity metric, that's heavily used, especially in the field of NLP (Natural Language Processing).\n",
    "\n",
    "Let’s see how we can do that.\n",
    "\n",
    "At first, we need to have text A and B in our program (we will take four cities):"
   ]
  },
  {
   "cell_type": "code",
   "execution_count": 54,
   "metadata": {},
   "outputs": [],
   "source": [
    "text = [\"London Paris London Amsterdam\", \"Paris Paris London Brussels\"]"
   ]
  },
  {
   "cell_type": "markdown",
   "metadata": {},
   "source": [
    "Now, we need to find a way to represent these texts as vectors, because we need to calculate with them. So, we have to kind of 'encode' our text, to get our numerical representation, in the form of a vector (not just a single scalar, so we have more expressive power).  \n",
    "\n",
    "The CountVectorizer() class can do this for us."
   ]
  },
  {
   "cell_type": "code",
   "execution_count": 55,
   "metadata": {},
   "outputs": [],
   "source": [
    "from sklearn.feature_extraction.text import CountVectorizer\n",
    "from sklearn.metrics.pairwise import cosine_similarity\n",
    "cv = CountVectorizer()\n",
    "count_matrix = cv.fit_transform(text)"
   ]
  },
  {
   "cell_type": "markdown",
   "metadata": {},
   "source": [
    "count_matrix gives us a sparse matrix. "
   ]
  },
  {
   "cell_type": "code",
   "execution_count": 56,
   "metadata": {},
   "outputs": [
    {
     "data": {
      "text/plain": [
       "<2x4 sparse matrix of type '<class 'numpy.int64'>'\n",
       "\twith 6 stored elements in Compressed Sparse Row format>"
      ]
     },
     "execution_count": 56,
     "metadata": {},
     "output_type": "execute_result"
    }
   ],
   "source": [
    "count_matrix"
   ]
  },
  {
   "cell_type": "markdown",
   "metadata": {},
   "source": [
    "To make it in human readable form, we need to apply the `toarrray()` method over it. And before printing out this count_matrix, let us first print out the feature list (or, word list), which has been fed to our `CountVectorizer()` object."
   ]
  },
  {
   "cell_type": "code",
   "execution_count": 57,
   "metadata": {},
   "outputs": [
    {
     "name": "stdout",
     "output_type": "stream",
     "text": [
      "['amsterdam' 'brussels' 'london' 'paris']\n",
      "[[1 0 2 1]\n",
      " [0 1 1 2]]\n"
     ]
    }
   ],
   "source": [
    "print(cv.get_feature_names_out())\n",
    "print(count_matrix.toarray())"
   ]
  },
  {
   "cell_type": "markdown",
   "metadata": {},
   "source": [
    "This indicates that the word amsterdam occurs 1 time in A and 0 times in B, brussels occurs 0 times in A and 1 time in B, london occurs 2 times in A and 1 time in B and paris occurs 1 time in A and 2 times in B. Makes sense. Right?\n",
    "\n",
    "Now, we need to find cosine  similarity between these vectors to find out how similar they are to each other. We can calculate this using `cosine_similarity()` function:"
   ]
  },
  {
   "cell_type": "code",
   "execution_count": 58,
   "metadata": {},
   "outputs": [
    {
     "name": "stdout",
     "output_type": "stream",
     "text": [
      "[[1.         0.66666667]\n",
      " [0.66666667 1.        ]]\n"
     ]
    }
   ],
   "source": [
    "from sklearn.metrics.pairwise import cosine_similarity\n",
    "\n",
    "similarity_scores = cosine_similarity(count_matrix)\n",
    "print(similarity_scores)"
   ]
  },
  {
   "cell_type": "markdown",
   "metadata": {},
   "source": [
    "What does this output indicate? We can interpret this output like this: \n",
    "\n",
    "1. Each row of the similarity matrix indicates each sentence of our input. So, row 0 = Text A and row 1 = Text B.\n",
    "2. The same thing applies for columns.\n",
    "\n",
    "To get a better understanding of this, we can say that the output given above is the same as the following:\n",
    "\n",
    "```\n",
    "        Text A      Text B\n",
    "Text A    1          0.66\n",
    "Text B   0.66         1\n",
    "```\n",
    "\n",
    "By interpreting this, the output says that Text A is similar to Text A (itself) by 100% (position [0,0]) and Text A is similar to Text B by 66% (position [0,1]). We can easily see that the output is always going to be a symmetric matrix. Because if Text A is similar to Text B by 66% then, Text B is also going to be similar to Text A by 66%."
   ]
  },
  {
   "cell_type": "markdown",
   "metadata": {},
   "source": [
    "## 3. Building the recommendation engine - Exercise\n",
    "\n",
    "Now we know how to find similarity between contents. So, let’s try to apply this knowledge to build a content based movie recommendation engine. \n",
    "\n",
    "### 3.1 Read the data\n",
    "\n",
    "Import all the required libraries and then read the `movie_dataset.csv` file from the `resources` directory using the `read_csv()` method."
   ]
  },
  {
   "cell_type": "code",
   "execution_count": 59,
   "metadata": {},
   "outputs": [
    {
     "name": "stdout",
     "output_type": "stream",
     "text": [
      "   index     budget                                    genres  \\\n",
      "0      0  237000000  Action Adventure Fantasy Science Fiction   \n",
      "1      1  300000000                  Adventure Fantasy Action   \n",
      "2      2  245000000                    Action Adventure Crime   \n",
      "3      3  250000000               Action Crime Drama Thriller   \n",
      "4      4  260000000          Action Adventure Science Fiction   \n",
      "\n",
      "                                       homepage      id  \\\n",
      "0                   http://www.avatarmovie.com/   19995   \n",
      "1  http://disney.go.com/disneypictures/pirates/     285   \n",
      "2   http://www.sonypictures.com/movies/spectre/  206647   \n",
      "3            http://www.thedarkknightrises.com/   49026   \n",
      "4          http://movies.disney.com/john-carter   49529   \n",
      "\n",
      "                                            keywords original_language  \\\n",
      "0  culture clash future space war space colony so...                en   \n",
      "1  ocean drug abuse exotic island east india trad...                en   \n",
      "2         spy based on novel secret agent sequel mi6                en   \n",
      "3  dc comics crime fighter terrorist secret ident...                en   \n",
      "4  based on novel mars medallion space travel pri...                en   \n",
      "\n",
      "                             original_title  \\\n",
      "0                                    Avatar   \n",
      "1  Pirates of the Caribbean: At World's End   \n",
      "2                                   Spectre   \n",
      "3                     The Dark Knight Rises   \n",
      "4                               John Carter   \n",
      "\n",
      "                                            overview  popularity  ... runtime  \\\n",
      "0  In the 22nd century, a paraplegic Marine is di...  150.437577  ...   162.0   \n",
      "1  Captain Barbossa, long believed to be dead, ha...  139.082615  ...   169.0   \n",
      "2  A cryptic message from Bond’s past sends him o...  107.376788  ...   148.0   \n",
      "3  Following the death of District Attorney Harve...  112.312950  ...   165.0   \n",
      "4  John Carter is a war-weary, former military ca...   43.926995  ...   132.0   \n",
      "\n",
      "                                    spoken_languages    status  \\\n",
      "0  [{\"iso_639_1\": \"en\", \"name\": \"English\"}, {\"iso...  Released   \n",
      "1           [{\"iso_639_1\": \"en\", \"name\": \"English\"}]  Released   \n",
      "2  [{\"iso_639_1\": \"fr\", \"name\": \"Fran\\u00e7ais\"},...  Released   \n",
      "3           [{\"iso_639_1\": \"en\", \"name\": \"English\"}]  Released   \n",
      "4           [{\"iso_639_1\": \"en\", \"name\": \"English\"}]  Released   \n",
      "\n",
      "                                          tagline  \\\n",
      "0                     Enter the World of Pandora.   \n",
      "1  At the end of the world, the adventure begins.   \n",
      "2                           A Plan No One Escapes   \n",
      "3                                 The Legend Ends   \n",
      "4            Lost in our world, found in another.   \n",
      "\n",
      "                                      title vote_average vote_count  \\\n",
      "0                                    Avatar          7.2      11800   \n",
      "1  Pirates of the Caribbean: At World's End          6.9       4500   \n",
      "2                                   Spectre          6.3       4466   \n",
      "3                     The Dark Knight Rises          7.6       9106   \n",
      "4                               John Carter          6.1       2124   \n",
      "\n",
      "                                                cast  \\\n",
      "0  Sam Worthington Zoe Saldana Sigourney Weaver S...   \n",
      "1  Johnny Depp Orlando Bloom Keira Knightley Stel...   \n",
      "2  Daniel Craig Christoph Waltz L\\u00e9a Seydoux ...   \n",
      "3  Christian Bale Michael Caine Gary Oldman Anne ...   \n",
      "4  Taylor Kitsch Lynn Collins Samantha Morton Wil...   \n",
      "\n",
      "                                                crew           director  \n",
      "0  [{'name': 'Stephen E. Rivkin', 'gender': 0, 'd...      James Cameron  \n",
      "1  [{'name': 'Dariusz Wolski', 'gender': 2, 'depa...     Gore Verbinski  \n",
      "2  [{'name': 'Thomas Newman', 'gender': 2, 'depar...         Sam Mendes  \n",
      "3  [{'name': 'Hans Zimmer', 'gender': 2, 'departm...  Christopher Nolan  \n",
      "4  [{'name': 'Andrew Stanton', 'gender': 2, 'depa...     Andrew Stanton  \n",
      "\n",
      "[5 rows x 24 columns]\n"
     ]
    }
   ],
   "source": [
    "\n",
    "import pandas as pd\n",
    "\n",
    "# Read the movie dataset\n",
    "movies_df = pd.read_csv('resources/movie_dataset.csv')\n",
    "\n",
    "# Display the first few rows of the dataset\n",
    "print(movies_df.head())"
   ]
  },
  {
   "cell_type": "markdown",
   "metadata": {},
   "source": [
    "Explore the data by showing the first 5 lines."
   ]
  },
  {
   "cell_type": "code",
   "execution_count": 60,
   "metadata": {},
   "outputs": [
    {
     "data": {
      "text/html": [
       "<div>\n",
       "<style scoped>\n",
       "    .dataframe tbody tr th:only-of-type {\n",
       "        vertical-align: middle;\n",
       "    }\n",
       "\n",
       "    .dataframe tbody tr th {\n",
       "        vertical-align: top;\n",
       "    }\n",
       "\n",
       "    .dataframe thead th {\n",
       "        text-align: right;\n",
       "    }\n",
       "</style>\n",
       "<table border=\"1\" class=\"dataframe\">\n",
       "  <thead>\n",
       "    <tr style=\"text-align: right;\">\n",
       "      <th></th>\n",
       "      <th>index</th>\n",
       "      <th>budget</th>\n",
       "      <th>genres</th>\n",
       "      <th>homepage</th>\n",
       "      <th>id</th>\n",
       "      <th>keywords</th>\n",
       "      <th>original_language</th>\n",
       "      <th>original_title</th>\n",
       "      <th>overview</th>\n",
       "      <th>popularity</th>\n",
       "      <th>...</th>\n",
       "      <th>runtime</th>\n",
       "      <th>spoken_languages</th>\n",
       "      <th>status</th>\n",
       "      <th>tagline</th>\n",
       "      <th>title</th>\n",
       "      <th>vote_average</th>\n",
       "      <th>vote_count</th>\n",
       "      <th>cast</th>\n",
       "      <th>crew</th>\n",
       "      <th>director</th>\n",
       "    </tr>\n",
       "  </thead>\n",
       "  <tbody>\n",
       "    <tr>\n",
       "      <th>0</th>\n",
       "      <td>0</td>\n",
       "      <td>237000000</td>\n",
       "      <td>Action Adventure Fantasy Science Fiction</td>\n",
       "      <td>http://www.avatarmovie.com/</td>\n",
       "      <td>19995</td>\n",
       "      <td>culture clash future space war space colony so...</td>\n",
       "      <td>en</td>\n",
       "      <td>Avatar</td>\n",
       "      <td>In the 22nd century, a paraplegic Marine is di...</td>\n",
       "      <td>150.437577</td>\n",
       "      <td>...</td>\n",
       "      <td>162.0</td>\n",
       "      <td>[{\"iso_639_1\": \"en\", \"name\": \"English\"}, {\"iso...</td>\n",
       "      <td>Released</td>\n",
       "      <td>Enter the World of Pandora.</td>\n",
       "      <td>Avatar</td>\n",
       "      <td>7.2</td>\n",
       "      <td>11800</td>\n",
       "      <td>Sam Worthington Zoe Saldana Sigourney Weaver S...</td>\n",
       "      <td>[{'name': 'Stephen E. Rivkin', 'gender': 0, 'd...</td>\n",
       "      <td>James Cameron</td>\n",
       "    </tr>\n",
       "    <tr>\n",
       "      <th>1</th>\n",
       "      <td>1</td>\n",
       "      <td>300000000</td>\n",
       "      <td>Adventure Fantasy Action</td>\n",
       "      <td>http://disney.go.com/disneypictures/pirates/</td>\n",
       "      <td>285</td>\n",
       "      <td>ocean drug abuse exotic island east india trad...</td>\n",
       "      <td>en</td>\n",
       "      <td>Pirates of the Caribbean: At World's End</td>\n",
       "      <td>Captain Barbossa, long believed to be dead, ha...</td>\n",
       "      <td>139.082615</td>\n",
       "      <td>...</td>\n",
       "      <td>169.0</td>\n",
       "      <td>[{\"iso_639_1\": \"en\", \"name\": \"English\"}]</td>\n",
       "      <td>Released</td>\n",
       "      <td>At the end of the world, the adventure begins.</td>\n",
       "      <td>Pirates of the Caribbean: At World's End</td>\n",
       "      <td>6.9</td>\n",
       "      <td>4500</td>\n",
       "      <td>Johnny Depp Orlando Bloom Keira Knightley Stel...</td>\n",
       "      <td>[{'name': 'Dariusz Wolski', 'gender': 2, 'depa...</td>\n",
       "      <td>Gore Verbinski</td>\n",
       "    </tr>\n",
       "    <tr>\n",
       "      <th>2</th>\n",
       "      <td>2</td>\n",
       "      <td>245000000</td>\n",
       "      <td>Action Adventure Crime</td>\n",
       "      <td>http://www.sonypictures.com/movies/spectre/</td>\n",
       "      <td>206647</td>\n",
       "      <td>spy based on novel secret agent sequel mi6</td>\n",
       "      <td>en</td>\n",
       "      <td>Spectre</td>\n",
       "      <td>A cryptic message from Bond’s past sends him o...</td>\n",
       "      <td>107.376788</td>\n",
       "      <td>...</td>\n",
       "      <td>148.0</td>\n",
       "      <td>[{\"iso_639_1\": \"fr\", \"name\": \"Fran\\u00e7ais\"},...</td>\n",
       "      <td>Released</td>\n",
       "      <td>A Plan No One Escapes</td>\n",
       "      <td>Spectre</td>\n",
       "      <td>6.3</td>\n",
       "      <td>4466</td>\n",
       "      <td>Daniel Craig Christoph Waltz L\\u00e9a Seydoux ...</td>\n",
       "      <td>[{'name': 'Thomas Newman', 'gender': 2, 'depar...</td>\n",
       "      <td>Sam Mendes</td>\n",
       "    </tr>\n",
       "    <tr>\n",
       "      <th>3</th>\n",
       "      <td>3</td>\n",
       "      <td>250000000</td>\n",
       "      <td>Action Crime Drama Thriller</td>\n",
       "      <td>http://www.thedarkknightrises.com/</td>\n",
       "      <td>49026</td>\n",
       "      <td>dc comics crime fighter terrorist secret ident...</td>\n",
       "      <td>en</td>\n",
       "      <td>The Dark Knight Rises</td>\n",
       "      <td>Following the death of District Attorney Harve...</td>\n",
       "      <td>112.312950</td>\n",
       "      <td>...</td>\n",
       "      <td>165.0</td>\n",
       "      <td>[{\"iso_639_1\": \"en\", \"name\": \"English\"}]</td>\n",
       "      <td>Released</td>\n",
       "      <td>The Legend Ends</td>\n",
       "      <td>The Dark Knight Rises</td>\n",
       "      <td>7.6</td>\n",
       "      <td>9106</td>\n",
       "      <td>Christian Bale Michael Caine Gary Oldman Anne ...</td>\n",
       "      <td>[{'name': 'Hans Zimmer', 'gender': 2, 'departm...</td>\n",
       "      <td>Christopher Nolan</td>\n",
       "    </tr>\n",
       "    <tr>\n",
       "      <th>4</th>\n",
       "      <td>4</td>\n",
       "      <td>260000000</td>\n",
       "      <td>Action Adventure Science Fiction</td>\n",
       "      <td>http://movies.disney.com/john-carter</td>\n",
       "      <td>49529</td>\n",
       "      <td>based on novel mars medallion space travel pri...</td>\n",
       "      <td>en</td>\n",
       "      <td>John Carter</td>\n",
       "      <td>John Carter is a war-weary, former military ca...</td>\n",
       "      <td>43.926995</td>\n",
       "      <td>...</td>\n",
       "      <td>132.0</td>\n",
       "      <td>[{\"iso_639_1\": \"en\", \"name\": \"English\"}]</td>\n",
       "      <td>Released</td>\n",
       "      <td>Lost in our world, found in another.</td>\n",
       "      <td>John Carter</td>\n",
       "      <td>6.1</td>\n",
       "      <td>2124</td>\n",
       "      <td>Taylor Kitsch Lynn Collins Samantha Morton Wil...</td>\n",
       "      <td>[{'name': 'Andrew Stanton', 'gender': 2, 'depa...</td>\n",
       "      <td>Andrew Stanton</td>\n",
       "    </tr>\n",
       "  </tbody>\n",
       "</table>\n",
       "<p>5 rows × 24 columns</p>\n",
       "</div>"
      ],
      "text/plain": [
       "   index     budget                                    genres  \\\n",
       "0      0  237000000  Action Adventure Fantasy Science Fiction   \n",
       "1      1  300000000                  Adventure Fantasy Action   \n",
       "2      2  245000000                    Action Adventure Crime   \n",
       "3      3  250000000               Action Crime Drama Thriller   \n",
       "4      4  260000000          Action Adventure Science Fiction   \n",
       "\n",
       "                                       homepage      id  \\\n",
       "0                   http://www.avatarmovie.com/   19995   \n",
       "1  http://disney.go.com/disneypictures/pirates/     285   \n",
       "2   http://www.sonypictures.com/movies/spectre/  206647   \n",
       "3            http://www.thedarkknightrises.com/   49026   \n",
       "4          http://movies.disney.com/john-carter   49529   \n",
       "\n",
       "                                            keywords original_language  \\\n",
       "0  culture clash future space war space colony so...                en   \n",
       "1  ocean drug abuse exotic island east india trad...                en   \n",
       "2         spy based on novel secret agent sequel mi6                en   \n",
       "3  dc comics crime fighter terrorist secret ident...                en   \n",
       "4  based on novel mars medallion space travel pri...                en   \n",
       "\n",
       "                             original_title  \\\n",
       "0                                    Avatar   \n",
       "1  Pirates of the Caribbean: At World's End   \n",
       "2                                   Spectre   \n",
       "3                     The Dark Knight Rises   \n",
       "4                               John Carter   \n",
       "\n",
       "                                            overview  popularity  ... runtime  \\\n",
       "0  In the 22nd century, a paraplegic Marine is di...  150.437577  ...   162.0   \n",
       "1  Captain Barbossa, long believed to be dead, ha...  139.082615  ...   169.0   \n",
       "2  A cryptic message from Bond’s past sends him o...  107.376788  ...   148.0   \n",
       "3  Following the death of District Attorney Harve...  112.312950  ...   165.0   \n",
       "4  John Carter is a war-weary, former military ca...   43.926995  ...   132.0   \n",
       "\n",
       "                                    spoken_languages    status  \\\n",
       "0  [{\"iso_639_1\": \"en\", \"name\": \"English\"}, {\"iso...  Released   \n",
       "1           [{\"iso_639_1\": \"en\", \"name\": \"English\"}]  Released   \n",
       "2  [{\"iso_639_1\": \"fr\", \"name\": \"Fran\\u00e7ais\"},...  Released   \n",
       "3           [{\"iso_639_1\": \"en\", \"name\": \"English\"}]  Released   \n",
       "4           [{\"iso_639_1\": \"en\", \"name\": \"English\"}]  Released   \n",
       "\n",
       "                                          tagline  \\\n",
       "0                     Enter the World of Pandora.   \n",
       "1  At the end of the world, the adventure begins.   \n",
       "2                           A Plan No One Escapes   \n",
       "3                                 The Legend Ends   \n",
       "4            Lost in our world, found in another.   \n",
       "\n",
       "                                      title vote_average vote_count  \\\n",
       "0                                    Avatar          7.2      11800   \n",
       "1  Pirates of the Caribbean: At World's End          6.9       4500   \n",
       "2                                   Spectre          6.3       4466   \n",
       "3                     The Dark Knight Rises          7.6       9106   \n",
       "4                               John Carter          6.1       2124   \n",
       "\n",
       "                                                cast  \\\n",
       "0  Sam Worthington Zoe Saldana Sigourney Weaver S...   \n",
       "1  Johnny Depp Orlando Bloom Keira Knightley Stel...   \n",
       "2  Daniel Craig Christoph Waltz L\\u00e9a Seydoux ...   \n",
       "3  Christian Bale Michael Caine Gary Oldman Anne ...   \n",
       "4  Taylor Kitsch Lynn Collins Samantha Morton Wil...   \n",
       "\n",
       "                                                crew           director  \n",
       "0  [{'name': 'Stephen E. Rivkin', 'gender': 0, 'd...      James Cameron  \n",
       "1  [{'name': 'Dariusz Wolski', 'gender': 2, 'depa...     Gore Verbinski  \n",
       "2  [{'name': 'Thomas Newman', 'gender': 2, 'depar...         Sam Mendes  \n",
       "3  [{'name': 'Hans Zimmer', 'gender': 2, 'departm...  Christopher Nolan  \n",
       "4  [{'name': 'Andrew Stanton', 'gender': 2, 'depa...     Andrew Stanton  \n",
       "\n",
       "[5 rows x 24 columns]"
      ]
     },
     "execution_count": 60,
     "metadata": {},
     "output_type": "execute_result"
    }
   ],
   "source": [
    "movies_df.head(5)\n"
   ]
  },
  {
   "cell_type": "markdown",
   "metadata": {},
   "source": [
    "You will see that it has many extra info about a movie. We don’t need all of them. So, we choose the keywords, cast, genres and director column to use as our feature set. We also need to clean and preprocess the data for our use. We will fill all the NaN values with blank strings in the dataframe (for the columns keywords, cast, genres and director)."
   ]
  },
  {
   "cell_type": "code",
   "execution_count": 61,
   "metadata": {},
   "outputs": [],
   "source": [
    "features = ['keywords', 'cast', 'genres', 'director']\n",
    "\n",
    "# filling all NaNs with blank strings\n",
    "for feature in features:\n",
    "    movies_df[feature] = movies_df[feature].fillna('') "
   ]
  },
  {
   "cell_type": "markdown",
   "metadata": {},
   "source": [
    "Your next task is to create a function for combining the values of these columns into a single string and call this function over each row of our dataframe. The name of the new column is `combined_features`."
   ]
  },
  {
   "cell_type": "code",
   "execution_count": 62,
   "metadata": {},
   "outputs": [],
   "source": [
    "def combine_features(row):\n",
    "    return row['keywords'] + ' ' + row['cast'] + ' ' + row['genres'] + ' ' + row['director']\n",
    "movies_df['combined_features'] = movies_df.apply(combine_features, axis=1)"
   ]
  },
  {
   "cell_type": "markdown",
   "metadata": {},
   "source": [
    "Check the content of the new `combined_features` column by showing the first 5 rows."
   ]
  },
  {
   "cell_type": "code",
   "execution_count": 63,
   "metadata": {},
   "outputs": [
    {
     "data": {
      "text/plain": [
       "0    culture clash future space war space colony so...\n",
       "1    ocean drug abuse exotic island east india trad...\n",
       "2    spy based on novel secret agent sequel mi6 Dan...\n",
       "3    dc comics crime fighter terrorist secret ident...\n",
       "4    based on novel mars medallion space travel pri...\n",
       "Name: combined_features, dtype: object"
      ]
     },
     "execution_count": 63,
     "metadata": {},
     "output_type": "execute_result"
    }
   ],
   "source": [
    "movies_df['combined_features'].head(5)\n"
   ]
  },
  {
   "cell_type": "markdown",
   "metadata": {},
   "source": [
    "### 3.2 Create the matrix\n",
    "\n",
    "Now that you have obtained the combined_features column, you can now feed these strings to a CountVectorizer() object for getting the count matrix."
   ]
  },
  {
   "cell_type": "code",
   "execution_count": 64,
   "metadata": {},
   "outputs": [],
   "source": [
    "vectorizer = CountVectorizer()\n",
    "\n",
    "# Fit and transform the 'combined_features' column to get the count matrix\n",
    "count_matrix = vectorizer.fit_transform(movies_df['combined_features'])\n"
   ]
  },
  {
   "cell_type": "markdown",
   "metadata": {},
   "source": [
    "Print the total number of different words found in the combined_features column."
   ]
  },
  {
   "cell_type": "code",
   "execution_count": 65,
   "metadata": {},
   "outputs": [
    {
     "data": {
      "text/plain": [
       "14845"
      ]
     },
     "execution_count": 65,
     "metadata": {},
     "output_type": "execute_result"
    }
   ],
   "source": [
    "vocabulary = vectorizer.vocabulary_\n",
    "total_words = len(vocabulary)\n",
    "total_words\n"
   ]
  },
  {
   "cell_type": "markdown",
   "metadata": {},
   "source": [
    "Print all the words found in the combined_features column."
   ]
  },
  {
   "cell_type": "code",
   "execution_count": 66,
   "metadata": {},
   "outputs": [
    {
     "name": "stdout",
     "output_type": "stream",
     "text": [
      "['11' '15th' '17th' ... 'zwick' 'zwigoff' 'zylka']\n"
     ]
    }
   ],
   "source": [
    "print(vectorizer.get_feature_names_out())\n"
   ]
  },
  {
   "cell_type": "markdown",
   "metadata": {},
   "source": [
    "Print the number of films and the number of features."
   ]
  },
  {
   "cell_type": "code",
   "execution_count": null,
   "metadata": {},
   "outputs": [],
   "source": [
    "\n"
   ]
  },
  {
   "cell_type": "markdown",
   "metadata": {},
   "source": [
    "Print the number of films and the number of words."
   ]
  },
  {
   "cell_type": "code",
   "execution_count": null,
   "metadata": {},
   "outputs": [],
   "source": [
    "\n"
   ]
  },
  {
   "cell_type": "markdown",
   "metadata": {},
   "source": [
    "Print the content of the count_matrix."
   ]
  },
  {
   "cell_type": "code",
   "execution_count": 67,
   "metadata": {},
   "outputs": [
    {
     "name": "stdout",
     "output_type": "stream",
     "text": [
      "  (0, 3115)\t1\n",
      "  (0, 2616)\t1\n",
      "  (0, 4886)\t1\n",
      "  (0, 12386)\t2\n",
      "  (0, 14235)\t1\n",
      "  (0, 2755)\t1\n",
      "  (0, 12299)\t1\n",
      "  (0, 11517)\t1\n",
      "  (0, 14561)\t1\n",
      "  (0, 14820)\t1\n",
      "  (0, 11490)\t1\n",
      "  (0, 12134)\t1\n",
      "  (0, 14291)\t1\n",
      "  (0, 12567)\t1\n",
      "  (0, 7496)\t1\n",
      "  (0, 8831)\t1\n",
      "  (0, 11217)\t1\n",
      "  (0, 86)\t1\n",
      "  (0, 144)\t1\n",
      "  (0, 4435)\t1\n",
      "  (0, 11745)\t1\n",
      "  (0, 4566)\t1\n",
      "  (0, 6542)\t1\n",
      "  (0, 2061)\t1\n",
      "  (1, 86)\t1\n",
      "  :\t:\n",
      "  (4801, 10069)\t1\n",
      "  (4801, 5844)\t1\n",
      "  (4801, 252)\t1\n",
      "  (4801, 4098)\t1\n",
      "  (4801, 14796)\t1\n",
      "  (4801, 11361)\t1\n",
      "  (4801, 2978)\t1\n",
      "  (4801, 12036)\t1\n",
      "  (4801, 6138)\t1\n",
      "  (4802, 9659)\t1\n",
      "  (4802, 3812)\t1\n",
      "  (4802, 1788)\t2\n",
      "  (4802, 4210)\t1\n",
      "  (4802, 5181)\t1\n",
      "  (4802, 2912)\t1\n",
      "  (4802, 3821)\t1\n",
      "  (4802, 1069)\t1\n",
      "  (4802, 11185)\t1\n",
      "  (4802, 3681)\t1\n",
      "  (4802, 5399)\t1\n",
      "  (4802, 3894)\t1\n",
      "  (4802, 2056)\t1\n",
      "  (4802, 3093)\t1\n",
      "  (4802, 4502)\t1\n",
      "  (4802, 5900)\t2\n"
     ]
    }
   ],
   "source": [
    "print(count_matrix)\n"
   ]
  },
  {
   "cell_type": "markdown",
   "metadata": {},
   "source": [
    "Now, obtain the cosine similarity matrix from the count matrix."
   ]
  },
  {
   "cell_type": "code",
   "execution_count": 68,
   "metadata": {},
   "outputs": [],
   "source": [
    "\n",
    "cosine_sim = cosine_similarity(count_matrix, count_matrix)"
   ]
  },
  {
   "cell_type": "markdown",
   "metadata": {},
   "source": [
    "We will define two helper functions to get movie title from movie index and vice-versa."
   ]
  },
  {
   "cell_type": "code",
   "execution_count": 69,
   "metadata": {},
   "outputs": [],
   "source": [
    "def get_title_from_index(index):\n",
    "    return movies_df[movies_df.index == index][\"title\"].values[0]\n",
    "def get_index_from_title(title):\n",
    "    return movies_df[movies_df.title == title][\"index\"].values[0]"
   ]
  },
  {
   "cell_type": "markdown",
   "metadata": {},
   "source": [
    "Print the index of Interstellar."
   ]
  },
  {
   "cell_type": "code",
   "execution_count": null,
   "metadata": {},
   "outputs": [],
   "source": [
    "\n"
   ]
  },
  {
   "cell_type": "markdown",
   "metadata": {},
   "source": [
    "Print the title of the film with index 95."
   ]
  },
  {
   "cell_type": "code",
   "execution_count": null,
   "metadata": {},
   "outputs": [],
   "source": [
    "\n"
   ]
  },
  {
   "cell_type": "markdown",
   "metadata": {},
   "source": [
    "### 3.3 Find similar movies\n",
    "\n",
    "We will need the functions `enumerate()` and `list()`:"
   ]
  },
  {
   "cell_type": "code",
   "execution_count": 70,
   "metadata": {},
   "outputs": [
    {
     "name": "stdout",
     "output_type": "stream",
     "text": [
      "[(0, 'apple'), (1, 'banana'), (2, 'cherry')]\n"
     ]
    }
   ],
   "source": [
    "x = ['apple', 'banana', 'cherry']\n",
    "# enumerate over x and make a tuple (index, fruit)\n",
    "print(list(enumerate(x)))\n"
   ]
  },
  {
   "cell_type": "markdown",
   "metadata": {},
   "source": [
    "- We will find the index of the movie the user likes. \n",
    "- After that, we will access the row corresponding to this movie in the similarity matrix. Thus, we will get the similarity scores of all other movies from the current movie.\n",
    "- Then we will enumerate through all the similarity scores of that movie to make a tuple of movie index and similarity score. "
   ]
  },
  {
   "cell_type": "code",
   "execution_count": 71,
   "metadata": {},
   "outputs": [],
   "source": [
    "movie_user_likes = \"Pulp Fiction\"\n",
    "movie_index = get_index_from_title(movie_user_likes)\n",
    "similar_movies = list(enumerate(cosine_sim[movie_index]))"
   ]
  },
  {
   "cell_type": "markdown",
   "metadata": {},
   "source": [
    "This will convert a row of similarity scores like this [1 0.5 0.2 0.9] to this [(0, 1) (1, 0.5) (2, 0.2) (3, 0.9)]. Here, each item is in this form (movie index, similarity score)."
   ]
  },
  {
   "cell_type": "code",
   "execution_count": 72,
   "metadata": {},
   "outputs": [
    {
     "name": "stdout",
     "output_type": "stream",
     "text": [
      "[(0, 0.0), (1, 0.0408248290463863), (2, 0.04662524041201569), (3, 0.1315587028960544), (4, 0.0), (5, 0.0), (6, 0.0), (7, 0.0), (8, 0.0), (9, 0.0), (10, 0.0), (11, 0.08944271909999159), (12, 0.0), (13, 0.0), (14, 0.0), (15, 0.0), (16, 0.0), (17, 0.0), (18, 0.0), (19, 0.04767312946227961), (20, 0.0), (21, 0.0), (22, 0.0512989176042577), (23, 0.0), (24, 0.039528470752104736), (25, 0.049999999999999996), (26, 0.0), (27, 0.045643546458763846), (28, 0.045643546458763846), (29, 0.04767312946227961), (30, 0.0), (31, 0.0), (32, 0.0), (33, 0.042257712736425826), (34, 0.04767312946227961), (35, 0.0), (36, 0.0), (37, 0.0), (38, 0.0), (39, 0.043852900965351466), (40, 0.08304547985373996), (41, 0.043852900965351466), (42, 0.0), (43, 0.044721359549995794), (44, 0.0), (45, 0.043852900965351466), (46, 0.0), (47, 0.0), (48, 0.0), (49, 0.0), (50, 0.0), (51, 0.0), (52, 0.04767312946227961), (53, 0.0), (54, 0.0), (55, 0.0), (56, 0.0), (57, 0.05590169943749474), (58, 0.10540925533894599), (59, 0.04303314829119352), (60, 0.0), (61, 0.0), (62, 0.09534625892455922), (63, 0.0), (64, 0.0), (65, 0.1315587028960544), (66, 0.0), (67, 0.0), (68, 0.044721359549995794), (69, 0.0), (70, 0.0), (71, 0.05773502691896257), (72, 0.04303314829119352), (73, 0.08304547985373996), (74, 0.0), (75, 0.0), (76, 0.04662524041201569), (77, 0.0), (78, 0.0), (79, 0.0), (80, 0.0), (81, 0.0), (82, 0.04662524041201569), (83, 0.0), (84, 0.0), (85, 0.09534625892455922), (86, 0.0), (87, 0.0), (88, 0.0), (89, 0.04662524041201569), (90, 0.0), (91, 0.0), (92, 0.0), (93, 0.04303314829119352), (94, 0.0), (95, 0.0), (96, 0.043852900965351466), (97, 0.0), (98, 0.04767312946227961), (99, 0.09128709291752769), (100, 0.04767312946227961), (101, 0.0), (102, 0.0), (103, 0.0), (104, 0.044721359549995794), (105, 0.0), (106, 0.0), (107, 0.0), (108, 0.04303314829119352), (109, 0.0), (110, 0.0), (111, 0.0), (112, 0.0), (113, 0.0), (114, 0.0), (115, 0.0), (116, 0.03834824944236852), (117, 0.0), (118, 0.0), (119, 0.08770580193070293), (120, 0.0), (121, 0.0), (122, 0.09325048082403138), (123, 0.042257712736425826), (124, 0.0), (125, 0.0408248290463863), (126, 0.0), (127, 0.045643546458763846), (128, 0.04767312946227961), (129, 0.0), (130, 0.08606629658238704), (131, 0.0), (132, 0.0), (133, 0.0), (134, 0.14638501094227996), (135, 0.044721359549995794), (136, 0.0), (137, 0.0), (138, 0.04767312946227961), (139, 0.13987572123604708), (140, 0.04662524041201569), (141, 0.0), (142, 0.0), (143, 0.0), (144, 0.0), (145, 0.0), (146, 0.0), (147, 0.04152273992686998), (148, 0.0), (149, 0.1341640786499874), (150, 0.0), (151, 0.045643546458763846), (152, 0.0), (153, 0.04879500364742666), (154, 0.0), (155, 0.0), (156, 0.0), (157, 0.04879500364742666), (158, 0.04767312946227961), (159, 0.0), (160, 0.0), (161, 0.0), (162, 0.0), (163, 0.0), (164, 0.09534625892455922), (165, 0.0), (166, 0.14638501094227996), (167, 0.0), (168, 0.08944271909999159), (169, 0.0), (170, 0.04879500364742666), (171, 0.0), (172, 0.0), (173, 0.0), (174, 0.0), (175, 0.0), (176, 0.042257712736425826), (177, 0.09534625892455922), (178, 0.0), (179, 0.0512989176042577), (180, 0.04662524041201569), (181, 0.0), (182, 0.0), (183, 0.0), (184, 0.0), (185, 0.044721359549995794), (186, 0.08770580193070293), (187, 0.0), (188, 0.04879500364742666), (189, 0.0), (190, 0.0), (191, 0.0), (192, 0.0), (193, 0.0), (194, 0.0), (195, 0.0), (196, 0.0), (197, 0.0), (198, 0.04662524041201569), (199, 0.0), (200, 0.045643546458763846), (201, 0.04767312946227961), (202, 0.0), (203, 0.042257712736425826), (204, 0.09534625892455922), (205, 0.04767312946227961), (206, 0.0), (207, 0.0), (208, 0.04879500364742666), (209, 0.04879500364742666), (210, 0.17213259316477408), (211, 0.0), (212, 0.043852900965351466), (213, 0.19518001458970663), (214, 0.049999999999999996), (215, 0.04879500364742666), (216, 0.0), (217, 0.0408248290463863), (218, 0.052704627669472995), (219, 0.0), (220, 0.0), (221, 0.0), (222, 0.04767312946227961), (223, 0.0), (224, 0.0), (225, 0.0), (226, 0.0), (227, 0.0), (228, 0.0), (229, 0.09325048082403138), (230, 0.09534625892455922), (231, 0.04879500364742666), (232, 0.0), (233, 0.0), (234, 0.0), (235, 0.0), (236, 0.04303314829119352), (237, 0.0), (238, 0.0), (239, 0.04016096644512494), (240, 0.04662524041201569), (241, 0.0), (242, 0.0), (243, 0.0), (244, 0.04879500364742666), (245, 0.045643546458763846), (246, 0.0), (247, 0.08944271909999159), (248, 0.044721359549995794), (249, 0.045643546458763846), (250, 0.052704627669472995), (251, 0.0), (252, 0.04879500364742666), (253, 0.0), (254, 0.0), (255, 0.0), (256, 0.0), (257, 0.0), (258, 0.0), (259, 0.04879500364742666), (260, 0.0), (261, 0.158113883008419), (262, 0.04767312946227961), (263, 0.0), (264, 0.1025978352085154), (265, 0.0), (266, 0.044721359549995794), (267, 0.0), (268, 0.0), (269, 0.0), (270, 0.0), (271, 0.044721359549995794), (272, 0.0), (273, 0.08451542547285165), (274, 0.0), (275, 0.044721359549995794), (276, 0.0), (277, 0.049999999999999996), (278, 0.0408248290463863), (279, 0.04662524041201569), (280, 0.043852900965351466), (281, 0.13693063937629155), (282, 0.04767312946227961), (283, 0.1889822365046136), (284, 0.0), (285, 0.1341640786499874), (286, 0.04662524041201569), (287, 0.19999999999999998), (288, 0.0), (289, 0.044721359549995794), (290, 0.1341640786499874), (291, 0.04303314829119352), (292, 0.0), (293, 0.0), (294, 0.0), (295, 0.043852900965351466), (296, 0.0), (297, 0.04767312946227961), (298, 0.049999999999999996), (299, 0.04662524041201569), (300, 0.043852900965351466), (301, 0.0), (302, 0.0), (303, 0.049999999999999996), (304, 0.049999999999999996), (305, 0.0), (306, 0.0), (307, 0.09534625892455922), (308, 0.08451542547285165), (309, 0.0), (310, 0.04767312946227961), (311, 0.0), (312, 0.045643546458763846), (313, 0.0), (314, 0.09759000729485331), (315, 0.0512989176042577), (316, 0.04662524041201569), (317, 0.0), (318, 0.0), (319, 0.0), (320, 0.0), (321, 0.0), (322, 0.13987572123604708), (323, 0.0), (324, 0.0), (325, 0.04303314829119352), (326, 0.0), (327, 0.0512989176042577), (328, 0.0), (329, 0.045643546458763846), (330, 0.045643546458763846), (331, 0.0), (332, 0.045643546458763846), (333, 0.04303314829119352), (334, 0.045643546458763846), (335, 0.09128709291752769), (336, 0.0), (337, 0.15118578920369088), (338, 0.04662524041201569), (339, 0.09128709291752769), (340, 0.0), (341, 0.04662524041201569), (342, 0.0), (343, 0.04767312946227961), (344, 0.05590169943749474), (345, 0.10540925533894599), (346, 0.045643546458763846), (347, 0.0), (348, 0.04767312946227961), (349, 0.0), (350, 0.14301938838683884), (351, 0.09534625892455922), (352, 0.0), (353, 0.0), (354, 0.09128709291752769), (355, 0.3077935056255462), (356, 0.045643546458763846), (357, 0.0), (358, 0.04303314829119352), (359, 0.0), (360, 0.04767312946227961), (361, 0.04879500364742666), (362, 0.0), (363, 0.0), (364, 0.042257712736425826), (365, 0.043852900965351466), (366, 0.043852900965351466), (367, 0.09534625892455922), (368, 0.04879500364742666), (369, 0.045643546458763846), (370, 0.045643546458763846), (371, 0.044721359549995794), (372, 0.09999999999999999), (373, 0.0), (374, 0.0), (375, 0.0), (376, 0.09128709291752769), (377, 0.09534625892455922), (378, 0.09325048082403138), (379, 0.045643546458763846), (380, 0.042257712736425826), (381, 0.05423261445466404), (382, 0.0), (383, 0.0), (384, 0.0), (385, 0.0), (386, 0.04767312946227961), (387, 0.049999999999999996), (388, 0.09325048082403138), (389, 0.045643546458763846), (390, 0.0), (391, 0.0), (392, 0.045643546458763846), (393, 0.0), (394, 0.0), (395, 0.0), (396, 0.04879500364742666), (397, 0.0512989176042577), (398, 0.09999999999999999), (399, 0.0), (400, 0.0), (401, 0.0), (402, 0.042257712736425826), (403, 0.042257712736425826), (404, 0.043852900965351466), (405, 0.07352146220938077), (406, 0.0), (407, 0.0), (408, 0.09999999999999999), (409, 0.0), (410, 0.0), (411, 0.0), (412, 0.043852900965351466), (413, 0.09128709291752769), (414, 0.04662524041201569), (415, 0.04879500364742666), (416, 0.0), (417, 0.0), (418, 0.0), (419, 0.08944271909999159), (420, 0.04662524041201569), (421, 0.09325048082403138), (422, 0.0), (423, 0.0), (424, 0.044721359549995794), (425, 0.04767312946227961), (426, 0.0), (427, 0.0), (428, 0.045643546458763846), (429, 0.09325048082403138), (430, 0.0), (431, 0.04879500364742666), (432, 0.0), (433, 0.23312620206007845), (434, 0.0), (435, 0.0), (436, 0.0), (437, 0.049999999999999996), (438, 0.0), (439, 0.04662524041201569), (440, 0.0), (441, 0.0), (442, 0.2076136996343499), (443, 0.0), (444, 0.08032193289024989), (445, 0.0), (446, 0.27975144247209416), (447, 0.04879500364742666), (448, 0.0), (449, 0.04767312946227961), (450, 0.0), (451, 0.08770580193070293), (452, 0.0), (453, 0.04662524041201569), (454, 0.09534625892455922), (455, 0.04767312946227961), (456, 0.0), (457, 0.0), (458, 0.0), (459, 0.0), (460, 0.0), (461, 0.0), (462, 0.04879500364742666), (463, 0.0), (464, 0.0), (465, 0.0), (466, 0.0), (467, 0.0), (468, 0.19069251784911845), (469, 0.0), (470, 0.0), (471, 0.0), (472, 0.044721359549995794), (473, 0.0), (474, 0.0), (475, 0.0), (476, 0.26352313834736496), (477, 0.14301938838683884), (478, 0.04879500364742666), (479, 0.05423261445466404), (480, 0.08944271909999159), (481, 0.0), (482, 0.0), (483, 0.0), (484, 0.0), (485, 0.0), (486, 0.0), (487, 0.045643546458763846), (488, 0.0), (489, 0.0), (490, 0.045643546458763846), (491, 0.0), (492, 0.0), (493, 0.0), (494, 0.0), (495, 0.0), (496, 0.0), (497, 0.09999999999999999), (498, 0.0), (499, 0.0), (500, 0.1267731382092775), (501, 0.0), (502, 0.08451542547285165), (503, 0.0), (504, 0.0), (505, 0.044721359549995794), (506, 0.0), (507, 0.0), (508, 0.0), (509, 0.0), (510, 0.045643546458763846), (511, 0.0), (512, 0.08606629658238704), (513, 0.09325048082403138), (514, 0.04016096644512494), (515, 0.0), (516, 0.09534625892455922), (517, 0.04879500364742666), (518, 0.0), (519, 0.1025978352085154), (520, 0.0), (521, 0.0), (522, 0.0), (523, 0.049999999999999996), (524, 0.0), (525, 0.0), (526, 0.0), (527, 0.21516574145596762), (528, 0.04662524041201569), (529, 0.10540925533894599), (530, 0.05423261445466404), (531, 0.0), (532, 0.043852900965351466), (533, 0.0), (534, 0.1538967528127731), (535, 0.0), (536, 0.0), (537, 0.0), (538, 0.17888543819998318), (539, 0.04662524041201569), (540, 0.1025978352085154), (541, 0.0), (542, 0.045643546458763846), (543, 0.045643546458763846), (544, 0.09325048082403138), (545, 0.25354627641855493), (546, 0.0), (547, 0.09534625892455922), (548, 0.13693063937629155), (549, 0.09759000729485331), (550, 0.0), (551, 0.0), (552, 0.0), (553, 0.049999999999999996), (554, 0.04767312946227961), (555, 0.0), (556, 0.0), (557, 0.0), (558, 0.0), (559, 0.0), (560, 0.0), (561, 0.0), (562, 0.04767312946227961), (563, 0.0), (564, 0.04767312946227961), (565, 0.0), (566, 0.0408248290463863), (567, 0.0), (568, 0.13987572123604708), (569, 0.0), (570, 0.04662524041201569), (571, 0.14301938838683884), (572, 0.0), (573, 0.14638501094227996), (574, 0.18257418583505539), (575, 0.043852900965351466), (576, 0.042257712736425826), (577, 0.0), (578, 0.0), (579, 0.0), (580, 0.049999999999999996), (581, 0.042257712736425826), (582, 0.0), (583, 0.0), (584, 0.0), (585, 0.0), (586, 0.035355339059327376), (587, 0.043852900965351466), (588, 0.05773502691896257), (589, 0.0), (590, 0.19069251784911845), (591, 0.0), (592, 0.0), (593, 0.0), (594, 0.04879500364742666), (595, 0.0), (596, 0.09128709291752769), (597, 0.0), (598, 0.0), (599, 0.07352146220938077), (600, 0.05423261445466404), (601, 0.09759000729485331), (602, 0.04879500364742666), (603, 0.0512989176042577), (604, 0.0), (605, 0.0), (606, 0.04767312946227961), (607, 0.043852900965351466), (608, 0.08770580193070293), (609, 0.04879500364742666), (610, 0.0), (611, 0.045643546458763846), (612, 0.0), (613, 0.09325048082403138), (614, 0.0), (615, 0.03779644730092272), (616, 0.0), (617, 0.0), (618, 0.0), (619, 0.0), (620, 0.1025978352085154), (621, 0.042257712736425826), (622, 0.044721359549995794), (623, 0.0), (624, 0.0), (625, 0.09128709291752769), (626, 0.09534625892455922), (627, 0.0), (628, 0.0), (629, 0.08032193289024989), (630, 0.0), (631, 0.043852900965351466), (632, 0.049999999999999996), (633, 0.0), (634, 0.0), (635, 0.0), (636, 0.0), (637, 0.04879500364742666), (638, 0.0), (639, 0.045643546458763846), (640, 0.0), (641, 0.0), (642, 0.0), (643, 0.04303314829119352), (644, 0.09759000729485331), (645, 0.18257418583505539), (646, 0.08944271909999159), (647, 0.04767312946227961), (648, 0.0), (649, 0.0), (650, 0.0), (651, 0.0), (652, 0.04662524041201569), (653, 0.0), (654, 0.045643546458763846), (655, 0.09759000729485331), (656, 0.09128709291752769), (657, 0.0), (658, 0.039528470752104736), (659, 0.19069251784911845), (660, 0.045643546458763846), (661, 0.0), (662, 0.0), (663, 0.0), (664, 0.09534625892455922), (665, 0.1315587028960544), (666, 0.049999999999999996), (667, 0.043852900965351466), (668, 0.0), (669, 0.09999999999999999), (670, 0.0), (671, 0.04662524041201569), (672, 0.04767312946227961), (673, 0.042257712736425826), (674, 0.0), (675, 0.0), (676, 0.0), (677, 0.04879500364742666), (678, 0.05773502691896257), (679, 0.08451542547285165), (680, 0.043852900965351466), (681, 0.0), (682, 0.0), (683, 0.07905694150420947), (684, 0.22821773229381923), (685, 0.0), (686, 0.0), (687, 0.0), (688, 0.0), (689, 0.0), (690, 0.043852900965351466), (691, 0.08944271909999159), (692, 0.0), (693, 0.043852900965351466), (694, 0.044721359549995794), (695, 0.04303314829119352), (696, 0.18650096164806276), (697, 0.0), (698, 0.0), (699, 0.0), (700, 0.04303314829119352), (701, 0.0), (702, 0.049999999999999996), (703, 0.0), (704, 0.0), (705, 0.0), (706, 0.0), (707, 0.0), (708, 0.0), (709, 0.0), (710, 0.0), (711, 0.21926450482675733), (712, 0.0), (713, 0.0), (714, 0.09128709291752769), (715, 0.0), (716, 0.158113883008419), (717, 0.09534625892455922), (718, 0.11858541225631421), (719, 0.044721359549995794), (720, 0.045643546458763846), (721, 0.04879500364742666), (722, 0.0), (723, 0.09534625892455922), (724, 0.09759000729485331), (725, 0.0), (726, 0.049999999999999996), (727, 0.0), (728, 0.044721359549995794), (729, 0.09999999999999999), (730, 0.0), (731, 0.19999999999999998), (732, 0.19069251784911845), (733, 0.0), (734, 0.0), (735, 0.045643546458763846), (736, 0.049999999999999996), (737, 0.044721359549995794), (738, 0.0), (739, 0.09534625892455922), (740, 0.0), (741, 0.08944271909999159), (742, 0.0), (743, 0.0), (744, 0.0), (745, 0.04767312946227961), (746, 0.0), (747, 0.1025978352085154), (748, 0.0), (749, 0.0), (750, 0.0), (751, 0.0512989176042577), (752, 0.0), (753, 0.10540925533894599), (754, 0.0), (755, 0.04767312946227961), (756, 0.04879500364742666), (757, 0.049999999999999996), (758, 0.09325048082403138), (759, 0.043852900965351466), (760, 0.0512989176042577), (761, 0.09325048082403138), (762, 0.18650096164806276), (763, 0.0), (764, 0.04879500364742666), (765, 0.04767312946227961), (766, 0.0), (767, 0.13693063937629155), (768, 0.043852900965351466), (769, 0.0), (770, 0.0), (771, 0.0), (772, 0.0), (773, 0.0), (774, 0.05423261445466404), (775, 0.04662524041201569), (776, 0.0), (777, 0.0), (778, 0.0), (779, 0.09534625892455922), (780, 0.0), (781, 0.0), (782, 0.17213259316477408), (783, 0.044721359549995794), (784, 0.043852900965351466), (785, 0.0), (786, 0.0), (787, 0.03892494720807615), (788, 0.0), (789, 0.0), (790, 0.0), (791, 0.0), (792, 0.0), (793, 0.0), (794, 0.045643546458763846), (795, 0.04303314829119352), (796, 0.0), (797, 0.0), (798, 0.0), (799, 0.0), (800, 0.0), (801, 0.04662524041201569), (802, 0.0), (803, 0.0), (804, 0.04879500364742666), (805, 0.04662524041201569), (806, 0.08770580193070293), (807, 0.044721359549995794), (808, 0.04767312946227961), (809, 0.0), (810, 0.0), (811, 0.0), (812, 0.045643546458763846), (813, 0.04303314829119352), (814, 0.0), (815, 0.0), (816, 0.045643546458763846), (817, 0.0), (818, 0.049999999999999996), (819, 0.0), (820, 0.0), (821, 0.09534625892455922), (822, 0.0), (823, 0.04662524041201569), (824, 0.0), (825, 0.04767312946227961), (826, 0.09534625892455922), (827, 0.0), (828, 0.2439750182371333), (829, 0.0), (830, 0.24913643956121986), (831, 0.0), (832, 0.1025978352085154), (833, 0.0), (834, 0.09759000729485331), (835, 0.0), (836, 0.0), (837, 0.0), (838, 0.0), (839, 0.0), (840, 0.13693063937629155), (841, 0.04879500364742666), (842, 0.0), (843, 0.0), (844, 0.13693063937629155), (845, 0.04879500364742666), (846, 0.0), (847, 0.0), (848, 0.0), (849, 0.09999999999999999), (850, 0.044721359549995794), (851, 0.08770580193070293), (852, 0.049999999999999996), (853, 0.0), (854, 0.0), (855, 0.0), (856, 0.09759000729485331), (857, 0.0), (858, 0.0512989176042577), (859, 0.0), (860, 0.0), (861, 0.0), (862, 0.0), (863, 0.04879500364742666), (864, 0.04767312946227961), (865, 0.0), (866, 0.11180339887498948), (867, 0.08770580193070293), (868, 0.044721359549995794), (869, 0.0), (870, 0.0), (871, 0.0), (872, 0.04879500364742666), (873, 0.3069703067574603), (874, 0.04662524041201569), (875, 0.045643546458763846), (876, 0.18650096164806276), (877, 0.09325048082403138), (878, 0.0816496580927726), (879, 0.14301938838683884), (880, 0.04879500364742666), (881, 0.05773502691896257), (882, 0.0), (883, 0.045643546458763846), (884, 0.049999999999999996), (885, 0.0), (886, 0.0), (887, 0.0), (888, 0.0), (889, 0.0), (890, 0.0), (891, 0.0), (892, 0.09534625892455922), (893, 0.19518001458970663), (894, 0.0), (895, 0.0), (896, 0.0), (897, 0.049999999999999996), (898, 0.0), (899, 0.04662524041201569), (900, 0.09759000729485331), (901, 0.0), (902, 0.0), (903, 0.0), (904, 0.0), (905, 0.0), (906, 0.0), (907, 0.04662524041201569), (908, 0.04879500364742666), (909, 0.0), (910, 0.0), (911, 0.044721359549995794), (912, 0.0), (913, 0.0), (914, 0.0), (915, 0.0), (916, 0.0), (917, 0.0), (918, 0.09534625892455922), (919, 0.09759000729485331), (920, 0.0), (921, 0.0), (922, 0.0), (923, 0.0), (924, 0.04662524041201569), (925, 0.0), (926, 0.0), (927, 0.0), (928, 0.0), (929, 0.04662524041201569), (930, 0.044721359549995794), (931, 0.04662524041201569), (932, 0.09534625892455922), (933, 0.0), (934, 0.0), (935, 0.0), (936, 0.0512989176042577), (937, 0.0), (938, 0.049999999999999996), (939, 0.04152273992686998), (940, 0.04879500364742666), (941, 0.08770580193070293), (942, 0.0), (943, 0.052704627669472995), (944, 0.08944271909999159), (945, 0.0), (946, 0.0408248290463863), (947, 0.0), (948, 0.0), (949, 0.0), (950, 0.19069251784911845), (951, 0.04767312946227961), (952, 0.09759000729485331), (953, 0.04662524041201569), (954, 0.0), (955, 0.04662524041201569), (956, 0.0), (957, 0.0), (958, 0.15), (959, 0.09325048082403138), (960, 0.0), (961, 0.04662524041201569), (962, 0.04303314829119352), (963, 0.09325048082403138), (964, 0.052704627669472995), (965, 0.19518001458970663), (966, 0.0), (967, 0.0), (968, 0.09999999999999999), (969, 0.09759000729485331), (970, 0.09999999999999999), (971, 0.08606629658238704), (972, 0.04303314829119352), (973, 0.3212877315609996), (974, 0.08606629658238704), (975, 0.10540925533894599), (976, 0.08944271909999159), (977, 0.0), (978, 0.0), (979, 0.045643546458763846), (980, 0.09759000729485331), (981, 0.0), (982, 0.1341640786499874), (983, 0.08304547985373996), (984, 0.13987572123604708), (985, 0.04767312946227961), (986, 0.0), (987, 0.04662524041201569), (988, 0.13987572123604708), (989, 0.0), (990, 0.0), (991, 0.09999999999999999), (992, 0.049999999999999996), (993, 0.04879500364742666), (994, 0.044721359549995794), (995, 0.0), (996, 0.08606629658238704), (997, 0.0), (998, 0.04879500364742666), (999, 0.04303314829119352), (1000, 0.08944271909999159), (1001, 0.04303314829119352), (1002, 0.049999999999999996), (1003, 0.0816496580927726), (1004, 0.0), (1005, 0.23008949665421113), (1006, 0.04662524041201569), (1007, 0.0), (1008, 0.043852900965351466), (1009, 0.09759000729485331), (1010, 0.09999999999999999), (1011, 0.0), (1012, 0.0), (1013, 0.09325048082403138), (1014, 0.0), (1015, 0.0), (1016, 0.0), (1017, 0.0), (1018, 0.045643546458763846), (1019, 0.0), (1020, 0.04879500364742666), (1021, 0.14638501094227996), (1022, 0.045643546458763846), (1023, 0.0), (1024, 0.11858541225631421), (1025, 0.09325048082403138), (1026, 0.04662524041201569), (1027, 0.045643546458763846), (1028, 0.0), (1029, 0.0), (1030, 0.09325048082403138), (1031, 0.0), (1032, 0.042257712736425826), (1033, 0.09999999999999999), (1034, 0.043852900965351466), (1035, 0.09128709291752769), (1036, 0.043852900965351466), (1037, 0.0), (1038, 0.23836564731139806), (1039, 0.0), (1040, 0.04303314829119352), (1041, 0.09325048082403138), (1042, 0.0), (1043, 0.049999999999999996), (1044, 0.0), (1045, 0.04662524041201569), (1046, 0.13987572123604708), (1047, 0.07559289460184544), (1048, 0.0), (1049, 0.09534625892455922), (1050, 0.0), (1051, 0.09759000729485331), (1052, 0.2076136996343499), (1053, 0.0), (1054, 0.0), (1055, 0.04662524041201569), (1056, 0.0), (1057, 0.09534625892455922), (1058, 0.19069251784911845), (1059, 0.04767312946227961), (1060, 0.05423261445466404), (1061, 0.0), (1062, 0.0), (1063, 0.08944271909999159), (1064, 0.052704627669472995), (1065, 0.0), (1066, 0.0), (1067, 0.0), (1068, 0.045643546458763846), (1069, 0.0), (1070, 0.0), (1071, 0.0), (1072, 0.0), (1073, 0.1341640786499874), (1074, 0.0), (1075, 0.0816496580927726), (1076, 0.09534625892455922), (1077, 0.04879500364742666), (1078, 0.08770580193070293), (1079, 0.0), (1080, 0.0), (1081, 0.0), (1082, 0.16609095970747992), (1083, 0.04767312946227961), (1084, 0.12909944487358055), (1085, 0.0), (1086, 0.042257712736425826), (1087, 0.09759000729485331), (1088, 0.09534625892455922), (1089, 0.0), (1090, 0.0), (1091, 0.0), (1092, 0.04767312946227961), (1093, 0.0), (1094, 0.045643546458763846), (1095, 0.0), (1096, 0.09759000729485331), (1097, 0.05590169943749474), (1098, 0.0), (1099, 0.05976143046671968), (1100, 0.08944271909999159), (1101, 0.0), (1102, 0.08770580193070293), (1103, 0.09128709291752769), (1104, 0.0), (1105, 0.08944271909999159), (1106, 0.04303314829119352), (1107, 0.04879500364742666), (1108, 0.0), (1109, 0.09759000729485331), (1110, 0.04767312946227961), (1111, 0.042257712736425826), (1112, 0.0), (1113, 0.0), (1114, 0.0512989176042577), (1115, 0.0), (1116, 0.04662524041201569), (1117, 0.0), (1118, 0.09759000729485331), (1119, 0.043852900965351466), (1120, 0.0), (1121, 0.0), (1122, 0.049999999999999996), (1123, 0.0), (1124, 0.04767312946227961), (1125, 0.0), (1126, 0.0), (1127, 0.09325048082403138), (1128, 0.0), (1129, 0.0), (1130, 0.0), (1131, 0.13693063937629155), (1132, 0.04662524041201569), (1133, 0.13987572123604708), (1134, 0.0408248290463863), (1135, 0.15), (1136, 0.0), (1137, 0.08944271909999159), (1138, 0.0), (1139, 0.045643546458763846), (1140, 0.043852900965351466), (1141, 0.0), (1142, 0.0), (1143, 0.0), (1144, 0.08944271909999159), (1145, 0.1224744871391589), (1146, 0.12909944487358055), (1147, 0.0), (1148, 0.049999999999999996), (1149, 0.049999999999999996), (1150, 0.0), (1151, 0.16609095970747992), (1152, 0.0), (1153, 0.043852900965351466), (1154, 0.044721359549995794), (1155, 0.0), (1156, 0.19069251784911845), (1157, 0.0), (1158, 0.044721359549995794), (1159, 0.0), (1160, 0.0), (1161, 0.0), (1162, 0.0), (1163, 0.0), (1164, 0.0), (1165, 0.0), (1166, 0.0), (1167, 0.0), (1168, 0.0), (1169, 0.0), (1170, 0.09534625892455922), (1171, 0.0), (1172, 0.04879500364742666), (1173, 0.0), (1174, 0.0), (1175, 0.0), (1176, 0.0), (1177, 0.07352146220938077), (1178, 0.09534625892455922), (1179, 0.05773502691896257), (1180, 0.04303314829119352), (1181, 0.044721359549995794), (1182, 0.09325048082403138), (1183, 0.05423261445466404), (1184, 0.0), (1185, 0.0), (1186, 0.0), (1187, 0.04879500364742666), (1188, 0.08451542547285165), (1189, 0.0), (1190, 0.0), (1191, 0.0), (1192, 0.04016096644512494), (1193, 0.03892494720807615), (1194, 0.09999999999999999), (1195, 0.045643546458763846), (1196, 0.04767312946227961), (1197, 0.0), (1198, 0.0), (1199, 0.044721359549995794), (1200, 0.1224744871391589), (1201, 0.04303314829119352), (1202, 0.09534625892455922), (1203, 0.1025978352085154), (1204, 0.0), (1205, 0.09759000729485331), (1206, 0.0), (1207, 0.0), (1208, 0.0), (1209, 0.09325048082403138), (1210, 0.09128709291752769), (1211, 0.0), (1212, 0.04879500364742666), (1213, 0.09128709291752769), (1214, 0.04662524041201569), (1215, 0.0), (1216, 0.0), (1217, 0.0), (1218, 0.0), (1219, 0.0), (1220, 0.08606629658238704), (1221, 0.0), (1222, 0.0), (1223, 0.0), (1224, 0.0), (1225, 0.04303314829119352), (1226, 0.0), (1227, 0.0), (1228, 0.0), (1229, 0.0), (1230, 0.08770580193070293), (1231, 0.045643546458763846), (1232, 0.0), (1233, 0.0), (1234, 0.044721359549995794), (1235, 0.0), (1236, 0.08944271909999159), (1237, 0.05423261445466404), (1238, 0.04879500364742666), (1239, 0.0), (1240, 0.0), (1241, 0.0), (1242, 0.0), (1243, 0.045643546458763846), (1244, 0.0), (1245, 0.09128709291752769), (1246, 0.0), (1247, 0.049999999999999996), (1248, 0.10846522890932808), (1249, 0.1025978352085154), (1250, 0.19069251784911845), (1251, 0.0), (1252, 0.0), (1253, 0.21693045781865616), (1254, 0.09325048082403138), (1255, 0.09534625892455922), (1256, 0.0), (1257, 0.0), (1258, 0.0), (1259, 0.052704627669472995), (1260, 0.0), (1261, 0.0), (1262, 0.0), (1263, 0.049999999999999996), (1264, 0.05423261445466404), (1265, 0.04662524041201569), (1266, 0.09534625892455922), (1267, 0.05773502691896257), (1268, 0.11547005383792514), (1269, 0.05773502691896257), (1270, 0.0), (1271, 0.04767312946227961), (1272, 0.049999999999999996), (1273, 0.05423261445466404), (1274, 0.0), (1275, 0.04662524041201569), (1276, 0.0), (1277, 0.0), (1278, 0.05423261445466404), (1279, 0.0), (1280, 0.052704627669472995), (1281, 0.08606629658238704), (1282, 0.045643546458763846), (1283, 0.04879500364742666), (1284, 0.0), (1285, 0.0), (1286, 0.08451542547285165), (1287, 0.0), (1288, 0.0), (1289, 0.052704627669472995), (1290, 0.0), (1291, 0.0), (1292, 0.0), (1293, 0.0), (1294, 0.04662524041201569), (1295, 0.0), (1296, 0.0), (1297, 0.0), (1298, 0.043852900965351466), (1299, 0.0), (1300, 0.0), (1301, 0.0), (1302, 0.0), (1303, 0.042257712736425826), (1304, 0.0), (1305, 0.0), (1306, 0.0), (1307, 0.09128709291752769), (1308, 0.04303314829119352), (1309, 0.0512989176042577), (1310, 0.0), (1311, 0.0512989176042577), (1312, 0.049999999999999996), (1313, 0.045643546458763846), (1314, 0.04879500364742666), (1315, 0.0), (1316, 0.0), (1317, 0.043852900965351466), (1318, 0.04662524041201569), (1319, 0.04767312946227961), (1320, 0.04767312946227961), (1321, 0.0), (1322, 0.0), (1323, 0.0), (1324, 0.0), (1325, 0.0), (1326, 0.0), (1327, 0.0), (1328, 0.08606629658238704), (1329, 0.0), (1330, 0.04879500364742666), (1331, 0.0), (1332, 0.0), (1333, 0.044721359549995794), (1334, 0.1315587028960544), (1335, 0.0), (1336, 0.0), (1337, 0.0), (1338, 0.08770580193070293), (1339, 0.043852900965351466), (1340, 0.13987572123604708), (1341, 0.03296902366978935), (1342, 0.0512989176042577), (1343, 0.04767312946227961), (1344, 0.04152273992686998), (1345, 0.0), (1346, 0.1025978352085154), (1347, 0.0), (1348, 0.04879500364742666), (1349, 0.0), (1350, 0.0), (1351, 0.04767312946227961), (1352, 0.13987572123604708), (1353, 0.0512989176042577), (1354, 0.0), (1355, 0.0), (1356, 0.0), (1357, 0.0), (1358, 0.045643546458763846), (1359, 0.044721359549995794), (1360, 0.0), (1361, 0.08451542547285165), (1362, 0.04879500364742666), (1363, 0.0), (1364, 0.042257712736425826), (1365, 0.0), (1366, 0.0), (1367, 0.0), (1368, 0.06454972243679029), (1369, 0.09325048082403138), (1370, 0.04879500364742666), (1371, 0.0), (1372, 0.0), (1373, 0.0), (1374, 0.09759000729485331), (1375, 0.0), (1376, 0.0), (1377, 0.0), (1378, 0.0512989176042577), (1379, 0.045643546458763846), (1380, 0.0512989176042577), (1381, 0.0512989176042577), (1382, 0.0408248290463863), (1383, 0.0), (1384, 0.0), (1385, 0.0), (1386, 0.049999999999999996), (1387, 0.0), (1388, 0.0), (1389, 0.09759000729485331), (1390, 0.04662524041201569), (1391, 0.04879500364742666), (1392, 0.0), (1393, 0.044721359549995794), (1394, 0.09759000729485331), (1395, 0.0), (1396, 0.0), (1397, 0.09999999999999999), (1398, 0.052704627669472995), (1399, 0.044721359549995794), (1400, 0.0), (1401, 0.04662524041201569), (1402, 0.0), (1403, 0.0), (1404, 0.03726779962499649), (1405, 0.0), (1406, 0.0), (1407, 0.0), (1408, 0.0), (1409, 0.049999999999999996), (1410, 0.04879500364742666), (1411, 0.0), (1412, 0.04152273992686998), (1413, 0.0), (1414, 0.0), (1415, 0.0), (1416, 0.0), (1417, 0.10540925533894599), (1418, 0.14301938838683884), (1419, 0.09534625892455922), (1420, 0.0), (1421, 0.09128709291752769), (1422, 0.044721359549995794), (1423, 0.0), (1424, 0.0), (1425, 0.09999999999999999), (1426, 0.0), (1427, 0.0), (1428, 0.0), (1429, 0.09534625892455922), (1430, 0.0), (1431, 0.08451542547285165), (1432, 0.1341640786499874), (1433, 0.0), (1434, 0.0512989176042577), (1435, 0.0), (1436, 0.0), (1437, 0.09759000729485331), (1438, 0.0), (1439, 0.0), (1440, 0.09534625892455922), (1441, 0.043852900965351466), (1442, 0.0), (1443, 0.0), (1444, 0.0), (1445, 0.09325048082403138), (1446, 0.0), (1447, 0.04879500364742666), (1448, 0.1538967528127731), (1449, 0.0), (1450, 0.045643546458763846), (1451, 0.0), (1452, 0.042257712736425826), (1453, 0.0), (1454, 0.0), (1455, 0.049999999999999996), (1456, 0.09534625892455922), (1457, 0.09534625892455922), (1458, 0.09534625892455922), (1459, 0.0), (1460, 0.0), (1461, 0.0), (1462, 0.0), (1463, 0.04303314829119352), (1464, 0.05976143046671968), (1465, 0.043852900965351466), (1466, 0.0), (1467, 0.0), (1468, 0.0), (1469, 0.0512989176042577), (1470, 0.09759000729485331), (1471, 0.0), (1472, 0.0), (1473, 0.043852900965351466), (1474, 0.0), (1475, 0.09534625892455922), (1476, 0.0), (1477, 0.0), (1478, 0.0), (1479, 0.10540925533894599), (1480, 0.03726779962499649), (1481, 0.0), (1482, 0.043852900965351466), (1483, 0.0), (1484, 0.18650096164806276), (1485, 0.04767312946227961), (1486, 0.14301938838683884), (1487, 0.0), (1488, 0.158113883008419), (1489, 0.049999999999999996), (1490, 0.0), (1491, 0.04662524041201569), (1492, 0.0), (1493, 0.0), (1494, 0.0), (1495, 0.09128709291752769), (1496, 0.0), (1497, 0.043852900965351466), (1498, 0.0), (1499, 0.0), (1500, 0.0), (1501, 0.0), (1502, 0.0), (1503, 0.16269784336399212), (1504, 0.0), (1505, 0.14301938838683884), (1506, 0.04879500364742666), (1507, 0.13987572123604708), (1508, 0.04662524041201569), (1509, 0.0), (1510, 0.044721359549995794), (1511, 0.044721359549995794), (1512, 0.09325048082403138), (1513, 0.08770580193070293), (1514, 0.0), (1515, 0.044721359549995794), (1516, 0.19518001458970663), (1517, 0.09128709291752769), (1518, 0.042257712736425826), (1519, 0.0), (1520, 0.0), (1521, 0.0), (1522, 0.05590169943749474), (1523, 0.043852900965351466), (1524, 0.0), (1525, 0.0), (1526, 0.0), (1527, 0.0), (1528, 0.0), (1529, 0.0), (1530, 0.09759000729485331), (1531, 0.04152273992686998), (1532, 0.0), (1533, 0.0), (1534, 0.0), (1535, 0.09325048082403138), (1536, 0.04767312946227961), (1537, 0.19069251784911845), (1538, 0.04016096644512494), (1539, 0.0), (1540, 0.0), (1541, 0.049999999999999996), (1542, 0.045643546458763846), (1543, 0.0), (1544, 0.0), (1545, 0.0), (1546, 0.09325048082403138), (1547, 0.0), (1548, 0.0), (1549, 0.0), (1550, 0.04879500364742666), (1551, 0.0), (1552, 0.0), (1553, 0.23836564731139806), (1554, 0.0), (1555, 0.0), (1556, 0.08032193289024989), (1557, 0.08770580193070293), (1558, 0.04879500364742666), (1559, 0.0), (1560, 0.0), (1561, 0.0), (1562, 0.05423261445466404), (1563, 0.0), (1564, 0.0), (1565, 0.0), (1566, 0.0), (1567, 0.0), (1568, 0.18257418583505539), (1569, 0.0), (1570, 0.0), (1571, 0.0), (1572, 0.0), (1573, 0.08770580193070293), (1574, 0.0), (1575, 0.0), (1576, 0.0), (1577, 0.04879500364742666), (1578, 0.045643546458763846), (1579, 0.0), (1580, 0.0), (1581, 0.16064386578049977), (1582, 0.04662524041201569), (1583, 0.04016096644512494), (1584, 0.04767312946227961), (1585, 0.05423261445466404), (1586, 0.09128709291752769), (1587, 0.0), (1588, 0.0), (1589, 0.04767312946227961), (1590, 0.0), (1591, 0.0), (1592, 0.15), (1593, 0.0), (1594, 0.0), (1595, 0.0), (1596, 0.09325048082403138), (1597, 0.0), (1598, 0.0512989176042577), (1599, 0.0), (1600, 0.0), (1601, 0.0), (1602, 0.052704627669472995), (1603, 0.0), (1604, 0.04879500364742666), (1605, 0.04303314829119352), (1606, 0.0), (1607, 0.08451542547285165), (1608, 0.0), (1609, 0.0), (1610, 0.04662524041201569), (1611, 0.04662524041201569), (1612, 0.0), (1613, 0.0), (1614, 0.0512989176042577), (1615, 0.04879500364742666), (1616, 0.04767312946227961), (1617, 0.08770580193070293), (1618, 0.13987572123604708), (1619, 0.0), (1620, 0.0), (1621, 0.0), (1622, 0.0), (1623, 0.0), (1624, 0.0), (1625, 0.08944271909999159), (1626, 0.12456821978060995), (1627, 0.09759000729485331), (1628, 0.05423261445466404), (1629, 0.0), (1630, 0.0), (1631, 0.0), (1632, 0.09759000729485331), (1633, 0.04879500364742666), (1634, 0.08944271909999159), (1635, 0.09325048082403138), (1636, 0.09325048082403138), (1637, 0.043852900965351466), (1638, 0.0), (1639, 0.09325048082403138), (1640, 0.0), (1641, 0.22360679774997896), (1642, 0.044721359549995794), (1643, 0.0), (1644, 0.09999999999999999), (1645, 0.09534625892455922), (1646, 0.0), (1647, 0.045643546458763846), (1648, 0.0), (1649, 0.0), (1650, 0.0), (1651, 0.044721359549995794), (1652, 0.045643546458763846), (1653, 0.09534625892455922), (1654, 0.044721359549995794), (1655, 0.0), (1656, 0.0), (1657, 0.0), (1658, 0.0), (1659, 0.0), (1660, 0.08944271909999159), (1661, 0.04767312946227961), (1662, 0.0), (1663, 0.04662524041201569), (1664, 0.12909944487358055), (1665, 0.0), (1666, 0.09128709291752769), (1667, 0.0), (1668, 0.0), (1669, 0.045643546458763846), (1670, 0.04662524041201569), (1671, 0.0), (1672, 0.0), (1673, 0.0), (1674, 0.09999999999999999), (1675, 0.10540925533894599), (1676, 0.0), (1677, 0.0), (1678, 0.0), (1679, 0.0), (1680, 0.0), (1681, 0.15), (1682, 0.0), (1683, 0.0), (1684, 0.0), (1685, 0.0), (1686, 0.043852900965351466), (1687, 0.0), (1688, 0.09759000729485331), (1689, 0.04662524041201569), (1690, 0.0), (1691, 0.049999999999999996), (1692, 0.0), (1693, 0.0), (1694, 0.09325048082403138), (1695, 0.0), (1696, 0.039528470752104736), (1697, 0.0), (1698, 0.0), (1699, 0.09325048082403138), (1700, 0.0), (1701, 0.0), (1702, 0.19518001458970663), (1703, 0.0), (1704, 0.0), (1705, 0.0), (1706, 0.0), (1707, 0.09325048082403138), (1708, 0.0), (1709, 0.0), (1710, 0.0), (1711, 0.14301938838683884), (1712, 0.0), (1713, 0.09128709291752769), (1714, 0.049999999999999996), (1715, 0.12048289933537483), (1716, 0.0), (1717, 0.0), (1718, 0.0), (1719, 0.0), (1720, 0.08451542547285165), (1721, 0.0), (1722, 0.049999999999999996), (1723, 0.0), (1724, 0.0), (1725, 0.043852900965351466), (1726, 0.04879500364742666), (1727, 0.09999999999999999), (1728, 0.09534625892455922), (1729, 0.09759000729485331), (1730, 0.0), (1731, 0.0), (1732, 0.0), (1733, 0.0), (1734, 0.0), (1735, 0.04152273992686998), (1736, 0.0), (1737, 0.04662524041201569), (1738, 0.0), (1739, 0.0), (1740, 0.08304547985373996), (1741, 0.0), (1742, 0.04879500364742666), (1743, 0.09128709291752769), (1744, 0.0), (1745, 0.0), (1746, 0.0), (1747, 0.0), (1748, 0.0), (1749, 0.044721359549995794), (1750, 0.045643546458763846), (1751, 0.0), (1752, 0.08770580193070293), (1753, 0.1315587028960544), (1754, 0.0), (1755, 0.0), (1756, 0.0), (1757, 0.04662524041201569), (1758, 0.18650096164806276), (1759, 0.0), (1760, 0.04879500364742666), (1761, 0.0), (1762, 0.0), (1763, 0.0), (1764, 0.0), (1765, 0.09534625892455922), (1766, 0.045643546458763846), (1767, 0.10846522890932808), (1768, 0.04767312946227961), (1769, 0.0), (1770, 0.049999999999999996), (1771, 0.2051956704170308), (1772, 0.0), (1773, 0.08944271909999159), (1774, 0.09128709291752769), (1775, 0.05976143046671968), (1776, 0.0), (1777, 0.0), (1778, 0.0), (1779, 0.0), (1780, 0.04303314829119352), (1781, 0.08304547985373996), (1782, 0.13987572123604708), (1783, 0.0), (1784, 0.0), (1785, 0.0), (1786, 0.044721359549995794), (1787, 0.0), (1788, 0.052704627669472995), (1789, 0.0), (1790, 0.08451542547285165), (1791, 0.0), (1792, 0.13987572123604708), (1793, 0.0), (1794, 0.04767312946227961), (1795, 0.043852900965351466), (1796, 0.03296902366978935), (1797, 0.0), (1798, 0.0), (1799, 0.04767312946227961), (1800, 0.13987572123604708), (1801, 0.0), (1802, 0.0), (1803, 0.09999999999999999), (1804, 0.0), (1805, 0.08944271909999159), (1806, 0.0), (1807, 0.0), (1808, 0.04767312946227961), (1809, 0.04879500364742666), (1810, 0.0), (1811, 0.0), (1812, 0.0), (1813, 0.0), (1814, 0.0), (1815, 0.049999999999999996), (1816, 0.0), (1817, 0.08304547985373996), (1818, 0.0), (1819, 0.0), (1820, 0.04879500364742666), (1821, 0.0), (1822, 0.04879500364742666), (1823, 0.0), (1824, 0.05423261445466404), (1825, 0.04767312946227961), (1826, 0.04767312946227961), (1827, 0.045643546458763846), (1828, 0.08032193289024989), (1829, 0.1341640786499874), (1830, 0.07453559924999298), (1831, 0.0), (1832, 0.0), (1833, 0.0), (1834, 0.0), (1835, 0.0), (1836, 0.0), (1837, 0.09325048082403138), (1838, 0.0512989176042577), (1839, 0.0), (1840, 0.0), (1841, 0.0), (1842, 0.0), (1843, 0.0), (1844, 0.04767312946227961), (1845, 0.09325048082403138), (1846, 0.0), (1847, 0.04662524041201569), (1848, 0.0), (1849, 0.0), (1850, 0.09325048082403138), (1851, 0.04767312946227961), (1852, 0.04767312946227961), (1853, 0.09534625892455922), (1854, 0.0), (1855, 0.0), (1856, 0.0), (1857, 0.0), (1858, 0.0), (1859, 0.0), (1860, 0.1538967528127731), (1861, 0.0512989176042577), (1862, 0.0), (1863, 0.0), (1864, 0.0), (1865, 0.0), (1866, 0.04879500364742666), (1867, 0.0), (1868, 0.049999999999999996), (1869, 0.0), (1870, 0.0), (1871, 0.0), (1872, 0.04662524041201569), (1873, 0.11547005383792514), (1874, 0.0), (1875, 0.0), (1876, 0.0), (1877, 0.0), (1878, 0.0), (1879, 0.0), (1880, 0.0), (1881, 0.04662524041201569), (1882, 0.0), (1883, 0.0), (1884, 0.14638501094227996), (1885, 0.09325048082403138), (1886, 0.0), (1887, 0.0), (1888, 0.0), (1889, 0.0), (1890, 0.0), (1891, 0.0), (1892, 0.08451542547285165), (1893, 0.049999999999999996), (1894, 0.14301938838683884), (1895, 0.0), (1896, 0.0), (1897, 0.09759000729485331), (1898, 0.0), (1899, 0.052704627669472995), (1900, 0.0), (1901, 0.0), (1902, 0.04767312946227961), (1903, 0.0), (1904, 0.049999999999999996), (1905, 0.09534625892455922), (1906, 0.0), (1907, 0.04016096644512494), (1908, 0.09999999999999999), (1909, 0.09759000729485331), (1910, 0.0), (1911, 0.042257712736425826), (1912, 0.0), (1913, 0.0), (1914, 0.045643546458763846), (1915, 0.04662524041201569), (1916, 0.049999999999999996), (1917, 0.0), (1918, 0.04879500364742666), (1919, 0.0), (1920, 0.0), (1921, 0.042257712736425826), (1922, 0.0), (1923, 0.0), (1924, 0.049999999999999996), (1925, 0.09999999999999999), (1926, 0.05773502691896257), (1927, 0.0), (1928, 0.04662524041201569), (1929, 0.0), (1930, 0.09759000729485331), (1931, 0.049999999999999996), (1932, 0.042257712736425826), (1933, 0.0), (1934, 0.0), (1935, 0.0), (1936, 0.0), (1937, 0.05590169943749474), (1938, 0.04303314829119352), (1939, 0.0), (1940, 0.044721359549995794), (1941, 0.049999999999999996), (1942, 0.0), (1943, 0.0), (1944, 0.0), (1945, 0.045643546458763846), (1946, 0.08944271909999159), (1947, 0.0), (1948, 0.0), (1949, 0.0), (1950, 0.0), (1951, 0.0), (1952, 0.17541160386140586), (1953, 0.0), (1954, 0.0), (1955, 0.09759000729485331), (1956, 0.04662524041201569), (1957, 0.0512989176042577), (1958, 0.0), (1959, 0.0), (1960, 0.04303314829119352), (1961, 0.0), (1962, 0.0), (1963, 0.0), (1964, 0.13987572123604708), (1965, 0.043852900965351466), (1966, 0.0), (1967, 0.0), (1968, 0.04767312946227961), (1969, 0.0), (1970, 0.0), (1971, 0.1315587028960544), (1972, 0.04662524041201569), (1973, 0.0), (1974, 0.0), (1975, 0.0), (1976, 0.0), (1977, 0.03892494720807615), (1978, 0.0), (1979, 0.0), (1980, 0.0), (1981, 0.0), (1982, 0.04767312946227961), (1983, 0.05773502691896257), (1984, 0.0), (1985, 0.0), (1986, 0.10540925533894599), (1987, 0.0), (1988, 0.0), (1989, 0.0), (1990, 0.0), (1991, 0.09325048082403138), (1992, 0.049999999999999996), (1993, 0.0), (1994, 0.0), (1995, 0.045643546458763846), (1996, 0.0), (1997, 0.0), (1998, 0.09759000729485331), (1999, 0.0), (2000, 0.0), (2001, 0.0), (2002, 0.04879500364742666), (2003, 0.044721359549995794), (2004, 0.0), (2005, 0.0), (2006, 0.0), (2007, 0.13987572123604708), (2008, 0.08770580193070293), (2009, 0.0), (2010, 0.0), (2011, 0.0), (2012, 0.0), (2013, 0.0), (2014, 0.17888543819998318), (2015, 0.044721359549995794), (2016, 0.0), (2017, 0.04303314829119352), (2018, 0.0), (2019, 0.043852900965351466), (2020, 0.045643546458763846), (2021, 0.0), (2022, 0.0), (2023, 0.04879500364742666), (2024, 0.04767312946227961), (2025, 0.0), (2026, 0.08770580193070293), (2027, 0.0), (2028, 0.0), (2029, 0.04662524041201569), (2030, 0.04662524041201569), (2031, 0.049999999999999996), (2032, 0.04767312946227961), (2033, 0.0), (2034, 0.0), (2035, 0.0512989176042577), (2036, 0.042257712736425826), (2037, 0.0), (2038, 0.13987572123604708), (2039, 0.0), (2040, 0.12909944487358055), (2041, 0.0), (2042, 0.0), (2043, 0.12909944487358055), (2044, 0.0), (2045, 0.0), (2046, 0.17541160386140586), (2047, 0.049999999999999996), (2048, 0.0512989176042577), (2049, 0.0), (2050, 0.14301938838683884), (2051, 0.04662524041201569), (2052, 0.04303314829119352), (2053, 0.0), (2054, 0.0), (2055, 0.0512989176042577), (2056, 0.049999999999999996), (2057, 0.049999999999999996), (2058, 0.0512989176042577), (2059, 0.0), (2060, 0.16609095970747992), (2061, 0.04662524041201569), (2062, 0.045643546458763846), (2063, 0.049999999999999996), (2064, 0.0), (2065, 0.0), (2066, 0.04303314829119352), (2067, 0.0), (2068, 0.0), (2069, 0.0), (2070, 0.05976143046671968), (2071, 0.0), (2072, 0.04879500364742666), (2073, 0.04879500364742666), (2074, 0.09325048082403138), (2075, 0.0), (2076, 0.04152273992686998), (2077, 0.043852900965351466), (2078, 0.0), (2079, 0.0), (2080, 0.09759000729485331), (2081, 0.05976143046671968), (2082, 0.0), (2083, 0.052704627669472995), (2084, 0.043852900965351466), (2085, 0.04767312946227961), (2086, 0.08606629658238704), (2087, 0.0), (2088, 0.04879500364742666), (2089, 0.09128709291752769), (2090, 0.0), (2091, 0.08944271909999159), (2092, 0.0), (2093, 0.0), (2094, 0.04879500364742666), (2095, 0.0), (2096, 0.04303314829119352), (2097, 0.0), (2098, 0.0), (2099, 0.0), (2100, 0.0), (2101, 0.0), (2102, 0.0), (2103, 0.0), (2104, 0.0), (2105, 0.0), (2106, 0.0), (2107, 0.052704627669472995), (2108, 0.0), (2109, 0.0), (2110, 0.0512989176042577), (2111, 0.17888543819998318), (2112, 0.0), (2113, 0.0), (2114, 0.0), (2115, 0.0), (2116, 0.04767312946227961), (2117, 0.045643546458763846), (2118, 0.042257712736425826), (2119, 0.0512989176042577), (2120, 0.045643546458763846), (2121, 0.0), (2122, 0.0), (2123, 0.09759000729485331), (2124, 0.18650096164806276), (2125, 0.0512989176042577), (2126, 0.0), (2127, 0.0), (2128, 0.04879500364742666), (2129, 0.0), (2130, 0.09534625892455922), (2131, 0.0), (2132, 0.0), (2133, 0.0), (2134, 0.0), (2135, 0.04767312946227961), (2136, 0.0), (2137, 0.1025978352085154), (2138, 0.0408248290463863), (2139, 0.0), (2140, 0.0), (2141, 0.0), (2142, 0.0), (2143, 0.0512989176042577), (2144, 0.04767312946227961), (2145, 0.09534625892455922), (2146, 0.052704627669472995), (2147, 0.09534625892455922), (2148, 0.04152273992686998), (2149, 0.042257712736425826), (2150, 0.09999999999999999), (2151, 0.14301938838683884), (2152, 0.0), (2153, 0.0), (2154, 0.1025978352085154), (2155, 0.0), (2156, 0.044721359549995794), (2157, 0.045643546458763846), (2158, 0.0), (2159, 0.0), (2160, 0.044721359549995794), (2161, 0.0), (2162, 0.0), (2163, 0.0), (2164, 0.0), (2165, 0.0), (2166, 0.04662524041201569), (2167, 0.04767312946227961), (2168, 0.04662524041201569), (2169, 0.08606629658238704), (2170, 0.09999999999999999), (2171, 0.0), (2172, 0.0), (2173, 0.0), (2174, 0.0), (2175, 0.04879500364742666), (2176, 0.0), (2177, 0.0), (2178, 0.0), (2179, 0.0), (2180, 0.04303314829119352), (2181, 0.17541160386140586), (2182, 0.05976143046671968), (2183, 0.0), (2184, 0.0408248290463863), (2185, 0.0), (2186, 0.0), (2187, 0.08304547985373996), (2188, 0.05423261445466404), (2189, 0.0), (2190, 0.0), (2191, 0.0), (2192, 0.0), (2193, 0.052704627669472995), (2194, 0.0), (2195, 0.09128709291752769), (2196, 0.08451542547285165), (2197, 0.0), (2198, 0.045643546458763846), (2199, 0.0), (2200, 0.09128709291752769), (2201, 0.09534625892455922), (2202, 0.0512989176042577), (2203, 0.043852900965351466), (2204, 0.0), (2205, 0.16269784336399212), (2206, 0.0), (2207, 0.08770580193070293), (2208, 0.0), (2209, 0.0), (2210, 0.0), (2211, 0.0), (2212, 0.10540925533894599), (2213, 0.0), (2214, 0.0), (2215, 0.1538967528127731), (2216, 0.049999999999999996), (2217, 0.0), (2218, 0.1341640786499874), (2219, 0.0), (2220, 0.0), (2221, 0.17888543819998318), (2222, 0.05423261445466404), (2223, 0.0), (2224, 0.044721359549995794), (2225, 0.042257712736425826), (2226, 0.0), (2227, 0.0), (2228, 0.0), (2229, 0.08770580193070293), (2230, 0.0), (2231, 0.0), (2232, 0.0), (2233, 0.0), (2234, 0.04767312946227961), (2235, 0.045643546458763846), (2236, 0.0), (2237, 0.04879500364742666), (2238, 0.0), (2239, 0.045643546458763846), (2240, 0.09999999999999999), (2241, 0.0), (2242, 0.0), (2243, 0.044721359549995794), (2244, 0.1538967528127731), (2245, 0.0), (2246, 0.0), (2247, 0.0), (2248, 0.0), (2249, 0.0), (2250, 0.14301938838683884), (2251, 0.0), (2252, 0.0), (2253, 0.04767312946227961), (2254, 0.0), (2255, 0.09534625892455922), (2256, 0.0), (2257, 0.0), (2258, 0.0), (2259, 0.0), (2260, 0.08770580193070293), (2261, 0.0), (2262, 0.0), (2263, 0.0), (2264, 0.0), (2265, 0.08944271909999159), (2266, 0.0), (2267, 0.0512989176042577), (2268, 0.0), (2269, 0.09759000729485331), (2270, 0.1025978352085154), (2271, 0.0), (2272, 0.0), (2273, 0.0), (2274, 0.049999999999999996), (2275, 0.14301938838683884), (2276, 0.04879500364742666), (2277, 0.09999999999999999), (2278, 0.0), (2279, 0.0), (2280, 0.09759000729485331), (2281, 0.0), (2282, 0.04879500364742666), (2283, 0.04879500364742666), (2284, 0.0512989176042577), (2285, 0.0), (2286, 0.052704627669472995), (2287, 0.0), (2288, 0.0), (2289, 0.0), (2290, 0.0), (2291, 0.09999999999999999), (2292, 0.0), (2293, 0.0), (2294, 0.0), (2295, 0.04662524041201569), (2296, 0.0), (2297, 0.0), (2298, 0.0), (2299, 0.049999999999999996), (2300, 0.0), (2301, 0.0), (2302, 0.10846522890932808), (2303, 0.0), (2304, 0.08944271909999159), (2305, 0.0), (2306, 0.044721359549995794), (2307, 0.04879500364742666), (2308, 0.04879500364742666), (2309, 0.0), (2310, 0.0), (2311, 0.0), (2312, 0.0), (2313, 0.04767312946227961), (2314, 0.044721359549995794), (2315, 0.0), (2316, 0.0), (2317, 0.04879500364742666), (2318, 0.09128709291752769), (2319, 0.0), (2320, 0.04662524041201569), (2321, 0.0), (2322, 0.0), (2323, 0.09325048082403138), (2324, 0.04767312946227961), (2325, 0.09759000729485331), (2326, 0.0), (2327, 0.08944271909999159), (2328, 0.0), (2329, 0.04662524041201569), (2330, 0.0), (2331, 0.0), (2332, 0.0512989176042577), (2333, 0.0), (2334, 0.0), (2335, 0.0), (2336, 0.08606629658238704), (2337, 0.0), (2338, 0.0), (2339, 0.09534625892455922), (2340, 0.0), (2341, 0.0), (2342, 0.04767312946227961), (2343, 0.0), (2344, 0.09999999999999999), (2345, 0.0), (2346, 0.04303314829119352), (2347, 0.0), (2348, 0.045643546458763846), (2349, 0.04152273992686998), (2350, 0.0), (2351, 0.03834824944236852), (2352, 0.0), (2353, 0.04879500364742666), (2354, 0.0), (2355, 0.0), (2356, 0.0), (2357, 0.03892494720807615), (2358, 0.09999999999999999), (2359, 0.17888543819998318), (2360, 0.11952286093343936), (2361, 0.0), (2362, 0.0), (2363, 0.0), (2364, 0.0), (2365, 0.0), (2366, 0.04662524041201569), (2367, 0.0), (2368, 0.0), (2369, 0.0), (2370, 0.0), (2371, 0.1267731382092775), (2372, 0.0), (2373, 0.0), (2374, 0.09534625892455922), (2375, 0.0), (2376, 0.0), (2377, 0.0), (2378, 0.04767312946227961), (2379, 0.0), (2380, 0.04303314829119352), (2381, 0.08606629658238704), (2382, 0.0), (2383, 0.04879500364742666), (2384, 0.08606629658238704), (2385, 0.04879500364742666), (2386, 0.0), (2387, 0.0), (2388, 0.17888543819998318), (2389, 0.0), (2390, 0.0), (2391, 0.052704627669472995), (2392, 0.0), (2393, 0.04879500364742666), (2394, 0.05423261445466404), (2395, 0.0), (2396, 0.0), (2397, 0.0), (2398, 0.09325048082403138), (2399, 0.0), (2400, 0.19069251784911845), (2401, 0.052704627669472995), (2402, 0.044721359549995794), (2403, 0.043852900965351466), (2404, 0.0), (2405, 0.045643546458763846), (2406, 0.0), (2407, 0.0), (2408, 0.0), (2409, 0.09534625892455922), (2410, 0.05423261445466404), (2411, 0.0), (2412, 0.09534625892455922), (2413, 0.04662524041201569), (2414, 0.0), (2415, 0.045643546458763846), (2416, 0.0), (2417, 0.044721359549995794), (2418, 0.0), (2419, 0.0), (2420, 0.06201736729460423), (2421, 0.0), (2422, 0.0), (2423, 0.0), (2424, 0.08770580193070293), (2425, 0.049999999999999996), (2426, 0.0), (2427, 0.0), (2428, 0.09128709291752769), (2429, 0.0), (2430, 0.0), (2431, 0.0), (2432, 0.0), (2433, 0.0), (2434, 0.0), (2435, 0.08770580193070293), (2436, 0.0), (2437, 0.0), (2438, 0.04767312946227961), (2439, 0.04879500364742666), (2440, 0.17888543819998318), (2441, 0.04767312946227961), (2442, 0.0), (2443, 0.0), (2444, 0.0), (2445, 0.0512989176042577), (2446, 0.0), (2447, 0.0), (2448, 0.09534625892455922), (2449, 0.0), (2450, 0.0), (2451, 0.0), (2452, 0.0), (2453, 0.0), (2454, 0.0), (2455, 0.0), (2456, 0.0), (2457, 0.0), (2458, 0.0), (2459, 0.04303314829119352), (2460, 0.05773502691896257), (2461, 0.09128709291752769), (2462, 0.0), (2463, 0.0), (2464, 0.0), (2465, 0.0), (2466, 0.05423261445466404), (2467, 0.19518001458970663), (2468, 0.049999999999999996), (2469, 0.0), (2470, 0.08451542547285165), (2471, 0.049999999999999996), (2472, 0.0), (2473, 0.0), (2474, 0.0), (2475, 0.0), (2476, 0.0), (2477, 0.0), (2478, 0.04879500364742666), (2479, 0.0), (2480, 0.0), (2481, 0.0), (2482, 0.0), (2483, 0.0), (2484, 0.044721359549995794), (2485, 0.0), (2486, 0.042257712736425826), (2487, 0.052704627669472995), (2488, 0.0), (2489, 0.04767312946227961), (2490, 0.0), (2491, 0.0), (2492, 0.0), (2493, 0.0), (2494, 0.0), (2495, 0.08944271909999159), (2496, 0.0), (2497, 0.0), (2498, 0.0), (2499, 0.0), (2500, 0.0), (2501, 0.0), (2502, 0.10540925533894599), (2503, 0.0), (2504, 0.0), (2505, 0.0), (2506, 0.052704627669472995), (2507, 0.11180339887498948), (2508, 0.0), (2509, 0.0), (2510, 0.09759000729485331), (2511, 0.04879500364742666), (2512, 0.0), (2513, 0.0), (2514, 0.0), (2515, 0.0), (2516, 0.0), (2517, 0.0), (2518, 0.0), (2519, 0.0), (2520, 0.0), (2521, 0.04152273992686998), (2522, 0.044721359549995794), (2523, 0.0), (2524, 0.0), (2525, 0.0), (2526, 0.0), (2527, 0.0), (2528, 0.05976143046671968), (2529, 0.0), (2530, 0.0), (2531, 0.0512989176042577), (2532, 0.0), (2533, 0.04767312946227961), (2534, 0.04767312946227961), (2535, 0.0), (2536, 0.08944271909999159), (2537, 0.0), (2538, 0.0), (2539, 0.04662524041201569), (2540, 0.0), (2541, 0.0), (2542, 0.0), (2543, 0.04767312946227961), (2544, 0.0), (2545, 0.08304547985373996), (2546, 0.14301938838683884), (2547, 0.0), (2548, 0.10540925533894599), (2549, 0.0), (2550, 0.0), (2551, 0.0), (2552, 0.0), (2553, 0.09325048082403138), (2554, 0.0), (2555, 0.04662524041201569), (2556, 0.0), (2557, 0.0), (2558, 0.08770580193070293), (2559, 0.0), (2560, 0.0), (2561, 0.04016096644512494), (2562, 0.0), (2563, 0.0), (2564, 0.0), (2565, 0.08451542547285165), (2566, 0.0), (2567, 0.04662524041201569), (2568, 0.044721359549995794), (2569, 0.08944271909999159), (2570, 0.033709993123162106), (2571, 0.0), (2572, 0.043852900965351466), (2573, 0.04767312946227961), (2574, 0.0), (2575, 0.049999999999999996), (2576, 0.04879500364742666), (2577, 0.052704627669472995), (2578, 0.1267731382092775), (2579, 0.0), (2580, 0.0), (2581, 0.04879500364742666), (2582, 0.04879500364742666), (2583, 0.10540925533894599), (2584, 0.04767312946227961), (2585, 0.049999999999999996), (2586, 0.04879500364742666), (2587, 0.09759000729485331), (2588, 0.049999999999999996), (2589, 0.0), (2590, 0.0), (2591, 0.0), (2592, 0.03779644730092272), (2593, 0.043852900965351466), (2594, 0.0), (2595, 0.0), (2596, 0.14301938838683884), (2597, 0.08032193289024989), (2598, 0.0), (2599, 0.0), (2600, 0.0), (2601, 0.0), (2602, 0.04767312946227961), (2603, 0.0), (2604, 0.0), (2605, 0.0), (2606, 0.0), (2607, 0.09534625892455922), (2608, 0.14638501094227996), (2609, 0.18650096164806276), (2610, 0.049999999999999996), (2611, 0.0), (2612, 0.0), (2613, 0.0), (2614, 0.0), (2615, 0.0), (2616, 0.043852900965351466), (2617, 0.0), (2618, 0.0), (2619, 0.0), (2620, 0.04879500364742666), (2621, 0.0), (2622, 0.05773502691896257), (2623, 0.036760731104690386), (2624, 0.0), (2625, 0.04662524041201569), (2626, 0.04662524041201569), (2627, 0.04303314829119352), (2628, 0.0), (2629, 0.0), (2630, 0.0), (2631, 0.0), (2632, 0.09759000729485331), (2633, 0.043852900965351466), (2634, 0.0), (2635, 0.08770580193070293), (2636, 0.04767312946227961), (2637, 0.0), (2638, 0.0), (2639, 0.04767312946227961), (2640, 0.044721359549995794), (2641, 0.0), (2642, 0.09128709291752769), (2643, 0.04879500364742666), (2644, 0.052704627669472995), (2645, 0.0), (2646, 0.06201736729460423), (2647, 0.09128709291752769), (2648, 0.0), (2649, 0.11547005383792514), (2650, 0.0), (2651, 0.0), (2652, 0.0), (2653, 0.0), (2654, 0.045643546458763846), (2655, 0.049999999999999996), (2656, 0.0), (2657, 0.1341640786499874), (2658, 0.05976143046671968), (2659, 0.0), (2660, 0.0), (2661, 0.042257712736425826), (2662, 0.0), (2663, 0.0), (2664, 0.0), (2665, 0.0), (2666, 0.0), (2667, 0.042257712736425826), (2668, 0.0), (2669, 0.09325048082403138), (2670, 0.1025978352085154), (2671, 0.0), (2672, 0.04767312946227961), (2673, 0.0), (2674, 0.0), (2675, 0.04662524041201569), (2676, 0.049999999999999996), (2677, 0.0), (2678, 0.0), (2679, 0.05976143046671968), (2680, 0.0), (2681, 0.0), (2682, 0.09325048082403138), (2683, 0.0), (2684, 0.049999999999999996), (2685, 0.09128709291752769), (2686, 0.049999999999999996), (2687, 0.0), (2688, 0.04767312946227961), (2689, 0.0), (2690, 0.04767312946227961), (2691, 0.0), (2692, 0.09534625892455922), (2693, 0.0), (2694, 0.0), (2695, 0.0), (2696, 0.0), (2697, 0.0), (2698, 0.0), (2699, 0.044721359549995794), (2700, 0.0), (2701, 0.0), (2702, 0.09759000729485331), (2703, 0.0), (2704, 0.045643546458763846), (2705, 0.04879500364742666), (2706, 0.0), (2707, 0.0), (2708, 0.0), (2709, 0.0), (2710, 0.0), (2711, 0.0), (2712, 0.04662524041201569), (2713, 0.0), (2714, 0.0), (2715, 0.0), (2716, 0.045643546458763846), (2717, 0.0), (2718, 0.0), (2719, 0.0), (2720, 0.0), (2721, 0.0), (2722, 0.0512989176042577), (2723, 0.16269784336399212), (2724, 0.0), (2725, 0.0), (2726, 0.044721359549995794), (2727, 0.0), (2728, 0.05590169943749474), (2729, 0.0), (2730, 0.0512989176042577), (2731, 0.09128709291752769), (2732, 0.0), (2733, 0.04879500364742666), (2734, 0.0), (2735, 0.0), (2736, 0.042257712736425826), (2737, 0.0), (2738, 0.0), (2739, 0.0), (2740, 0.0), (2741, 0.10540925533894599), (2742, 0.043852900965351466), (2743, 0.04662524041201569), (2744, 0.0), (2745, 0.0), (2746, 0.0), (2747, 0.04152273992686998), (2748, 0.0), (2749, 0.04767312946227961), (2750, 0.09759000729485331), (2751, 0.045643546458763846), (2752, 0.0), (2753, 0.08944271909999159), (2754, 0.0), (2755, 0.0), (2756, 0.08770580193070293), (2757, 0.0), (2758, 0.0), (2759, 0.0), (2760, 0.04879500364742666), (2761, 0.0), (2762, 0.13987572123604708), (2763, 0.0512989176042577), (2764, 0.05773502691896257), (2765, 0.049999999999999996), (2766, 0.04662524041201569), (2767, 0.09128709291752769), (2768, 0.0), (2769, 0.0), (2770, 0.11952286093343936), (2771, 0.0), (2772, 0.0), (2773, 0.045643546458763846), (2774, 0.044721359549995794), (2775, 0.04662524041201569), (2776, 0.0), (2777, 0.0), (2778, 0.0), (2779, 0.0), (2780, 0.049999999999999996), (2781, 0.04767312946227961), (2782, 0.0), (2783, 0.09759000729485331), (2784, 0.06819943394704735), (2785, 0.052704627669472995), (2786, 0.0), (2787, 0.0), (2788, 0.0), (2789, 0.0), (2790, 0.08304547985373996), (2791, 0.0), (2792, 0.04879500364742666), (2793, 0.15), (2794, 0.09325048082403138), (2795, 0.09534625892455922), (2796, 0.045643546458763846), (2797, 0.0), (2798, 0.0), (2799, 0.04767312946227961), (2800, 0.0), (2801, 0.04879500364742666), (2802, 0.0), (2803, 0.04016096644512494), (2804, 0.052704627669472995), (2805, 0.0), (2806, 0.0), (2807, 0.0), (2808, 0.045643546458763846), (2809, 0.04767312946227961), (2810, 0.0), (2811, 0.0), (2812, 0.0), (2813, 0.0), (2814, 0.0), (2815, 0.044721359549995794), (2816, 0.0), (2817, 0.1341640786499874), (2818, 0.09534625892455922), (2819, 0.045643546458763846), (2820, 0.04662524041201569), (2821, 0.09325048082403138), (2822, 0.2439750182371333), (2823, 0.052704627669472995), (2824, 0.04662524041201569), (2825, 0.0), (2826, 0.045643546458763846), (2827, 0.0), (2828, 0.045643546458763846), (2829, 0.0), (2830, 0.04767312946227961), (2831, 0.09128709291752769), (2832, 0.039528470752104736), (2833, 0.0), (2834, 0.0), (2835, 0.0), (2836, 0.0), (2837, 0.0), (2838, 0.0), (2839, 0.13693063937629155), (2840, 0.0), (2841, 0.04879500364742666), (2842, 0.04662524041201569), (2843, 0.0), (2844, 0.0), (2845, 0.04662524041201569), (2846, 0.0), (2847, 0.0), (2848, 0.0), (2849, 0.04879500364742666), (2850, 0.04662524041201569), (2851, 0.0), (2852, 0.0), (2853, 0.09759000729485331), (2854, 0.0), (2855, 0.0), (2856, 0.0), (2857, 0.0), (2858, 0.09534625892455922), (2859, 0.0), (2860, 0.0), (2861, 0.0), (2862, 0.0), (2863, 0.0), (2864, 0.052704627669472995), (2865, 0.044721359549995794), (2866, 0.0), (2867, 0.0), (2868, 0.04662524041201569), (2869, 0.05423261445466404), (2870, 0.0), (2871, 0.0), (2872, 0.0), (2873, 0.0), (2874, 0.0512989176042577), (2875, 0.0), (2876, 0.0), (2877, 0.0), (2878, 0.11547005383792514), (2879, 0.04879500364742666), (2880, 0.04662524041201569), (2881, 0.0), (2882, 0.0), (2883, 0.05423261445466404), (2884, 0.0), (2885, 0.04767312946227961), (2886, 0.0), (2887, 0.0), (2888, 0.08032193289024989), (2889, 0.0), (2890, 0.0), (2891, 0.158113883008419), (2892, 0.0), (2893, 0.04303314829119352), (2894, 0.0), (2895, 0.09999999999999999), (2896, 0.052704627669472995), (2897, 0.04767312946227961), (2898, 0.036760731104690386), (2899, 0.0), (2900, 0.0), (2901, 0.0), (2902, 0.0), (2903, 0.0), (2904, 0.0), (2905, 0.09325048082403138), (2906, 0.0), (2907, 0.0), (2908, 0.0), (2909, 0.0), (2910, 0.0), (2911, 0.0), (2912, 0.0), (2913, 0.0), (2914, 0.0), (2915, 0.13987572123604708), (2916, 0.0), (2917, 0.0), (2918, 0.0), (2919, 0.0), (2920, 0.0), (2921, 0.11180339887498948), (2922, 0.0), (2923, 0.0), (2924, 0.052704627669472995), (2925, 0.0), (2926, 0.0), (2927, 0.04662524041201569), (2928, 0.0), (2929, 0.0), (2930, 0.0), (2931, 0.0512989176042577), (2932, 0.16269784336399212), (2933, 0.0), (2934, 0.0), (2935, 0.04767312946227961), (2936, 0.0), (2937, 0.0), (2938, 0.04662524041201569), (2939, 0.0), (2940, 0.0), (2941, 0.08770580193070293), (2942, 0.0), (2943, 0.0), (2944, 0.049999999999999996), (2945, 0.045643546458763846), (2946, 0.0), (2947, 0.0), (2948, 0.04879500364742666), (2949, 0.0), (2950, 0.0), (2951, 0.0), (2952, 0.04767312946227961), (2953, 0.0), (2954, 0.0), (2955, 0.04767312946227961), (2956, 0.0), (2957, 0.14638501094227996), (2958, 0.09325048082403138), (2959, 0.158113883008419), (2960, 0.0), (2961, 0.1341640786499874), (2962, 0.0), (2963, 0.0), (2964, 0.045643546458763846), (2965, 0.0), (2966, 0.0), (2967, 0.0), (2968, 0.0), (2969, 0.0), (2970, 0.0), (2971, 0.0), (2972, 0.0), (2973, 0.0), (2974, 0.0), (2975, 0.0), (2976, 0.05773502691896257), (2977, 0.09325048082403138), (2978, 0.0), (2979, 0.0), (2980, 0.0512989176042577), (2981, 0.0), (2982, 0.09759000729485331), (2983, 0.04767312946227961), (2984, 0.0), (2985, 0.0512989176042577), (2986, 0.0), (2987, 0.0), (2988, 0.04767312946227961), (2989, 0.0), (2990, 0.049999999999999996), (2991, 0.0), (2992, 0.0), (2993, 0.04767312946227961), (2994, 0.0), (2995, 0.04879500364742666), (2996, 0.04662524041201569), (2997, 0.04767312946227961), (2998, 0.09325048082403138), (2999, 0.1025978352085154), (3000, 0.049999999999999996), (3001, 0.0), (3002, 0.04767312946227961), (3003, 0.0), (3004, 0.0), (3005, 0.0), (3006, 0.1341640786499874), (3007, 0.04767312946227961), (3008, 0.14907119849998596), (3009, 0.1025978352085154), (3010, 0.0), (3011, 0.0), (3012, 0.04303314829119352), (3013, 0.0), (3014, 0.04662524041201569), (3015, 0.0), (3016, 0.0), (3017, 0.045643546458763846), (3018, 0.044721359549995794), (3019, 0.0), (3020, 0.05976143046671968), (3021, 0.05976143046671968), (3022, 0.05773502691896257), (3023, 0.0), (3024, 0.0), (3025, 0.05423261445466404), (3026, 0.0), (3027, 0.0), (3028, 0.0512989176042577), (3029, 0.0), (3030, 0.0), (3031, 0.042257712736425826), (3032, 0.0), (3033, 0.08606629658238704), (3034, 0.0), (3035, 0.044721359549995794), (3036, 0.0), (3037, 0.11952286093343936), (3038, 0.0), (3039, 0.0), (3040, 0.08944271909999159), (3041, 0.0), (3042, 0.08770580193070293), (3043, 0.0), (3044, 0.0), (3045, 0.04879500364742666), (3046, 0.0), (3047, 0.0), (3048, 0.09999999999999999), (3049, 0.0), (3050, 0.08944271909999159), (3051, 0.0), (3052, 0.09325048082403138), (3053, 0.0), (3054, 0.0), (3055, 0.0), (3056, 0.04879500364742666), (3057, 0.0), (3058, 0.0512989176042577), (3059, 0.0), (3060, 0.049999999999999996), (3061, 0.0), (3062, 0.09534625892455922), (3063, 0.0), (3064, 0.0), (3065, 0.0), (3066, 0.0), (3067, 0.0), (3068, 0.0), (3069, 0.0), (3070, 0.0), (3071, 0.0), (3072, 0.052704627669472995), (3073, 0.08770580193070293), (3074, 0.08304547985373996), (3075, 0.0), (3076, 0.0), (3077, 0.05590169943749474), (3078, 0.0), (3079, 0.0), (3080, 0.0), (3081, 0.05590169943749474), (3082, 0.09325048082403138), (3083, 0.0), (3084, 0.0), (3085, 0.09325048082403138), (3086, 0.09128709291752769), (3087, 0.0), (3088, 0.09759000729485331), (3089, 0.0), (3090, 0.14301938838683884), (3091, 0.09534625892455922), (3092, 0.0), (3093, 0.13693063937629155), (3094, 0.0), (3095, 0.0), (3096, 0.09999999999999999), (3097, 0.049999999999999996), (3098, 0.09759000729485331), (3099, 0.0), (3100, 0.0), (3101, 0.09999999999999999), (3102, 0.0), (3103, 0.0), (3104, 0.04662524041201569), (3105, 0.0), (3106, 0.04767312946227961), (3107, 0.0), (3108, 0.043852900965351466), (3109, 0.045643546458763846), (3110, 0.0), (3111, 0.049999999999999996), (3112, 0.04879500364742666), (3113, 0.0), (3114, 0.0), (3115, 0.0), (3116, 0.0), (3117, 0.0), (3118, 0.09759000729485331), (3119, 0.0), (3120, 0.04767312946227961), (3121, 0.0), (3122, 0.0), (3123, 0.14301938838683884), (3124, 0.04152273992686998), (3125, 0.0), (3126, 0.052704627669472995), (3127, 0.0), (3128, 0.04879500364742666), (3129, 0.0), (3130, 0.0), (3131, 0.0), (3132, 0.0), (3133, 0.04303314829119352), (3134, 0.049999999999999996), (3135, 0.0), (3136, 0.0), (3137, 0.045643546458763846), (3138, 0.0), (3139, 0.0), (3140, 0.0), (3141, 0.04767312946227961), (3142, 0.0), (3143, 0.045643546458763846), (3144, 0.05423261445466404), (3145, 0.0), (3146, 0.044721359549995794), (3147, 0.04662524041201569), (3148, 0.04879500364742666), (3149, 0.0), (3150, 0.045643546458763846), (3151, 0.04879500364742666), (3152, 0.0), (3153, 0.04879500364742666), (3154, 0.0), (3155, 0.04152273992686998), (3156, 0.0), (3157, 0.0), (3158, 0.08606629658238704), (3159, 0.0), (3160, 0.0), (3161, 0.0), (3162, 0.04662524041201569), (3163, 0.0), (3164, 0.0), (3165, 0.045643546458763846), (3166, 0.0), (3167, 0.0512989176042577), (3168, 0.0), (3169, 0.04879500364742666), (3170, 0.0), (3171, 0.042257712736425826), (3172, 0.05590169943749474), (3173, 0.09325048082403138), (3174, 0.04662524041201569), (3175, 0.04152273992686998), (3176, 0.0), (3177, 0.0), (3178, 0.0), (3179, 0.0), (3180, 0.09325048082403138), (3181, 0.0), (3182, 0.0), (3183, 0.0), (3184, 0.044721359549995794), (3185, 0.0), (3186, 0.0), (3187, 0.0), (3188, 0.0), (3189, 0.0), (3190, 0.0), (3191, 0.0), (3192, 0.052704627669472995), (3193, 0.0), (3194, 0.0), (3195, 0.0), (3196, 0.0), (3197, 0.043852900965351466), (3198, 0.0), (3199, 0.16770509831248423), (3200, 0.0), (3201, 0.0), (3202, 0.0), (3203, 0.05773502691896257), (3204, 0.04662524041201569), (3205, 0.0), (3206, 0.0), (3207, 0.11547005383792514), (3208, 0.0), (3209, 0.044721359549995794), (3210, 0.0), (3211, 0.0), (3212, 0.049999999999999996), (3213, 0.0), (3214, 0.044721359549995794), (3215, 0.0), (3216, 0.0), (3217, 0.0), (3218, 0.0), (3219, 0.0), (3220, 0.04879500364742666), (3221, 0.0), (3222, 0.0), (3223, 0.0), (3224, 0.0), (3225, 0.11952286093343936), (3226, 0.0), (3227, 0.0), (3228, 0.0), (3229, 0.0), (3230, 0.0), (3231, 0.0), (3232, 1.0000000000000002), (3233, 0.0), (3234, 0.09534625892455922), (3235, 0.0), (3236, 0.0), (3237, 0.05423261445466404), (3238, 0.0), (3239, 0.04152273992686998), (3240, 0.044721359549995794), (3241, 0.0), (3242, 0.04879500364742666), (3243, 0.0), (3244, 0.09128709291752769), (3245, 0.0), (3246, 0.09999999999999999), (3247, 0.0), (3248, 0.0), (3249, 0.0), (3250, 0.0), (3251, 0.045643546458763846), (3252, 0.044721359549995794), (3253, 0.045643546458763846), (3254, 0.0), (3255, 0.09999999999999999), (3256, 0.0), (3257, 0.08770580193070293), (3258, 0.049999999999999996), (3259, 0.04767312946227961), (3260, 0.09534625892455922), (3261, 0.0), (3262, 0.0), (3263, 0.0), (3264, 0.0), (3265, 0.052704627669472995), (3266, 0.0), (3267, 0.0), (3268, 0.06201736729460423), (3269, 0.0512989176042577), (3270, 0.0), (3271, 0.0), (3272, 0.0), (3273, 0.08944271909999159), (3274, 0.049999999999999996), (3275, 0.09325048082403138), (3276, 0.0), (3277, 0.0), (3278, 0.0), (3279, 0.0), (3280, 0.05773502691896257), (3281, 0.0), (3282, 0.05590169943749474), (3283, 0.043852900965351466), (3284, 0.05590169943749474), (3285, 0.0), (3286, 0.05423261445466404), (3287, 0.0), (3288, 0.0), (3289, 0.0), (3290, 0.0), (3291, 0.1315587028960544), (3292, 0.0), (3293, 0.13693063937629155), (3294, 0.04662524041201569), (3295, 0.0), (3296, 0.0), (3297, 0.17888543819998318), (3298, 0.0), (3299, 0.05423261445466404), (3300, 0.0), (3301, 0.0), (3302, 0.11547005383792514), (3303, 0.08944271909999159), (3304, 0.0), (3305, 0.0), (3306, 0.11547005383792514), (3307, 0.049999999999999996), (3308, 0.0), (3309, 0.08770580193070293), (3310, 0.0), (3311, 0.0), (3312, 0.0), (3313, 0.0), (3314, 0.0), (3315, 0.0), (3316, 0.09534625892455922), (3317, 0.0), (3318, 0.04879500364742666), (3319, 0.0), (3320, 0.0), (3321, 0.049999999999999996), (3322, 0.10846522890932808), (3323, 0.04662524041201569), (3324, 0.0), (3325, 0.0), (3326, 0.05590169943749474), (3327, 0.0), (3328, 0.0), (3329, 0.1025978352085154), (3330, 0.049999999999999996), (3331, 0.05590169943749474), (3332, 0.1025978352085154), (3333, 0.045643546458763846), (3334, 0.0), (3335, 0.05773502691896257), (3336, 0.08944271909999159), (3337, 0.08451542547285165), (3338, 0.0), (3339, 0.0), (3340, 0.0), (3341, 0.0), (3342, 0.04662524041201569), (3343, 0.045643546458763846), (3344, 0.0), (3345, 0.0), (3346, 0.0), (3347, 0.0), (3348, 0.045643546458763846), (3349, 0.09534625892455922), (3350, 0.0), (3351, 0.043852900965351466), (3352, 0.1267731382092775), (3353, 0.0), (3354, 0.05976143046671968), (3355, 0.0), (3356, 0.0), (3357, 0.045643546458763846), (3358, 0.044721359549995794), (3359, 0.11180339887498948), (3360, 0.0), (3361, 0.10846522890932808), (3362, 0.0), (3363, 0.0), (3364, 0.0), (3365, 0.0), (3366, 0.0), (3367, 0.0), (3368, 0.0), (3369, 0.0), (3370, 0.0), (3371, 0.0), (3372, 0.09534625892455922), (3373, 0.0), (3374, 0.0), (3375, 0.0), (3376, 0.05590169943749474), (3377, 0.0), (3378, 0.04662524041201569), (3379, 0.0), (3380, 0.09534625892455922), (3381, 0.0512989176042577), (3382, 0.0), (3383, 0.0816496580927726), (3384, 0.09325048082403138), (3385, 0.0), (3386, 0.0), (3387, 0.0), (3388, 0.0), (3389, 0.0), (3390, 0.0), (3391, 0.08944271909999159), (3392, 0.0), (3393, 0.0), (3394, 0.0), (3395, 0.052704627669472995), (3396, 0.0), (3397, 0.1025978352085154), (3398, 0.0), (3399, 0.08606629658238704), (3400, 0.10540925533894599), (3401, 0.09534625892455922), (3402, 0.0), (3403, 0.0), (3404, 0.0), (3405, 0.0), (3406, 0.0), (3407, 0.0), (3408, 0.049999999999999996), (3409, 0.1632993161855452), (3410, 0.0), (3411, 0.0), (3412, 0.11180339887498948), (3413, 0.03892494720807615), (3414, 0.0), (3415, 0.0), (3416, 0.05423261445466404), (3417, 0.04152273992686998), (3418, 0.04303314829119352), (3419, 0.0), (3420, 0.08606629658238704), (3421, 0.0), (3422, 0.0), (3423, 0.04879500364742666), (3424, 0.0), (3425, 0.17541160386140586), (3426, 0.0), (3427, 0.04662524041201569), (3428, 0.043852900965351466), (3429, 0.0), (3430, 0.0), (3431, 0.18257418583505539), (3432, 0.0), (3433, 0.04662524041201569), (3434, 0.0), (3435, 0.0), (3436, 0.0), (3437, 0.05590169943749474), (3438, 0.0), (3439, 0.045643546458763846), (3440, 0.0), (3441, 0.0), (3442, 0.04767312946227961), (3443, 0.0), (3444, 0.13987572123604708), (3445, 0.045643546458763846), (3446, 0.0), (3447, 0.04767312946227961), (3448, 0.0), (3449, 0.0), (3450, 0.044721359549995794), (3451, 0.0), (3452, 0.0), (3453, 0.0), (3454, 0.09325048082403138), (3455, 0.0512989176042577), (3456, 0.0), (3457, 0.0), (3458, 0.0), (3459, 0.0), (3460, 0.045643546458763846), (3461, 0.11180339887498948), (3462, 0.0), (3463, 0.14638501094227996), (3464, 0.04767312946227961), (3465, 0.0), (3466, 0.08770580193070293), (3467, 0.08770580193070293), (3468, 0.0), (3469, 0.049999999999999996), (3470, 0.043852900965351466), (3471, 0.0), (3472, 0.0), (3473, 0.0), (3474, 0.043852900965351466), (3475, 0.09128709291752769), (3476, 0.0), (3477, 0.17888543819998318), (3478, 0.0), (3479, 0.0), (3480, 0.0), (3481, 0.0), (3482, 0.0), (3483, 0.0), (3484, 0.08606629658238704), (3485, 0.0), (3486, 0.05590169943749474), (3487, 0.0), (3488, 0.15), (3489, 0.0512989176042577), (3490, 0.0), (3491, 0.0), (3492, 0.08770580193070293), (3493, 0.0), (3494, 0.0), (3495, 0.0), (3496, 0.0), (3497, 0.0), (3498, 0.0), (3499, 0.0), (3500, 0.0), (3501, 0.0), (3502, 0.0), (3503, 0.0), (3504, 0.09999999999999999), (3505, 0.049999999999999996), (3506, 0.10540925533894599), (3507, 0.13693063937629155), (3508, 0.05423261445466404), (3509, 0.05773502691896257), (3510, 0.0), (3511, 0.0), (3512, 0.0), (3513, 0.0), (3514, 0.0), (3515, 0.0), (3516, 0.08606629658238704), (3517, 0.11547005383792514), (3518, 0.09759000729485331), (3519, 0.052704627669472995), (3520, 0.0), (3521, 0.05773502691896257), (3522, 0.0), (3523, 0.0), (3524, 0.044721359549995794), (3525, 0.05423261445466404), (3526, 0.044721359549995794), (3527, 0.0), (3528, 0.0), (3529, 0.0), (3530, 0.0), (3531, 0.0), (3532, 0.0), (3533, 0.0), (3534, 0.0), (3535, 0.0), (3536, 0.0), (3537, 0.09534625892455922), (3538, 0.0), (3539, 0.0), (3540, 0.0), (3541, 0.09534625892455922), (3542, 0.0), (3543, 0.0), (3544, 0.11547005383792514), (3545, 0.04879500364742666), (3546, 0.0), (3547, 0.0), (3548, 0.08451542547285165), (3549, 0.04879500364742666), (3550, 0.0), (3551, 0.0), (3552, 0.0), (3553, 0.09759000729485331), (3554, 0.049999999999999996), (3555, 0.0), (3556, 0.1341640786499874), (3557, 0.0), (3558, 0.043852900965351466), (3559, 0.0), (3560, 0.0), (3561, 0.09999999999999999), (3562, 0.0), (3563, 0.0), (3564, 0.0), (3565, 0.0), (3566, 0.04662524041201569), (3567, 0.09759000729485331), (3568, 0.0), (3569, 0.052704627669472995), (3570, 0.09759000729485331), (3571, 0.0), (3572, 0.0512989176042577), (3573, 0.04879500364742666), (3574, 0.0), (3575, 0.0), (3576, 0.0), (3577, 0.0), (3578, 0.0), (3579, 0.04767312946227961), (3580, 0.0), (3581, 0.0), (3582, 0.0), (3583, 0.0), (3584, 0.0), (3585, 0.0), (3586, 0.09325048082403138), (3587, 0.049999999999999996), (3588, 0.09325048082403138), (3589, 0.0), (3590, 0.0), (3591, 0.16770509831248423), (3592, 0.04767312946227961), (3593, 0.045643546458763846), (3594, 0.1341640786499874), (3595, 0.04767312946227961), (3596, 0.0), (3597, 0.0), (3598, 0.0), (3599, 0.044721359549995794), (3600, 0.0512989176042577), (3601, 0.0), (3602, 0.0), (3603, 0.08944271909999159), (3604, 0.044721359549995794), (3605, 0.0), (3606, 0.09534625892455922), (3607, 0.05423261445466404), (3608, 0.0), (3609, 0.0), (3610, 0.0), (3611, 0.0), (3612, 0.0), (3613, 0.0), (3614, 0.0), (3615, 0.0408248290463863), (3616, 0.0), (3617, 0.04879500364742666), (3618, 0.04879500364742666), (3619, 0.044721359549995794), (3620, 0.0), (3621, 0.0), (3622, 0.0), (3623, 0.0512989176042577), (3624, 0.0), (3625, 0.0), (3626, 0.0), (3627, 0.0), (3628, 0.0), (3629, 0.0), (3630, 0.0), (3631, 0.0512989176042577), (3632, 0.0), (3633, 0.0), (3634, 0.09999999999999999), (3635, 0.08944271909999159), (3636, 0.14638501094227996), (3637, 0.09999999999999999), (3638, 0.04879500364742666), (3639, 0.045643546458763846), (3640, 0.09759000729485331), (3641, 0.0), (3642, 0.0), (3643, 0.04016096644512494), (3644, 0.09128709291752769), (3645, 0.0), (3646, 0.0), (3647, 0.0), (3648, 0.0), (3649, 0.0), (3650, 0.0512989176042577), (3651, 0.0), (3652, 0.05423261445466404), (3653, 0.04767312946227961), (3654, 0.0), (3655, 0.05590169943749474), (3656, 0.049999999999999996), (3657, 0.04767312946227961), (3658, 0.09325048082403138), (3659, 0.0), (3660, 0.10846522890932808), (3661, 0.0), (3662, 0.0), (3663, 0.0), (3664, 0.0), (3665, 0.10846522890932808), (3666, 0.0512989176042577), (3667, 0.04662524041201569), (3668, 0.04879500364742666), (3669, 0.0), (3670, 0.0), (3671, 0.04303314829119352), (3672, 0.0), (3673, 0.0), (3674, 0.0), (3675, 0.042257712736425826), (3676, 0.049999999999999996), (3677, 0.052704627669472995), (3678, 0.0), (3679, 0.04879500364742666), (3680, 0.049999999999999996), (3681, 0.0), (3682, 0.0), (3683, 0.0), (3684, 0.0), (3685, 0.13693063937629155), (3686, 0.0), (3687, 0.0), (3688, 0.0), (3689, 0.0), (3690, 0.0), (3691, 0.0), (3692, 0.0), (3693, 0.0), (3694, 0.052704627669472995), (3695, 0.0), (3696, 0.043852900965351466), (3697, 0.0), (3698, 0.04767312946227961), (3699, 0.14638501094227996), (3700, 0.13693063937629155), (3701, 0.09999999999999999), (3702, 0.0), (3703, 0.0), (3704, 0.04879500364742666), (3705, 0.0), (3706, 0.0), (3707, 0.0), (3708, 0.0), (3709, 0.08944271909999159), (3710, 0.0), (3711, 0.045643546458763846), (3712, 0.0), (3713, 0.0), (3714, 0.11547005383792514), (3715, 0.0), (3716, 0.0512989176042577), (3717, 0.04767312946227961), (3718, 0.05773502691896257), (3719, 0.0), (3720, 0.0), (3721, 0.0), (3722, 0.044721359549995794), (3723, 0.0), (3724, 0.0), (3725, 0.049999999999999996), (3726, 0.09999999999999999), (3727, 0.11180339887498948), (3728, 0.0), (3729, 0.0), (3730, 0.04303314829119352), (3731, 0.0), (3732, 0.04767312946227961), (3733, 0.049999999999999996), (3734, 0.08944271909999159), (3735, 0.0), (3736, 0.0), (3737, 0.0), (3738, 0.0), (3739, 0.0), (3740, 0.0), (3741, 0.0), (3742, 0.0), (3743, 0.0), (3744, 0.0), (3745, 0.0), (3746, 0.09534625892455922), (3747, 0.0), (3748, 0.0), (3749, 0.08944271909999159), (3750, 0.08606629658238704), (3751, 0.044721359549995794), (3752, 0.052704627669472995), (3753, 0.0), (3754, 0.0), (3755, 0.1267731382092775), (3756, 0.0), (3757, 0.0), (3758, 0.04767312946227961), (3759, 0.042257712736425826), (3760, 0.1025978352085154), (3761, 0.04767312946227961), (3762, 0.0), (3763, 0.0), (3764, 0.04662524041201569), (3765, 0.04662524041201569), (3766, 0.04662524041201569), (3767, 0.0), (3768, 0.0), (3769, 0.04767312946227961), (3770, 0.0), (3771, 0.0), (3772, 0.13693063937629155), (3773, 0.0), (3774, 0.09534625892455922), (3775, 0.0), (3776, 0.0), (3777, 0.0), (3778, 0.0), (3779, 0.11180339887498948), (3780, 0.04662524041201569), (3781, 0.0), (3782, 0.0), (3783, 0.04879500364742666), (3784, 0.04879500364742666), (3785, 0.09534625892455922), (3786, 0.0), (3787, 0.0), (3788, 0.0), (3789, 0.09759000729485331), (3790, 0.0512989176042577), (3791, 0.0), (3792, 0.05590169943749474), (3793, 0.0), (3794, 0.0), (3795, 0.04767312946227961), (3796, 0.0), (3797, 0.0), (3798, 0.0), (3799, 0.09759000729485331), (3800, 0.0), (3801, 0.0), (3802, 0.0), (3803, 0.11180339887498948), (3804, 0.04152273992686998), (3805, 0.0), (3806, 0.0), (3807, 0.09999999999999999), (3808, 0.0), (3809, 0.0), (3810, 0.04767312946227961), (3811, 0.0), (3812, 0.0), (3813, 0.0), (3814, 0.0), (3815, 0.0), (3816, 0.0), (3817, 0.052704627669472995), (3818, 0.0), (3819, 0.09534625892455922), (3820, 0.0), (3821, 0.0), (3822, 0.09325048082403138), (3823, 0.11180339887498948), (3824, 0.0), (3825, 0.0), (3826, 0.04662524041201569), (3827, 0.04879500364742666), (3828, 0.23312620206007845), (3829, 0.0), (3830, 0.0), (3831, 0.15), (3832, 0.0), (3833, 0.09759000729485331), (3834, 0.09325048082403138), (3835, 0.0), (3836, 0.0), (3837, 0.04016096644512494), (3838, 0.0), (3839, 0.045643546458763846), (3840, 0.05590169943749474), (3841, 0.04767312946227961), (3842, 0.0512989176042577), (3843, 0.049999999999999996), (3844, 0.0), (3845, 0.0), (3846, 0.0), (3847, 0.0), (3848, 0.0), (3849, 0.049999999999999996), (3850, 0.09534625892455922), (3851, 0.09759000729485331), (3852, 0.0), (3853, 0.1025978352085154), (3854, 0.0), (3855, 0.0), (3856, 0.0), (3857, 0.05773502691896257), (3858, 0.0), (3859, 0.09759000729485331), (3860, 0.0), (3861, 0.0), (3862, 0.049999999999999996), (3863, 0.0), (3864, 0.0), (3865, 0.0), (3866, 0.04662524041201569), (3867, 0.04767312946227961), (3868, 0.052704627669472995), (3869, 0.09325048082403138), (3870, 0.0), (3871, 0.0), (3872, 0.0), (3873, 0.08451542547285165), (3874, 0.0), (3875, 0.05423261445466404), (3876, 0.0), (3877, 0.04662524041201569), (3878, 0.09534625892455922), (3879, 0.0), (3880, 0.17888543819998318), (3881, 0.0), (3882, 0.052704627669472995), (3883, 0.1267731382092775), (3884, 0.04152273992686998), (3885, 0.0), (3886, 0.0), (3887, 0.09128709291752769), (3888, 0.0), (3889, 0.04767312946227961), (3890, 0.0), (3891, 0.0), (3892, 0.0), (3893, 0.0), (3894, 0.0), (3895, 0.045643546458763846), (3896, 0.044721359549995794), (3897, 0.0), (3898, 0.0), (3899, 0.0), (3900, 0.0), (3901, 0.0), (3902, 0.045643546458763846), (3903, 0.0), (3904, 0.0), (3905, 0.14301938838683884), (3906, 0.0), (3907, 0.0816496580927726), (3908, 0.0512989176042577), (3909, 0.0), (3910, 0.09325048082403138), (3911, 0.0), (3912, 0.05590169943749474), (3913, 0.0), (3914, 0.0), (3915, 0.0), (3916, 0.0512989176042577), (3917, 0.0), (3918, 0.0), (3919, 0.05423261445466404), (3920, 0.045643546458763846), (3921, 0.0), (3922, 0.0), (3923, 0.04767312946227961), (3924, 0.0), (3925, 0.0), (3926, 0.0), (3927, 0.0), (3928, 0.0), (3929, 0.0), (3930, 0.052704627669472995), (3931, 0.0), (3932, 0.05423261445466404), (3933, 0.0), (3934, 0.043852900965351466), (3935, 0.0), (3936, 0.0512989176042577), (3937, 0.0), (3938, 0.0), (3939, 0.0), (3940, 0.0408248290463863), (3941, 0.04879500364742666), (3942, 0.04879500364742666), (3943, 0.0), (3944, 0.045643546458763846), (3945, 0.0), (3946, 0.0), (3947, 0.0), (3948, 0.05423261445466404), (3949, 0.04767312946227961), (3950, 0.0512989176042577), (3951, 0.045643546458763846), (3952, 0.0), (3953, 0.0), (3954, 0.049999999999999996), (3955, 0.0), (3956, 0.0), (3957, 0.0), (3958, 0.04879500364742666), (3959, 0.0), (3960, 0.0), (3961, 0.0), (3962, 0.17888543819998318), (3963, 0.0), (3964, 0.0), (3965, 0.0), (3966, 0.19069251784911845), (3967, 0.0), (3968, 0.05773502691896257), (3969, 0.1025978352085154), (3970, 0.052704627669472995), (3971, 0.0), (3972, 0.11547005383792514), (3973, 0.0), (3974, 0.0), (3975, 0.0), (3976, 0.05773502691896257), (3977, 0.0), (3978, 0.05590169943749474), (3979, 0.0), (3980, 0.04767312946227961), (3981, 0.0), (3982, 0.0512989176042577), (3983, 0.09534625892455922), (3984, 0.0), (3985, 0.09534625892455922), (3986, 0.0), (3987, 0.0), (3988, 0.0), (3989, 0.0), (3990, 0.0), (3991, 0.0), (3992, 0.0), (3993, 0.0), (3994, 0.09128709291752769), (3995, 0.0), (3996, 0.0), (3997, 0.0), (3998, 0.04879500364742666), (3999, 0.0), (4000, 0.0), (4001, 0.0), (4002, 0.0), (4003, 0.044721359549995794), (4004, 0.0), (4005, 0.052704627669472995), (4006, 0.0), (4007, 0.0), (4008, 0.0), (4009, 0.12909944487358058), (4010, 0.0), (4011, 0.0), (4012, 0.0), (4013, 0.0), (4014, 0.0), (4015, 0.0), (4016, 0.0), (4017, 0.0), (4018, 0.049999999999999996), (4019, 0.08451542547285165), (4020, 0.0), (4021, 0.0), (4022, 0.04662524041201569), (4023, 0.0), (4024, 0.0), (4025, 0.0), (4026, 0.043852900965351466), (4027, 0.0), (4028, 0.0), (4029, 0.05590169943749474), (4030, 0.0), (4031, 0.0512989176042577), (4032, 0.04879500364742666), (4033, 0.09534625892455922), (4034, 0.06201736729460423), (4035, 0.0), (4036, 0.04767312946227961), (4037, 0.0), (4038, 0.05773502691896257), (4039, 0.0), (4040, 0.06201736729460423), (4041, 0.049999999999999996), (4042, 0.0), (4043, 0.0), (4044, 0.0), (4045, 0.0), (4046, 0.0), (4047, 0.0), (4048, 0.05590169943749474), (4049, 0.0), (4050, 0.0), (4051, 0.05590169943749474), (4052, 0.04879500364742666), (4053, 0.13987572123604708), (4054, 0.0), (4055, 0.0), (4056, 0.05773502691896257), (4057, 0.0), (4058, 0.0512989176042577), (4059, 0.0), (4060, 0.05423261445466404), (4061, 0.0), (4062, 0.0), (4063, 0.04879500364742666), (4064, 0.0), (4065, 0.08451542547285165), (4066, 0.0), (4067, 0.04767312946227961), (4068, 0.0), (4069, 0.05423261445466404), (4070, 0.0), (4071, 0.045643546458763846), (4072, 0.04879500364742666), (4073, 0.044721359549995794), (4074, 0.049999999999999996), (4075, 0.04767312946227961), (4076, 0.043852900965351466), (4077, 0.09325048082403138), (4078, 0.0), (4079, 0.04767312946227961), (4080, 0.0), (4081, 0.043852900965351466), (4082, 0.0), (4083, 0.0), (4084, 0.0), (4085, 0.0), (4086, 0.0), (4087, 0.0), (4088, 0.0), (4089, 0.0408248290463863), (4090, 0.045643546458763846), (4091, 0.05423261445466404), (4092, 0.1025978352085154), (4093, 0.0), (4094, 0.0), (4095, 0.0408248290463863), (4096, 0.0), (4097, 0.0), (4098, 0.04879500364742666), (4099, 0.09534625892455922), (4100, 0.08770580193070293), (4101, 0.0), (4102, 0.0), (4103, 0.044721359549995794), (4104, 0.0), (4105, 0.0), (4106, 0.0), (4107, 0.0), (4108, 0.0), (4109, 0.0512989176042577), (4110, 0.0), (4111, 0.11547005383792514), (4112, 0.0), (4113, 0.0), (4114, 0.04879500364742666), (4115, 0.0), (4116, 0.05773502691896257), (4117, 0.0), (4118, 0.0), (4119, 0.0), (4120, 0.05423261445466404), (4121, 0.1025978352085154), (4122, 0.0), (4123, 0.0), (4124, 0.045643546458763846), (4125, 0.0), (4126, 0.0), (4127, 0.09325048082403138), (4128, 0.0), (4129, 0.0), (4130, 0.0), (4131, 0.0), (4132, 0.04879500364742666), (4133, 0.11547005383792514), (4134, 0.0), (4135, 0.09128709291752769), (4136, 0.15), (4137, 0.049999999999999996), (4138, 0.049999999999999996), (4139, 0.15), (4140, 0.0), (4141, 0.0), (4142, 0.06201736729460423), (4143, 0.0), (4144, 0.04303314829119352), (4145, 0.04767312946227961), (4146, 0.05423261445466404), (4147, 0.05976143046671968), (4148, 0.0), (4149, 0.0), (4150, 0.0), (4151, 0.0), (4152, 0.044721359549995794), (4153, 0.0), (4154, 0.0), (4155, 0.0), (4156, 0.0), (4157, 0.045643546458763846), (4158, 0.0512989176042577), (4159, 0.052704627669472995), (4160, 0.0), (4161, 0.05976143046671968), (4162, 0.042257712736425826), (4163, 0.0), (4164, 0.0), (4165, 0.0), (4166, 0.0), (4167, 0.08606629658238704), (4168, 0.11547005383792514), (4169, 0.0), (4170, 0.04662524041201569), (4171, 0.0), (4172, 0.0), (4173, 0.0), (4174, 0.11504474832710555), (4175, 0.0), (4176, 0.0), (4177, 0.0), (4178, 0.08606629658238704), (4179, 0.0), (4180, 0.0), (4181, 0.0), (4182, 0.0), (4183, 0.0), (4184, 0.05976143046671968), (4185, 0.049999999999999996), (4186, 0.05423261445466404), (4187, 0.0), (4188, 0.0), (4189, 0.04879500364742666), (4190, 0.04767312946227961), (4191, 0.0), (4192, 0.0), (4193, 0.0), (4194, 0.04767312946227961), (4195, 0.09999999999999999), (4196, 0.04767312946227961), (4197, 0.04303314829119352), (4198, 0.0), (4199, 0.0), (4200, 0.0), (4201, 0.0), (4202, 0.13416407864998736), (4203, 0.0), (4204, 0.09325048082403138), (4205, 0.11547005383792514), (4206, 0.0), (4207, 0.05590169943749474), (4208, 0.0), (4209, 0.08944271909999159), (4210, 0.0), (4211, 0.04303314829119352), (4212, 0.05976143046671968), (4213, 0.0512989176042577), (4214, 0.0), (4215, 0.0), (4216, 0.0), (4217, 0.052704627669472995), (4218, 0.0), (4219, 0.0), (4220, 0.0408248290463863), (4221, 0.0512989176042577), (4222, 0.04879500364742666), (4223, 0.043852900965351466), (4224, 0.049999999999999996), (4225, 0.09325048082403138), (4226, 0.08606629658238704), (4227, 0.0), (4228, 0.0), (4229, 0.0), (4230, 0.18650096164806276), (4231, 0.0), (4232, 0.0), (4233, 0.06201736729460423), (4234, 0.0), (4235, 0.0), (4236, 0.0), (4237, 0.0), (4238, 0.0), (4239, 0.0), (4240, 0.09759000729485331), (4241, 0.0), (4242, 0.0), (4243, 0.0), (4244, 0.049999999999999996), (4245, 0.04662524041201569), (4246, 0.0), (4247, 0.0), (4248, 0.09325048082403138), (4249, 0.042257712736425826), (4250, 0.0), (4251, 0.0), (4252, 0.0), (4253, 0.0), (4254, 0.0), (4255, 0.0), (4256, 0.10846522890932808), (4257, 0.05423261445466404), (4258, 0.05773502691896257), (4259, 0.0), (4260, 0.0), (4261, 0.0), (4262, 0.0), (4263, 0.0), (4264, 0.04767312946227961), (4265, 0.08304547985373996), (4266, 0.05590169943749474), (4267, 0.044721359549995794), (4268, 0.04879500364742666), (4269, 0.0), (4270, 0.0), (4271, 0.0), (4272, 0.0), (4273, 0.0), (4274, 0.0), (4275, 0.0), (4276, 0.052704627669472995), (4277, 0.0), (4278, 0.0), (4279, 0.0), (4280, 0.0), (4281, 0.04662524041201569), (4282, 0.09534625892455922), (4283, 0.0), (4284, 0.04879500364742666), (4285, 0.0), (4286, 0.0), (4287, 0.09534625892455922), (4288, 0.052704627669472995), (4289, 0.05590169943749474), (4290, 0.0), (4291, 0.04662524041201569), (4292, 0.044721359549995794), (4293, 0.0), (4294, 0.0), (4295, 0.0), (4296, 0.0), (4297, 0.09325048082403138), (4298, 0.0), (4299, 0.0), (4300, 0.2051956704170308), (4301, 0.05590169943749474), (4302, 0.0), (4303, 0.0), (4304, 0.0), (4305, 0.0), (4306, 0.0), (4307, 0.0), (4308, 0.0), (4309, 0.0), (4310, 0.04662524041201569), (4311, 0.0), (4312, 0.04662524041201569), (4313, 0.052704627669472995), (4314, 0.0), (4315, 0.0), (4316, 0.0), (4317, 0.0), (4318, 0.0), (4319, 0.0), (4320, 0.09128709291752769), (4321, 0.0), (4322, 0.0), (4323, 0.0), (4324, 0.0), (4325, 0.0), (4326, 0.1341640786499874), (4327, 0.0), (4328, 0.0), (4329, 0.0), (4330, 0.05590169943749474), (4331, 0.0), (4332, 0.044721359549995794), (4333, 0.1025978352085154), (4334, 0.0), (4335, 0.0), (4336, 0.04767312946227961), (4337, 0.13987572123604708), (4338, 0.0), (4339, 0.04662524041201569), (4340, 0.04152273992686998), (4341, 0.0), (4342, 0.0), (4343, 0.049999999999999996), (4344, 0.0), (4345, 0.0512989176042577), (4346, 0.0), (4347, 0.04767312946227961), (4348, 0.09759000729485331), (4349, 0.0), (4350, 0.0), (4351, 0.09759000729485331), (4352, 0.0), (4353, 0.04662524041201569), (4354, 0.0), (4355, 0.049999999999999996), (4356, 0.0), (4357, 0.06201736729460423), (4358, 0.0), (4359, 0.0), (4360, 0.09999999999999999), (4361, 0.0), (4362, 0.05423261445466404), (4363, 0.06201736729460423), (4364, 0.0), (4365, 0.0), (4366, 0.0), (4367, 0.0), (4368, 0.14638501094227996), (4369, 0.0), (4370, 0.11180339887498948), (4371, 0.0), (4372, 0.0), (4373, 0.0), (4374, 0.0), (4375, 0.0), (4376, 0.0), (4377, 0.05773502691896257), (4378, 0.0), (4379, 0.0), (4380, 0.0), (4381, 0.0), (4382, 0.0), (4383, 0.0), (4384, 0.0), (4385, 0.0), (4386, 0.0), (4387, 0.0), (4388, 0.04879500364742666), (4389, 0.06201736729460423), (4390, 0.0), (4391, 0.08606629658238704), (4392, 0.13987572123604708), (4393, 0.04662524041201569), (4394, 0.0), (4395, 0.0), (4396, 0.0), (4397, 0.08606629658238704), (4398, 0.0), (4399, 0.0), (4400, 0.0), (4401, 0.0), (4402, 0.09325048082403138), (4403, 0.0), (4404, 0.1025978352085154), (4405, 0.0), (4406, 0.0), (4407, 0.0), (4408, 0.09759000729485331), (4409, 0.0), (4410, 0.0), (4411, 0.0), (4412, 0.049999999999999996), (4413, 0.0), (4414, 0.0), (4415, 0.06201736729460423), (4416, 0.0), (4417, 0.0), (4418, 0.0), (4419, 0.0), (4420, 0.04662524041201569), (4421, 0.05773502691896257), (4422, 0.05773502691896257), (4423, 0.0), (4424, 0.0), (4425, 0.04879500364742666), (4426, 0.0), (4427, 0.0), (4428, 0.049999999999999996), (4429, 0.0512989176042577), (4430, 0.0), (4431, 0.0), (4432, 0.0512989176042577), (4433, 0.0), (4434, 0.0), (4435, 0.0), (4436, 0.0512989176042577), (4437, 0.04662524041201569), (4438, 0.0), (4439, 0.0), (4440, 0.04303314829119352), (4441, 0.0), (4442, 0.0512989176042577), (4443, 0.0), (4444, 0.0), (4445, 0.049999999999999996), (4446, 0.0), (4447, 0.0), (4448, 0.0), (4449, 0.10846522890932808), (4450, 0.0), (4451, 0.05976143046671968), (4452, 0.0), (4453, 0.042257712736425826), (4454, 0.0), (4455, 0.0), (4456, 0.0), (4457, 0.04662524041201569), (4458, 0.0), (4459, 0.0), (4460, 0.049999999999999996), (4461, 0.0), (4462, 0.0), (4463, 0.0), (4464, 0.0), (4465, 0.0), (4466, 0.0), (4467, 0.0), (4468, 0.0), (4469, 0.1315587028960544), (4470, 0.0), (4471, 0.0), (4472, 0.09534625892455922), (4473, 0.04767312946227961), (4474, 0.0), (4475, 0.052704627669472995), (4476, 0.11180339887498948), (4477, 0.04662524041201569), (4478, 0.0), (4479, 0.0), (4480, 0.0), (4481, 0.049999999999999996), (4482, 0.05773502691896257), (4483, 0.052704627669472995), (4484, 0.04662524041201569), (4485, 0.0), (4486, 0.0), (4487, 0.04303314829119352), (4488, 0.11952286093343936), (4489, 0.0), (4490, 0.0), (4491, 0.0), (4492, 0.1025978352085154), (4493, 0.0), (4494, 0.0), (4495, 0.0), (4496, 0.0), (4497, 0.0), (4498, 0.04662524041201569), (4499, 0.0), (4500, 0.05976143046671968), (4501, 0.0), (4502, 0.05976143046671968), (4503, 0.0), (4504, 0.0), (4505, 0.0), (4506, 0.05773502691896257), (4507, 0.045643546458763846), (4508, 0.0), (4509, 0.04662524041201569), (4510, 0.0), (4511, 0.0), (4512, 0.0), (4513, 0.0), (4514, 0.049999999999999996), (4515, 0.0), (4516, 0.04662524041201569), (4517, 0.0), (4518, 0.0), (4519, 0.0), (4520, 0.0), (4521, 0.0), (4522, 0.0), (4523, 0.0), (4524, 0.0), (4525, 0.0), (4526, 0.08451542547285165), (4527, 0.0), (4528, 0.049999999999999996), (4529, 0.04662524041201569), (4530, 0.0), (4531, 0.10846522890932808), (4532, 0.0), (4533, 0.0), (4534, 0.0), (4535, 0.0), (4536, 0.0), (4537, 0.0), (4538, 0.0), (4539, 0.049999999999999996), (4540, 0.0), (4541, 0.0), (4542, 0.04879500364742666), (4543, 0.0), (4544, 0.0), (4545, 0.0), (4546, 0.0), (4547, 0.0), (4548, 0.0), (4549, 0.09325048082403138), (4550, 0.0), (4551, 0.0), (4552, 0.0), (4553, 0.0), (4554, 0.052704627669472995), (4555, 0.04152273992686998), (4556, 0.05590169943749474), (4557, 0.0), (4558, 0.0), (4559, 0.05773502691896257), (4560, 0.0), (4561, 0.0), (4562, 0.0), (4563, 0.0), (4564, 0.0), (4565, 0.0), (4566, 0.0), (4567, 0.0), (4568, 0.0), (4569, 0.06201736729460423), (4570, 0.0), (4571, 0.0), (4572, 0.0), (4573, 0.0), (4574, 0.0), (4575, 0.0), (4576, 0.09759000729485331), (4577, 0.0), (4578, 0.0), (4579, 0.0408248290463863), (4580, 0.0), (4581, 0.0), (4582, 0.0), (4583, 0.0), (4584, 0.05976143046671968), (4585, 0.0512989176042577), (4586, 0.0), (4587, 0.04767312946227961), (4588, 0.0), (4589, 0.09999999999999999), (4590, 0.05773502691896257), (4591, 0.0), (4592, 0.0), (4593, 0.0), (4594, 0.0), (4595, 0.04767312946227961), (4596, 0.0), (4597, 0.0), (4598, 0.0), (4599, 0.0), (4600, 0.0), (4601, 0.0), (4602, 0.0512989176042577), (4603, 0.0), (4604, 0.0), (4605, 0.0), (4606, 0.0), (4607, 0.0), (4608, 0.0512989176042577), (4609, 0.0), (4610, 0.0), (4611, 0.0), (4612, 0.0), (4613, 0.052704627669472995), (4614, 0.0), (4615, 0.045643546458763846), (4616, 0.0), (4617, 0.0), (4618, 0.0), (4619, 0.052704627669472995), (4620, 0.09534625892455922), (4621, 0.0512989176042577), (4622, 0.05590169943749474), (4623, 0.0), (4624, 0.04767312946227961), (4625, 0.0), (4626, 0.0), (4627, 0.0), (4628, 0.0), (4629, 0.05773502691896257), (4630, 0.11547005383792514), (4631, 0.0), (4632, 0.0), (4633, 0.0), (4634, 0.05773502691896257), (4635, 0.0), (4636, 0.0), (4637, 0.0), (4638, 0.12909944487358058), (4639, 0.04662524041201569), (4640, 0.0), (4641, 0.0), (4642, 0.043852900965351466), (4643, 0.0), (4644, 0.0), (4645, 0.05590169943749474), (4646, 0.0), (4647, 0.04879500364742666), (4648, 0.09325048082403138), (4649, 0.04662524041201569), (4650, 0.0512989176042577), (4651, 0.0), (4652, 0.0), (4653, 0.0), (4654, 0.0), (4655, 0.0), (4656, 0.05590169943749474), (4657, 0.0), (4658, 0.06201736729460423), (4659, 0.0), (4660, 0.0), (4661, 0.04303314829119352), (4662, 0.0), (4663, 0.0), (4664, 0.052704627669472995), (4665, 0.0), (4666, 0.0), (4667, 0.05976143046671968), (4668, 0.0), (4669, 0.0), (4670, 0.09128709291752769), (4671, 0.0), (4672, 0.0), (4673, 0.0), (4674, 0.0), (4675, 0.0), (4676, 0.0), (4677, 0.0), (4678, 0.05423261445466404), (4679, 0.0), (4680, 0.09999999999999999), (4681, 0.0), (4682, 0.0), (4683, 0.0), (4684, 0.0), (4685, 0.0), (4686, 0.0), (4687, 0.0), (4688, 0.04879500364742666), (4689, 0.0), (4690, 0.0), (4691, 0.1025978352085154), (4692, 0.0), (4693, 0.05590169943749474), (4694, 0.0), (4695, 0.0), (4696, 0.0), (4697, 0.045643546458763846), (4698, 0.0), (4699, 0.0), (4700, 0.0), (4701, 0.03450327796711771), (4702, 0.0), (4703, 0.05423261445466404), (4704, 0.0408248290463863), (4705, 0.0), (4706, 0.0), (4707, 0.049999999999999996), (4708, 0.0), (4709, 0.0), (4710, 0.0), (4711, 0.0), (4712, 0.0), (4713, 0.0), (4714, 0.0), (4715, 0.0), (4716, 0.0), (4717, 0.0), (4718, 0.0), (4719, 0.0), (4720, 0.0), (4721, 0.0), (4722, 0.049999999999999996), (4723, 0.04879500364742666), (4724, 0.0), (4725, 0.0), (4726, 0.0), (4727, 0.0), (4728, 0.0), (4729, 0.0), (4730, 0.05590169943749474), (4731, 0.0), (4732, 0.0512989176042577), (4733, 0.19999999999999998), (4734, 0.05423261445466404), (4735, 0.04879500364742666), (4736, 0.0), (4737, 0.0), (4738, 0.04879500364742666), (4739, 0.0), (4740, 0.0), (4741, 0.0), (4742, 0.0), (4743, 0.0), (4744, 0.0), (4745, 0.0), (4746, 0.0), (4747, 0.0), (4748, 0.04879500364742666), (4749, 0.0), (4750, 0.0), (4751, 0.0), (4752, 0.0), (4753, 0.0512989176042577), (4754, 0.0), (4755, 0.0), (4756, 0.09999999999999999), (4757, 0.0), (4758, 0.04662524041201569), (4759, 0.0), (4760, 0.0), (4761, 0.0), (4762, 0.0), (4763, 0.0), (4764, 0.05590169943749474), (4765, 0.0), (4766, 0.0), (4767, 0.05423261445466404), (4768, 0.0), (4769, 0.06454972243679029), (4770, 0.0), (4771, 0.0), (4772, 0.045643546458763846), (4773, 0.0), (4774, 0.0), (4775, 0.0), (4776, 0.0), (4777, 0.0), (4778, 0.09759000729485331), (4779, 0.0), (4780, 0.11952286093343936), (4781, 0.0), (4782, 0.0), (4783, 0.05773502691896257), (4784, 0.0), (4785, 0.0), (4786, 0.0), (4787, 0.049999999999999996), (4788, 0.18650096164806276), (4789, 0.0512989176042577), (4790, 0.0), (4791, 0.0), (4792, 0.09325048082403138), (4793, 0.0), (4794, 0.05773502691896257), (4795, 0.0), (4796, 0.0408248290463863), (4797, 0.09999999999999999), (4798, 0.08770580193070293), (4799, 0.0), (4800, 0.0), (4801, 0.0), (4802, 0.0)]\n"
     ]
    }
   ],
   "source": [
    "print(similar_movies)"
   ]
  },
  {
   "cell_type": "markdown",
   "metadata": {},
   "source": [
    "### Question\n",
    "\n",
    "If you print the index of Pulp Fiction, what will be the value of y in (index, y) in similar_movies? Makes sense? Right?"
   ]
  },
  {
   "cell_type": "code",
   "execution_count": 73,
   "metadata": {},
   "outputs": [
    {
     "name": "stdout",
     "output_type": "stream",
     "text": [
      "3232\n"
     ]
    }
   ],
   "source": [
    "print(movie_index)"
   ]
  },
  {
   "cell_type": "markdown",
   "metadata": {},
   "source": [
    "### 3.4 Sort and print Top 9 similar movies\n",
    "\n",
    "We will sort the list similar_movies according to similarity scores in descending order. Since the most similar movie to a given movie will be itself, we will discard the first element after sorting the movies."
   ]
  },
  {
   "cell_type": "code",
   "execution_count": 74,
   "metadata": {},
   "outputs": [],
   "source": [
    "sorted_similar_movies = sorted(similar_movies,key=lambda x:x[1],reverse=True)[1:]"
   ]
  },
  {
   "cell_type": "code",
   "execution_count": 75,
   "metadata": {},
   "outputs": [
    {
     "name": "stdout",
     "output_type": "stream",
     "text": [
      "Top 9 similar movies to Pulp Fiction are:\n",
      "\n",
      "Basic\n",
      "Die Hard: With a Vengeance\n",
      "Shaft\n",
      "Con Air\n",
      "Surrogates\n",
      "Unbreakable\n",
      "Kill Bill: Vol. 2\n",
      "Kill Bill: Vol. 1\n",
      "Jackie Brown\n"
     ]
    }
   ],
   "source": [
    "i = 0\n",
    "print(\"Top 9 similar movies to \" + movie_user_likes + \" are:\\n\")\n",
    "for element in sorted_similar_movies:\n",
    "    print(get_title_from_index(element[0]))\n",
    "    i = i + 1\n",
    "    if i > 8:\n",
    "        break"
   ]
  },
  {
   "cell_type": "markdown",
   "metadata": {},
   "source": [
    "You can compare your results with the collaborative filtering based recommendation engine from Google. 4/9. Mmm, not bad.\n",
    "\n",
    "<img src=\"./resources/pulp.png\"/>"
   ]
  },
  {
   "cell_type": "markdown",
   "metadata": {},
   "source": [
    "Maybe you can try to find similar movies for some other movie you like."
   ]
  }
 ],
 "metadata": {
  "kernelspec": {
   "display_name": "Python 3.10.6 ('ML_env': venv)",
   "language": "python",
   "name": "python3"
  },
  "language_info": {
   "codemirror_mode": {
    "name": "ipython",
    "version": 3
   },
   "file_extension": ".py",
   "mimetype": "text/x-python",
   "name": "python",
   "nbconvert_exporter": "python",
   "pygments_lexer": "ipython3",
   "version": "3.8.8"
  },
  "vscode": {
   "interpreter": {
    "hash": "3762fa38335283772957b8ad4850e1d344741e862c3aa7ec1c26d17780db6975"
   }
  }
 },
 "nbformat": 4,
 "nbformat_minor": 2
}
