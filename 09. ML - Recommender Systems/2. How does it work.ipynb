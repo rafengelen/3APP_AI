{
 "cells": [
  {
   "cell_type": "markdown",
   "metadata": {},
   "source": [
    "# How does it work?\n",
    "\n",
    "Have you ever wondered how Netflix suggests movies to you based on the movies you have already watched? Or how does an e-commerce website display options such as \"Frequently Bought Together\"? They may look relatively simple options but behind the scenes, a *complex* statistical algorithm executes in order to predict these recommendations. Such systems are called Recommender Systems, Recommendation Systems, or Recommendation Engines. A Recommender System is one of the most famous applications of data science and machine learning.\n",
    "\n",
    "Watch the video *recommender.webm* (it's in the resources) (from 0:00 till 4:33) to see the different ways to build a recommendation engine.\n",
    "\n",
    "<img src=\"./resources/video1.png\" width=\"400\">"
   ]
  },
  {
   "cell_type": "markdown",
   "metadata": {},
   "source": [
    "## 1. Three types of recommender systems\n",
    "\n",
    "### 1.1 Popularity based recommendation engine\n",
    "\n",
    "Perhaps, this is the simplest kind of recommendation engine that you will come across. Maybe it is not even a real recommender system. The trending list you see in YouTube or Netflix is based on this algorithm. It keeps track of view counts for each movie/video and then lists movies based on views in descending order (highest view count to lowest view count). Pretty simple, but effective."
   ]
  },
  {
   "cell_type": "markdown",
   "metadata": {},
   "source": [
    "### 1.2 Content based recommendation engine\n",
    "\n",
    "This type of recommendation systems, takes in a movie that a user currently likes as input. Then it analyzes the contents (storyline, genre, cast, director etc.) of the movie to find out other movies which have similar content, based on those **features**. Then it ranks similar movies according to their similarity scores and recommends the most relevant movies to the user."
   ]
  },
  {
   "cell_type": "markdown",
   "metadata": {},
   "source": [
    "### 1.3 Collaborative filtering based recommendation engine\n",
    "\n",
    "This algorithm at first tries to find similar users <(or similar items) based on their activities and preferences, their interactions. For example, both the users watch the same movies, and give those movies very similar scores. \n",
    "\n",
    "Based on their interaction with the same movies, and their similarity in scoring, these users will be grouped together. \n",
    "\n",
    "Now, for recommending a new movie: if user A has seen a movie that user B has not seen yet, and user A really likes that movie, then that movie gets recommended to user B and vice-versa. In other words, the recommendations get filtered based on the collaboration between similar users' preferences (thus, the name *Collaborative Filtering*). \n",
    "\n",
    "The collaboration, or interaction, is needed to group similar users (or similar items) together. The difference with content based recommendation is that the grouping of users (or items) is based upon the interaction, where in content based the grouping is based on the features of the item itself (storyline, genre, cast,...).\n",
    "\n",
    "<img src=\"./resources/whatitis.png\" style=\"height: 300px\"/>"
   ]
  },
  {
   "cell_type": "markdown",
   "metadata": {},
   "source": [
    "## 2. Question\n",
    "\n",
    "Name at least four companies who use recommender systems intensively and what are the *items* they recommend?"
   ]
  },
  {
   "cell_type": "code",
   "execution_count": null,
   "metadata": {},
   "outputs": [],
   "source": [
    "# company -> recommends\n",
    "# \n",
    "#\n",
    "#\n",
    "#"
   ]
  },
  {
   "cell_type": "markdown",
   "metadata": {},
   "source": [
    "## 3. Content-Based recommender systems\n",
    "\n",
    "Let's dive deeper into content-based recommender systems by watching the video below. Watch the video *contentbased.webm* (it's in the resources).\n",
    "\n",
    "<img src=\"./resources/video2.png\" width=\"400\">"
   ]
  },
  {
   "cell_type": "markdown",
   "metadata": {},
   "source": [
    "## 4. Exercise - What movie should we recommend?\n",
    "\n",
    "Consider following movies: The Lord of the Rings, The Godfather, The Dark Knight, Star Wars, Pulp Fiction and One Flew Over the Cuckoo's Nest .\n",
    "\n",
    "Which movie should we recommend to this user based on the ratings of earlier seen movies? Compute the Recommendation Matrix and select the movie with the highest score.\n",
    "    \n",
    "<img src=\"./resources/begin2.png\" style=\"height: 400px\" /> "
   ]
  },
  {
   "cell_type": "markdown",
   "metadata": {},
   "source": [
    "### 4.1 User profile\n",
    "\n",
    "The first step in content-based systems is to determine the user profile based on the ratings of earlier seen movies:\n",
    "    \n",
    "<img src=\"./resources/userprofile2.png\" style=\"height: 400px\" /> "
   ]
  },
  {
   "cell_type": "code",
   "execution_count": null,
   "metadata": {},
   "outputs": [],
   "source": [
    "# Input User Ratings | Movies Matrix | Weighted Genre Matrix\n",
    "# \n",
    "# \n",
    "# \n",
    "\n",
    "# User Profile: \n",
    "# Normalized User Profile:"
   ]
  },
  {
   "cell_type": "markdown",
   "metadata": {},
   "source": [
    "### 4.2 Recommendation matrix\n",
    "\n",
    "The next step is finding the most suitable movie via the recommendation matrix:\n",
    "    \n",
    "<img src=\"./resources/recommendationmatrix2.png\" style=\"height: 400px\" /> "
   ]
  },
  {
   "cell_type": "code",
   "execution_count": null,
   "metadata": {},
   "outputs": [],
   "source": [
    "# Normalized User Profile: \n",
    "\n",
    "# Movies Matrix | Weighted Genre Matrix | Recommendation Matrix\n",
    "# \n",
    "# \n",
    "# \n",
    "\n",
    "# Which movie? "
   ]
  },
  {
   "cell_type": "markdown",
   "metadata": {},
   "source": [
    "## 5. Collaborative Filtering\n",
    "\n",
    "Our last video explains collaborative filtering. Watch the video *collaborative.webm* (it's in the resources).\n",
    "\n",
    "<img src=\"./resources/video3.png\" width=\"400\">"
   ]
  },
  {
   "cell_type": "markdown",
   "metadata": {},
   "source": [
    "## 6. Collaborative Filtering: two approaches\n",
    "\n",
    "<img src=\"./resources/collaborative.png\"  /> "
   ]
  },
  {
   "cell_type": "markdown",
   "metadata": {},
   "source": [
    "## 7. Exercise - What movie should we recommend?\n",
    "\n",
    "Which movie should we recommend to the last user based on the ratings matrix and similarity weights? Compute the Recommendation Matrix and select the movie with the highest score.\n",
    "    \n",
    "<img src=\"./resources/oefbegin.png\" style=\"height: 300px\" /> "
   ]
  },
  {
   "cell_type": "markdown",
   "metadata": {},
   "source": [
    "### Recommendation Matrix\n",
    "<img src=\"./resources/oefuit.png\" style=\"height: 500px\" /> "
   ]
  },
  {
   "cell_type": "code",
   "execution_count": null,
   "metadata": {},
   "outputs": [],
   "source": [
    "# Ratings Matrix Subset | Similarity Matrix | Weighted Ratings Matrix\n",
    "# \n",
    "# \n",
    "# \n",
    "\n",
    "# Ratings & Weight Matrix | Recommendation Matrix\n",
    "# \n",
    "#      \n",
    "\n",
    "# Which movie?"
   ]
  },
  {
   "cell_type": "markdown",
   "metadata": {},
   "source": [
    "## 8. Question\n",
    "\n",
    "Below you will find three challenges of collaborative filtering. Can you explain them?"
   ]
  },
  {
   "cell_type": "code",
   "execution_count": null,
   "metadata": {},
   "outputs": [],
   "source": [
    "# \n",
    "#\n",
    "#"
   ]
  }
 ],
 "metadata": {
  "kernelspec": {
   "display_name": "Python 3.10.6 ('ML_env': venv)",
   "language": "python",
   "name": "python3"
  },
  "language_info": {
   "codemirror_mode": {
    "name": "ipython",
    "version": 3
   },
   "file_extension": ".py",
   "mimetype": "text/x-python",
   "name": "python",
   "nbconvert_exporter": "python",
   "pygments_lexer": "ipython3",
   "version": "3.10.6"
  },
  "vscode": {
   "interpreter": {
    "hash": "3762fa38335283772957b8ad4850e1d344741e862c3aa7ec1c26d17780db6975"
   }
  }
 },
 "nbformat": 4,
 "nbformat_minor": 2
}
