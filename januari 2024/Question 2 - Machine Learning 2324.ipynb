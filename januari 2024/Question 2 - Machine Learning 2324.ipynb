{
 "cells": [
  {
   "cell_type": "markdown",
   "metadata": {},
   "source": [
    "Fill in\n",
    "\n",
    "- __FULL NAME__: Raf Engelen\n",
    "- __STUDENT NUMBER__:  r0901812\n",
    "- __CLASS__: 3APP1\n",
    "\n",
    "\n",
    "# Practical 2: Machine Learning - Decision Trees & Linear Regression\n",
    "# Score: ... /6\n",
    "\n",
    "In the resources-folder you will find a csv-file 'patient_data.csv', containing patient data, and wether or not the patient has a postive or a negative outcome. \n",
    "\n",
    "Code the cells below."
   ]
  },
  {
   "cell_type": "code",
   "execution_count": 100,
   "metadata": {},
   "outputs": [],
   "source": [
    "# place all your necessary imports in this cell\n",
    "\n",
    "import numpy as np\n",
    "import pandas as pd\n",
    "from sklearn.linear_model import LinearRegression\n",
    "from sklearn import metrics\n",
    "import category_encoders as ce\n",
    "from sklearn.model_selection import train_test_split\n",
    "from sklearn.tree import DecisionTreeClassifier\n",
    "import matplotlib.pyplot as plt"
   ]
  },
  {
   "cell_type": "markdown",
   "metadata": {},
   "source": [
    "# A. EDA (Exploratory Data Analysis) \n",
    "\n",
    "Use *pandas* to read in the file, making sure you read in the first column as the index, otherwise you'll have an Unnamed column. \n",
    "And print the first 5 rows."
   ]
  },
  {
   "cell_type": "code",
   "execution_count": 22,
   "metadata": {},
   "outputs": [
    {
     "data": {
      "text/html": [
       "<div>\n",
       "<style scoped>\n",
       "    .dataframe tbody tr th:only-of-type {\n",
       "        vertical-align: middle;\n",
       "    }\n",
       "\n",
       "    .dataframe tbody tr th {\n",
       "        vertical-align: top;\n",
       "    }\n",
       "\n",
       "    .dataframe thead th {\n",
       "        text-align: right;\n",
       "    }\n",
       "</style>\n",
       "<table border=\"1\" class=\"dataframe\">\n",
       "  <thead>\n",
       "    <tr style=\"text-align: right;\">\n",
       "      <th></th>\n",
       "      <th>Disease</th>\n",
       "      <th>Fever</th>\n",
       "      <th>Cough</th>\n",
       "      <th>Fatigue</th>\n",
       "      <th>Difficulty Breathing</th>\n",
       "      <th>Age</th>\n",
       "      <th>Gender</th>\n",
       "      <th>Blood Pressure</th>\n",
       "      <th>Cholesterol</th>\n",
       "      <th>Outcome</th>\n",
       "    </tr>\n",
       "  </thead>\n",
       "  <tbody>\n",
       "    <tr>\n",
       "      <th>0</th>\n",
       "      <td>Influenza</td>\n",
       "      <td>Yes</td>\n",
       "      <td>No</td>\n",
       "      <td>Yes</td>\n",
       "      <td>Yes</td>\n",
       "      <td>19</td>\n",
       "      <td>Female</td>\n",
       "      <td>Low</td>\n",
       "      <td>183</td>\n",
       "      <td>Positive</td>\n",
       "    </tr>\n",
       "    <tr>\n",
       "      <th>1</th>\n",
       "      <td>Common Cold</td>\n",
       "      <td>No</td>\n",
       "      <td>Yes</td>\n",
       "      <td>Yes</td>\n",
       "      <td>No</td>\n",
       "      <td>25</td>\n",
       "      <td>Female</td>\n",
       "      <td>Normal</td>\n",
       "      <td>126</td>\n",
       "      <td>Negative</td>\n",
       "    </tr>\n",
       "    <tr>\n",
       "      <th>2</th>\n",
       "      <td>Eczema</td>\n",
       "      <td>No</td>\n",
       "      <td>Yes</td>\n",
       "      <td>Yes</td>\n",
       "      <td>No</td>\n",
       "      <td>25</td>\n",
       "      <td>Female</td>\n",
       "      <td>Normal</td>\n",
       "      <td>143</td>\n",
       "      <td>Negative</td>\n",
       "    </tr>\n",
       "    <tr>\n",
       "      <th>3</th>\n",
       "      <td>Asthma</td>\n",
       "      <td>Yes</td>\n",
       "      <td>Yes</td>\n",
       "      <td>No</td>\n",
       "      <td>Yes</td>\n",
       "      <td>25</td>\n",
       "      <td>Male</td>\n",
       "      <td>Normal</td>\n",
       "      <td>194</td>\n",
       "      <td>Positive</td>\n",
       "    </tr>\n",
       "    <tr>\n",
       "      <th>4</th>\n",
       "      <td>Asthma</td>\n",
       "      <td>Yes</td>\n",
       "      <td>Yes</td>\n",
       "      <td>No</td>\n",
       "      <td>Yes</td>\n",
       "      <td>25</td>\n",
       "      <td>Male</td>\n",
       "      <td>Normal</td>\n",
       "      <td>140</td>\n",
       "      <td>Positive</td>\n",
       "    </tr>\n",
       "    <tr>\n",
       "      <th>...</th>\n",
       "      <td>...</td>\n",
       "      <td>...</td>\n",
       "      <td>...</td>\n",
       "      <td>...</td>\n",
       "      <td>...</td>\n",
       "      <td>...</td>\n",
       "      <td>...</td>\n",
       "      <td>...</td>\n",
       "      <td>...</td>\n",
       "      <td>...</td>\n",
       "    </tr>\n",
       "    <tr>\n",
       "      <th>344</th>\n",
       "      <td>Stroke</td>\n",
       "      <td>Yes</td>\n",
       "      <td>No</td>\n",
       "      <td>Yes</td>\n",
       "      <td>No</td>\n",
       "      <td>80</td>\n",
       "      <td>Female</td>\n",
       "      <td>High</td>\n",
       "      <td>337</td>\n",
       "      <td>Positive</td>\n",
       "    </tr>\n",
       "    <tr>\n",
       "      <th>345</th>\n",
       "      <td>Stroke</td>\n",
       "      <td>Yes</td>\n",
       "      <td>No</td>\n",
       "      <td>Yes</td>\n",
       "      <td>No</td>\n",
       "      <td>85</td>\n",
       "      <td>Male</td>\n",
       "      <td>High</td>\n",
       "      <td>316</td>\n",
       "      <td>Positive</td>\n",
       "    </tr>\n",
       "    <tr>\n",
       "      <th>346</th>\n",
       "      <td>Stroke</td>\n",
       "      <td>Yes</td>\n",
       "      <td>No</td>\n",
       "      <td>Yes</td>\n",
       "      <td>No</td>\n",
       "      <td>85</td>\n",
       "      <td>Male</td>\n",
       "      <td>High</td>\n",
       "      <td>253</td>\n",
       "      <td>Positive</td>\n",
       "    </tr>\n",
       "    <tr>\n",
       "      <th>347</th>\n",
       "      <td>Stroke</td>\n",
       "      <td>Yes</td>\n",
       "      <td>No</td>\n",
       "      <td>Yes</td>\n",
       "      <td>No</td>\n",
       "      <td>90</td>\n",
       "      <td>Female</td>\n",
       "      <td>High</td>\n",
       "      <td>319</td>\n",
       "      <td>Positive</td>\n",
       "    </tr>\n",
       "    <tr>\n",
       "      <th>348</th>\n",
       "      <td>Stroke</td>\n",
       "      <td>Yes</td>\n",
       "      <td>No</td>\n",
       "      <td>Yes</td>\n",
       "      <td>No</td>\n",
       "      <td>90</td>\n",
       "      <td>Female</td>\n",
       "      <td>High</td>\n",
       "      <td>272</td>\n",
       "      <td>Positive</td>\n",
       "    </tr>\n",
       "  </tbody>\n",
       "</table>\n",
       "<p>349 rows × 10 columns</p>\n",
       "</div>"
      ],
      "text/plain": [
       "         Disease Fever Cough Fatigue Difficulty Breathing  Age  Gender  \\\n",
       "0      Influenza   Yes    No     Yes                  Yes   19  Female   \n",
       "1    Common Cold    No   Yes     Yes                   No   25  Female   \n",
       "2         Eczema    No   Yes     Yes                   No   25  Female   \n",
       "3         Asthma   Yes   Yes      No                  Yes   25    Male   \n",
       "4         Asthma   Yes   Yes      No                  Yes   25    Male   \n",
       "..           ...   ...   ...     ...                  ...  ...     ...   \n",
       "344       Stroke   Yes    No     Yes                   No   80  Female   \n",
       "345       Stroke   Yes    No     Yes                   No   85    Male   \n",
       "346       Stroke   Yes    No     Yes                   No   85    Male   \n",
       "347       Stroke   Yes    No     Yes                   No   90  Female   \n",
       "348       Stroke   Yes    No     Yes                   No   90  Female   \n",
       "\n",
       "    Blood Pressure  Cholesterol   Outcome  \n",
       "0              Low          183  Positive  \n",
       "1           Normal          126  Negative  \n",
       "2           Normal          143  Negative  \n",
       "3           Normal          194  Positive  \n",
       "4           Normal          140  Positive  \n",
       "..             ...          ...       ...  \n",
       "344           High          337  Positive  \n",
       "345           High          316  Positive  \n",
       "346           High          253  Positive  \n",
       "347           High          319  Positive  \n",
       "348           High          272  Positive  \n",
       "\n",
       "[349 rows x 10 columns]"
      ]
     },
     "execution_count": 22,
     "metadata": {},
     "output_type": "execute_result"
    }
   ],
   "source": [
    "# use this cell to read in the csv file via pandas\n",
    "patient_df=pd.read_csv('./resources/patient_data.csv', index_col=0)\n",
    "patient_df\n"
   ]
  },
  {
   "cell_type": "markdown",
   "metadata": {},
   "source": [
    "Print the statistical details of the dataset, including also the non-numerical columns. "
   ]
  },
  {
   "cell_type": "code",
   "execution_count": 23,
   "metadata": {},
   "outputs": [
    {
     "name": "stdout",
     "output_type": "stream",
     "text": [
      "              Age  Cholesterol\n",
      "count  349.000000   349.000000\n",
      "mean    46.323782   220.896848\n",
      "std     13.085090    77.054621\n",
      "min     19.000000    50.000000\n",
      "25%     35.000000   159.000000\n",
      "50%     45.000000   227.000000\n",
      "75%     55.000000   291.000000\n",
      "max     90.000000   340.000000\n",
      "\n",
      "Null values:\n",
      "Disease                 0\n",
      "Fever                   0\n",
      "Cough                   0\n",
      "Fatigue                 0\n",
      "Difficulty Breathing    0\n",
      "Age                     0\n",
      "Gender                  0\n",
      "Blood Pressure          0\n",
      "Cholesterol             0\n",
      "Outcome                 0\n",
      "dtype: int64\n"
     ]
    }
   ],
   "source": [
    "# use this cell to print all statistical details of the dataset\n",
    "print(patient_df.describe())\n",
    "print(\"\\nNull values:\")\n",
    "print(patient_df.isna().sum())\n"
   ]
  },
  {
   "cell_type": "markdown",
   "metadata": {},
   "source": [
    "# B. Data Encoding\n",
    "\n",
    "Since a couple of our features have non-numerical, categorical, values, we first have to encode them into a numerical format. Use ordered numbers (1,2,3,...) to replace the different categorical values."
   ]
  },
  {
   "cell_type": "code",
   "execution_count": 68,
   "metadata": {},
   "outputs": [],
   "source": [
    "ce_ord_DT = ce.OrdinalEncoder(cols = ['Fever','Cough','Fatigue'])\n",
    "ce_ord_LR = ce.OrdinalEncoder(cols = ['Fever', 'Cough', 'Fatigue','Blood Pressure'])\n"
   ]
  },
  {
   "cell_type": "markdown",
   "metadata": {},
   "source": [
    "# C. Data Splicing \n",
    "\n",
    "We're going to splice our encoded dataset, to create a dataset for our **Decision Tree (X_DT, y_DT)**, and another splice to create a dataset for our **Linear Regression model (X_LR, y_LR)**.\n",
    "\n",
    "**Decision Tree Splice**:\n",
    "\n",
    "X_DT: use the following features: \n",
    "- 'Fever'\n",
    "- 'Cough'\n",
    "- 'Fatigue'\n",
    "- 'Age'. \n",
    "\n",
    "\n",
    "y_DT is 'Outcome'.\n",
    "\n",
    "\n",
    "\n",
    "**Linear Regression Splice**:\n",
    "\n",
    "X_LR: use the following features: \n",
    "- 'Fever'\n",
    "- 'Cough'\n",
    "- 'Fatigue'\n",
    "- 'Age'\n",
    "- 'Blood Pressure'\n",
    "\n",
    "\n",
    "y_LR is 'Cholesterol'.\n",
    "\n",
    "\n",
    "Each of these datasets also needs to be split up into a training and test set (70/30), with a random shuffling state of 0. "
   ]
  },
  {
   "cell_type": "code",
   "execution_count": 78,
   "metadata": {},
   "outputs": [
    {
     "name": "stdout",
     "output_type": "stream",
     "text": [
      "    Fever Cough Fatigue  Age Blood Pressure\n",
      "0     Yes    No     Yes   19            Low\n",
      "1      No   Yes     Yes   25         Normal\n",
      "2      No   Yes     Yes   25         Normal\n",
      "3     Yes   Yes      No   25         Normal\n",
      "4     Yes   Yes      No   25         Normal\n",
      "..    ...   ...     ...  ...            ...\n",
      "344   Yes    No     Yes   80           High\n",
      "345   Yes    No     Yes   85           High\n",
      "346   Yes    No     Yes   85           High\n",
      "347   Yes    No     Yes   90           High\n",
      "348   Yes    No     Yes   90           High\n",
      "\n",
      "[349 rows x 5 columns]\n"
     ]
    }
   ],
   "source": [
    "# Use this cell to select the appropiate independent values (X_DT, and X_LR)\n",
    "X_DT = patient_df[['Fever','Cough','Fatigue','Age']]\n",
    "\n",
    "X_LR = patient_df[['Fever','Cough','Fatigue','Age','Blood Pressure']]\n",
    "\n",
    "\n",
    "print(X_LR)"
   ]
  },
  {
   "cell_type": "code",
   "execution_count": 79,
   "metadata": {},
   "outputs": [],
   "source": [
    "# Use this cell to select 'Outcome' as the value to predict for the Decision Tree model (y_DT), and 'Cholesterol' as the value to predict for the linear regression model (y_LR)\n",
    "y_DT = patient_df['Outcome'].values\n",
    "y_LR = patient_df['Cholesterol'].values"
   ]
  },
  {
   "cell_type": "code",
   "execution_count": 80,
   "metadata": {},
   "outputs": [
    {
     "name": "stdout",
     "output_type": "stream",
     "text": [
      "    Fever Cough Fatigue  Age\n",
      "166    No   Yes     Yes   45\n",
      "287    No    No     Yes   60\n",
      "141   Yes   Yes     Yes   40\n",
      "81    Yes   Yes     Yes   35\n",
      "1      No   Yes     Yes   25\n",
      "..    ...   ...     ...  ...\n",
      "323    No    No     Yes   65\n",
      "192   Yes    No      No   45\n",
      "117    No    No     Yes   40\n",
      "47     No    No     Yes   30\n",
      "172   Yes    No      No   45\n",
      "\n",
      "[244 rows x 4 columns]\n"
     ]
    }
   ],
   "source": [
    "# Use this cell to splice your data into a training and test set, using a 70/30 split, and a random_state of 0\n",
    "# You should end up with a X_DT_train, X_DT_test, y_DT_train, y_DT_test, and a X_LR_train, X_LR_test, y_LR_train, y_LR_test\n",
    "\n",
    "X_DT_train, X_DT_test, y_DT_train, y_DT_test = train_test_split(X_DT, y_DT, test_size=0.3, random_state=0)\n",
    "X_LR_train, X_LR_test, y_LR_train, y_LR_test = train_test_split(X_LR, y_LR, test_size=0.3, random_state=0)\n",
    "print(X_DT_train)\n",
    "X_DT_train_ord = ce_ord_DT.fit_transform(X_DT_train)\n",
    "X_DT_test_ord = ce_ord_DT.fit_transform(X_DT_test)\n",
    "\n",
    "X_LR_train_ord = ce_ord_LR.fit_transform(X_LR_train)\n",
    "X_LR_test_ord = ce_ord_LR.fit_transform(X_LR_test)"
   ]
  },
  {
   "cell_type": "markdown",
   "metadata": {},
   "source": [
    "# D. Modeling\n",
    "\n",
    "Train a simple Decision Tree (based on the entropy criterion) on the X_DT (and y_DT) data, and a Linear Regression model on the X_LR (and y_LR) data.\n",
    "After which we'll predict on the test sets for both models."
   ]
  },
  {
   "cell_type": "code",
   "execution_count": 86,
   "metadata": {},
   "outputs": [
    {
     "name": "stdout",
     "output_type": "stream",
     "text": [
      "Intercept 148.2137788567434\n",
      "Coefficient [ -3.85647      5.15921427 -10.80339939   0.86868576  28.50959903]\n"
     ]
    }
   ],
   "source": [
    "# Use this cell to define and train your models\n",
    "#X_LR_train_cat\n",
    "model = LinearRegression()\n",
    "model.fit(X_LR_train_ord, y_LR_train) # training the model\n",
    "\n",
    "print('Intercept', model.intercept_) # intercept\n",
    "print('Coefficient', model.coef_) # slope\n",
    "\n",
    "#clf = DecisionTreeClassifier(criterion = \"entropy\")\n",
    "#clf = clf.fit(X_DT_train_ord, y_DT)\n"
   ]
  },
  {
   "cell_type": "code",
   "execution_count": 87,
   "metadata": {},
   "outputs": [],
   "source": [
    "# Use this cell to predict with your models\n",
    "y_pred = model.predict(X_LR_test_ord)\n"
   ]
  },
  {
   "cell_type": "markdown",
   "metadata": {},
   "source": [
    "# E. Check performance\n",
    "\n",
    "Calculate and print the accuracy score and confusion matrix for your classification model. \n",
    "\n",
    "For the regression model, calculate and print the root mean squared error (RMSE) and the R2 score."
   ]
  },
  {
   "cell_type": "code",
   "execution_count": 91,
   "metadata": {},
   "outputs": [
    {
     "name": "stdout",
     "output_type": "stream",
     "text": [
      "Root Mean Squared Error = 77.83\n",
      "R2 score = 0.04\n"
     ]
    }
   ],
   "source": [
    "# Use this cell to calculate (and print) the accuracy score and confusion matrix of the DT model\n",
    "\n",
    "\n"
   ]
  },
  {
   "cell_type": "code",
   "execution_count": 92,
   "metadata": {},
   "outputs": [
    {
     "name": "stdout",
     "output_type": "stream",
     "text": [
      "Root Mean Squared Error = 77.83\n",
      "R2 score = 0.04\n"
     ]
    }
   ],
   "source": [
    "# Use this cell to calculate (and print) the RMSE and R2 score of your LR model\n",
    "\n",
    "print(\"Root Mean Squared Error =\", round(np.sqrt(metrics.mean_squared_error(y_LR_test, y_pred)), 2))\n",
    "print(\"R2 score =\", round(metrics.r2_score(y_LR_test, y_pred), 2))"
   ]
  },
  {
   "cell_type": "markdown",
   "metadata": {},
   "source": [
    "# F. Visualisation Linear Regression Results\n",
    "\n",
    "Since our regression model, doesn't seem so great, we'll do a visual inspection of the results.\n",
    "We'll print out the actual and predicted values of the *Cholesterol* for the first 10 persons in our test set. Next, visualize these results (the comparison) using a bar graph."
   ]
  },
  {
   "cell_type": "code",
   "execution_count": 97,
   "metadata": {},
   "outputs": [
    {
     "name": "stdout",
     "output_type": "stream",
     "text": [
      "[188.93986668 227.82079451 200.34056998 221.79289449 247.85346717]\n",
      "[211 319  50 138 255]\n"
     ]
    }
   ],
   "source": [
    "# Use this cell to print out the first 5 actual and predicted values from your LR test set\n",
    "print(y_pred[:5])\n",
    "print(y_LR_test[:5])"
   ]
  },
  {
   "cell_type": "code",
   "execution_count": 101,
   "metadata": {},
   "outputs": [
    {
     "data": {
      "image/png": "[encoded data removed]",
      "text/plain": [
       "<Figure size 1600x1000 with 1 Axes>"
      ]
     },
     "metadata": {},
     "output_type": "display_data"
    }
   ],
   "source": [
    "# Use this cell to visualize the comparison of those first 5 predictions, using a bar chart      /3 points op output\n",
    "compare_df = pd.DataFrame({'Actual': y_LR_test.flatten(), 'Predicted': y_pred.flatten()})\n",
    "compare25_df = compare_df.head(5)\n",
    "compare25_df.plot(kind='bar', figsize=(16,10))\n",
    "plt.grid(linestyle=':', linewidth='0.25', color='black')\n",
    "plt.show()"
   ]
  }
 ],
 "metadata": {
  "interpreter": {
   "hash": "c08a785aed1577b06f29f69e469699a21017a37a0df371c0a8b6b69e5e25e3fc"
  },
  "kernelspec": {
   "display_name": "Python 3.9.4 64-bit",
   "name": "python3"
  },
  "language_info": {
   "codemirror_mode": {
    "name": "ipython",
    "version": 3
   },
   "file_extension": ".py",
   "mimetype": "text/x-python",
   "name": "python",
   "nbconvert_exporter": "python",
   "pygments_lexer": "ipython3",
   "version": "3.8.8"
  }
 },
 "nbformat": 4,
 "nbformat_minor": 4
}
