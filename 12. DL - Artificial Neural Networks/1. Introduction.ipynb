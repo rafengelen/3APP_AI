{
 "cells": [
  {
   "cell_type": "markdown",
   "metadata": {},
   "source": [
    "# Artificial Neural Networks (ANN)\n",
    "\n",
    "As the *neural* part of their name suggests, Artificial Neural Networks are brain-inspired systems which are intended to replicate the way that we humans learn. Neural networks consist of input and output layers, as well as (in most cases) a hidden layer consisting of units that transform the input into something that the output layer can use. Artificial Neural Networks  are excellent tools for finding patterns which are far too complex or numerous for a human programmer to extract and teach the machine to recognize.\n",
    "\n",
    "At the end of this lesson we will train a Neural Network model to classify images of clothing, like sneakers, trousers and shirts.\n",
    "\n",
    "## Zalando\n",
    "\n",
    "Fashion-MNIST is a dataset of Zalando's article images — consisting of a training set of 60,000 samples (observations) and a test set of 10,000 samples. Each one is a 28x28 grayscale image, associated with a label (10 different categories / classes). We will use the 60,000 images to train the network and the 10,000 images to evaluate how accurately the network learned to classify images (inferencing).\n",
    "\n",
    "<img src=\"./resources/fashion-mnist-sprite.png\"  style=\"height: 500px\"/>"
   ]
  }
 ],
 "metadata": {
  "kernelspec": {
   "display_name": "Python 3",
   "language": "python",
   "name": "python3"
  },
  "language_info": {
   "codemirror_mode": {
    "name": "ipython",
    "version": 3
   },
   "file_extension": ".py",
   "mimetype": "text/x-python",
   "name": "python",
   "nbconvert_exporter": "python",
   "pygments_lexer": "ipython3",
   "version": "3.7.3"
  }
 },
 "nbformat": 4,
 "nbformat_minor": 2
}
