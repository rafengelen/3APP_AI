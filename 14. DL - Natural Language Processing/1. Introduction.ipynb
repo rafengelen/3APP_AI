{
 "cells": [
  {
   "cell_type": "markdown",
   "metadata": {},
   "source": [
    "# Natural Language Processing\n",
    "\n",
    "Natural Language Processing (NLP) is the field of Artificial Intelligence concerned with the processing and understanding of human language. It is used extensively in search engines, conversational interfaces, document processors, and so on. Machines can handle structured data well. But when it comes to working with free-form text, they have a hard time. The goal of NLP is to develop algorithms that enable computers\n",
    "to understand free-form text and help them understand language. At the end of this Notebook we will use NLP to build a spam filter.\n",
    "\n",
    "## Spam or Ham\n",
    "\n",
    "Spam filtering is a classic example of a binary classification task familiar to anybody who has ever used email services. The task is to distinguish between two types of emails, \"spam\" and \"non-spam\" often called “ham”. The machine learning classifier we will build, will detect that an email is spam if it is characterised by certain features. The textual content of the email – words like \"Viagra\" or \"lottery\" or phrases like \"You’ve won a $100,000,000! Click here!\", \"Join now!\"– will be crucial in spam detection.\n",
    "\n",
    "<img src=\"./resources/spam.jpg\"  style=\"height: 500px\"/>"
   ]
  }
 ],
 "metadata": {
  "kernelspec": {
   "display_name": "Python 3.10.6 ('DL_env': venv)",
   "language": "python",
   "name": "python3"
  },
  "language_info": {
   "codemirror_mode": {
    "name": "ipython",
    "version": 3
   },
   "file_extension": ".py",
   "mimetype": "text/x-python",
   "name": "python",
   "nbconvert_exporter": "python",
   "pygments_lexer": "ipython3",
   "version": "3.10.6"
  },
  "vscode": {
   "interpreter": {
    "hash": "775b7576bf7a34da706ed620d7f0d2338b0743a1fe22363e0994f105195362b0"
   }
  }
 },
 "nbformat": 4,
 "nbformat_minor": 2
}
