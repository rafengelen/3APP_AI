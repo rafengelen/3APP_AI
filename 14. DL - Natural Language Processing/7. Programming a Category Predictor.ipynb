{
 "cells": [
  {
   "cell_type": "markdown",
   "metadata": {},
   "source": [
    "# Programming a Category Predictor\n",
    "\n",
    "A Category Predictor is used to predict the category to which a given piece of text belongs.\n",
    "This is frequently used in text classification to categorize text documents. Search engines for example\n",
    "frequently use this tool to order the search results by relevance.\n",
    "\n",
    "In order to build this predictor, we will use a statistic called *TermFrequency – Inverse\n",
    "Document Frequency (tf-idf)*. We will not get into detail but generally the tf-idf statistic helps us understand how important a given word is to a document in a set of documents.\n",
    "\n",
    "Simply put, the Term Frequency (tf) is basically a measure of how frequently each word appears in a given document. It is the number of times a word appears in a document divided by the total number of words in the document. Every document has its own term frequency. The second part of the statistic is the Inverse Document Frequency (idf), which is a measure of how unique a word is to this document in the given set of documents.\n",
    "\n",
    "<img src=\"./resources/tf-idf.png\"  style=\"height: 250px\"/>\n",
    "<img src=\"./resources/tf-idf2.png\"  style=\"height: 250px\"/>"
   ]
  },
  {
   "cell_type": "markdown",
   "metadata": {},
   "source": [
    "## 1. Import and download the data\n",
    "\n",
    "First import the following packages."
   ]
  },
  {
   "cell_type": "code",
   "execution_count": 2,
   "metadata": {},
   "outputs": [
    {
     "name": "stdout",
     "output_type": "stream",
     "text": [
      "Collecting scikit-learn\n",
      "  Using cached scikit_learn-1.1.2-cp310-cp310-win_amd64.whl (7.4 MB)\n",
      "Requirement already satisfied: scipy>=1.3.2 in c:\\users\\u0040810\\onedrive - thomas more\\ai project\\2022_2023\\dl_env\\lib\\site-packages (from scikit-learn) (1.9.2)\n",
      "Collecting threadpoolctl>=2.0.0\n",
      "  Using cached threadpoolctl-3.1.0-py3-none-any.whl (14 kB)\n",
      "Requirement already satisfied: numpy>=1.17.3 in c:\\users\\u0040810\\onedrive - thomas more\\ai project\\2022_2023\\dl_env\\lib\\site-packages (from scikit-learn) (1.23.4)\n",
      "Requirement already satisfied: joblib>=1.0.0 in c:\\users\\u0040810\\onedrive - thomas more\\ai project\\2022_2023\\dl_env\\lib\\site-packages (from scikit-learn) (1.2.0)\n",
      "Installing collected packages: threadpoolctl, scikit-learn\n",
      "Successfully installed scikit-learn-1.1.2 threadpoolctl-3.1.0\n",
      "Note: you may need to restart the kernel to use updated packages.\n"
     ]
    },
    {
     "name": "stderr",
     "output_type": "stream",
     "text": [
      "\n",
      "[notice] A new release of pip available: 22.2.1 -> 22.3\n",
      "[notice] To update, run: python.exe -m pip install --upgrade pip\n"
     ]
    }
   ],
   "source": [
    "pip install scikit-learn"
   ]
  },
  {
   "cell_type": "code",
   "execution_count": 3,
   "metadata": {},
   "outputs": [],
   "source": [
    "from sklearn.datasets import fetch_20newsgroups\n",
    "from sklearn.naive_bayes import MultinomialNB\n",
    "from sklearn.feature_extraction.text import TfidfTransformer\n",
    "from sklearn.feature_extraction.text import CountVectorizer"
   ]
  },
  {
   "cell_type": "markdown",
   "metadata": {},
   "source": [
    "We can use the `fetch_20newsgroups`-method to get a scikit-learn dataset with articles from 20 different newsgroups. Every article belongs to one of the following categories:\n",
    "\n",
    "```\n",
    "['alt.atheism',\n",
    " 'comp.graphics',\n",
    " 'comp.os.ms-windows.misc',\n",
    " 'comp.sys.ibm.pc.hardware',\n",
    " 'comp.sys.mac.hardware',\n",
    " 'comp.windows.x',\n",
    " 'misc.forsale',\n",
    " 'rec.autos',\n",
    " 'rec.motorcycles',\n",
    " 'rec.sport.baseball',\n",
    " 'rec.sport.hockey',\n",
    " 'sci.crypt',\n",
    " 'sci.electronics',\n",
    " 'sci.med',\n",
    " 'sci.space',\n",
    " 'soc.religion.christian',\n",
    " 'talk.politics.guns',\n",
    " 'talk.politics.mideast',\n",
    " 'talk.politics.misc',\n",
    " 'talk.religion.misc']\n",
    "```\n",
    "\n",
    "We define a map of categories that we will use for training. We will use seven categories from the list of 20. The keys in this dictionary object refer to the categories in the scikit-learn dataset. The values in the dictionary give us a more comprehensible description of the category."
   ]
  },
  {
   "cell_type": "code",
   "execution_count": 4,
   "metadata": {},
   "outputs": [],
   "source": [
    "# define the category map\n",
    "category_map = {'talk.politics.misc': 'Politics', 'rec.autos': 'Cars',\n",
    " 'rec.sport.hockey': 'Hockey', 'sci.electronics': 'Electronics',\n",
    " 'sci.med': 'Medicine', 'talk.politics.guns' : 'Guns', 'sci.space' : 'Space'}"
   ]
  },
  {
   "cell_type": "markdown",
   "metadata": {},
   "source": [
    "We can get the training dataset using the `fetch_20newsgroups`-method. You can find more information <a href=\"https://scikit-learn.org/stable/modules/generated/sklearn.datasets.fetch_20newsgroups.html\">here</a>."
   ]
  },
  {
   "cell_type": "code",
   "execution_count": 5,
   "metadata": {},
   "outputs": [],
   "source": [
    "# get the training dataset\n",
    "training_data = fetch_20newsgroups(subset='train', categories=category_map.keys(), shuffle=True, random_state=5)"
   ]
  },
  {
   "cell_type": "markdown",
   "metadata": {},
   "source": [
    "## 2. Explore the data\n",
    "\n",
    "The function returns a bunch object with the following attributes:\n",
    "\n",
    "- bunch.data: list, length [n_samples]\n",
    "- bunch.target: array, shape [n_samples]\n",
    "- bunch.filenames: list, length [n_samples]\n",
    "- bunch.DESCR: a description of the dataset.\n",
    "- bunch.target_names: a list of categories of the returned data, length [n_classes]. This depends on the categories parameter.\n",
    "\n",
    "So you can display a list of categories of the returned data as follows:"
   ]
  },
  {
   "cell_type": "code",
   "execution_count": 6,
   "metadata": {},
   "outputs": [
    {
     "name": "stdout",
     "output_type": "stream",
     "text": [
      "['rec.autos', 'rec.sport.hockey', 'sci.electronics', 'sci.med', 'sci.space', 'talk.politics.guns', 'talk.politics.misc']\n"
     ]
    }
   ],
   "source": [
    "print(training_data.target_names)"
   ]
  },
  {
   "cell_type": "markdown",
   "metadata": {},
   "source": [
    "The category of the first article can be found as follows:"
   ]
  },
  {
   "cell_type": "code",
   "execution_count": 7,
   "metadata": {},
   "outputs": [
    {
     "name": "stdout",
     "output_type": "stream",
     "text": [
      "4\n"
     ]
    }
   ],
   "source": [
    "print(training_data.target[0])"
   ]
  },
  {
   "cell_type": "markdown",
   "metadata": {},
   "source": [
    "So the first article belongs to:"
   ]
  },
  {
   "cell_type": "code",
   "execution_count": 8,
   "metadata": {},
   "outputs": [
    {
     "name": "stdout",
     "output_type": "stream",
     "text": [
      "sci.space\n"
     ]
    }
   ],
   "source": [
    "print(training_data.target_names[training_data.target[0]])"
   ]
  },
  {
   "cell_type": "markdown",
   "metadata": {},
   "source": [
    "Let's check this by printing the article itself:"
   ]
  },
  {
   "cell_type": "code",
   "execution_count": 9,
   "metadata": {},
   "outputs": [
    {
     "name": "stdout",
     "output_type": "stream",
     "text": [
      "From: aws@iti.org (Allen W. Sherzer)\n",
      "Subject: Re: Alaska Pipeline and Space Station!\n",
      "Organization: Evil Geniuses for a Better Tomorrow\n",
      "Lines: 20\n",
      "\n",
      "In article <1993Apr5.160550.7592@mksol.dseg.ti.com> mccall@mksol.dseg.ti.com (fred j mccall 575-3539) writes:\n",
      "\n",
      ">>Why can't the government just be a tennant?\n",
      "\n",
      ">I think this would be a great way to build it, but unfortunately\n",
      ">current spending rules don't permit it to be workable. \n",
      "\n",
      "Actually, that is no longer true. In the last few years Congress has\n",
      "ammended laws to provide whatever is needed. Note that both Spacehab\n",
      "and Comet are funded this way.\n",
      "\n",
      "The problems aren't legal nor technical. The problem is NASA's culture.\n",
      "\n",
      "  Allen\n",
      "\n",
      "-- \n",
      "+---------------------------------------------------------------------------+\n",
      "| Allen W. Sherzer | \"A great man is one who does nothing but leaves        |\n",
      "|  aws@iti.org     |  nothing undone\"                                       |\n",
      "+----------------------71 DAYS TO FIRST FLIGHT OF DCX-----------------------+\n",
      "\n"
     ]
    }
   ],
   "source": [
    "print(training_data.data[0])"
   ]
  },
  {
   "cell_type": "markdown",
   "metadata": {},
   "source": [
    "We can alse print the number of articles."
   ]
  },
  {
   "cell_type": "code",
   "execution_count": 10,
   "metadata": {},
   "outputs": [
    {
     "name": "stdout",
     "output_type": "stream",
     "text": [
      "3983\n"
     ]
    }
   ],
   "source": [
    "print(len(training_data.data))"
   ]
  },
  {
   "cell_type": "markdown",
   "metadata": {},
   "source": [
    "### Exercise\n",
    "\n",
    "Print the first 10 articles together with the category."
   ]
  },
  {
   "cell_type": "code",
   "execution_count": null,
   "metadata": {},
   "outputs": [],
   "source": [
    "\n"
   ]
  },
  {
   "cell_type": "markdown",
   "metadata": {},
   "source": [
    "## 3. Create and train the classifier\n",
    "\n",
    "We build a count vectorizer and extract term counts (we already did this in the lesson about *Content Based Recommender Systems*, more information can be found there)."
   ]
  },
  {
   "cell_type": "code",
   "execution_count": 11,
   "metadata": {},
   "outputs": [
    {
     "name": "stdout",
     "output_type": "stream",
     "text": [
      "\n",
      "Dimensions of training data: (3983, 53448)\n"
     ]
    }
   ],
   "source": [
    "# build a count vectorizer and extract term counts\n",
    "count_vectorizer = CountVectorizer()\n",
    "train_tc = count_vectorizer.fit_transform(training_data.data)\n",
    "print(\"\\nDimensions of training data:\", train_tc.shape)"
   ]
  },
  {
   "cell_type": "markdown",
   "metadata": {},
   "source": [
    "As you can see above there are 3,983 articles containing 53,448 different words.\n",
    "\n",
    "Next, create a Term Frequency – Inverse Document Frequency (tf-idf) transformer and train it using the train data. As mentioned earlier you don't need to understand the details about the classifier."
   ]
  },
  {
   "cell_type": "code",
   "execution_count": 12,
   "metadata": {
    "scrolled": true
   },
   "outputs": [],
   "source": [
    "# create the tf-idf transformer\n",
    "tfidf = TfidfTransformer()\n",
    "train_tfidf = tfidf.fit_transform(train_tc)"
   ]
  },
  {
   "cell_type": "markdown",
   "metadata": {},
   "source": [
    "Finally train a (Multinomial) Naive Bayes classifier using the training data (scikit learn has multiple different versiosn of Naive Bayes, but the Multinomial is the one we want, due to the tf-idf. More info: https://scikit-learn.org/stable/modules/generated/sklearn.naive_bayes.MultinomialNB.html?highlight=naive+bayes):"
   ]
  },
  {
   "cell_type": "code",
   "execution_count": 13,
   "metadata": {},
   "outputs": [],
   "source": [
    "# train a Multinomial Naive Bayes classifier\n",
    "classifier = MultinomialNB().fit(train_tfidf, training_data.target)"
   ]
  },
  {
   "cell_type": "markdown",
   "metadata": {},
   "source": [
    "## 4. Convert the test data to the right format\n",
    "\n",
    "Let's define some sample articles (from Wikipedia and some newspaper sites) that will be used for testing. We need to transform them in the same manner so they can be used for testing with the classifier."
   ]
  },
  {
   "cell_type": "code",
   "execution_count": 23,
   "metadata": {},
   "outputs": [],
   "source": [
    "# define test data \n",
    "input_data = [\n",
    "    'Electronic circuits usually use direct current sources. The load of an electronic circuit may be as simple as a few resistors, capacitors, and a lamp, all connected together to create the flash in a camera. Or an electronic circuit can be complicated, connecting thousands of resistors, capacitors, and transistors. It may be an integrated circuit such as the microprocessor in a computer. Resistors and other circuit elements can be connected in series or in parallel. Resistance in series circuits is the sum of the resistance.',\n",
    "    'Van Doren became European champions with the Belgium under-21 squad in 2012. His first selection for the national team was at the age of 17.[8] With Belgium, he became European vice-champion at the 2013 European Championship on home ground in Boom and at the 2017 European Championship in Amstelveen, Netherlands. He was a part of the Belgian squad which won the silver medal at the 2016 Summer Olympics. In 2016 he won the FIH Rising Star of the Year award, which he won again in 2017 together with the FIH Player of the Year award. He was a part of the Belgian squad which won Belgium its first World Cup and European title.',\n",
    "    'NRA stands for National Rifle Association. The group was founded in 1871 as a recreational group designed to \"promote and encourage rifle shooting on a scientific basis\". The NRA s path into political lobbying began in 1934 when it began mailing members with information about upcoming firearms bills.',\n",
    "    #'Frank, Viscount De Winne (born 25 April 1961, in Ledeberg, Belgium) is a Belgian Air Component officer and an ESA astronaut. He is Belgiums second person in space (after Dirk Frimout). He was the first ESA astronaut to command a space mission when he served as commander of ISS Expedition 21. ESA astronaut de Winne serves currently as Head of the European Astronaut Centre of the European Space Agency in Cologne/Germany (Köln).',\n",
    "    #'The Chevrolet Silverado, and its mechanically identical cousin the GMC Sierra, are a series of full-size and heavy-duty pickup trucks manufactured by General Motors and introduced in 1998 as the successor to the long-running Chevrolet C/K line. The Silverado name was taken from a trim level previously used on its predecessor, the Chevrolet C/K pickup truck from 1975 through 1998.',\n",
    "    #'Ambassador Gordon Sondland said that President Trump and his personal lawyer, Rudolph W. Giuliani, sought to condition a White House invite for Ukraines new president to demands that his country publicly launch investigations that could damage Trumps opponents.',\n",
    "    #'Viagra (sildenafil) relaxes muscles found in the walls of blood vessels and increases blood flow to particular areas of the body. Viagra is used to treat erectile dysfunction (impotence) in men. Another brand of sildenafil is Revatio, which is used to treat pulmonary arterial hypertension and improve exercise capacity in men and women. This page contains specific information for Viagra, not Revatio. Do not take Viagra while also taking Revatio, unless your doctor tells you to.'\n",
    "]"
   ]
  },
  {
   "cell_type": "markdown",
   "metadata": {},
   "source": [
    "Transform the input data using the count vectorizer. Transform the vectorized data using the tf-idf transformer so that it can run through the classifier."
   ]
  },
  {
   "cell_type": "code",
   "execution_count": 24,
   "metadata": {},
   "outputs": [],
   "source": [
    "# transform input data using count vectorizer\n",
    "input_tc = count_vectorizer.transform(input_data)\n",
    "\n",
    "# transform vectorized data using tfidf transformer\n",
    "input_tfidf = tfidf.transform(input_tc)"
   ]
  },
  {
   "cell_type": "markdown",
   "metadata": {},
   "source": [
    "## 5. Predict the category\n",
    "\n",
    "Finally let's predict the output using the tf-idf transformed vector and print the output category for each sample in the input test data. Check if our classifier can find the category of the sample articles."
   ]
  },
  {
   "cell_type": "code",
   "execution_count": 25,
   "metadata": {},
   "outputs": [
    {
     "name": "stdout",
     "output_type": "stream",
     "text": [
      "\n",
      "Input: Electronic circuits usually use direct current sources. The load of an electronic circuit may be as simple as a few resistors, capacitors, and a lamp, all connected together to create the flash in a camera. Or an electronic circuit can be complicated, connecting thousands of resistors, capacitors, and transistors. It may be an integrated circuit such as the microprocessor in a computer. Resistors and other circuit elements can be connected in series or in parallel. Resistance in series circuits is the sum of the resistance. \n",
      "\n",
      "\n",
      "Predicted category: Electronics \n",
      "\n",
      "\n",
      " ##################################################\n",
      "\n",
      "Input: Van Doren became European champions with the Belgium under-21 squad in 2012. His first selection for the national team was at the age of 17.[8] With Belgium, he became European vice-champion at the 2013 European Championship on home ground in Boom and at the 2017 European Championship in Amstelveen, Netherlands. He was a part of the Belgian squad which won the silver medal at the 2016 Summer Olympics. In 2016 he won the FIH Rising Star of the Year award, which he won again in 2017 together with the FIH Player of the Year award. He was a part of the Belgian squad which won Belgium its first World Cup and European title. \n",
      "\n",
      "\n",
      "Predicted category: Hockey \n",
      "\n",
      "\n",
      " ##################################################\n",
      "\n",
      "Input: NRA stands for National Rifle Association. The group was founded in 1871 as a recreational group designed to \"promote and encourage rifle shooting on a scientific basis\". The NRA s path into political lobbying began in 1934 when it began mailing members with information about upcoming firearms bills. \n",
      "\n",
      "\n",
      "Predicted category: Guns \n",
      "\n",
      "\n",
      " ##################################################\n"
     ]
    }
   ],
   "source": [
    "# predict the output categories\n",
    "predictions = classifier.predict(input_tfidf)\n",
    "\n",
    "# print the outputs\n",
    "for text, category in zip(input_data, predictions):\n",
    "    print('\\nInput:', text, '\\n\\n\\nPredicted category:', \\\n",
    "            category_map[training_data.target_names[category]], \n",
    "            '\\n\\n\\n','#' * 50)"
   ]
  },
  {
   "cell_type": "markdown",
   "metadata": {},
   "source": [
    "Maybe you can try some other article categories as well."
   ]
  }
 ],
 "metadata": {
  "kernelspec": {
   "display_name": "Python 3.10.6 ('DL_env': venv)",
   "language": "python",
   "name": "python3"
  },
  "language_info": {
   "codemirror_mode": {
    "name": "ipython",
    "version": 3
   },
   "file_extension": ".py",
   "mimetype": "text/x-python",
   "name": "python",
   "nbconvert_exporter": "python",
   "pygments_lexer": "ipython3",
   "version": "3.10.6"
  },
  "vscode": {
   "interpreter": {
    "hash": "775b7576bf7a34da706ed620d7f0d2338b0743a1fe22363e0994f105195362b0"
   }
  }
 },
 "nbformat": 4,
 "nbformat_minor": 2
}
