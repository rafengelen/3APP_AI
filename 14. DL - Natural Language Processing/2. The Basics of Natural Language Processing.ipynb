{
 "cells": [
  {
   "cell_type": "markdown",
   "metadata": {},
   "source": [
    "# The Basics of Natural Language Processing\n",
    "\n",
    "Not sure what Natural Language Processing is and how it applies to you? The video below (from 0:00 till 3:57) will discuss the basics of Natural Language Processing so you can better understand what it is, how it works, and how it's being used in the real world today.\n",
    "\n",
    "<a href=\"https://www.youtube.com/embed/d4gGtcobq8M?end=237\"><img src=\"resources/video1.png\" width=\"400\"></a>"
   ]
  },
  {
   "cell_type": "markdown",
   "metadata": {},
   "source": [
    "## 1. Questions\n",
    "\n",
    "a) What is the percentage of data that is in a structured format today?<br/>\n",
    "b) What are these words called: a, the, is, are ?<br />\n",
    "c) Name three examples of unstructured data that can be used as a source of information using NLP."
   ]
  },
  {
   "cell_type": "code",
   "execution_count": null,
   "metadata": {},
   "outputs": [],
   "source": [
    "# answers\n",
    "# a) \n",
    "# b) \n",
    "# c) "
   ]
  },
  {
   "cell_type": "markdown",
   "metadata": {},
   "source": [
    "After this introduction, let's dive a little bit deeper. In the following video (from 0:10 till 7:49), you will learn about the various applications of NLP in the industry. Also the different steps in the NLP process will be discussed. Since this lesson is all about Natural Language Processing the video will be in a funny Indian-English accent.\n",
    "\n",
    "<a href=\"https://www.youtube.com/embed/5ctbvkAMQO4?start=10&end=469\"><img src=\"resources/video2.png\" width=\"400\"></a>"
   ]
  },
  {
   "cell_type": "markdown",
   "metadata": {},
   "source": [
    "## 2. Questions\n",
    "\n",
    "a) Name five applications of NLP.<br />\n",
    "b) What are the two components of NLP?<br />\n",
    "c) Explain the following steps in the NLP process or give an example: Tokenization, Stemming, Lemmatization, POS tags, Named Entity Recognition, Chunking."
   ]
  },
  {
   "cell_type": "code",
   "execution_count": null,
   "metadata": {},
   "outputs": [],
   "source": [
    "# answers\n",
    "# a) \n",
    "# b) \n",
    "# c) \n",
    "# tokenization: \n",
    "# stemming: \n",
    "# lemmatization: \n",
    "# POS tags: \n",
    "# Named Entity Recognition: \n",
    "# Chunking: "
   ]
  }
 ],
 "metadata": {
  "kernelspec": {
   "display_name": "Python 3.10.6 ('DL_env': venv)",
   "language": "python",
   "name": "python3"
  },
  "language_info": {
   "codemirror_mode": {
    "name": "ipython",
    "version": 3
   },
   "file_extension": ".py",
   "mimetype": "text/x-python",
   "name": "python",
   "nbconvert_exporter": "python",
   "pygments_lexer": "ipython3",
   "version": "3.10.6"
  },
  "vscode": {
   "interpreter": {
    "hash": "775b7576bf7a34da706ed620d7f0d2338b0743a1fe22363e0994f105195362b0"
   }
  }
 },
 "nbformat": 4,
 "nbformat_minor": 2
}
