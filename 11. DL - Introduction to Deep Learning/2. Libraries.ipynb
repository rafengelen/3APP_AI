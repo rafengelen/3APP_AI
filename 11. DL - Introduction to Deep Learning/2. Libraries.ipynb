{
 "cells": [
  {
   "cell_type": "markdown",
   "metadata": {},
   "source": [
    "# Python Libraries for Deep Learning\n",
    "\n",
    "Python continues to lead the way when it comes to AI, Machine Learning and Deep Learning. 45% of technology companies prefer to use Python for implementing AI."
   ]
  },
  {
   "cell_type": "markdown",
   "metadata": {},
   "source": [
    "## 1. Tensorflow\n",
    "\n",
    "TensorFlow is a powerful data flow oriented machine learning library created by the Brain Team of Google and made Open Source in 2015. It is designed to be easy to use and widely applicable to both numeric and neural network oriented problems as well as other domains.\n",
    "\n",
    "<img src=\"./resources/tensorflow.png\"  style=\"height: 200px\"/>\n",
    "\n",
    "## 2. Keras\n",
    "\n",
    "Keras is an open-source library for building Neural Networks at a high level and it is written in Python. It is minimalistic and straightforward with a high level of extensibility. The minimalistic approach in design aims at fast and easy experimentation through the building of compact systems. Keras is really eased to get started with.\n",
    "\n",
    "<img src=\"./resources/keras.png\"  style=\"height: 200px\"/>\n",
    "\n",
    "The primary motivation behind Keras is that you should be able to experiment *fast* and *go* from __idea__ to __result__ as quickly as possible. Therefore in this course, we will use Keras to build our Neural Networks.\n",
    "\n",
    "By the way, Keras uses TensorFlow as a backend. In practical terms, Keras makes implementing the many powerful but often complex functions of TensorFlow as simple as possible, and it is configured to work with Python without any major modifications or configuration."
   ]
  }
 ],
 "metadata": {
  "kernelspec": {
   "display_name": "Python 3",
   "language": "python",
   "name": "python3"
  },
  "language_info": {
   "codemirror_mode": {
    "name": "ipython",
    "version": 3
   },
   "file_extension": ".py",
   "mimetype": "text/x-python",
   "name": "python",
   "nbconvert_exporter": "python",
   "pygments_lexer": "ipython3",
   "version": "3.7.3"
  }
 },
 "nbformat": 4,
 "nbformat_minor": 2
}
