{
 "cells": [
  {
   "cell_type": "markdown",
   "metadata": {},
   "source": [
    "# What is Deep Learning?\n",
    "\n",
    "Finally our last module will be all about Deep Learning. Deep learning is a subset of Machine Learning in Artificial Intelligence (AI). Deep Learning imitates the workings of the human brain in processing data and creating patterns for use in decision making. They are also known as deep neural learning or deep neural network. \n",
    "\n",
    "Deep learning architectures have been applied to fields including computer vision, speech recognition, natural language processing, audio recognition, social network filtering, machine translation and board game programs, where they have produced results comparable to and in some cases superior to human experts.\n",
    "\n",
    "Watch the video below (from 0:00 till 5:30) for a short introduction to what Deep Learning is all about.\n",
    "\n",
    "<a href=\"https://www.youtube.com/embed/6M5VXKLf4D4?start=0&end=330\"><img src=\"resources/video1.png\" width=\"400\"></a>"
   ]
  },
  {
   "cell_type": "markdown",
   "metadata": {},
   "source": [
    "## 1. AI vs ML vs DL\n",
    "\n",
    "\n",
    "- Deep Learning is a subset of Machine Learning, which in turn is a subset of Artificial Intelligence.\n",
    "\n",
    "\n",
    "<img src=\"./resources/AIMLDL.png\"  style=\"height: 350px\"/>\n",
    "\n",
    "- __AI__ is a technique that enables a machine to mimic human behavior.\n",
    "- __Machine Learning__ is a technique to achieve AI through algorithms trained with data.\n",
    "- __Deep Learning__ is a type of Machine Learning inspired by the structure of the human brain, an Artificial Neural Network.\n"
   ]
  },
  {
   "cell_type": "markdown",
   "metadata": {},
   "source": [
    "## 2. Questions\n",
    "\n",
    "1. What is the difference when creating a machine to differentiate between tomatoes and cheeries using Machine Learning versus Deep Learning?\n",
    "\n",
    "<img src=\"./resources/q1.png\"  style=\"height: 150px\"/>\n",
    "\n",
    "2. Name three examples where Deep Learning is applied.\n",
    "\n",
    "<img src=\"./resources/q2.png\"  style=\"height: 150px\"/>\n",
    "\n",
    "3. What are the three limitations or problems when using Deep Learning?\n",
    "\n",
    "<img src=\"./resources/q3.png\"  style=\"height: 150px\"/>"
   ]
  },
  {
   "cell_type": "code",
   "execution_count": null,
   "metadata": {},
   "outputs": [],
   "source": [
    "# answers?\n",
    "# 1. Machine Learning: ... / Deep Learning: ...\n",
    "# 2. a) ... b) ... c) ...\n",
    "# 3. a) ... b) ... c) ..."
   ]
  },
  {
   "cell_type": "markdown",
   "metadata": {},
   "source": [
    "## 3. Machine Learning (ML) vs Deep Learning (DL)\n",
    "\n",
    "In the video below (from 0:00 till 3:29) the speaker will explain once more the key differences between Machine Learning and Deep Learning. They use MATLAB as environment, but the same principles apply when using Python.\n",
    "\n",
    "<a href=\"https://www.youtube.com/embed/-SgkLEuhfbg?start=4&end=209\"><img src=\"resources/video2.png\" width=\"400\"></a>"
   ]
  },
  {
   "cell_type": "markdown",
   "metadata": {},
   "source": [
    "## 4. Recap\n",
    "\n",
    "- In Machine Learning we select the features ourselves.\n",
    "\n",
    "<img src=\"./resources/F1.png\"  style=\"height: 300px\"/>\n",
    "\n",
    "- In Deep Learning we skip the step of manually selecting features.\n",
    "\n",
    "<img src=\"./resources/F2.png\"  style=\"height: 200px\"/>"
   ]
  },
  {
   "cell_type": "markdown",
   "metadata": {},
   "source": [
    "## 5. Question\n",
    "\n",
    "Complete the grid below.\n",
    "\n",
    "<img src=\"./resources/q4.png\"  style=\"height: 200px\"/>"
   ]
  },
  {
   "cell_type": "code",
   "execution_count": null,
   "metadata": {},
   "outputs": [],
   "source": [
    "# answers ?\n",
    "\n",
    "#                           ML    | DL\n",
    "# Training dataset:               | \n",
    "# Choose your own features:       | \n",
    "# # classifiers:                  | \n",
    "# Training Time:                  | \n"
   ]
  }
 ],
 "metadata": {
  "kernelspec": {
   "display_name": "Python 3.10.6 ('DL_env': venv)",
   "language": "python",
   "name": "python3"
  },
  "language_info": {
   "codemirror_mode": {
    "name": "ipython",
    "version": 3
   },
   "file_extension": ".py",
   "mimetype": "text/x-python",
   "name": "python",
   "nbconvert_exporter": "python",
   "pygments_lexer": "ipython3",
   "version": "3.10.6"
  },
  "vscode": {
   "interpreter": {
    "hash": "775b7576bf7a34da706ed620d7f0d2338b0743a1fe22363e0994f105195362b0"
   }
  }
 },
 "nbformat": 4,
 "nbformat_minor": 2
}
