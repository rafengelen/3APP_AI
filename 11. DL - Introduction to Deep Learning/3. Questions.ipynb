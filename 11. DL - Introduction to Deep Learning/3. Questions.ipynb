{
 "cells": [
  {
   "cell_type": "markdown",
   "metadata": {},
   "source": [
    "# Questions DL (test/exam)\n",
    "\n",
    "Below you will find the questions for the third module. For the exercises other data will be used during the test/exam."
   ]
  },
  {
   "cell_type": "markdown",
   "metadata": {},
   "source": [
    "## 1. Introduction\n",
    "\n",
    "1. Explain the difference between Artificial Intelligence, Machine Learning and Deep Learning.\n",
    "2. What is the difference when creating a machine to differentiate between tomatoes and cheeries using Machine Learning versus Deep Learning?\n",
    "3. What are the three limitations or problems when using Deep Learning?\n",
    "4. Complete the following grid.\n",
    "\n",
    "<img src=\"./resources/q4.png\"  style=\"height: 200px\"/>"
   ]
  },
  {
   "cell_type": "markdown",
   "metadata": {},
   "source": [
    "## 2. Artificial Neural Networks\n",
    "\n",
    "5. The example neural network that can learn to recognize handwritten digits consists of four layers. What are those four layers used for?\n",
    "6. What are the weights in a neural network used for? What is a bias used for? Why do we use the sigmoid function?\n",
    "7. Explain briefly how neural networks are trained.\n",
    "8. Explain the following terms: Gradient Descent and Backpropagation."
   ]
  },
  {
   "cell_type": "markdown",
   "metadata": {},
   "source": [
    "## 3. Computer Vision\n",
    "\n",
    "9. Declare the following terms, used in Computer Vision:\n",
    "\n",
    "\n",
    "- color marker tracking\n",
    "- patches \n",
    "- kernel\n",
    "\n",
    "\n",
    "10. Computer Vision is one of the areas in AI where core concepts are already being integrated into major products that we use every day. Name four examples.\n",
    "11. What is a convolution?\n",
    "12. Given an input image, calculate the feature map for this filter.\n",
    "\n",
    "#### Input image\n",
    "\n",
    "$$\\begin{bmatrix} 0&10&20&20&0 \\\\ 20&70&90&60&90 \\\\ 10&80&30&20&30 \\\\ 0&70&30&0&10 \\\\ 0&60&40&20&0 \\end{bmatrix}$$\n",
    "\n",
    "#### Filter\n",
    "\n",
    "$$\\begin{bmatrix} 1&0&-1 \\\\ 1&0&-1 \\\\ 1&0&-1 \\end{bmatrix}$$\n",
    "\n",
    "13. Explain the concept of cascades used in face detection.\n",
    "14. What are the convolutional layers in a CNN used for?\n",
    "15. Explain the terms padding and stride.\n",
    "16. Given the following image, what would be the result after performing a 2x2 Max pooling? Calculate the result for 2x2 average pooling.\n",
    "\n",
    "$$\\begin{bmatrix} 0&10&20&20 \\\\ 20&70&90&60 \\\\ 10&80&30&20 \\\\ 0&70&30&0 \\end{bmatrix}$$\n",
    "\n"
   ]
  },
  {
   "cell_type": "markdown",
   "metadata": {},
   "source": [
    "## 4. Natural Language Processing\n",
    "\n",
    "17. Name five applications of NLP.\n",
    "\n",
    "18. What are the two components of NLP?\n",
    "\n",
    "19. Explain the following steps in the NLP process or give an example: Tokenization, Stemming, Lemmatization, POS tags, Named Entity Recognition, Chunking.\n"
   ]
  },
  {
   "cell_type": "markdown",
   "metadata": {},
   "source": [
    "## 5. Speech Recognition\n",
    "\n",
    "20. What is ASR?\n",
    "21. What are the four top uses of Speech Recognition Technology today?\n",
    "22. Name five reasons why it is so hard for machines to do speech recognition."
   ]
  }
 ],
 "metadata": {
  "kernelspec": {
   "display_name": "Python 3",
   "language": "python",
   "name": "python3"
  },
  "language_info": {
   "codemirror_mode": {
    "name": "ipython",
    "version": 3
   },
   "file_extension": ".py",
   "mimetype": "text/x-python",
   "name": "python",
   "nbconvert_exporter": "python",
   "pygments_lexer": "ipython3",
   "version": "3.7.3"
  }
 },
 "nbformat": 4,
 "nbformat_minor": 2
}
