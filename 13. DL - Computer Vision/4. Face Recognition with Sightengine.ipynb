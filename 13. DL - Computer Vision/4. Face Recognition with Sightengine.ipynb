{
 "cells": [
  {
   "cell_type": "markdown",
   "metadata": {},
   "source": [
    "# Face Recognition with Sightengine - Exercise\n",
    "\n",
    "Did you know that every time you upload a photo to Facebook, the platform uses facial recognition algorithms to identify the people in that image? Or that certain governments around the world use face recognition technology to identify and catch criminals? I don’t need to tell you that you can now unlock smartphones with your face!\n",
    "\n",
    "In this Notebook we will explain the inner workings of face recognition, and then use an API to implement a celebrity recognition program in Python."
   ]
  },
  {
   "cell_type": "markdown",
   "metadata": {},
   "source": [
    "## 1. Understanding how Face Recognition works\n",
    "\n",
    "Every Machine Learning algorithm takes a dataset as input and learns from this data. The algorithm goes through the data and identifies patterns in the data. For instance, suppose we wish to identify whose face is present in a given image, there are multiple things we can look at as a pattern:\n",
    "\n",
    "- Height of face (cm): 23.1\n",
    "- Width of face (cm): 15.8\n",
    "- Average color of face (R, G, B): (255, 224, 189)\n",
    "- Width of lips (cm): 5.2\n",
    "- Height of nose (cm): 4.4\n",
    "\n",
    "<img src=\"./resources/fr.png\" style=\"height: 250px\"/>\n",
    "\n",
    "So, our image is now a vector that could be represented as (23.1, 15.8, 255, 224, 189, 5.2, 4.4). Of course there could be countless other features that could be derived from the image (for instance, hair color, facial hair, spectacles, etc). \n",
    "\n",
    "Now, once we have encoded each image into a feature vector, the problem becomes much simpler. Clearly, when we have 2 faces (images) that represent the same person, the feature vectors derived will be quite similar. Put it the other way, the *distance* between the 2 feature vectors will be quite small."
   ]
  },
  {
   "cell_type": "markdown",
   "metadata": {},
   "source": [
    "## 2. Sightengine API\n",
    "\n",
    "Sightengine is an Artificial Intelligence company in Paris. Their powerful image and video analysis technology is built on proprietary state-of-the-art Deep Learning systems and is made available through simple and clean APIs. We will use the API of Sightengine to develop a celebrity recognition engine.\n",
    "\n",
    "First go to sightengine.com and create a free account (2000 operations/month):\n",
    "\n",
    "<img src=\"./resources/sightengine.png\" style=\"height: 350px\"/>"
   ]
  },
  {
   "cell_type": "markdown",
   "metadata": {},
   "source": [
    "Install the Sightengine Python package."
   ]
  },
  {
   "cell_type": "code",
   "execution_count": null,
   "metadata": {},
   "outputs": [],
   "source": [
    "pip install sightengine"
   ]
  },
  {
   "cell_type": "markdown",
   "metadata": {},
   "source": [
    "## 3. API\n",
    "\n",
    "In the resources folder you will find two images *filmstars.jpg* and *marvel.jpg*. \n",
    "\n",
    "<img src=\"./resources/filmstars.jpg\" style=\"height: 300px\"/>\n",
    "\n",
    "Call the API with your personal api key and check for the celebrities in one of the two images. Print the output and inspect the json result."
   ]
  },
  {
   "cell_type": "code",
   "execution_count": null,
   "metadata": {},
   "outputs": [],
   "source": [
    "\n",
    "\n"
   ]
  },
  {
   "cell_type": "markdown",
   "metadata": {},
   "source": [
    "## 4. OpenCV\n",
    "\n",
    "Now use OpenCV and Matplotlib to draw a rectangle around every celebrity. Print the name of the celebrity under the rectangle. The text is always centered with the rectangle. You should get:\n",
    "\n",
    "<img src=\"./resources/marvelout.png\" style=\"height: 450px\"/>\n",
    "\n",
    "Try the other image as well or download an image of your favorite celebrities."
   ]
  },
  {
   "cell_type": "code",
   "execution_count": null,
   "metadata": {},
   "outputs": [],
   "source": [
    "\n",
    "\n"
   ]
  }
 ],
 "metadata": {
  "kernelspec": {
   "display_name": "Python 3",
   "language": "python",
   "name": "python3"
  },
  "language_info": {
   "codemirror_mode": {
    "name": "ipython",
    "version": 3
   },
   "file_extension": ".py",
   "mimetype": "text/x-python",
   "name": "python",
   "nbconvert_exporter": "python",
   "pygments_lexer": "ipython3",
   "version": "3.7.3"
  }
 },
 "nbformat": 4,
 "nbformat_minor": 2
}
