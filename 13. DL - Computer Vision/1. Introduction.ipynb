{
 "cells": [
  {
   "cell_type": "markdown",
   "metadata": {},
   "source": [
    "# Computer Vision\n",
    "\n",
    "Computer Vision is a field of Artificial Intelligence that trains computers to interpret and understand the visual world. In other words: Computer Vision, often abbreviated as CV, is defined as a field of study that seeks to develop techniques to help computers *see* and understand the content of digital images such as photographs and videos, a data source with a very high information bandwidth.\n",
    "\n",
    "Computer Vision has been around for more than 50 years, mainly focussing on filtering techniques for noise reduction and optimalisations. But recently, we see a major resurgence of interest in how machines *see* and how Computer Vision can be used to build products for consumers and businesses, by employing the power of Deep Learning. A few examples: Amazon Go, Google Lens, Autonomous Vehicles, Face Recognition, etc.\n",
    "\n",
    "The field of Computer Vision is even being linked to the field of NLP (Natural Language Processing), with algorithms that can handle text-to-image, with famuous examples being DALL-E, Midjourney, Stable Diffusion, etc. \n",
    "Or image-to-text algorithms, where a possible example can be an audio transcribing algorithm. There, the soundwaves of spoken words are captured by a microphone, and are being transformed (via Fast Fourier Transform) into a spectogram, an image of the sound produced. And now our Computer Vision algorithms can link those images to the utterance, the phonetics, of a specific word, and thus transcribe a conversation to text, using *images* of the sound. Nice, no?\n",
    "\n",
    "<img src=\"./resources/speechCNN.png\"  style=\"height: 300px\"/>\n",
    "\n",
    "## Cat or Dog?\n",
    "\n",
    "At the end of this lesson we will build a Convolutional Neural Network that will be trained on thousands of images of cats and dogs, and will be able to predict if the given image is of a cat or a dog. We will use the famous classical dogs vs cats dataset which refers to a dataset used for a Kaggle machine learning competition held in 2013. While our goal is very specific (cats vs dogs), our image classifier can detect anything that is tangible with an adequate dataset.\n",
    "\n",
    "__After completing this lesson about Computer Vision, you must definitely have a look at the task of the third module about Deep Learning.__\n",
    "\n",
    "<img src=\"./resources/catdog.gif\"  style=\"height: 300px\"/>\n"
   ]
  }
 ],
 "metadata": {
  "kernelspec": {
   "display_name": "Python 3.10.6 ('DL_env': venv)",
   "language": "python",
   "name": "python3"
  },
  "language_info": {
   "codemirror_mode": {
    "name": "ipython",
    "version": 3
   },
   "file_extension": ".py",
   "mimetype": "text/x-python",
   "name": "python",
   "nbconvert_exporter": "python",
   "pygments_lexer": "ipython3",
   "version": "3.10.6"
  },
  "vscode": {
   "interpreter": {
    "hash": "775b7576bf7a34da706ed620d7f0d2338b0743a1fe22363e0994f105195362b0"
   }
  }
 },
 "nbformat": 4,
 "nbformat_minor": 2
}
