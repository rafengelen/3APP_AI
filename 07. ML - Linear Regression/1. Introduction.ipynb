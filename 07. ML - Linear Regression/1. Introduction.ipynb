{
 "cells": [
  {
   "cell_type": "markdown",
   "metadata": {},
   "source": [
    "# Linear Regression\n",
    "\n",
    "Linear Regression is a machine learning algorithm based on supervised learning. Linear regression performs the task to predict a dependent variable value (y) based on a given independent variable (x). So, this regression technique finds a linear relationship between x (input) and y (output). Hence, the name is Linear Regression.\n",
    "\n",
    "At the end of this lesson we will try to predict the quality of a Portugese *Vinho Verde* wine based on the features of the wine.\n",
    "\n",
    "## Vinho Verde\n",
    "\n",
    "Vinho Verde (literally 'green wine') refers to Portuguese wine that originated in the historic Minho province in the far north of the country. \n",
    "\n",
    "We will use a dataset with variants of the Portuguese Vinho Verde wine and we will take into account various input features like fixed acidity, volatile acidity, citric acid, residual sugar, chlorides, free sulfur dioxide, total sulfur dioxide, density, pH, sulphates, alcohol. Based on these features we will try to predict the quality of the wine.\n",
    "\n",
    "<img src=\"./resources/vinho-verde.png\"  style=\"height: 250px\"/>"
   ]
  }
 ],
 "metadata": {
  "kernelspec": {
   "display_name": "Python 3.10.6 ('ML_env': venv)",
   "language": "python",
   "name": "python3"
  },
  "language_info": {
   "codemirror_mode": {
    "name": "ipython",
    "version": 3
   },
   "file_extension": ".py",
   "mimetype": "text/x-python",
   "name": "python",
   "nbconvert_exporter": "python",
   "pygments_lexer": "ipython3",
   "version": "3.10.6"
  },
  "vscode": {
   "interpreter": {
    "hash": "3762fa38335283772957b8ad4850e1d344741e862c3aa7ec1c26d17780db6975"
   }
  }
 },
 "nbformat": 4,
 "nbformat_minor": 2
}
