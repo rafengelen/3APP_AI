{
 "cells": [
  {
   "cell_type": "markdown",
   "metadata": {},
   "source": [
    "# Print Stars\n",
    "\n",
    "The YouTube movie below will explain the principles of recursion in computer programming. The example function will have no return value. In the next notebook we will see a function with return value.\n",
    "\n",
    "First watch the video _PrintStars.mp4_ (it's in the resources) (from 0:00 till 18:00). The code is in C++, but we will translate it to Python afterwards. After the video, you will find a summary and some questions you have to answer.\n",
    "\n",
    "<img src=\"./resources/video1.png\" width=\"400\">\n",
    "\n",
    "**Find and start the movie yourself (see resource folder), it's not possible to embed it in VS Code.**"
   ]
  },
  {
   "cell_type": "markdown",
   "metadata": {},
   "source": [
    "Recursion is a challenging topic. It takes a while to learn.\n",
    "\n",
    "_In order to understand Recursion, you must first understand Recursion._\n",
    "\n",
    "<img src=\"./resources/mirror.jpg\" style=\"height: 200px\"/>"
   ]
  },
  {
   "cell_type": "markdown",
   "metadata": {},
   "source": [
    "## 1. Definitions\n",
    "\n",
    "- __recursion__: the definition of an operation in terms of itself\n",
    "    * solving a problem using recursion depends on solving smaller occurences of the same problem\n",
    "    * a way to design solutions to problems by __divide and conquer__ (reduce a problem to a simpler version of the same problem)\n",
    "    \n",
    "- __recursive programming__: writing functions that call themselves\n",
    "    * equally powerful to iteration (loops)\n",
    "    * particularly well suited to solve certain types of problems (ex. search problems)\n",
    "    * leads to elegant, simplistic, short code"
   ]
  },
  {
   "cell_type": "markdown",
   "metadata": {},
   "source": [
    "## 2. Example: _Number of people behind me_\n",
    "\n",
    "- if there is nobody behind me, I will answer 0\n",
    "- if there is someone behind me, ask him/her how many people are behind him/her\n",
    "    * when they respond with a value N, then I will answer N + 1"
   ]
  },
  {
   "cell_type": "markdown",
   "metadata": {},
   "source": [
    "## 3. Different cases\n",
    "\n",
    "\n",
    "- __base case__: a simple occurrence that can be answered directly\n",
    "- __recursive case__: a more complex occurrence of the problem that cannot be answered directly, but instead can be described in terms of smaller occurences of the same problem\n",
    "\n",
    "\n",
    "- key idea: in a recursive piece of code, you handle a small part of the overall task yourself, then make a recursive call to handle the rest\n",
    "- _ask yourself: \"How is this task self-similar?\"_\n",
    "    * _\"How can I describe this algorithm in terms of a smaller or simpler version of itself?\"_"
   ]
  },
  {
   "cell_type": "markdown",
   "metadata": {},
   "source": [
    "## 4. Python\n",
    "\n",
    "A non recursive version of print_stars. Run the code to see the output."
   ]
  },
  {
   "cell_type": "code",
   "execution_count": 1,
   "metadata": {},
   "outputs": [
    {
     "name": "stdout",
     "output_type": "stream",
     "text": [
      "*\n",
      "*\n",
      "*\n",
      "*\n",
      "*\n"
     ]
    }
   ],
   "source": [
    "# Non recursive version of print_stars\n",
    "\n",
    "def print_stars(n):\n",
    "    i = 1\n",
    "    while i <= n:\n",
    "        print(\"*\")\n",
    "        i += 1\n",
    "\n",
    "print_stars(5)"
   ]
  },
  {
   "cell_type": "markdown",
   "metadata": {},
   "source": [
    "## 5. A recursive version\n",
    "\n",
    "- The recursive version is written without using any loops.\n",
    "- We separate the code into a _base case_ (a simple case that does not make any recursive calls) and a _recursive case_.\n",
    "\n",
    "\n",
    "- Every recursive function __must__ have a base condition that stops the recursion or else the function calls itself infinitely."
   ]
  },
  {
   "cell_type": "markdown",
   "metadata": {},
   "source": [
    "## 6. Excercise\n",
    "\n",
    "Complete the following code block so that the function prints n stars recursively.\n"
   ]
  },
  {
   "cell_type": "code",
   "execution_count": null,
   "metadata": {},
   "outputs": [],
   "source": [
    "# Recursive version of print_stars\n",
    "\n",
    "def print_stars(n):\n",
    "    if n == 1:\n",
    "        # base case\n",
    "        # easy to solve\n",
    "        # do it ourselves\n",
    "        \n",
    "    else:\n",
    "        # recursive case\n",
    "        # hard to solve\n",
    "        # do a little bit of the work and ask for \"help\"\n",
    "        \n",
    "\n",
    "print_stars(5)"
   ]
  },
  {
   "cell_type": "markdown",
   "metadata": {},
   "source": [
    "## 7. Question\n",
    "\n",
    "Consider the following recursive function:\n",
    "\n",
    "```python\n",
    "def mystery(n):\n",
    "    if n < 10:\n",
    "        return n\n",
    "    else:\n",
    "        a = n // 10  # integer division: 7 // 2 gives 3\n",
    "        b = n % 10   # module or division remainder: 7 % 2 gives 1\n",
    "        return mystery(a + b)\n",
    "```\n",
    "    \n",
    "What is the result of: \n",
    "\n",
    "```python\n",
    "print(mystery(648))\n",
    "```"
   ]
  },
  {
   "cell_type": "code",
   "execution_count": null,
   "metadata": {},
   "outputs": [],
   "source": [
    "# result? "
   ]
  }
 ],
 "metadata": {
  "kernelspec": {
   "display_name": "Python 3.10.6 ('AI_env': venv)",
   "language": "python",
   "name": "python3"
  },
  "language_info": {
   "codemirror_mode": {
    "name": "ipython",
    "version": 3
   },
   "file_extension": ".py",
   "mimetype": "text/x-python",
   "name": "python",
   "nbconvert_exporter": "python",
   "pygments_lexer": "ipython3",
   "version": "3.10.6"
  },
  "vscode": {
   "interpreter": {
    "hash": "ee412e95a0a5fcd4bc718149b06e63b52799b36d97dd83a114f114becc1d8225"
   }
  }
 },
 "nbformat": 4,
 "nbformat_minor": 2
}
