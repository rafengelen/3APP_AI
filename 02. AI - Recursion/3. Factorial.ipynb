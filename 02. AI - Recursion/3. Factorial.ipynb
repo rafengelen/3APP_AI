{
 "cells": [
  {
   "cell_type": "markdown",
   "metadata": {},
   "source": [
    "# Factorial\n",
    "\n",
    "The YouTube movie below will explain a second recursive function, this time with a return value. Also the scope of the variables will be discussed.\n",
    "\n",
    "Watch the video below (from 5:52 till 15:54).\n",
    "\n",
    "<a href=\"https://www.youtube.com/embed/WPSeyjX1-4s?start=352&end=954\"><img src=\"resources/video2.png\" width=\"400\"></a>"
   ]
  },
  {
   "cell_type": "markdown",
   "metadata": {},
   "source": [
    "## 1. An iterative solution of multiplication\n",
    "\n",
    "You can run the iterative solution to see the result."
   ]
  },
  {
   "cell_type": "code",
   "execution_count": 1,
   "metadata": {},
   "outputs": [
    {
     "data": {
      "text/plain": [
       "12"
      ]
     },
     "execution_count": 1,
     "metadata": {},
     "output_type": "execute_result"
    }
   ],
   "source": [
    "# An interative solution of multiplication\n",
    "\n",
    "def mult_iter(a, b):\n",
    "    result = 0\n",
    "    while b > 0:\n",
    "        result += a\n",
    "        b -= 1\n",
    "    return result\n",
    "\n",
    "mult_iter(4, 3)"
   ]
  },
  {
   "cell_type": "markdown",
   "metadata": {},
   "source": [
    "## 2. A recursive solution of multiplication\n",
    "\n",
    "Defining the multiplication problem in a recursive way:\n",
    "\n",
    "```\n",
    "a * b = a + a + a + a + ... + a \n",
    "        (b times)\n",
    "        \n",
    "      = a + (a + a + a + ... + a)\n",
    "            (b-1 times)\n",
    "      \n",
    "      = a + (a * (b-1))\n",
    "```"
   ]
  },
  {
   "cell_type": "markdown",
   "metadata": {},
   "source": [
    "## 3. Excercise\n",
    "\n",
    "Complete the following code block so that the function computes the multiplication of a and b recursively."
   ]
  },
  {
   "cell_type": "code",
   "execution_count": 1,
   "metadata": {},
   "outputs": [
    {
     "name": "stdout",
     "output_type": "stream",
     "text": [
      "12\n"
     ]
    }
   ],
   "source": [
    "# A recursive solution of multiplication\n",
    "\n",
    "def mult(a, b):\n",
    "    if b==1:\n",
    "        return a\n",
    "    else:\n",
    "        return a+mult(a,b-1)\n",
    "print(mult(4, 3))"
   ]
  },
  {
   "cell_type": "markdown",
   "metadata": {},
   "source": []
  },
  {
   "cell_type": "markdown",
   "metadata": {},
   "source": [
    "## 4. An iterative solution of factorial\n",
    "\n",
    "Factorial of a number is the product of all the integers from 1 to that number. For example, the factorial of 6 (denoted as 6!) is 1 * 2 * 3 * 4 * 5 * 6 = 720.\n",
    "\n",
    "```\n",
    "n! = 1 * 2 * ... * (n-1) * n\n",
    "```\n",
    "\n",
    "```python\n",
    "def factorial_iter(n):\n",
    "\tprod = 1\n",
    "\tfor i in range(1, n+1):\n",
    "\t\tprod *= i\n",
    "\treturn prod\n",
    "\n",
    "```"
   ]
  },
  {
   "cell_type": "markdown",
   "metadata": {},
   "source": [
    "## 5. A recursive solution of factorial\n",
    "\n",
    "Defining the factorial problem in a recursive way:\n",
    "```\n",
    "n! = n * (n-1) * (n-2) * (n-3) * ... 2 * 1\n",
    "   = n * (n-1)!\n",
    "```\n",
    "\n",
    "- __base case__: what n do we know factorial for?\n",
    "    * 1! = 1\n",
    "- __recursive case__: how to reduce the problem? rewrite in terms of something more simple to reach the base case\n",
    "    * n! = n * (n-1)!"
   ]
  },
  {
   "cell_type": "markdown",
   "metadata": {},
   "source": [
    "## 6. Excercise\n",
    "\n",
    "Complete the following code block so that the function calculates the factorial recursively.\n"
   ]
  },
  {
   "cell_type": "code",
   "execution_count": 2,
   "metadata": {},
   "outputs": [
    {
     "data": {
      "text/plain": [
       "24"
      ]
     },
     "execution_count": 2,
     "metadata": {},
     "output_type": "execute_result"
    }
   ],
   "source": [
    "# Recursive version of factorial\n",
    "\n",
    "def factorial(n):\n",
    "    if n == 1:\n",
    "        # base case\n",
    "        # easy to solve\n",
    "        # do it ourselves\n",
    "        return 1\n",
    "        \n",
    "    else:\n",
    "        # recursive case\n",
    "        # hard to solve\n",
    "        # do a little bit of the work and ask for \"help\"\n",
    "        return n*factorial(n-1)\n",
    "\n",
    "factorial(4)"
   ]
  },
  {
   "cell_type": "markdown",
   "metadata": {},
   "source": [
    "There's one case we haven't treated yet. It is also possible to ask the factorial of zero, 0! = 1. Can you rewrite the function above so that we can also use the function for n equals zero (hint: use two base cases)?"
   ]
  },
  {
   "cell_type": "markdown",
   "metadata": {},
   "source": [
    "## 7. Scope of variables\n",
    "\n",
    "When we call this function with a positive integer, it will recursively call itself by decreasing the number.\n",
    "\n",
    "Each function call multiples the number with the factorial of number minus 1 until the number is equal to one. This recursive call can be explained in the following steps.\n",
    "\n",
    "    1. factorial(4)              # 1st call with 4\n",
    "    2. 4 * factorial(3)          # 2nd call with 3\n",
    "    3. 4 * 3 * factorial(2)      # 3rd call with 2\n",
    "    4. 4 * 3 * 2 * factorial(1)  # 4th call with 1\n",
    "    5. 4 * 3 * 2 * 1                  # return from 4th call as number=1\n",
    "    6. 4 * 3 * 2                      # return from 3rd call\n",
    "    7. 4 * 6                          # return from 2nd call\n",
    "    8. 24                             # return from 1st call\n",
    "\n",
    "Our recursion ends when the number reduces to 1. This is called the base condition. Every recursive function must have a base condition that stops the recursion or else the function calls itself infinitely."
   ]
  },
  {
   "cell_type": "markdown",
   "metadata": {},
   "source": [
    "## Summary\n",
    "\n",
    "- each recursive call to a function creates its own scope/environment\n",
    "- bindings of a variable in a scope are not changed by recursive calls\n",
    "- as a result we can use the same variable names but they are different objects in separate scopes\n",
    "- flow of control passes back to the previous scope once the function returns a value"
   ]
  },
  {
   "cell_type": "markdown",
   "metadata": {},
   "source": [
    "# 8. Question\n",
    "\n",
    "Look at the two solutions of factorial, the iterative one and the recursive one. Which one do you like more?"
   ]
  },
  {
   "cell_type": "code",
   "execution_count": null,
   "metadata": {},
   "outputs": [],
   "source": [
    "# answer? the recursive one / the recursive one"
   ]
  }
 ],
 "metadata": {
  "kernelspec": {
   "display_name": "Python 3.10.6 ('AI_env': venv)",
   "language": "python",
   "name": "python3"
  },
  "language_info": {
   "codemirror_mode": {
    "name": "ipython",
    "version": 3
   },
   "file_extension": ".py",
   "mimetype": "text/x-python",
   "name": "python",
   "nbconvert_exporter": "python",
   "pygments_lexer": "ipython3",
   "version": "3.11.5"
  },
  "vscode": {
   "interpreter": {
    "hash": "ee412e95a0a5fcd4bc718149b06e63b52799b36d97dd83a114f114becc1d8225"
   }
  }
 },
 "nbformat": 4,
 "nbformat_minor": 2
}
