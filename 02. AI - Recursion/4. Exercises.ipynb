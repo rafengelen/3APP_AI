{
 "cells": [
  {
   "cell_type": "markdown",
   "metadata": {},
   "source": [
    "# Exercises\n",
    "\n",
    "**Important**: Try to think of a recursive solution to the problems below yourself. Do not use the Internet, because you will ruin all the fun."
   ]
  },
  {
   "cell_type": "markdown",
   "metadata": {},
   "source": [
    "## 1. Sum\n",
    "\n",
    "Write a recursive function `sum(n)` that computes the sum of all numbers from 1 to n, where n is given as a parameter."
   ]
  },
  {
   "cell_type": "code",
   "execution_count": 1,
   "metadata": {},
   "outputs": [
    {
     "name": "stdout",
     "output_type": "stream",
     "text": [
      "15\n"
     ]
    }
   ],
   "source": [
    "def sum(n):\n",
    "    if n==0:\n",
    "        return 0\n",
    "    elif n>0:\n",
    "        return n+sum(n-1)\n",
    "\n",
    "print(sum(5))"
   ]
  },
  {
   "cell_type": "markdown",
   "metadata": {},
   "source": [
    "## 2. Sum_array\n",
    "\n",
    "Write a recursive function `sum_array(numbers)` that computes and returns the sum of all elements in an array, where the array is given as a parameter. You can return all elements except the first one of an array using:"
   ]
  },
  {
   "cell_type": "code",
   "execution_count": null,
   "metadata": {},
   "outputs": [],
   "source": [
    "names = [\"Jeff\", \"Peter\", \"April\"]\n",
    "print(names[1:])"
   ]
  },
  {
   "cell_type": "code",
   "execution_count": 2,
   "metadata": {},
   "outputs": [
    {
     "ename": "TypeError",
     "evalue": "'function' object is not subscriptable",
     "output_type": "error",
     "traceback": [
      "\u001b[1;31m---------------------------------------------------------------------------\u001b[0m",
      "\u001b[1;31mTypeError\u001b[0m                                 Traceback (most recent call last)",
      "Cell \u001b[1;32mIn[2], line 8\u001b[0m\n\u001b[0;32m      5\u001b[0m         \u001b[39mreturn\u001b[39;00m \u001b[39m0\u001b[39m\n\u001b[0;32m      6\u001b[0m     \u001b[39mreturn\u001b[39;00m numbers[\u001b[39m0\u001b[39m]\u001b[39m+\u001b[39msum_array(sum_array[\u001b[39m1\u001b[39m:])\n\u001b[1;32m----> 8\u001b[0m \u001b[39mprint\u001b[39m(sum_array(numbers))\n",
      "Cell \u001b[1;32mIn[2], line 6\u001b[0m, in \u001b[0;36msum_array\u001b[1;34m(numbers)\u001b[0m\n\u001b[0;32m      4\u001b[0m \u001b[39mif\u001b[39;00m \u001b[39m0\u001b[39m\u001b[39m==\u001b[39m\u001b[39mlen\u001b[39m(numbers):\n\u001b[0;32m      5\u001b[0m     \u001b[39mreturn\u001b[39;00m \u001b[39m0\u001b[39m\n\u001b[1;32m----> 6\u001b[0m \u001b[39mreturn\u001b[39;00m numbers[\u001b[39m0\u001b[39m]\u001b[39m+\u001b[39msum_array(sum_array[\u001b[39m1\u001b[39;49m:])\n",
      "\u001b[1;31mTypeError\u001b[0m: 'function' object is not subscriptable"
     ]
    }
   ],
   "source": [
    "numbers = [5, 7, 6, 5, 2, 1]\n",
    "\n",
    "def sum_array(numbers):\n",
    "    if 0==len(numbers):\n",
    "        return 0\n",
    "    return numbers[0] + sum_array(sum_array(numbers[1:]))\n",
    "    \n",
    "print(sum_array(numbers))"
   ]
  },
  {
   "cell_type": "markdown",
   "metadata": {},
   "source": [
    "## 3. Minimum\n",
    "\n",
    "Write a recursive function `minimum(numbers)` that finds and returns the minimum element in an array, where the array is given as a parameter."
   ]
  },
  {
   "cell_type": "code",
   "execution_count": null,
   "metadata": {},
   "outputs": [],
   "source": [
    "numbers = [5, 7, 2, 5, 15, 10]\n"
   ]
  },
  {
   "cell_type": "markdown",
   "metadata": {},
   "source": [
    "## 4. Reverse\n",
    "\n",
    "Write a function `reverse(word)` to reverse a string using recursion."
   ]
  },
  {
   "cell_type": "code",
   "execution_count": null,
   "metadata": {},
   "outputs": [],
   "source": [
    "animal = \"hippopotamus\"\n",
    "\n",
    "\n",
    "    \n",
    "print(reverse(animal))"
   ]
  },
  {
   "cell_type": "markdown",
   "metadata": {},
   "source": [
    "## 5. Is_palindrome\n",
    "\n",
    "Write a recursive function `is_palindrome(sentence)` that determines whether a string is a palindrome. A palindrome is a word, number, phrase, or other sequence of characters which reads the same backward as forward, such as madam or racecar or the number 10801."
   ]
  },
  {
   "cell_type": "code",
   "execution_count": null,
   "metadata": {},
   "outputs": [],
   "source": [
    "import re\n",
    "\n",
    "original = \"A man, a plan, a canal, Panama!\"\n",
    "# original = \"Gate man sees name, garage man sees name tag.\"\n",
    "\n",
    "sentence = re.sub('[^A-Za-z]', '', original)\n",
    "sentence = sentence.lower()\n",
    "print (sentence)\n",
    "\n",
    "\n",
    "    \n",
    "print (\"Is '%s' a palindrome?\" % original, 'yes' if is_palindrome(sentence) else 'no')"
   ]
  },
  {
   "cell_type": "markdown",
   "metadata": {},
   "source": [
    "## 6. Fibonacci\n",
    "\n",
    "Write a recursive function `fibonacci(n)` to print the Fibonacci sequence. In the Fibonacci sequence, each number is the sum of the previous two numbers:\n",
    "                                                               \n",
    "1  1  2  3  5  8  13  21  34  55\n",
    "\n",
    "So fibonacci(9) gives 55."
   ]
  },
  {
   "cell_type": "code",
   "execution_count": null,
   "metadata": {},
   "outputs": [],
   "source": [
    "\n",
    "\n",
    "print(fibonacci(0))\n",
    "print(fibonacci(4))\n",
    "print(fibonacci(9))"
   ]
  },
  {
   "cell_type": "markdown",
   "metadata": {},
   "source": [
    "## 7. Print_tree\n",
    "\n",
    "Consider the following `Node` class."
   ]
  },
  {
   "cell_type": "code",
   "execution_count": null,
   "metadata": {},
   "outputs": [],
   "source": [
    "class Node:\n",
    "    def __init__(self, name, parent = None):\n",
    "        self.name = name\n",
    "        self.children = []\n",
    "        self.parent = parent\n",
    "        if parent is not None:\n",
    "            parent.add_child(self)\n",
    "\n",
    "    def add_child(self, node):\n",
    "        self.children.append(node)\n",
    "        \n",
    "    def get_children(self):\n",
    "        return self.children"
   ]
  },
  {
   "cell_type": "markdown",
   "metadata": {},
   "source": [
    "Now use this class to code the following tree:\n",
    "        \n",
    "<img src=\"./resources/tree.png\"  style=\"height: 250px\"/>"
   ]
  },
  {
   "cell_type": "code",
   "execution_count": null,
   "metadata": {},
   "outputs": [],
   "source": [
    "udo = Node(\"Udo\")\n",
    "marc = Node(\"Marc\", parent=udo)\n",
    "# ..."
   ]
  },
  {
   "cell_type": "markdown",
   "metadata": {},
   "source": [
    "Finally write a recursive function `print_tree(node)` that prints all the descendants of a given node."
   ]
  },
  {
   "cell_type": "code",
   "execution_count": null,
   "metadata": {},
   "outputs": [],
   "source": [
    "\n",
    "    \n",
    "print_tree(udo)"
   ]
  }
 ],
 "metadata": {
  "kernelspec": {
   "display_name": "Python 3.10.6 64-bit",
   "language": "python",
   "name": "python3"
  },
  "language_info": {
   "codemirror_mode": {
    "name": "ipython",
    "version": 3
   },
   "file_extension": ".py",
   "mimetype": "text/x-python",
   "name": "python",
   "nbconvert_exporter": "python",
   "pygments_lexer": "ipython3",
   "version": "3.11.5"
  },
  "vscode": {
   "interpreter": {
    "hash": "3fc13ab7e79b368e8913ee9489736a3ec6aa6e620b54b7989a5eeb0416c11724"
   }
  }
 },
 "nbformat": 4,
 "nbformat_minor": 2
}
