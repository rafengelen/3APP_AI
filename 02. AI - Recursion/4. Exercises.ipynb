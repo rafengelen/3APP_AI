{
 "cells": [
  {
   "cell_type": "markdown",
   "metadata": {},
   "source": [
    "# Exercises\n",
    "\n",
    "**Important**: Try to think of a recursive solution to the problems below yourself. Do not use the Internet, because you will ruin all the fun."
   ]
  },
  {
   "cell_type": "markdown",
   "metadata": {},
   "source": [
    "## 1. Sum\n",
    "\n",
    "Write a recursive function `sum(n)` that computes the sum of all numbers from 1 to n, where n is given as a parameter."
   ]
  },
  {
   "cell_type": "code",
   "execution_count": 1,
   "metadata": {},
   "outputs": [
    {
     "name": "stdout",
     "output_type": "stream",
     "text": [
      "15\n"
     ]
    }
   ],
   "source": [
    "def sum(n):\n",
    "    if n==0:\n",
    "        return 0\n",
    "    elif n>0:\n",
    "        return n+sum(n-1)\n",
    "\n",
    "print(sum(5))"
   ]
  },
  {
   "cell_type": "markdown",
   "metadata": {},
   "source": [
    "## 2. Sum_array\n",
    "\n",
    "Write a recursive function `sum_array(numbers)` that computes and returns the sum of all elements in an array, where the array is given as a parameter. You can return all elements except the first one of an array using:"
   ]
  },
  {
   "cell_type": "code",
   "execution_count": 2,
   "metadata": {},
   "outputs": [
    {
     "name": "stdout",
     "output_type": "stream",
     "text": [
      "['Peter', 'April']\n"
     ]
    }
   ],
   "source": [
    "names = [\"Jeff\", \"Peter\", \"April\"]\n",
    "print(names[1:])"
   ]
  },
  {
   "cell_type": "code",
   "execution_count": 3,
   "metadata": {},
   "outputs": [
    {
     "name": "stdout",
     "output_type": "stream",
     "text": [
      "26\n"
     ]
    }
   ],
   "source": [
    "numbers = [5, 7, 6, 5, 2, 1]\n",
    "\n",
    "def sum_array(numbers):\n",
    "    if 0==len(numbers):\n",
    "        return 0\n",
    "    return numbers[0] + sum_array(numbers[1:])\n",
    "    \n",
    "print(sum_array(numbers))"
   ]
  },
  {
   "cell_type": "markdown",
   "metadata": {},
   "source": [
    "## 3. Minimum\n",
    "\n",
    "Write a recursive function `minimum(numbers)` that finds and returns the minimum element in an array, where the array is given as a parameter."
   ]
  },
  {
   "cell_type": "code",
   "execution_count": 5,
   "metadata": {},
   "outputs": [
    {
     "name": "stdout",
     "output_type": "stream",
     "text": [
      "2\n"
     ]
    }
   ],
   "source": [
    "numbers = [5, 7, 2, 5, 15, 10]\n",
    "\n",
    "def minimum(numbers):\n",
    "    if len(numbers)==1:\n",
    "        return numbers[0]\n",
    "    else:\n",
    "        return min(numbers[0], minimum(numbers[1:]))\n",
    "print(minimum(numbers))"
   ]
  },
  {
   "cell_type": "markdown",
   "metadata": {},
   "source": [
    "## 4. Reverse\n",
    "\n",
    "Write a function `reverse(word)` to reverse a string using recursion."
   ]
  },
  {
   "cell_type": "code",
   "execution_count": 7,
   "metadata": {},
   "outputs": [
    {
     "name": "stdout",
     "output_type": "stream",
     "text": [
      "sumatopoppih\n"
     ]
    }
   ],
   "source": [
    "animal = \"hippopotamus\"\n",
    "\n",
    "def reverse(text):\n",
    "    if len(text)==1:\n",
    "        return text[0]\n",
    "    else:\n",
    "        return text[-1] + reverse(text[0:-1])\n",
    "    \n",
    "print(reverse(animal))"
   ]
  },
  {
   "cell_type": "markdown",
   "metadata": {},
   "source": [
    "## 5. Is_palindrome\n",
    "\n",
    "Write a recursive function `is_palindrome(sentence)` that determines whether a string is a palindrome. A palindrome is a word, number, phrase, or other sequence of characters which reads the same backward as forward, such as madam or racecar or the number 10801."
   ]
  },
  {
   "cell_type": "code",
   "execution_count": 8,
   "metadata": {},
   "outputs": [
    {
     "name": "stdout",
     "output_type": "stream",
     "text": [
      "amanaplanacanalpanama\n",
      "Is 'A man, a plan, a canal, Panama!' a palindrome? yes\n"
     ]
    }
   ],
   "source": [
    "import re\n",
    "\n",
    "original = \"A man, a plan, a canal, Panama!\"\n",
    "# original = \"Gate man sees name, garage man sees name tag.\"\n",
    "\n",
    "def is_palindrome(text):\n",
    "    if sentence == reverse(sentence):\n",
    "        return True\n",
    "    return False\n",
    "\n",
    "sentence = re.sub('[^A-Za-z]', '', original)\n",
    "sentence = sentence.lower()\n",
    "print (sentence)\n",
    "\n",
    "\n",
    "    \n",
    "print (\"Is '%s' a palindrome?\" % original, 'yes' if is_palindrome(sentence) else 'no')"
   ]
  },
  {
   "cell_type": "markdown",
   "metadata": {},
   "source": [
    "## 6. Fibonacci\n",
    "\n",
    "Write a recursive function `fibonacci(n)` to print the Fibonacci sequence. In the Fibonacci sequence, each number is the sum of the previous two numbers:\n",
    "                                                               \n",
    "1  1  2  3  5  8  13  21  34  55\n",
    "\n",
    "So fibonacci(9) gives 55."
   ]
  },
  {
   "cell_type": "code",
   "execution_count": 7,
   "metadata": {},
   "outputs": [
    {
     "name": "stdout",
     "output_type": "stream",
     "text": [
      "[]\n",
      "[1, 1, 2, 3]\n",
      "[1, 1, 2, 3, 5, 8, 13, 21, 34]\n"
     ]
    }
   ],
   "source": [
    "def fibonacci(n):\n",
    "    if n <= 0:\n",
    "        return []\n",
    "    elif n == 1:\n",
    "        return [1]\n",
    "    elif n == 2:\n",
    "        return [1, 1]\n",
    "    else:\n",
    "        fib_sequence = fibonacci(n - 1)\n",
    "        fib_sequence.append(fib_sequence[-1] + fib_sequence[-2])\n",
    "        return fib_sequence\n",
    "print(fibonacci(0))\n",
    "print(fibonacci(4))\n",
    "print(fibonacci(9))"
   ]
  },
  {
   "cell_type": "markdown",
   "metadata": {},
   "source": [
    "## 7. Print_tree\n",
    "\n",
    "Consider the following `Node` class."
   ]
  },
  {
   "cell_type": "code",
   "execution_count": 11,
   "metadata": {},
   "outputs": [],
   "source": [
    "class Node:\n",
    "    def __init__(self, name, parent = None):\n",
    "        self.name = name\n",
    "        self.children = []\n",
    "        self.parent = parent\n",
    "        if parent is not None:\n",
    "            parent.add_child(self)\n",
    "\n",
    "    def add_child(self, node):\n",
    "        self.children.append(node)\n",
    "        \n",
    "    def get_children(self):\n",
    "        return self.children"
   ]
  },
  {
   "cell_type": "markdown",
   "metadata": {},
   "source": [
    "Now use this class to code the following tree:\n",
    "        \n",
    "<img src=\"./resources/tree.png\"  style=\"height: 250px\"/>"
   ]
  },
  {
   "cell_type": "code",
   "execution_count": 12,
   "metadata": {},
   "outputs": [],
   "source": [
    "udo = Node(\"Udo\")\n",
    "marc = Node(\"Marc\", parent=udo)\n",
    "# ...\n",
    "lian = Node(\"Lian\", parent=marc)\n",
    "dan = Node(\"Dan\", parent=udo)\n",
    "jet = Node(\"Jet\", parent=dan)\n",
    "jan = Node(\"Jan\", parent=dan)\n",
    "joe = Node(\"Joe\", parent=dan)"
   ]
  },
  {
   "cell_type": "markdown",
   "metadata": {},
   "source": [
    "Finally write a recursive function `print_tree(node)` that prints all the descendants of a given node."
   ]
  },
  {
   "cell_type": "code",
   "execution_count": 16,
   "metadata": {},
   "outputs": [
    {
     "name": "stdout",
     "output_type": "stream",
     "text": [
      "Marc\n",
      "Lian\n",
      "Dan\n",
      "Jet\n",
      "Jan\n",
      "Joe\n"
     ]
    }
   ],
   "source": [
    "def print_tree(node):\n",
    "    if len(node.children)!=0:\n",
    "        \n",
    "        for childNode in node.children:\n",
    "            print(childNode.name)\n",
    "            print_tree(childNode)\n",
    "    \n",
    "print_tree(udo)"
   ]
  }
 ],
 "metadata": {
  "kernelspec": {
   "display_name": "Python 3.10.6 64-bit",
   "language": "python",
   "name": "python3"
  },
  "language_info": {
   "codemirror_mode": {
    "name": "ipython",
    "version": 3
   },
   "file_extension": ".py",
   "mimetype": "text/x-python",
   "name": "python",
   "nbconvert_exporter": "python",
   "pygments_lexer": "ipython3",
   "version": "3.11.5"
  },
  "vscode": {
   "interpreter": {
    "hash": "3fc13ab7e79b368e8913ee9489736a3ec6aa6e620b54b7989a5eeb0416c11724"
   }
  }
 },
 "nbformat": 4,
 "nbformat_minor": 2
}
