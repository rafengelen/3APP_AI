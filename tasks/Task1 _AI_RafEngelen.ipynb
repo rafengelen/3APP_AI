{
 "cells": [
  {
   "cell_type": "markdown",
   "metadata": {},
   "source": []
  },
  {
   "cell_type": "code",
   "execution_count": 106,
   "metadata": {},
   "outputs": [],
   "source": [
    "from simpleai.search import CspProblem, backtrack\n",
    "puzzle = input(\"Give a cryptarithmetic puzzle.\")\n",
    "\n"
   ]
  },
  {
   "cell_type": "markdown",
   "metadata": {},
   "source": [
    "The next step is to define a few things:\n",
    "1. The operator ( +, -, *, / )\n",
    "2. We need the 3 words, the first 2 words in the calculation and the result word.\n",
    "\n",
    "To find the operator we first need to define what operations we want to be possible. In the exercises, there was + and *, but for this task I want to include - and /.\n",
    "\n",
    "For the words we slice the given puzzle. We will define a correct form of puzzle as 'word1 + word2 = result', so between the 2 first there is an operator and in between the 2 last words there is an equal sign. Because we know this, we can slice the puzzle by finding the operator and the equal sign. After slicing the puzzle we remove the spaces and we capitalize the letters."
   ]
  },
  {
   "cell_type": "code",
   "execution_count": 107,
   "metadata": {},
   "outputs": [
    {
     "name": "stdout",
     "output_type": "stream",
     "text": [
      "to + go = out\n",
      "+\n",
      "TO\n",
      "GO\n",
      "OUT\n"
     ]
    }
   ],
   "source": [
    "print (puzzle)\n",
    "\n",
    "if puzzle.find(\"+\") != -1:\n",
    "    operator = \"+\"\n",
    "elif puzzle.find(\"-\") != -1:\n",
    "     operator = \"-\"\n",
    "elif puzzle.find(\"*\") != -1:\n",
    "     operator = \"*\"\n",
    "elif puzzle.find(\"/\") != -1:\n",
    "     operator = \"/\"\n",
    "else:\n",
    "    print(\"The given puzzle is not in a correct form.\")\n",
    "print (operator)\n",
    "\n",
    "\n",
    "word_1 = puzzle[:puzzle.index(operator)].replace(\" \",\"\").upper()\n",
    "word_2 = puzzle[puzzle.index(operator)+1:puzzle.index(\"=\")].replace(\" \",\"\").upper()\n",
    "word_result = puzzle[puzzle.index(\"=\")+1:].replace(\" \",\"\").upper()\n",
    "\n",
    "\n",
    "print(word_1)\n",
    "print(word_2)\n",
    "\n",
    "print(word_result)\n"
   ]
  },
  {
   "cell_type": "markdown",
   "metadata": {},
   "source": [
    "Next we create a tuple of all the unique letters. Also a dictionairy where each possible number is appointed to a letter. Of course the first letters of the words cannot have 0 as a value."
   ]
  },
  {
   "cell_type": "code",
   "execution_count": 108,
   "metadata": {},
   "outputs": [
    {
     "name": "stdout",
     "output_type": "stream",
     "text": [
      "('T', 'O', 'G', 'U')\n",
      "{'T': [1, 2, 3, 4, 5, 6, 7, 8, 9], 'O': [1, 2, 3, 4, 5, 6, 7, 8, 9], 'G': [1, 2, 3, 4, 5, 6, 7, 8, 9], 'U': [0, 1, 2, 3, 4, 5, 6, 7, 8, 9]}\n"
     ]
    }
   ],
   "source": [
    "\n",
    "variables = []\n",
    "for word in (word_1, word_2, word_result):\n",
    "    for char in word:\n",
    "        if char not in variables:\n",
    "            variables.append(char)\n",
    "\n",
    "variables = tuple(variables)\n",
    "print(variables)\n",
    "domains = {}\n",
    "\n",
    "for letter in variables:\n",
    "    if letter in [word_1[0], word_2[0], word_result[0]]:\n",
    "        domains[letter] = list(range(1, 10))\n",
    "    else:\n",
    "        domains[letter] = list(range(0, 10))\n",
    "print(domains)"
   ]
  },
  {
   "cell_type": "markdown",
   "metadata": {},
   "source": []
  },
  {
   "cell_type": "code",
   "execution_count": 109,
   "metadata": {},
   "outputs": [
    {
     "name": "stdout",
     "output_type": "stream",
     "text": [
      "\n",
      "Solutions: {'T': 2, 'O': 1, 'G': 8, 'U': 0}\n"
     ]
    }
   ],
   "source": [
    "def constraint_unique(variables, values):\n",
    "    return len(values) == len(set(values))\n",
    "def constraint_calculation(variables, values):\n",
    "    number_1 = \"\"\n",
    "    number_2 = \"\"\n",
    "    result=\"\"\n",
    "\n",
    "\n",
    "\n",
    "    for letter in word_1:\n",
    "        number_1+=str(values[variables.index(letter)])\n",
    "    number_1 = int(number_1)\n",
    "    \n",
    "    for letter in word_2:\n",
    "        number_2+=str(values[variables.index(letter)])\n",
    "    number_2 = int(number_2)\n",
    "\n",
    "\n",
    "    for letter in word_result:\n",
    "        result+=str(values[variables.index(letter)])\n",
    "    result = int(result)\n",
    "\n",
    "\n",
    "    if operator ==  \"+\":\n",
    "        return (number_1 + number_2) == result\n",
    "    elif operator == \"-\":\n",
    "        return result == (number_1 - number_2) == result\n",
    "    elif operator == \"*\":\n",
    "        return (number_1 * number_2) == result\n",
    "    else:\n",
    "        return (number_1 / number_2) ==result\n",
    "\n",
    "constraints = [\n",
    "    (variables, constraint_unique),\n",
    "    (variables, constraint_calculation),\n",
    "]\n",
    "\n",
    "problem = CspProblem(variables, domains, constraints)\n",
    "\n",
    "output = backtrack(problem)\n",
    "print('\\nSolutions:', output)"
   ]
  }
 ],
 "metadata": {
  "kernelspec": {
   "display_name": "Python 3",
   "language": "python",
   "name": "python3"
  },
  "language_info": {
   "codemirror_mode": {
    "name": "ipython",
    "version": 3
   },
   "file_extension": ".py",
   "mimetype": "text/x-python",
   "name": "python",
   "nbconvert_exporter": "python",
   "pygments_lexer": "ipython3",
   "version": "3.11.5"
  },
  "orig_nbformat": 4
 },
 "nbformat": 4,
 "nbformat_minor": 2
}
