{
 "cells": [
  {
   "cell_type": "markdown",
   "metadata": {},
   "source": [
    "## Task1: Cryptarithmetic puzzle "
   ]
  },
  {
   "cell_type": "code",
   "execution_count": 1,
   "metadata": {},
   "outputs": [],
   "source": [
    "from simpleai.search import CspProblem, backtrack\n",
    "puzzle = input(\"Give a cryptarithmetic puzzle.\")\n",
    "\n"
   ]
  },
  {
   "cell_type": "markdown",
   "metadata": {},
   "source": [
    "### Validating the input \n",
    "We have gotten a string, but it might not be in a correct form (... + ... = ...). We will have check if the string is usable. The input needs has the following validation rules:\n",
    "1. There is an operator (+, -, * or /)\n",
    "2. There is an = sign\n",
    "3. There are 3 words which are split up by the operator and the = sign\n"
   ]
  },
  {
   "cell_type": "code",
   "execution_count": 2,
   "metadata": {},
   "outputs": [],
   "source": [
    "import re  \n",
    "# The puzzle has only one operator\n",
    "def validate_operator(puzzle : str):\n",
    "    pattern = r'^[^+\\-*/]*[+\\-*/][^+\\-*/]*$'\n",
    "    if re.match(pattern, puzzle):\n",
    "        return True\n",
    "    else:\n",
    "        raise Exception(\"\"\"The cryptarithmetic puzzle is not in the correct form. Use one operator (+, -, *, /) to define your calculation.\"\"\")\n",
    "\n",
    "# the puzzle has an only one = sign\n",
    "def validate_equal_sign(puzzle : str):\n",
    "    if puzzle.count('=') == 1:\n",
    "        return True\n",
    "    else: \n",
    "        raise Exception(\"\"\"The cryptarithmetic puzzle is not in the correct form. Use one \"=\" sign.\"\"\")\n",
    "    \n",
    "# The puzzle has 3 words which are split up by the operator and the = sign\n",
    "def validate_3words(puzzle : str):\n",
    "    pattern = r'^[a-zA-Z]+\\s*[+\\-*/]\\s*[a-zA-Z]+\\s*=\\s*[a-zA-Z]+$'\n",
    "\n",
    "    modified_string = re.sub(r'\\s', '', puzzle)\n",
    "    if re.match(pattern, modified_string) :\n",
    "        return True\n",
    "    else:\n",
    "        raise Exception(\"\"\"The cryptarithmetic puzzle is not in the correct form. The correct form is: \"ai + is = fun\", you will need 3 words.\"\"\")\n",
    "\n",
    "\n",
    "def validate_puzzle(puzzle : str):\n",
    "    validate_operator(puzzle)\n",
    "    validate_equal_sign(puzzle)\n",
    "    validate_3words(puzzle)\n",
    "    \n",
    "validate_puzzle(puzzle)\n",
    "    "
   ]
  },
  {
   "cell_type": "markdown",
   "metadata": {},
   "source": [
    "### Getting the operator and the words\n",
    "The next step is to define a few things:\n",
    "1. The operator ( +, -, *, / )\n",
    "2. We need the 3 words, the first 2 words in the calculation and the result word.\n"
   ]
  },
  {
   "cell_type": "code",
   "execution_count": 3,
   "metadata": {},
   "outputs": [
    {
     "name": "stdout",
     "output_type": "stream",
     "text": [
      "+\n"
     ]
    }
   ],
   "source": [
    "def find_operator(puzzle):\n",
    "     if \"+\" in puzzle:\n",
    "          operator = \"+\"\n",
    "     elif \"-\" in puzzle:\n",
    "          operator = \"-\"\n",
    "     elif \"*\" in puzzle:\n",
    "          operator = \"*\"\n",
    "     else:\n",
    "           operator = \"/\"\n",
    "     return operator\n",
    "\n",
    "operator = find_operator(puzzle)\n",
    "print(operator)"
   ]
  },
  {
   "cell_type": "markdown",
   "metadata": {},
   "source": [
    "For the words we slice the given puzzle. Because we defined the correct form of the puzzle as 'word1 + word2 = result', between the 2 first there is an operator and in between the 2 last words there is an equal sign. Because we know this, we can slice the puzzle by finding the operator and the equal sign. After slicing the puzzle we remove the spaces and we capitalize the letters."
   ]
  },
  {
   "cell_type": "code",
   "execution_count": 4,
   "metadata": {},
   "outputs": [
    {
     "name": "stdout",
     "output_type": "stream",
     "text": [
      "TO + GO = OUT\n"
     ]
    }
   ],
   "source": [
    "word_1 = puzzle[:puzzle.index(operator)].replace(\" \",\"\").upper()\n",
    "word_2 = puzzle[puzzle.index(operator)+1:puzzle.index(\"=\")].replace(\" \",\"\").upper()\n",
    "word_result = puzzle[puzzle.index(\"=\")+1:].replace(\" \",\"\").upper()\n",
    "\n",
    "print(f\"{word_1} {operator} {word_2} = {word_result}\")\n"
   ]
  },
  {
   "cell_type": "markdown",
   "metadata": {},
   "source": [
    "### Unique letters and the possible numbers\n",
    "Next we create a tuple of all the unique letters. "
   ]
  },
  {
   "cell_type": "code",
   "execution_count": 5,
   "metadata": {},
   "outputs": [
    {
     "name": "stdout",
     "output_type": "stream",
     "text": [
      "('T', 'O', 'G', 'U')\n"
     ]
    }
   ],
   "source": [
    "\n",
    "def unique_letters(word_1 : str, word_2 : str, word_result : str):\n",
    "    letters = []\n",
    "    for word in (word_1, word_2, word_result):\n",
    "        for char in word:\n",
    "            if char not in letters:\n",
    "                letters.append(char)\n",
    "    return tuple(letters)\n",
    "\n",
    "letters = unique_letters(word_1, word_2, word_result)\n",
    "print(letters)\n",
    "\n"
   ]
  },
  {
   "cell_type": "markdown",
   "metadata": {},
   "source": [
    "Also a dictionairy where each possible number is appointed to a letter. Of course the first letters of the words cannot have 0 as a value."
   ]
  },
  {
   "cell_type": "code",
   "execution_count": 6,
   "metadata": {},
   "outputs": [
    {
     "name": "stdout",
     "output_type": "stream",
     "text": [
      "{'T': [1, 2, 3, 4, 5, 6, 7, 8, 9], 'O': [1, 2, 3, 4, 5, 6, 7, 8, 9], 'G': [1, 2, 3, 4, 5, 6, 7, 8, 9], 'U': [0, 1, 2, 3, 4, 5, 6, 7, 8, 9]}\n"
     ]
    }
   ],
   "source": [
    "def possible_values(letters : tuple):\n",
    "    domains = {}\n",
    "\n",
    "    for letter in letters:\n",
    "        if letter in [word_1[0], word_2[0], word_result[0]]:\n",
    "            domains[letter] = list(range(1, 10))\n",
    "        else:\n",
    "            domains[letter] = list(range(0, 10))\n",
    "    return domains\n",
    "\n",
    "domains = possible_values(letters)\n",
    "print(domains)"
   ]
  },
  {
   "cell_type": "markdown",
   "metadata": {},
   "source": [
    "### Constraints\n",
    "We need 2 constraints, one constraint to make sure that there are no duplicates. The other calculates the result of the operation and checks this with the given result."
   ]
  },
  {
   "cell_type": "code",
   "execution_count": 7,
   "metadata": {},
   "outputs": [],
   "source": [
    "# constraint 1\n",
    "def constraint_unique(variables, values):\n",
    "    return len(values) == len(set(values))\n",
    "\n",
    "# helper function for constraint 2\n",
    "def word_as_number(word : str, values, variables):\n",
    "    number = \"\"\n",
    "    for letter in word:\n",
    "        number += str(values[variables.index(letter)])\n",
    "    return int(number)\n",
    "\n",
    "#constraint 2\n",
    "def constraint_calculation(variables, values):\n",
    "\n",
    "    number_1 = word_as_number(word_1, values, variables)\n",
    "    number_2 = word_as_number(word_2, values, variables)\n",
    "    result = word_as_number(word_result, values, variables)\n",
    "\n",
    "    if operator ==  \"+\":\n",
    "        return (number_1 + number_2) == result\n",
    "    elif operator == \"-\":\n",
    "        return result == (number_1 - number_2) == result\n",
    "    elif operator == \"*\":\n",
    "        return (number_1 * number_2) == result\n",
    "    else:\n",
    "        return (number_1 / number_2) ==result"
   ]
  },
  {
   "cell_type": "markdown",
   "metadata": {},
   "source": [
    "The constraints are applied to all the letters."
   ]
  },
  {
   "cell_type": "code",
   "execution_count": 8,
   "metadata": {},
   "outputs": [],
   "source": [
    "constraints = [\n",
    "    (letters, constraint_unique),\n",
    "    (letters, constraint_calculation),\n",
    "]"
   ]
  },
  {
   "cell_type": "markdown",
   "metadata": {},
   "source": [
    "## Backtracking\n",
    "\n",
    "Now we can define the problem and backtrack until we have a solution."
   ]
  },
  {
   "cell_type": "code",
   "execution_count": 9,
   "metadata": {},
   "outputs": [
    {
     "name": "stdout",
     "output_type": "stream",
     "text": [
      "Solutions: {'T': 2, 'O': 1, 'G': 8, 'U': 0}\n"
     ]
    }
   ],
   "source": [
    "problem = CspProblem(letters, domains, constraints)\n",
    "\n",
    "output = backtrack(problem)\n",
    "print('Solutions:', output)"
   ]
  }
 ],
 "metadata": {
  "kernelspec": {
   "display_name": "Python 3",
   "language": "python",
   "name": "python3"
  },
  "language_info": {
   "codemirror_mode": {
    "name": "ipython",
    "version": 3
   },
   "file_extension": ".py",
   "mimetype": "text/x-python",
   "name": "python",
   "nbconvert_exporter": "python",
   "pygments_lexer": "ipython3",
   "version": "3.10.0"
  },
  "orig_nbformat": 4
 },
 "nbformat": 4,
 "nbformat_minor": 2
}
