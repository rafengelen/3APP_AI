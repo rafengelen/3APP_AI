{
 "cells": [
  {
   "cell_type": "code",
   "execution_count": 24,
   "metadata": {},
   "outputs": [],
   "source": [
    "import requests\n",
    "from bs4 import BeautifulSoup\n",
    "from urllib.parse import urlparse, urljoin\n",
    "import time"
   ]
  },
  {
   "cell_type": "code",
   "execution_count": 25,
   "metadata": {},
   "outputs": [],
   "source": [
    "def get_image_urls(query, num_images=10):\n",
    "    url = \"https://www.google.com/search?q=darth+vader&tbm=isch&ved=2ahUKEwigvbS1yoiDAxVy5LsIHdqbA00Q2-cCegQIABAA&oq=darth+vader&gs_lcp=CgNpbWcQAzIECCMQJzIECCMQJzINCAAQgAQQigUQQxCxAzIKCAAQgAQQigUQQzIKCAAQgAQQigUQQzIFCAAQgAQyBQgAEIAEMgUIABCABDIFCAAQgAQyBQgAEIAEUABYAGCYCmgAcAB4AIABSIgBSJIBATGYAQCqAQtnd3Mtd2l6LWltZ8ABAQ&sclient=img&ei=JaF3ZeCWOfLI7_UP2reO6AQ&bih=970&biw=1879&client=opera-gx&hs=PnZ\"\n",
    "    headers = { \n",
    "        'User-Agent': 'Mozilla/5.0 (Windows NT 10.0; Win64; x64) AppleWebKit/537.36 (KHTML, like Gecko) Chrome/91.0.4472.124 Safari/537.36'\n",
    "    }\n",
    "    response = requests.get(url, headers=headers)\n",
    "    soup = BeautifulSoup(response.text, \"html.parser\")\n",
    "\n",
    "    # Extract image URLs\n",
    "    image_urls = []\n",
    "    for img_tag in soup.find_all(\"img\"):\n",
    "        src = img_tag.get(\"src\")\n",
    "        if src:\n",
    "            # Handle relative URLs\n",
    "            src = urljoin(url, src)\n",
    "            image_urls.append(src)\n",
    "\n",
    "        if len(image_urls) >= num_images:\n",
    "            break\n",
    "\n",
    "    return image_urls\n",
    "\n",
    "def download_images(image_urls, output_folder):\n",
    "    for i, url in enumerate(image_urls):\n",
    "        response = requests.get(url)\n",
    "        with open(f\"{output_folder}/image_{i + 1}.jpg\", \"wb\") as f:\n",
    "            f.write(response.content)\n",
    "        \n",
    "\n",
    "if __name__ == \"__main__\":\n",
    "    query = \"darth vader\"\n",
    "    num_images = 500\n",
    "    output_folder = \"images/darth_vader/\"\n",
    "\n",
    "    image_urls = get_image_urls(query, num_images)\n",
    "    download_images(image_urls, output_folder)"
   ]
  }
 ],
 "metadata": {
  "kernelspec": {
   "display_name": "Python 3",
   "language": "python",
   "name": "python3"
  },
  "language_info": {
   "codemirror_mode": {
    "name": "ipython",
    "version": 3
   },
   "file_extension": ".py",
   "mimetype": "text/x-python",
   "name": "python",
   "nbconvert_exporter": "python",
   "pygments_lexer": "ipython3",
   "version": "3.11.5"
  }
 },
 "nbformat": 4,
 "nbformat_minor": 2
}
