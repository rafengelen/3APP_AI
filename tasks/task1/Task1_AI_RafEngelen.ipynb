{
 "cells": [
  {
   "cell_type": "markdown",
   "metadata": {},
   "source": [
    "# Report task1: Cryptarithmetic puzzle "
   ]
  },
  {
   "cell_type": "markdown",
   "metadata": {},
   "source": [
    "## Introduction\n",
    "In this file you will find some code written in comments. This is code that is only necessary to run on Streamlit. The version on Streamlit will have that code not in comments. I will explain the program step by step, I have created functions that will be called in the same order as you see in this file. These functions will be called in the main function.\n",
    "\n",
    "Streamlit link: https://rafengelenaitask1.streamlit.app/ \n",
    "\n",
    "## The Program\n",
    "### Imports and input\n",
    "First we need to import al necessary modules and ask for a puzzle. It is possible to place spaces in the puzzle, for example in between the operator and the word. We remove all spaces.\n"
   ]
  },
  {
   "cell_type": "code",
   "execution_count": 100,
   "metadata": {},
   "outputs": [],
   "source": [
    "from simpleai.search import CspProblem, backtrack\n",
    "import re\n",
    "# import streamlit as st\n",
    "\n",
    "puzzle = input(\"Give a cryptarithmetic puzzle. \").replace(\" \",\"\")\n",
    "# st.header('Raf Engelen - r0901812 - 3APP01', divider='gray')\n",
    "# st.title(\"Task 1 AI: Cryptarithmetic puzzle\")\n",
    "# puzzle = st.text_input(\n",
    "#     label=\"Give a cryptarithmetic puzzle.\", \n",
    "#     placeholder=\"AI + IS = FUN\", \n",
    "#     label_visibility=\"visible\")"
   ]
  },
  {
   "cell_type": "markdown",
   "metadata": {},
   "source": [
    "### Validating the input \n",
    "We have gotten a string, but it might not be in a correct form (... + ... = ...). We will have check if the string is usable. The input needs has the following validation rules:\n",
    "1. There is an operator (+, -, * or /)\n",
    "2. There is an = sign\n",
    "3. There are 3 words which are split up by the operator and the = sign\n",
    "\n",
    "Problem: The text from the exception that is raised doesn't show on streamlit. \n",
    "\n",
    "Solution: I add text to the GUI when an exeption is raised so that it is visible which mistake has been made. (picture af exceptions are found at the end of the report)"
   ]
  },
  {
   "cell_type": "code",
   "execution_count": 101,
   "metadata": {},
   "outputs": [],
   "source": [
    "\n",
    "# The puzzle has only one operator\n",
    "def validate_operator(puzzle):\n",
    "    pattern = r'^[^+\\-*/]*[+\\-*/][^+\\-*/]*$'\n",
    "    if re.match(pattern, puzzle):\n",
    "        return True\n",
    "    else:\n",
    "        # st.write(\":red[The cryptarithmetic puzzle is not in the correct form. Use one operator (+, -, *, /) to define your calculation.]\")\n",
    "        raise Exception(\"The cryptarithmetic puzzle is not in the correct form. Use one operator (+, -, *, /) to define your calculation.\")\n",
    "\n",
    "# the puzzle has an only one = sign\n",
    "def validate_equal_sign(puzzle):\n",
    "    if puzzle.count('=') == 1:\n",
    "        return True\n",
    "    else: \n",
    "        # st.write(':red[The cryptarithmetic puzzle is not in the correct form. Use one \"=\" sign.]')\n",
    "        raise Exception('The cryptarithmetic puzzle is not in the correct form. Use one \"=\" sign.')\n",
    "    \n",
    "# The puzzle has 3 words which are split up by the operator and the = sign\n",
    "def validate_3words(puzzle):\n",
    "    pattern = r'^[a-zA-Z]+\\s*[+\\-*/]\\s*[a-zA-Z]+\\s*=\\s*[a-zA-Z]+$'\n",
    "\n",
    "    modified_string = re.sub(r'\\s', '', puzzle)\n",
    "    if re.match(pattern, modified_string) :\n",
    "        return True\n",
    "    else:\n",
    "\n",
    "        # st.write(':red[The cryptarithmetic puzzle is not in the correct form. The correct form is: \"ai + is = fun\", you will need 3 words.]')\n",
    "        raise Exception('The cryptarithmetic puzzle is not in the correct form. The correct form is: \"ai + is = fun\", you will need 3 words.')\n",
    "    \n",
    "# Execute all validation functions\n",
    "def validate_puzzle(puzzle):\n",
    "    validate_operator(puzzle)\n",
    "    validate_equal_sign(puzzle)\n",
    "    validate_3words(puzzle)\n"
   ]
  },
  {
   "cell_type": "markdown",
   "metadata": {},
   "source": [
    "### Getting the operator and the words\n",
    "The next step is to find a few things in the given puzzle:\n",
    "1. The operator ( +, -, *, / )\n",
    "2. We need the 3 words, the first 2 words in the calculation and the result word.\n",
    "\n",
    "We already know that there is an operator in the puzzle due to the validation, we merely have to check which one."
   ]
  },
  {
   "cell_type": "code",
   "execution_count": 102,
   "metadata": {},
   "outputs": [],
   "source": [
    "def find_operator(puzzle):\n",
    "     if \"+\" in puzzle:\n",
    "          operator = \"+\"\n",
    "     elif \"-\" in puzzle:\n",
    "          operator = \"-\"\n",
    "     elif \"*\" in puzzle:\n",
    "          operator = \"*\"\n",
    "     else:\n",
    "           operator = \"/\"\n",
    "     return operator"
   ]
  },
  {
   "cell_type": "markdown",
   "metadata": {},
   "source": [
    "For the words we slice the given puzzle. Because we defined the correct form of the puzzle as 'word1 + word2 = result', between the 2 first there is an operator and in between the 2 last words there is an equal sign. Because we know this, we can slice the puzzle by finding the operator and the equal sign. After slicing the puzzle we capitalize the letters."
   ]
  },
  {
   "cell_type": "code",
   "execution_count": 103,
   "metadata": {},
   "outputs": [],
   "source": [
    "def find_words(puzzle, operator):\n",
    "    word_1 = puzzle[:puzzle.index(operator)].upper()\n",
    "    word_2 = puzzle[puzzle.index(operator)+1:puzzle.index(\"=\")].upper()\n",
    "    word_result = puzzle[puzzle.index(\"=\")+1:].upper()\n",
    "    return [word_1, word_2, word_result]\n"
   ]
  },
  {
   "cell_type": "markdown",
   "metadata": {},
   "source": [
    "### Unique letters and the possible numbers\n",
    "Next we want to create a tuple of all the unique letters. The reason why we need the letters in a tuple is because simpleai needs it in a tuple. Yet because we want only the unique letters we first create a set."
   ]
  },
  {
   "cell_type": "code",
   "execution_count": 104,
   "metadata": {},
   "outputs": [],
   "source": [
    "def find_letters(words):\n",
    "    return tuple(set(\"\".join(words)))"
   ]
  },
  {
   "cell_type": "markdown",
   "metadata": {},
   "source": [
    "For simpleai we also need a dictionairy where each letter is the key for an array. In this array there are all possible numbers for the letter. Of course the first letters of the words cannot have 0 as a value."
   ]
  },
  {
   "cell_type": "code",
   "execution_count": 105,
   "metadata": {},
   "outputs": [],
   "source": [
    "def possible_values(letters, words):\n",
    "    domains = {}\n",
    "    for letter in letters:\n",
    "        if letter in [words[0][0], words[1][0], words[2][0]]:\n",
    "            \n",
    "            domains[letter] = list(range(1, 10))\n",
    "        else:\n",
    "            domains[letter] = list(range(0, 10))\n",
    "    return domains\n",
    "\n"
   ]
  },
  {
   "cell_type": "markdown",
   "metadata": {},
   "source": [
    "### Constraints\n",
    "We need 2 constraints, one constraint to make sure that there are no duplicates. The other calculates the result of the operation and checks this with the given result. Because the constraints will need to be in a certain form, the program will have to calculate somethings that we have already calculated.\n",
    "\n",
    "In the constraint_unique we merely check if the length of the tuple values is the same as the length of the set of values. This is because a set only has the unique values.\n",
    "\n",
    "In the constraint_calculation we first need the words. We use functions we have defines previously to find all the words. After that we need a way to create numbers from the words. I define another function for this which checkes which value each letter has and calculates the numerical values of the words. After that we check which operator is used so we can see if the calculation of the first 2 words (now as number) are equal to the third."
   ]
  },
  {
   "cell_type": "code",
   "execution_count": 106,
   "metadata": {},
   "outputs": [],
   "source": [
    "# constraint 1\n",
    "def constraint_unique(variables, values):\n",
    "    return len(values) == len(set(values))\n",
    "\n",
    "# helper function for constraint 2\n",
    "def word_as_number(word, values, variables):\n",
    "    number = \"\"\n",
    "    for letter in word:\n",
    "        number += str(values[variables.index(letter)])\n",
    "    return int(number)\n",
    "\n",
    "#constraint 2\n",
    "def constraint_calculation(variables, values):\n",
    "    operator = find_operator(puzzle)\n",
    "\n",
    "    words = find_words(puzzle, operator)\n",
    "\n",
    "    number_1 = word_as_number(words[0], values, variables)\n",
    "\n",
    "    number_2 = word_as_number(words[1], values, variables)\n",
    "    \n",
    "    result = word_as_number(words[2], values, variables)\n",
    "\n",
    "    if operator ==  \"+\":\n",
    "        return (number_1 + number_2) == result\n",
    "    elif operator == \"-\":\n",
    "        return result == (number_1 - number_2) == result\n",
    "    elif operator == \"*\":\n",
    "        return (number_1 * number_2) == result\n",
    "    else:\n",
    "        return (number_1 / number_2) ==result"
   ]
  },
  {
   "cell_type": "markdown",
   "metadata": {},
   "source": [
    "### Output\n",
    "\n",
    "I want the words and the numbers they represent in the output. So I create a function that gets me the numeric value of the words.\n"
   ]
  },
  {
   "cell_type": "code",
   "execution_count": 107,
   "metadata": {},
   "outputs": [],
   "source": [
    "def number_result(word : str,solutions : dict):\n",
    "    number = \"\"\n",
    "    for letter in word:\n",
    "        number += str(solutions[letter])\n",
    "    return int(number)"
   ]
  },
  {
   "cell_type": "markdown",
   "metadata": {},
   "source": [
    "### Solution\n",
    "All the previous functions will be used in the main fuction. This function will be used when puzzle has a value. This is important in streamlit to not get errors when loading the page.\n",
    "\n",
    "the functions will be used in the same order as the order as I have defined them. First we validate the puzzle, because we have done this we can find the operator and the words. Next we can find all the unique letters and create the possible values they can take and we define the constraints. Further we can define the problem and let the program backtrack the possible values the letters can take to check if it finds a solution.\n",
    "\n",
    "Finaly I want to print the results that we have gathered.\n",
    "\n",
    "We only execute the main function if the puzzle variable is not null, which means that the function will not be executed when the input box is empty. For example when you first load the application on streamlit."
   ]
  },
  {
   "cell_type": "code",
   "execution_count": 108,
   "metadata": {},
   "outputs": [
    {
     "name": "stdout",
     "output_type": "stream",
     "text": [
      "TO+GO=OUT\n",
      "Operator: +\n",
      "Words: ['TO', 'GO', 'OUT']\n",
      "Letters: ('U', 'T', 'G', 'O')\n",
      "Possible values for letters: {'U': [0, 1, 2, 3, 4, 5, 6, 7, 8, 9], 'T': [1, 2, 3, 4, 5, 6, 7, 8, 9], 'G': [1, 2, 3, 4, 5, 6, 7, 8, 9], 'O': [1, 2, 3, 4, 5, 6, 7, 8, 9]}\n",
      "\n",
      "Solution:\n",
      "TO + GO = OUT\n",
      "21 + 81 = 102\n",
      "__________________________________________________________________\n",
      "\n"
     ]
    }
   ],
   "source": [
    "def main(puzzle):\n",
    "    print(puzzle)\n",
    "    validate_puzzle(puzzle)\n",
    "\n",
    "    operator = find_operator(puzzle)\n",
    "    print(f\"Operator: {operator}\")\n",
    "\n",
    "    words = find_words(puzzle, operator)\n",
    "    print(f\"Words: {words}\")\n",
    "\n",
    "    letters = find_letters(words)\n",
    "    print(f\"Letters: {letters}\")\n",
    "\n",
    "    domains = possible_values(letters, words)\n",
    "    print(f\"Possible values for letters: {domains}\")\n",
    "    \n",
    "    constraints = [\n",
    "        (letters, constraint_unique),\n",
    "        (letters, constraint_calculation),\n",
    "    ]\n",
    "\n",
    "    problem = CspProblem(letters, domains, constraints)\n",
    "\n",
    "    output = backtrack(problem)\n",
    "    try:\n",
    "        print(f\"\\nSolution:\",\n",
    "              f\"{words[0]} {operator} {words[1]} = {words[2]}\",\n",
    "              f\"{number_result(words[0], output)} {operator} {number_result(words[1], output)} = {number_result(words[2], output)}\", \n",
    "              \"__________________________________________________________________\\n\", sep=\"\\n\")\n",
    "        \n",
    "        # st.write(f\"{words[0]} {operator} {words[1]} = {words[2]}\")\n",
    "        # st.write(f\"{number_result(words[0], output)} {operator} {number_result(words[1], output)} = {number_result(words[2], output)}\")\n",
    "    except:\n",
    "        print(\"No solutions found\\n\"\n",
    "              \"__________________________________________________________________\\n\")\n",
    "        # st.write(\"No solutions found\")\n",
    "\n",
    "\n",
    "\n",
    "if puzzle:\n",
    "    main(puzzle)"
   ]
  },
  {
   "cell_type": "markdown",
   "metadata": {},
   "source": [
    "## GenAI tools \n",
    "In this task I have utilised chatGPT once. This was to generate regex for the \"validate_operator\" and the \"validate_3words\" functions.\n",
    "\n",
    "To validate that there is an operator and only one operator in the puzzle, I have given ChatGPT the following prompt:"
   ]
  },
  {
   "cell_type": "markdown",
   "metadata": {},
   "source": [
    "![title](img\\chatGPT_regexOperator.PNG)"
   ]
  },
  {
   "cell_type": "markdown",
   "metadata": {},
   "source": [
    "To validate that the puzzle contains 3 'words' which are split up by an operator and a '=' sign. Note that the validation ignores spaces, this means that it is allowed that there are spaces between a word and the operator or '=' sign, but the spaces are not necessary. I have used chatGPT to generate the following response:"
   ]
  },
  {
   "cell_type": "markdown",
   "metadata": {},
   "source": [
    "![title](img\\chatGPT_regexwords.PNG)"
   ]
  },
  {
   "cell_type": "markdown",
   "metadata": {},
   "source": [
    "## Examples of outputs\n",
    "\n",
    "I will show some examples of cryptarithmetic puzzles with the result the program gives."
   ]
  },
  {
   "cell_type": "markdown",
   "metadata": {},
   "source": [
    "EXAMPLE 1:\n",
    "\n",
    "![title](img\\puzzle_togoout.PNG)"
   ]
  },
  {
   "cell_type": "markdown",
   "metadata": {},
   "source": [
    "EXAMPLE 2:\n",
    "\n",
    "![title](img\\puzzle_aimllol.PNG)"
   ]
  },
  {
   "cell_type": "markdown",
   "metadata": {},
   "source": [
    "EXAMPLE 3:\n",
    "\n",
    "![title](img\\puzzle_aiisfun.PNG)"
   ]
  },
  {
   "cell_type": "markdown",
   "metadata": {},
   "source": [
    "EXAMPLE 4:\n",
    "\n",
    "![title](img\\puzzle_divide.PNG)"
   ]
  },
  {
   "cell_type": "markdown",
   "metadata": {},
   "source": [
    "EXAMPLE 5: No operator in puzzle\n",
    "\n",
    "![title](img\\puzzle_withoutoperator.PNG)"
   ]
  },
  {
   "cell_type": "markdown",
   "metadata": {},
   "source": [
    "EXAMPLE 6: No = sign\n",
    "\n",
    "![title](img\\puzzle_zondervalidatie.PNG)"
   ]
  },
  {
   "cell_type": "markdown",
   "metadata": {},
   "source": [
    "EXAMPLE 7: No 3 words\n",
    "\n",
    "![title](img\\puzzle_3words.PNG)\n"
   ]
  }
 ],
 "metadata": {
  "kernelspec": {
   "display_name": "Python 3",
   "language": "python",
   "name": "python3"
  },
  "language_info": {
   "codemirror_mode": {
    "name": "ipython",
    "version": 3
   },
   "file_extension": ".py",
   "mimetype": "text/x-python",
   "name": "python",
   "nbconvert_exporter": "python",
   "pygments_lexer": "ipython3",
   "version": "3.11.5"
  },
  "orig_nbformat": 4
 },
 "nbformat": 4,
 "nbformat_minor": 2
}
