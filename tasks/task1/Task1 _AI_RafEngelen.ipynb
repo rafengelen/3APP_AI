{
 "cells": [
  {
   "cell_type": "markdown",
   "metadata": {},
   "source": [
    "## Task1: Cryptarithmetic puzzle "
   ]
  },
  {
   "cell_type": "markdown",
   "metadata": {},
   "source": [
    "## Introduction\n",
    "In this file you will find some code written in comments. This is code that is only necessary to run on Streamlit. The version on Streamlit will have that code not in comments. I will explain the program step by step, I have created functions that will be called in the same order as you see in this file. These functions will be called in the main function.\n",
    "## Imports and input\n",
    "First we need to import al necessary modules and ask for a puzzle."
   ]
  },
  {
   "cell_type": "code",
   "execution_count": 141,
   "metadata": {},
   "outputs": [],
   "source": [
    "from simpleai.search import CspProblem, backtrack\n",
    "import re\n",
    "# import streamlit as st\n",
    "\n",
    "puzzle = input(\"Give a cryptarithmetic puzzle. \")\n",
    "# st.header('Raf Engelen - r0901812 - 3APP01', divider='gray')\n",
    "# st.title(\"Task 1 AI: Cryptarithmetic puzzle\")\n",
    "# puzzle = st.text_input(\n",
    "#     label=\"Give a cryptarithmetic puzzle.\", \n",
    "#     placeholder=\"AI + IS = FUN\", \n",
    "#     label_visibility=\"visible\")"
   ]
  },
  {
   "cell_type": "markdown",
   "metadata": {},
   "source": [
    "### Validating the input \n",
    "We have gotten a string, but it might not be in a correct form (... + ... = ...). We will have check if the string is usable. The input needs has the following validation rules:\n",
    "1. There is an operator (+, -, * or /)\n",
    "2. There is an = sign\n",
    "3. There are 3 words which are split up by the operator and the = sign\n"
   ]
  },
  {
   "cell_type": "code",
   "execution_count": 142,
   "metadata": {},
   "outputs": [],
   "source": [
    "\n",
    "# The puzzle has only one operator\n",
    "def validate_operator(puzzle):\n",
    "    pattern = r'^[^+\\-*/]*[+\\-*/][^+\\-*/]*$'\n",
    "    if re.match(pattern, puzzle):\n",
    "        return True\n",
    "    else:\n",
    "        raise Exception(\"The cryptarithmetic puzzle is not in the correct form. Use one operator (+, -, *, /) to define your calculation.\")\n",
    "\n",
    "# the puzzle has an only one = sign\n",
    "def validate_equal_sign(puzzle):\n",
    "    if puzzle.count('=') == 1:\n",
    "        return True\n",
    "    else: \n",
    "        raise Exception('The cryptarithmetic puzzle is not in the correct form. Use one \"=\" sign.')\n",
    "    \n",
    "# The puzzle has 3 words which are split up by the operator and the = sign\n",
    "def validate_3words(puzzle):\n",
    "    pattern = r'^[a-zA-Z]+\\s*[+\\-*/]\\s*[a-zA-Z]+\\s*=\\s*[a-zA-Z]+$'\n",
    "\n",
    "    modified_string = re.sub(r'\\s', '', puzzle)\n",
    "    if re.match(pattern, modified_string) :\n",
    "        return True\n",
    "    else:\n",
    "        raise Exception('The cryptarithmetic puzzle is not in the correct form. The correct form is: \"ai + is = fun\", you will need 3 words.')\n",
    "\n",
    "# Execute all validation functions\n",
    "def validate_puzzle(puzzle):\n",
    "    validate_operator(puzzle)\n",
    "    validate_equal_sign(puzzle)\n",
    "    validate_3words(puzzle)\n"
   ]
  },
  {
   "cell_type": "markdown",
   "metadata": {},
   "source": [
    "### Getting the operator and the words\n",
    "The next step is to define a few things:\n",
    "1. The operator ( +, -, *, / )\n",
    "2. We need the 3 words, the first 2 words in the calculation and the result word.\n"
   ]
  },
  {
   "cell_type": "code",
   "execution_count": 143,
   "metadata": {},
   "outputs": [],
   "source": [
    "def find_operator(puzzle):\n",
    "     if \"+\" in puzzle:\n",
    "          operator = \"+\"\n",
    "     elif \"-\" in puzzle:\n",
    "          operator = \"-\"\n",
    "     elif \"*\" in puzzle:\n",
    "          operator = \"*\"\n",
    "     else:\n",
    "           operator = \"/\"\n",
    "     return operator"
   ]
  },
  {
   "cell_type": "markdown",
   "metadata": {},
   "source": [
    "For the words we slice the given puzzle. Because we defined the correct form of the puzzle as 'word1 + word2 = result', between the 2 first there is an operator and in between the 2 last words there is an equal sign. Because we know this, we can slice the puzzle by finding the operator and the equal sign. After slicing the puzzle we remove the spaces and we capitalize the letters."
   ]
  },
  {
   "cell_type": "code",
   "execution_count": 144,
   "metadata": {},
   "outputs": [],
   "source": [
    "def find_words(puzzle, operator):\n",
    "    word_1 = puzzle[:puzzle.index(operator)].replace(\" \",\"\").upper()\n",
    "    word_2 = puzzle[puzzle.index(operator)+1:puzzle.index(\"=\")].replace(\" \",\"\").upper()\n",
    "    word_result = puzzle[puzzle.index(\"=\")+1:].replace(\" \",\"\").upper()\n",
    "    return [word_1, word_2, word_result]\n"
   ]
  },
  {
   "cell_type": "markdown",
   "metadata": {},
   "source": [
    "### Unique letters and the possible numbers\n",
    "Next we want to create a tuple of all the unique letters. "
   ]
  },
  {
   "cell_type": "code",
   "execution_count": 145,
   "metadata": {},
   "outputs": [],
   "source": [
    "def find_letters(words):\n",
    "    return tuple(set(\"\".join(words)))"
   ]
  },
  {
   "cell_type": "markdown",
   "metadata": {},
   "source": [
    "Also a dictionairy where each possible number is appointed to a letter. Of course the first letters of the words cannot have 0 as a value."
   ]
  },
  {
   "cell_type": "code",
   "execution_count": 146,
   "metadata": {},
   "outputs": [],
   "source": [
    "def possible_values(letters, words):\n",
    "    domains = {}\n",
    "    for letter in letters:\n",
    "        if letter in [words[0][0], words[1][0], words[2][0]]:\n",
    "            \n",
    "            domains[letter] = list(range(1, 10))\n",
    "        else:\n",
    "            domains[letter] = list(range(0, 10))\n",
    "    return domains\n",
    "\n"
   ]
  },
  {
   "cell_type": "markdown",
   "metadata": {},
   "source": [
    "### Constraints\n",
    "We need 2 constraints, one constraint to make sure that there are no duplicates. The other calculates the result of the operation and checks this with the given result. Because the constraints will need to be in a certain form, the program will have to calculate somethings that we have already calculated. "
   ]
  },
  {
   "cell_type": "code",
   "execution_count": 147,
   "metadata": {},
   "outputs": [],
   "source": [
    "# constraint 1\n",
    "def constraint_unique(variables, values):\n",
    "    return len(values) == len(set(values))\n",
    "\n",
    "# helper function for constraint 2\n",
    "def word_as_number(word, values, variables):\n",
    "    number = \"\"\n",
    "    for letter in word:\n",
    "        number += str(values[variables.index(letter)])\n",
    "    return int(number)\n",
    "\n",
    "#constraint 2\n",
    "def constraint_calculation(variables, values):\n",
    "    operator = find_operator(puzzle)\n",
    "\n",
    "    words = find_words(puzzle, operator)\n",
    "\n",
    "    number_1 = word_as_number(words[0], values, variables)\n",
    "\n",
    "    number_2 = word_as_number(words[1], values, variables)\n",
    "    \n",
    "    result = word_as_number(words[2], values, variables)\n",
    "\n",
    "    if operator ==  \"+\":\n",
    "        return (number_1 + number_2) == result\n",
    "    elif operator == \"-\":\n",
    "        return result == (number_1 - number_2) == result\n",
    "    elif operator == \"*\":\n",
    "        return (number_1 * number_2) == result\n",
    "    else:\n",
    "        return (number_1 / number_2) ==result"
   ]
  },
  {
   "cell_type": "markdown",
   "metadata": {},
   "source": [
    "## Output\n",
    "\n",
    "I want the words and the numbers they represent in the output. So I create a function that gets me the numeric value of the words.\n"
   ]
  },
  {
   "cell_type": "code",
   "execution_count": 148,
   "metadata": {},
   "outputs": [],
   "source": [
    "def number_result(word : str,solutions : dict):\n",
    "    number = \"\"\n",
    "    for letter in word:\n",
    "        number += str(solutions[letter])\n",
    "    return int(number)"
   ]
  },
  {
   "cell_type": "markdown",
   "metadata": {},
   "source": [
    "### Solution\n",
    "All the previous functions will be used in the main fuction. This function will be used when puzzle has a value. This is important in streamlit to not get errors when loading the page"
   ]
  },
  {
   "cell_type": "code",
   "execution_count": 149,
   "metadata": {},
   "outputs": [
    {
     "name": "stdout",
     "output_type": "stream",
     "text": [
      "EVEN ODD O\n",
      "E O O\n",
      "{'O': [1, 2, 3, 4, 5, 6, 7, 8, 9], 'E': [1, 2, 3, 4, 5, 6, 7, 8, 9], 'V': [0, 1, 2, 3, 4, 5, 6, 7, 8, 9], 'N': [0, 1, 2, 3, 4, 5, 6, 7, 8, 9], 'D': [0, 1, 2, 3, 4, 5, 6, 7, 8, 9]}\n",
      "EVEN / ODD = O\n",
      "2720 / 544 = 5\n",
      "__________________________________________________________________\n",
      "\n"
     ]
    }
   ],
   "source": [
    "def main(puzzle):\n",
    "\n",
    "    validate_puzzle(puzzle)\n",
    "\n",
    "    operator = find_operator(puzzle)\n",
    "\n",
    "    words = find_words(puzzle, operator)\n",
    "\n",
    "    letters = find_letters(words)\n",
    "\n",
    "    domains = possible_values(letters, words)\n",
    "    \n",
    "    constraints = [\n",
    "        (letters, constraint_unique),\n",
    "        (letters, constraint_calculation),\n",
    "    ]\n",
    "    problem = CspProblem(letters, domains, constraints)\n",
    "\n",
    "    output = backtrack(problem)\n",
    "    try:\n",
    "        print(f\"{words[0]} {operator} {words[1]} = {words[2]}\\n\"+ \n",
    "              f\"{number_result(words[0], output)} {operator} {number_result(words[1], output)} = {number_result(words[2], output)}\\n\" + \n",
    "              \"__________________________________________________________________\\n\")\n",
    "        # st.write(f\"{words[0]} {operator} {words[1]} = {words[2]}\")\n",
    "        # st.write(f\"{number_result(words[0], output)} {operator} {number_result(words[1], output)} = {number_result(words[2], output)}\")\n",
    "    except:\n",
    "        print(\"No solutions found\\n\"\n",
    "              \"__________________________________________________________________\\n\")\n",
    "        # st.write(\"No solutions found\")\n",
    "\n",
    "\n",
    "\n",
    "if puzzle:\n",
    "    main(puzzle)"
   ]
  }
 ],
 "metadata": {
  "kernelspec": {
   "display_name": "Python 3",
   "language": "python",
   "name": "python3"
  },
  "language_info": {
   "codemirror_mode": {
    "name": "ipython",
    "version": 3
   },
   "file_extension": ".py",
   "mimetype": "text/x-python",
   "name": "python",
   "nbconvert_exporter": "python",
   "pygments_lexer": "ipython3",
   "version": "3.11.5"
  },
  "orig_nbformat": 4
 },
 "nbformat": 4,
 "nbformat_minor": 2
}
