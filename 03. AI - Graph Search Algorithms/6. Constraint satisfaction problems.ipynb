{
 "cells": [
  {
   "cell_type": "markdown",
   "metadata": {},
   "source": [
    "# Constraint Satisfaction Problems\n",
    "\n",
    "As we saw, many AI problems can be modelled as a graph of states that a problem can be in. We then use a search algorithm to find a path in this graph that leads to the solution. One type of problems that can be solved in this manner are Constraint Satisfaction Problems. Constraints are basically conditions that cannot be violated during the process of solving the problem. When we arrive at the final solution, the states of the variables must obey all the constraints. \n",
    "\n",
    "Now, let us try to apply this to some real world problems. We will start with two relatively simple examples."
   ]
  },
  {
   "cell_type": "markdown",
   "metadata": {},
   "source": [
    "## 1. Hello World\n",
    "\n",
    "We could try to implement the search algorithms ourselves (using our knowledge of graphs), but since this would be a little difficult, we will be using a library. Let us first use the python library *python-constraint* to solve a very basic constraint problem.\n",
    "\n",
    "First install the library using following command:"
   ]
  },
  {
   "cell_type": "code",
   "execution_count": 12,
   "metadata": {},
   "outputs": [
    {
     "name": "stdout",
     "output_type": "stream",
     "text": [
      "Requirement already satisfied: python-constraint in c:\\users\\rafen\\appdata\\local\\programs\\python\\python311\\lib\\site-packages (1.4.0)\n",
      "Note: you may need to restart the kernel to use updated packages.\n"
     ]
    }
   ],
   "source": [
    "pip install python-constraint"
   ]
  },
  {
   "cell_type": "code",
   "execution_count": 13,
   "metadata": {},
   "outputs": [
    {
     "name": "stdout",
     "output_type": "stream",
     "text": [
      "0\n",
      "1\n",
      "2\n",
      "3\n",
      "4\n"
     ]
    }
   ],
   "source": [
    "# we will use the python range function\n",
    "\n",
    "for i in range(5):\n",
    "    print(i)"
   ]
  },
  {
   "cell_type": "markdown",
   "metadata": {},
   "source": [
    "Now define a constraint problem with two variables within a specific range."
   ]
  },
  {
   "cell_type": "code",
   "execution_count": 14,
   "metadata": {},
   "outputs": [],
   "source": [
    "from constraint import *\n",
    "problem = Problem()\n",
    "\n",
    "problem.addVariable('a', range(8))\n",
    "problem.addVariable('b', range(12))"
   ]
  },
  {
   "cell_type": "markdown",
   "metadata": {},
   "source": [
    "Add the constraint the variables must obey."
   ]
  },
  {
   "cell_type": "code",
   "execution_count": 15,
   "metadata": {},
   "outputs": [],
   "source": [
    "# the lambda expression states that for every solution b must be two times a\n",
    "problem.addConstraint(lambda a, b: a * 2 == b)"
   ]
  },
  {
   "cell_type": "markdown",
   "metadata": {},
   "source": [
    "Let's see what solutions can be found. Check the results! Are the constraints satisfied?"
   ]
  },
  {
   "cell_type": "code",
   "execution_count": 16,
   "metadata": {},
   "outputs": [
    {
     "name": "stdout",
     "output_type": "stream",
     "text": [
      "[{'a': 5, 'b': 10}, {'a': 4, 'b': 8}, {'a': 3, 'b': 6}, {'a': 2, 'b': 4}, {'a': 1, 'b': 2}, {'a': 0, 'b': 0}]\n"
     ]
    }
   ],
   "source": [
    "solutions = problem.getSolutions()\n",
    "print (solutions)"
   ]
  },
  {
   "cell_type": "markdown",
   "metadata": {},
   "source": [
    "## 2. Numbers and values\n",
    "\n",
    "One more simple example before getting to the real stuff. We will be using a package called *simpleai*. It contains various routines that are useful in building solutions using heuristic search techniques.\n",
    "\n",
    "First install the library using following command:"
   ]
  },
  {
   "cell_type": "code",
   "execution_count": 17,
   "metadata": {},
   "outputs": [
    {
     "name": "stdout",
     "output_type": "stream",
     "text": [
      "Requirement already satisfied: simpleai in c:\\users\\rafen\\appdata\\local\\programs\\python\\python311\\lib\\site-packages (0.8.3)\n",
      "Note: you may need to restart the kernel to use updated packages.\n"
     ]
    }
   ],
   "source": [
    "pip install simpleai"
   ]
  },
  {
   "cell_type": "code",
   "execution_count": 18,
   "metadata": {},
   "outputs": [
    {
     "name": "stdout",
     "output_type": "stream",
     "text": [
      "{1, 2, 3, 4}\n"
     ]
    }
   ],
   "source": [
    "# we will use the python set function to remove duplicated values in a collection of values\n",
    "\n",
    "print(set({ 1, 2, 3, 1, 2, 4, 3}))"
   ]
  },
  {
   "cell_type": "markdown",
   "metadata": {},
   "source": [
    "We will first import the necessary classes and define the problem."
   ]
  },
  {
   "cell_type": "code",
   "execution_count": 19,
   "metadata": {},
   "outputs": [],
   "source": [
    "from simpleai.search import CspProblem, backtrack\n",
    "\n",
    "# we will try to find the value of four variables named number1, number2, number3, number4\n",
    "variables = ('number1', 'number2', 'number3', 'number4')\n",
    "\n",
    "# the list of values that each variable can take\n",
    "domains = {\n",
    "    'number1': [1, 2, 3],\n",
    "    'number2': [1, 3],\n",
    "    'number3': [2, 4],\n",
    "    'number4': [2, 3, 4],\n",
    "}\n",
    "\n",
    "# constraints moeten op deze manier worden aangemaakt\n",
    "\n",
    "# define all the constraints, a constraint is a function with two parameters: variables and values\n",
    "# the constraint returns true if the values obey the constraint, false otherwise\n",
    "\n",
    "# a constraint that expects all the different variables to have different values\n",
    "def constraint_unique(variables, values):\n",
    "    # check if all the values are unique\n",
    "    if len(values) == len(set(values)): # remove repeated values and count\n",
    "        return True\n",
    "    else:\n",
    "        return False\n",
    "\n",
    "# a constraint that expects the first variable to be bigger than the second\n",
    "def constraint_bigger(variables, values):\n",
    "    return values[0] > values[1] # short notation (if-then-else is not necessary)\n",
    "\n",
    "# a constraint that expects two variables to be one odd and the other even\n",
    "def constraint_odd_even(variables, values):\n",
    "    if values[0] % 2 == 0:\n",
    "        return values[1] % 2 == 1  # first even, expect second to be odd\n",
    "    else:\n",
    "        return values[1] % 2 == 0  # first odd, expect second to be even"
   ]
  },
  {
   "cell_type": "markdown",
   "metadata": {},
   "source": [
    "Define the constraints for various scenarios. In this case, we specify three constraints as follows:\n",
    "    \n",
    "1. number1, number2 and number3 should be different values\n",
    "2. number3 should be bigger than number2\n",
    "3. if number1 is odd, then number4 value should be even and vice versa\n",
    "\n",
    "And finaly search for a solution."
   ]
  },
  {
   "cell_type": "code",
   "execution_count": 20,
   "metadata": {},
   "outputs": [
    {
     "name": "stdout",
     "output_type": "stream",
     "text": [
      "\n",
      "Solutions: {'number1': 1, 'number2': 3, 'number3': 4, 'number4': 2}\n"
     ]
    }
   ],
   "source": [
    "constraints = [\n",
    "    (('number1', 'number2', 'number3'), constraint_unique),\n",
    "    (('number3', 'number2'), constraint_bigger),\n",
    "    (('number1', 'number4'), constraint_odd_even),\n",
    "]\n",
    "\n",
    "problem = CspProblem(variables, domains, constraints)\n",
    "\n",
    "output = backtrack(problem)\n",
    "print('\\nSolutions:', output)"
   ]
  },
  {
   "cell_type": "markdown",
   "metadata": {},
   "source": [
    "You can check the __domains__ and the __constraints__ to see if the solutions satisfy all those constraints. By the way, there is more then one solution, the search algorithm stops after finding the first one."
   ]
  },
  {
   "cell_type": "markdown",
   "metadata": {},
   "source": [
    "## 3. Sudoku - Exercise\n",
    "\n",
    "Can you try to solve the following simplified sudoku puzzle? The aim is to fill the grid so that each row, column and box contains the same numbers (1 to 4).\n",
    "\n",
    "<img src=\"./resources/sudoku.png\"  style=\"height: 200px\"/>\n",
    "\n",
    "With a little more programming effort, you could use the same technique to solve a real sudoku (if you don't know what to do this evening)."
   ]
  },
  {
   "cell_type": "code",
   "execution_count": 21,
   "metadata": {},
   "outputs": [
    {
     "name": "stdout",
     "output_type": "stream",
     "text": [
      "\n",
      "Solutions: {'a1': 1, 'a2': 2, 'a3': 4, 'a4': 3, 'b1': 3, 'b2': 4, 'b3': 2, 'b4': 1, 'c1': 4, 'c2': 1, 'c3': 3, 'c4': 2, 'd1': 2, 'd2': 3, 'd3': 1, 'd4': 4}\n"
     ]
    }
   ],
   "source": [
    "from simpleai.search import CspProblem, backtrack\n",
    "variables = ('a1', 'a2', 'a3', 'a4', 'b1', 'b2', 'b3', 'b4', 'c1', 'c2', 'c3', 'c4', 'd1', 'd2', 'd3', 'd4')\n",
    "values = [1,2,3,4]\n",
    "domains = {\n",
    "    'a1': values, \n",
    "    'a2':values, \n",
    "    'a3':[4], \n",
    "    'a4':[3], \n",
    "    'b1':values, \n",
    "    'b2':values, \n",
    "    'b3':values, \n",
    "    'b4':values, \n",
    "    'c1':values, \n",
    "    'c2':values, \n",
    "    'c3':values, \n",
    "    'c4':values, \n",
    "    'd1':[2], \n",
    "    'd2':[3], \n",
    "    'd3':values, \n",
    "    'd4':values\n",
    "}\n",
    "\n",
    "def constraint_unique(variables, values):\n",
    "    # check if all the values are unique\n",
    "    if len(values) == len(set(values)): # remove repeated values and count\n",
    "        return True\n",
    "    else:\n",
    "        return False\n",
    "\n",
    "constraints = [\n",
    "    (('a1', 'a2', 'a3', 'a4'), constraint_unique),\n",
    "    (('b1', 'b2', 'b3', 'b4'), constraint_unique),\n",
    "    (('c1', 'c2', 'c3', 'c4'), constraint_unique),\n",
    "    (('d1', 'd2', 'd3', 'd4'), constraint_unique),\n",
    "\n",
    "    (('a1', 'b1', 'c1', 'd1'), constraint_unique),\n",
    "    (('a2', 'b2', 'c2', 'd2'), constraint_unique),\n",
    "    (('a3', 'b3', 'c3', 'd3'), constraint_unique),\n",
    "    (('a4', 'b4', 'c4', 'd4'), constraint_unique),\n",
    "\n",
    "    (('a1', 'a2', 'b1', 'b2'), constraint_unique),\n",
    "    (('a3', 'a4', 'b3', 'b4'), constraint_unique),\n",
    "    (('c1', 'c2', 'd1', 'd2'), constraint_unique),\n",
    "    (('c3', 'c4', 'd3', 'd4'), constraint_unique),\n",
    "]\n",
    "\n",
    "problem = CspProblem(variables, domains, constraints)\n",
    "\n",
    "output = backtrack(problem)\n",
    "print('\\nSolutions:', output)\n"
   ]
  },
  {
   "cell_type": "markdown",
   "metadata": {},
   "source": [
    "Voorbeeld uit les:"
   ]
  },
  {
   "cell_type": "code",
   "execution_count": 22,
   "metadata": {},
   "outputs": [
    {
     "name": "stdout",
     "output_type": "stream",
     "text": [
      "\n",
      "Solutions: {'a1': 3, 'a2': 1, 'a3': 4, 'a4': 2, 'b1': 2, 'b2': 4, 'b3': 1, 'b4': 3, 'c1': 4, 'c2': 2, 'c3': 3, 'c4': 1, 'd1': 1, 'd2': 3, 'd3': 2, 'd4': 4}\n"
     ]
    }
   ],
   "source": [
    "from simpleai.search import CspProblem, backtrack\n",
    "variables = ('a1', 'a2', 'a3', 'a4', 'b1', 'b2', 'b3', 'b4', 'c1', 'c2', 'c3', 'c4', 'd1', 'd2', 'd3', 'd4')\n",
    "values = [1,2,3,4]\n",
    "domains = {\n",
    "    'a1': values, \n",
    "    'a2':values, \n",
    "    'a3':values, \n",
    "    'a4':[2], \n",
    "    'b1':values, \n",
    "    'b2':values, \n",
    "    'b3':[1], \n",
    "    'b4':values, \n",
    "    'c1':values, \n",
    "    'c2':[2], \n",
    "    'c3':values, \n",
    "    'c4':values, \n",
    "    'd1':values, \n",
    "    'd2':[3], \n",
    "    'd3':values, \n",
    "    'd4':[4]\n",
    "}\n",
    "def constraint_unique(variables, values):\n",
    "    # check if all the values are unique\n",
    "    if len(values) == len(set(values)): # remove repeated values and count\n",
    "        return True\n",
    "    else:\n",
    "        return False\n",
    "\n",
    "constraints = [\n",
    "    (('a1', 'a2', 'a3', 'a4'), constraint_unique),\n",
    "    (('b1', 'b2', 'b3', 'b4'), constraint_unique),\n",
    "    (('c1', 'c2', 'c3', 'c4'), constraint_unique),\n",
    "    (('d1', 'd2', 'd3', 'd4'), constraint_unique),\n",
    "\n",
    "    (('a1', 'b1', 'c1', 'd1'), constraint_unique),\n",
    "    (('a2', 'b2', 'c2', 'd2'), constraint_unique),\n",
    "    (('a3', 'b3', 'c3', 'd3'), constraint_unique),\n",
    "    (('a4', 'b4', 'c4', 'd4'), constraint_unique),\n",
    "\n",
    "    (('a1', 'a2', 'b1', 'b2'), constraint_unique),\n",
    "    (('a3', 'a4', 'b3', 'b4'), constraint_unique),\n",
    "    (('c1', 'c2', 'd1', 'd2'), constraint_unique),\n",
    "    (('c3', 'c4', 'd3', 'd4'), constraint_unique),\n",
    "]\n",
    "\n",
    "problem = CspProblem(variables, domains, constraints)\n",
    "\n",
    "output = backtrack(problem)\n",
    "print('\\nSolutions:', output)\n",
    "\n"
   ]
  }
 ],
 "metadata": {
  "kernelspec": {
   "display_name": "Python 3.10.6 ('AI_env': venv)",
   "language": "python",
   "name": "python3"
  },
  "language_info": {
   "codemirror_mode": {
    "name": "ipython",
    "version": 3
   },
   "file_extension": ".py",
   "mimetype": "text/x-python",
   "name": "python",
   "nbconvert_exporter": "python",
   "pygments_lexer": "ipython3",
   "version": "3.11.5"
  },
  "vscode": {
   "interpreter": {
    "hash": "ee412e95a0a5fcd4bc718149b06e63b52799b36d97dd83a114f114becc1d8225"
   }
  }
 },
 "nbformat": 4,
 "nbformat_minor": 2
}
