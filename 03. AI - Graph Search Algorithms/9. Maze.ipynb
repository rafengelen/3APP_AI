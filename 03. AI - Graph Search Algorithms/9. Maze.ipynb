{
 "cells": [
  {
   "cell_type": "markdown",
   "metadata": {},
   "source": [
    "# A maze solver\n",
    "\n",
    "As promised, in our last example we will try to find our way through a maze. As you might have guessed, we are going to use the A* search algorithm for that.\n",
    "\n",
    "The algorithm will lead us through the maze and find our shortest path between two points (from o to x).\n",
    "\n",
    "<img src=\"./resources/maze.png\"  style=\"height: 250px\"/>"
   ]
  },
  {
   "cell_type": "markdown",
   "metadata": {},
   "source": [
    "You don't have to know the details of the program below (it will not be an exam question), but take a look at the code and try to answer following questions to get familiar with the code a little bit:\n",
    "\n",
    "1. What datatype is the initial state and goal state? Where are they initialized?\n",
    "2. Where is checked if we can perform an action?\n",
    "3. What is the result on the current state when the different actions are executed?\n",
    "4. What heuristic is used?\n",
    "5. When do we have reached our goal?"
   ]
  },
  {
   "cell_type": "code",
   "execution_count": 1,
   "metadata": {},
   "outputs": [],
   "source": [
    "# answers?\n",
    "# 1.\n",
    "# 2.\n",
    "# 3.\n",
    "# 4.\n",
    "# 5."
   ]
  },
  {
   "cell_type": "code",
   "execution_count": 2,
   "metadata": {},
   "outputs": [
    {
     "name": "stdout",
     "output_type": "stream",
     "text": [
      "##############################\n",
      "#         #              # ·x#\n",
      "# ####    ########       # · #\n",
      "#  o·#    # ········     #·· #\n",
      "#   ·### ····####  ·######·  #\n",
      "#   ······####     ·#  ····  #\n",
      "#            #  #  ·# ··#### #\n",
      "#     ######    #  ···· #    #\n",
      "#        #      #            #\n",
      "##############################\n"
     ]
    }
   ],
   "source": [
    "import math\n",
    "from simpleai.search import SearchProblem, astar\n",
    "\n",
    "MAP = \"\"\"\n",
    "##############################\n",
    "#         #              #  x#\n",
    "# ####    ########       #   #\n",
    "#  o #    #              #   #\n",
    "#    ###     ####   ######   #\n",
    "#         ####      #        #\n",
    "#            #  #   #   #### #\n",
    "#     ######    #       #    #\n",
    "#        #      #            #\n",
    "##############################\n",
    "\"\"\"\n",
    "MAP = [list(x) for x in MAP.split(\"\\n\") if x]\n",
    "\n",
    "# define the cost of moving around the map\n",
    "COSTS = {\n",
    "    \"up\": 1.0,\n",
    "    \"down\": 1.0,\n",
    "    \"left\": 1.0,\n",
    "    \"right\": 1.0,\n",
    "}\n",
    "\n",
    "# class containing the methods to solve the maze\n",
    "class MazeSolver(SearchProblem):\n",
    "\n",
    "    # initialize the class\n",
    "    def __init__(self, board):\n",
    "        self.board = board\n",
    "        self.goal = (0, 0)\n",
    "        # extract the initial and goal positions\n",
    "        for y in range(len(self.board)):\n",
    "            for x in range(len(self.board[y])):\n",
    "                if self.board[y][x].lower() == \"o\":\n",
    "                    self.initial = (x, y)\n",
    "                elif self.board[y][x].lower() == \"x\":\n",
    "                    self.goal = (x, y)\n",
    "\n",
    "        super(MazeSolver, self).__init__(initial_state=self.initial)\n",
    "\n",
    "    # override the actions method. At each position, we need to check the cost of going to the\n",
    "    # neighboring cells and then append all the possible actions. If the neighboring cell is blocked,\n",
    "    # then that action will not be considered\n",
    "    def actions(self, state):\n",
    "        actions = []\n",
    "        for action in list(COSTS.keys()):\n",
    "            newx, newy = self.result(state, action)\n",
    "            if self.board[newy][newx] != \"#\":\n",
    "                actions.append(action)\n",
    "        return actions\n",
    "\n",
    "    # override the result method. Depending on the current state and the input action, update\n",
    "    # the x and y coordinates\n",
    "    def result(self, state, action):\n",
    "        x, y = state\n",
    "\n",
    "        if action.count(\"up\"):\n",
    "            y -= 1\n",
    "        if action.count(\"down\"):\n",
    "            y += 1\n",
    "        if action.count(\"left\"):\n",
    "            x -= 1\n",
    "        if action.count(\"right\"):\n",
    "            x += 1\n",
    "\n",
    "        new_state = (x, y)\n",
    "        return new_state\n",
    "\n",
    "    # check if we have reached the goal\n",
    "    def is_goal(self, state):\n",
    "        return state == self.goal\n",
    "\n",
    "    # compute the cost of taking an action\n",
    "    def cost(self, state, action, state2):\n",
    "        return COSTS[action]\n",
    "\n",
    "    # define the heuristic that will be used. In this case, we will use the Euclidean distance (Pythagoras)\n",
    "    def heuristic(self, state):\n",
    "        x, y = state\n",
    "        gx, gy = self.goal\n",
    "        return math.sqrt((x - gx) ** 2 + (y - gy) ** 2)\n",
    "\n",
    "\n",
    "# create a solver object using the custom class we defined earlier\n",
    "problem = MazeSolver(MAP)\n",
    "# run the solver on the map and extract the result\n",
    "result = astar(problem, graph_search=True)\n",
    "# extract the path from the result\n",
    "path = [x[1] for x in result.path()]\n",
    "# and print the result\n",
    "for y in range(len(MAP)):\n",
    "    for x in range(len(MAP[y])):\n",
    "        if (x, y) == problem.initial:\n",
    "            print(\"o\", end='') # stay on the same line, no linebreak\n",
    "        elif (x, y) == problem.goal:\n",
    "            print(\"x\", end='')\n",
    "        elif (x, y) in path:\n",
    "            print(\"·\", end='')\n",
    "        else:\n",
    "            print(MAP[y][x], end='')\n",
    "    print()"
   ]
  },
  {
   "cell_type": "markdown",
   "metadata": {},
   "source": [
    "<b>Run the code. Maybe you can play around a little bit. Try to build some extra walls and see if the algorithm can find its way out. Change the initial and goal position to make it a bit harder.</b>"
   ]
  }
 ],
 "metadata": {
  "kernelspec": {
   "display_name": "Python 3.10.6 ('AI_env': venv)",
   "language": "python",
   "name": "python3"
  },
  "language_info": {
   "codemirror_mode": {
    "name": "ipython",
    "version": 3
   },
   "file_extension": ".py",
   "mimetype": "text/x-python",
   "name": "python",
   "nbconvert_exporter": "python",
   "pygments_lexer": "ipython3",
   "version": "3.11.5"
  },
  "vscode": {
   "interpreter": {
    "hash": "ee412e95a0a5fcd4bc718149b06e63b52799b36d97dd83a114f114becc1d8225"
   }
  }
 },
 "nbformat": 4,
 "nbformat_minor": 2
}
