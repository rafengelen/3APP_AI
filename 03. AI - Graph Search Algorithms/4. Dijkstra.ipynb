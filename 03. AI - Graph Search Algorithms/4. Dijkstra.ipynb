{
 "cells": [
  {
   "cell_type": "markdown",
   "metadata": {},
   "source": [
    "# Shortest path algorithm (Dijkstra)\n",
    "\n",
    "*What is the shortest way to travel from Rotterdam to Groningen? It is the algorithm for the shortest path, which I designed in about twenty minutes. One morning I was shopping in Amsterdam with my young fiancée, and tired, we sat down on the café terrace to drink a cup of coffee and I was just thinking about whether I could do this, and I then designed the algorithm for the shortest path. As I said, it was a twenty-minute invention.*\n",
    "\n",
    "Edsger Dijkstra, in an interview with Philip L. Frana, Communications of the ACM, 2001\n",
    "\n",
    "Watch the video (from 0:00 till 9:17).\n",
    "\n",
    "<a href=\"https://www.youtube.com/embed/pVfj6mxhdMw?start=0&end=557\"><img src=\"resources/video3.png\" width=\"400\"></a>"
   ]
  },
  {
   "cell_type": "markdown",
   "metadata": {},
   "source": [
    "## 1. The result of Dijkstra's algorithm\n",
    "\n",
    "Find the shortest path from vertex __A__ to every other vertex. For example from A to C (table lookup backwards from C to A):\n",
    "\n",
    "<img src=\"./resources/dijkstra.png\"  style=\"height: 315px\"/>"
   ]
  },
  {
   "cell_type": "markdown",
   "metadata": {},
   "source": [
    "## 2. Exercise\n",
    "\n",
    "Dijkstra's Algorithm allows you to calculate the shortest path between one node and every other node in the graph. Can you calculate the shortest path between node A and the other nodes in our graph by applying the shortest path algorithm? Use pencil and paper to write down the different iterations.\n",
    "\n",
    "<img src=\"./resources/exd.png\"  style=\"height: 200px\"/>"
   ]
  },
  {
   "cell_type": "code",
   "execution_count": null,
   "metadata": {},
   "outputs": [],
   "source": [
    "# stap 1\n",
    "# vertex  |  shortest distance from A  |  previous vertex\n",
    "# A       |            0               |\n",
    "# B       |            oneindig        |\n",
    "# C       |            oneindig        |\n",
    "# D       |            oneindig        |\n",
    "# E       |            oneindig        |\n",
    "\n",
    "\n",
    "\n",
    "# stap 2 alle kortere wegen noteren vanuit het punt\n",
    "# vertex    |  shortest distance from A  |  previous vertex\n",
    "# X  A      |            0               |\n",
    "#   B       |            3               | A\n",
    "#   C       |            1               | A\n",
    "#   D       |            oneindig        |\n",
    "#   E       |            oneindig        |\n",
    "\n",
    "\n",
    "# stap 3 Verderzoeken, we beginnen vanuit de kortste weg, dus hieruit vanuit C\n",
    "# vertex    |  shortest distance from A  |  previous vertex\n",
    "# X A       |            0               |\n",
    "#   B       |            3               | A\n",
    "# X C       |            1               | A\n",
    "#   D       |            3 (= 2 + 1)     | C\n",
    "#   E       |            oneindig        |\n",
    "\n",
    "\n",
    "# stap 4 Verderzoeken, we beginnen vanuit de kortste weg, dus hieruit vanuit B (wan C is gelocked)\n",
    "# vertex    |  shortest distance from A  |  previous vertex\n",
    "# X A       |            0               |\n",
    "# X B       |            3               | A\n",
    "# X C       |            1               | A\n",
    "#   D       |            3 (= 2 + 1)     | C\n",
    "#   E       |            4 (= 3 + 1)     | B\n",
    "\n",
    "# stap 5 Verderzoeken, we beginnen vanuit de kortste weg, dus hieruit vanuit D (wan C en B is gelocked)\n",
    "# vertex    |  shortest distance from A  |  previous vertex\n",
    "# X A       |            0               |\n",
    "# X B       |            3               | A\n",
    "# X C       |            1               | A\n",
    "# X D       |            3 (= 2 + 1)     | C\n",
    "# X E       |            4 (= 3 + 1)     | B\n",
    "\n",
    "# kortste weg is E via B via A (A -> B -> E)"
   ]
  }
 ],
 "metadata": {
  "kernelspec": {
   "display_name": "Python 3.10.6 ('AI_env': venv)",
   "language": "python",
   "name": "python3"
  },
  "language_info": {
   "codemirror_mode": {
    "name": "ipython",
    "version": 3
   },
   "file_extension": ".py",
   "mimetype": "text/x-python",
   "name": "python",
   "nbconvert_exporter": "python",
   "pygments_lexer": "ipython3",
   "version": "3.10.6"
  },
  "vscode": {
   "interpreter": {
    "hash": "ee412e95a0a5fcd4bc718149b06e63b52799b36d97dd83a114f114becc1d8225"
   }
  }
 },
 "nbformat": 4,
 "nbformat_minor": 2
}
