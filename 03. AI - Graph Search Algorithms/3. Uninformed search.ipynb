{
 "cells": [
  {
   "cell_type": "markdown",
   "metadata": {},
   "source": [
    "# Uninformed search\n",
    "\n",
    "Let's now look at the different ways to search/travers a graph. We will start with two uninformed search strategies. In the video below they will us these strategies to travers the complete graph, but it goes without saying you can stop searching when you have found the goal state/vertex. You don't need to write the algorithm, just understand the way it works.\n",
    "\n",
    "Watch the video (from 0:00 till 6:03).\n",
    "\n",
    "<a href=\"https://www.youtube.com/embed/ymlzHmRN4To?start=0&end=363\"><img src=\"resources/video2.png\" width=\"400\"></a>"
   ]
  },
  {
   "cell_type": "markdown",
   "metadata": {},
   "source": [
    "## 1. Depth first search with a stack\n",
    "\n",
    "The algorithm starts at the start vertex and explores as far as possible along each edge before backtracking.\n",
    "\n",
    "<img src=\"./resources/DFS.png\"  style=\"height: 315px\"/>\n",
    "\n",
    "## 2. Breadth first search with a queue\n",
    "\n",
    "The algorithm starts at the start vertex and explores all of the neighbor vertices at the present depth prior to moving on to the vertices at the next depth level.\n",
    "\n",
    "<img src=\"./resources/BFS.png\"  style=\"height: 315px\"/>"
   ]
  },
  {
   "cell_type": "markdown",
   "metadata": {},
   "source": [
    "## 3. Exercise\n",
    "\n",
    "Consider the following directed graph.\n",
    "\n",
    "<img src=\"./resources/ex.png\"  style=\"height: 200px\"/>\n",
    "\n",
    "Starting at vertex a, what would be the path followed if you searched the following goal vertices using the two different search strategies (assuming alphabetical edge order)?"
   ]
  },
  {
   "cell_type": "code",
   "execution_count": null,
   "metadata": {},
   "outputs": [],
   "source": [
    "# Depth first search\n",
    "# from a to b: \n",
    "# from a to c:\n",
    "# from a to d:\n",
    "# from a to e:\n",
    "# from a to f:\n",
    "# from a to g:\n",
    "# from a to h:\n",
    "\n",
    "# Breadth first search\n",
    "# from a to b: \n",
    "# from a to c:\n",
    "# from a to d:\n",
    "# from a to e:\n",
    "# from a to f:\n",
    "# from a to g:\n",
    "# from a to h:"
   ]
  }
 ],
 "metadata": {
  "kernelspec": {
   "display_name": "Python 3.10.6 ('AI_env': venv)",
   "language": "python",
   "name": "python3"
  },
  "language_info": {
   "codemirror_mode": {
    "name": "ipython",
    "version": 3
   },
   "file_extension": ".py",
   "mimetype": "text/x-python",
   "name": "python",
   "nbconvert_exporter": "python",
   "pygments_lexer": "ipython3",
   "version": "3.10.6"
  },
  "vscode": {
   "interpreter": {
    "hash": "ee412e95a0a5fcd4bc718149b06e63b52799b36d97dd83a114f114becc1d8225"
   }
  }
 },
 "nbformat": 4,
 "nbformat_minor": 2
}
