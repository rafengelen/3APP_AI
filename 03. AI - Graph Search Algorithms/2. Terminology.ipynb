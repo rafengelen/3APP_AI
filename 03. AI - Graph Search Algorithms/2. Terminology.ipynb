{
 "cells": [
  {
   "cell_type": "markdown",
   "metadata": {},
   "source": [
    "# Terminology and representation\n",
    "\n",
    "Before we look at the search algorithms in depth we need to know some basic terminology of graphs and the way you can represent them in a data structure. Watch the video below (from 0:00 till 7:58) and all of this will be crystal clear.\n",
    "\n",
    "<a href=\"https://www.youtube.com/embed/c8P9kB1eun4\"><img src=\"resources/video1.png\" width=\"400\"></a>"
   ]
  },
  {
   "cell_type": "markdown",
   "metadata": {},
   "source": [
    "## 1. Questions\n",
    "\n",
    "1. The graph is one of the most versatile data structures in the field of software engineering. Give at least five examples where a graph can be used to represent/solve real world problems."
   ]
  },
  {
   "cell_type": "code",
   "execution_count": null,
   "metadata": {},
   "outputs": [],
   "source": [
    "# 1.A \n",
    "# 1.B \n",
    "# 1.C \n",
    "# 1.D \n",
    "# 1.E "
   ]
  },
  {
   "cell_type": "markdown",
   "metadata": {},
   "source": [
    "2. How do you call a node in a graph?\n",
    "3. How are they connected?\n",
    "4. What is the difference between a directed graph and an unordered graph?\n",
    "5. Name three examples of possible costs?"
   ]
  },
  {
   "cell_type": "code",
   "execution_count": null,
   "metadata": {},
   "outputs": [],
   "source": [
    "# 2. \n",
    "# 3. \n",
    "# 4. \n",
    "# 5."
   ]
  },
  {
   "cell_type": "markdown",
   "metadata": {},
   "source": [
    "## 2. Representation of graphs\n",
    "\n",
    "What if we want to code up a graph? There are two ways that a graph class can internally maintain the vertices and the edges of a graph.\n",
    "\n",
    "## 2.1 Adjaceny list\n",
    "\n",
    "<img src=\"./resources/adjacenylist.png\"  style=\"height: 315px\"/>\n",
    "\n",
    "## 2.2 Adjacency matrix\n",
    "\n",
    "<img src=\"./resources/adjacenymatrix.png\"  style=\"height: 315px\"/>"
   ]
  },
  {
   "cell_type": "markdown",
   "metadata": {},
   "source": [
    "## 3. Questions\n",
    "\n",
    "What representation can best be used in the following cases:\n",
    " \n",
    "1. Find out if there's an edge between two vertices?\n",
    "2. Represent a sparse graph in an efficient way.\n",
    "3. Represent an unordered graph in an efficient manner."
   ]
  },
  {
   "cell_type": "code",
   "execution_count": null,
   "metadata": {},
   "outputs": [],
   "source": [
    "# 1. Adjaceny matrix\n",
    "# 2. Adjaceny list\n",
    "# 3. Adjaceny matrix"
   ]
  },
  {
   "cell_type": "markdown",
   "metadata": {},
   "source": [
    "## 4. Search algorithms\n",
    "\n",
    "There are far too many powerful search algorithms out there to fit in this lesson. Instead, we will discuss four of the fundamental search algorithms, divided into two categories:\n",
    "\n",
    "## 4.1 Uninformed search algorithms\n",
    "\n",
    "The search algorithms in this section have no additional information on the goal node. Intuitively, these algorithms ignore where they are going until they find a goal and report success. The plans to reach the goal state from the start state differ only by the order and/or length of actions. Uninformed search is also called Blind search or Brute Force Search.\n",
    "\n",
    "We will discuss the following uninformed search algorithms:\n",
    "\n",
    "1. Depth First Search\n",
    "2. Breath First Search\n",
    "3. Shortest Path (Dijkstra)\n",
    "\n",
    "## 4.2 Informed search algorithms\n",
    "\n",
    "Here, the algorithms have information on the goal state, which helps in more efficient searching. This information is obtained by something called a heuristic. A heuristic is a function that estimates how close a state is to the goal state (more on this later). Informed search is also called Heuristic Search.\n",
    "\n",
    "We will discuss only one informed search algorithm:\n",
    "\n",
    "1. A* Search"
   ]
  }
 ],
 "metadata": {
  "kernelspec": {
   "display_name": "Python 3.10.6 ('AI_env': venv)",
   "language": "python",
   "name": "python3"
  },
  "language_info": {
   "codemirror_mode": {
    "name": "ipython",
    "version": 3
   },
   "file_extension": ".py",
   "mimetype": "text/x-python",
   "name": "python",
   "nbconvert_exporter": "python",
   "pygments_lexer": "ipython3",
   "version": "3.10.6"
  },
  "vscode": {
   "interpreter": {
    "hash": "ee412e95a0a5fcd4bc718149b06e63b52799b36d97dd83a114f114becc1d8225"
   }
  }
 },
 "nbformat": 4,
 "nbformat_minor": 2
}
