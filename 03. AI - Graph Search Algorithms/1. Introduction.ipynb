{
 "cells": [
  {
   "cell_type": "markdown",
   "metadata": {},
   "source": [
    "# Graph Search Algorithms\n",
    "\n",
    "AI problems are often modelled as a **state space**, a set of states that a problem can be in. The set of states forms a graph where two states are connected if there is an operation that can be performed to transform the first state into the second.\n",
    "\n",
    "The solution of an AI problem is then a **sequence of actions**, called the **plan** that transforms the start state (the state from where the search begins) to the goal state. This plan is achieved through search algorithms. There are far too many powerful search algorithms out there to fit in this lesson. Instead, we will discuss four of the fundamental search algorithms.\n",
    "\n",
    "At the end of this lesson we will use one of those search algoritms to find our way through a maze."
   ]
  },
  {
   "cell_type": "markdown",
   "metadata": {},
   "source": [
    "## Maze\n",
    "\n",
    "There are a number of different maze solving algorithms, that is, automated methods for the solving of mazes. We will use the A* algorithm that is widely used in pathfinding and graph traversal. This algorithm will lead us through the maze and find our shortest path between two points.\n",
    "\n",
    "<img src=\"./resources/maze.png\"  style=\"height: 250px\"/>"
   ]
  }
 ],
 "metadata": {
  "kernelspec": {
   "display_name": "Python 3.10.6 ('AI_env': venv)",
   "language": "python",
   "name": "python3"
  },
  "language_info": {
   "codemirror_mode": {
    "name": "ipython",
    "version": 3
   },
   "file_extension": ".py",
   "mimetype": "text/x-python",
   "name": "python",
   "nbconvert_exporter": "python",
   "pygments_lexer": "ipython3",
   "version": "3.10.6"
  },
  "vscode": {
   "interpreter": {
    "hash": "ee412e95a0a5fcd4bc718149b06e63b52799b36d97dd83a114f114becc1d8225"
   }
  }
 },
 "nbformat": 4,
 "nbformat_minor": 2
}
