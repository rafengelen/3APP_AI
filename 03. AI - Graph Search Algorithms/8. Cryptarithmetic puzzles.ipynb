{
 "cells": [
  {
   "cell_type": "markdown",
   "metadata": {},
   "source": [
    "# Cryptarithmetic Puzzles\n",
    "\n",
    "A cryptarithmetic puzzle is a mathematical exercise where each letter in an arithmetic operation represents a unique digit. The goal is to find the digits such that a given mathematical equation is verified:\n",
    "\n",
    "<img src=\"./resources/cp.png\"/>"
   ]
  },
  {
   "cell_type": "markdown",
   "metadata": {},
   "source": [
    "## 1. TWO + TWO = FOUR\n",
    "\n",
    "We will try to find a solution for:\n",
    "\n",
    "```\n",
    "  TWO\n",
    "+ TWO\n",
    "-----\n",
    " FOUR\n",
    "```\n",
    "\n",
    "For TWO + TWO = FOUR, the constraints are as follows:\n",
    "\n",
    "- The equation: TWO + TWO = FOUR.\n",
    "- Each of the six letters must be a different digit.\n",
    "- T and F can't be zero (since we don't write leading zeros in numbers)."
   ]
  },
  {
   "cell_type": "code",
   "execution_count": 3,
   "metadata": {},
   "outputs": [
    {
     "data": {
      "text/plain": [
       "[1, 2, 3, 4, 5, 6, 7, 8, 9]"
      ]
     },
     "execution_count": 3,
     "metadata": {},
     "output_type": "execute_result"
    }
   ],
   "source": [
    "# we will create a list of possible values as follows\n",
    "list(range(1, 10))"
   ]
  },
  {
   "cell_type": "markdown",
   "metadata": {},
   "source": [
    "I think you can figure out the program logic yourself. Run the program and check if the solution is right."
   ]
  },
  {
   "cell_type": "code",
   "execution_count": 4,
   "metadata": {},
   "outputs": [
    {
     "name": "stdout",
     "output_type": "stream",
     "text": [
      "\n",
      "Solutions: {'F': 1, 'T': 7, 'U': 3, 'W': 6, 'R': 0, 'O': 5, 'C_10': 1, 'C_100': 1, 'C_1000': 1}\n"
     ]
    }
   ],
   "source": [
    "from simpleai.search import CspProblem, backtrack\n",
    "\n",
    "variables = ('F', 'T', 'U', 'W', 'R', 'O', 'C_10', 'C_100', 'C_1000')\n",
    "\n",
    "# the list of values that each variable can take\n",
    "domains = {\n",
    "    'F': list(range(1, 10)),\n",
    "    'T': list(range(1, 10)),\n",
    "    'U': list(range(0, 10)),\n",
    "    'W': list(range(0, 10)),\n",
    "    'R': list(range(0, 10)),\n",
    "    'O': list(range(0, 10)),\n",
    "    'C_10': list(range(0, 10)),\n",
    "    'C_100': list(range(0, 10)),\n",
    "    'C_1000': list(range(1, 10)),\n",
    "}\n",
    "\n",
    "def constraint_unique(variables, values):\n",
    "    return len(values) == len(set(values))  # remove repeated values and count\n",
    "\n",
    "def constraint_1(variables, values):\n",
    "    # O + O = R + 10 * C_10\n",
    "    return values[0] + values[0] == values[1] + 10 * values[2]\n",
    "\n",
    "def constraint_2(variables, values):\n",
    "    # C_10 + W + W = U + 10 * C_100\n",
    "    return values[0] + values[1] + values[1] == values[2] + 10 * values[3]\n",
    "\n",
    "def constraint_3(variables, values):\n",
    "    # C_100 + T + T = O + 10 * C_1000\n",
    "    return values[0] + values[1] + values[1] == values[2] + 10 * values[3]\n",
    "\n",
    "def constraint_4(variables, values):\n",
    "    # C_1000 = F\n",
    "    return values[0] == values[1]\n",
    "\n",
    "constraints = [\n",
    "    (('F', 'T', 'U', 'W', 'R', 'O'), constraint_unique),\n",
    "    (('O', 'R', 'C_10'), constraint_1),\n",
    "    (('C_10', 'W', 'U', 'C_100'), constraint_2),\n",
    "    (('C_100', 'T', 'O', 'C_1000'), constraint_3),\n",
    "    (('C_1000', 'F'), constraint_4),   \n",
    "]\n",
    "\n",
    "problem = CspProblem(variables, domains, constraints)\n",
    "\n",
    "output = backtrack(problem)\n",
    "print('\\nSolutions:', output)"
   ]
  },
  {
   "cell_type": "code",
   "execution_count": 5,
   "metadata": {},
   "outputs": [
    {
     "name": "stdout",
     "output_type": "stream",
     "text": [
      "\n",
      "Solutions: {'F': 1, 'T': 7, 'U': 3, 'W': 6, 'R': 0, 'O': 5}\n"
     ]
    }
   ],
   "source": [
    "# second solution, much easier\n",
    "\n",
    "from simpleai.search import CspProblem, backtrack\n",
    "\n",
    "variables = ('F', 'T', 'U', 'W', 'R', 'O')\n",
    "\n",
    "# the list of values that each variable can take\n",
    "domains = {\n",
    "    'F': list(range(1, 10)),\n",
    "    'T': list(range(1, 10)),\n",
    "    'U': list(range(0, 10)),\n",
    "    'W': list(range(0, 10)),\n",
    "    'R': list(range(0, 10)),\n",
    "    'O': list(range(0, 10)),\n",
    "}\n",
    "\n",
    "def constraint_unique(variables, values):\n",
    "    return len(values) == len(set(values))  # remove repeated values and count\n",
    "\n",
    "def constraint_add(variables, values):\n",
    "    factor = int(str(values[1]) + str(values[3]) + str(values[5]))\n",
    "    result = int(str(values[0]) + str(values[5]) + str(values[2]) + str(values[4]))\n",
    "    return (factor + factor) == result\n",
    "\n",
    "constraints = [\n",
    "    (('F', 'T', 'U', 'W', 'R', 'O'), constraint_unique),\n",
    "    (('F', 'T', 'U', 'W', 'R', 'O'), constraint_add),\n",
    "]\n",
    "\n",
    "problem = CspProblem(variables, domains, constraints)\n",
    "\n",
    "output = backtrack(problem)\n",
    "print('\\nSolutions:', output)"
   ]
  },
  {
   "cell_type": "markdown",
   "metadata": {},
   "source": [
    "## 2. ODD + ODD = EVEN - Exercise\n",
    "\n",
    "One more? Try to find a solution for:\n",
    "\n",
    "```\n",
    "  ODD\n",
    "+ ODD\n",
    "-----\n",
    " EVEN\n",
    "```"
   ]
  },
  {
   "cell_type": "code",
   "execution_count": 12,
   "metadata": {},
   "outputs": [
    {
     "name": "stdout",
     "output_type": "stream",
     "text": [
      "\n",
      "Solutions: {'O': 6, 'E': 1, 'D': 5, 'V': 3, 'N': 0}\n"
     ]
    }
   ],
   "source": [
    "# second solution, much easier\n",
    "\n",
    "from simpleai.search import CspProblem, backtrack\n",
    "\n",
    "variables = ('O', 'E', 'D', 'V', 'N')\n",
    "\n",
    "# the list of values that each variable can take\n",
    "domains = {\n",
    "    'O': list(range(1, 10)),\n",
    "    'E': list(range(1, 10)),\n",
    "    'D': list(range(0, 10)),\n",
    "    'V': list(range(0, 10)),\n",
    "    'N': list(range(0, 10)),\n",
    "}\n",
    "\n",
    "def constraint_unique(variables, values):\n",
    "    return len(values) == len(set(values))  # remove repeated values and count\n",
    "\n",
    "def constraint_add(variables, values):\n",
    "    factor = int(str(values[0]) + str(values[2]) + str(values[2]))\n",
    "    result = int(str(values[1]) + str(values[3]) + str(values[1]) + str(values[4]))\n",
    "    return (factor + factor) == result\n",
    "\n",
    "constraints = [\n",
    "    (('O', 'E', 'D', 'V', 'N'), constraint_unique),\n",
    "    (('O', 'E', 'D', 'V', 'N'), constraint_add),\n",
    "]\n",
    "\n",
    "problem = CspProblem(variables, domains, constraints)\n",
    "\n",
    "output = backtrack(problem)\n",
    "print('\\nSolutions:', output)\n"
   ]
  },
  {
   "cell_type": "markdown",
   "metadata": {},
   "source": [
    "## 3. AB x C = AAA - Exercise\n",
    "\n",
    "Try to find a solution for:\n",
    "\n",
    "```\n",
    "   AB\n",
    "x   C\n",
    "-----\n",
    "  AAA\n",
    "```"
   ]
  },
  {
   "cell_type": "code",
   "execution_count": 2,
   "metadata": {},
   "outputs": [
    {
     "name": "stdout",
     "output_type": "stream",
     "text": [
      "\n",
      "Solutions: {'A': 3, 'C': 9, 'B': 7}\n"
     ]
    }
   ],
   "source": [
    "from simpleai.search import CspProblem, backtrack\n",
    "\n",
    "\n",
    "variables = ('A', 'C', 'B')\n",
    "\n",
    "# the list of values that each variable can take\n",
    "domains = {\n",
    "    'A': list(range(1, 10)),\n",
    "    'C': list(range(1, 10)),\n",
    "    'B': list(range(0, 10))\n",
    "}\n",
    "\n",
    "def constraint_unique(variables, values):\n",
    "    return len(values) == len(set(values))  # remove repeated values and count\n",
    "\n",
    "def constraint_product(variables, values):\n",
    "    factor1 = int(str(values[0]) + str(values[2]))\n",
    "    factor2 = int(values[1])\n",
    "    result = int(str(values[0]) + str(values[0]) + str(values[0]))\n",
    "    return (factor1 * factor2) == result\n",
    "\n",
    "constraints = [\n",
    "    (('A', 'C', 'B'), constraint_unique),\n",
    "    (('A', 'C', 'B'), constraint_product),\n",
    "]\n",
    "\n",
    "problem = CspProblem(variables, domains, constraints)\n",
    "\n",
    "output = backtrack(problem)\n",
    "print('\\nSolutions:', output)\n"
   ]
  }
 ],
 "metadata": {
  "kernelspec": {
   "display_name": "Python 3.10.6 64-bit",
   "language": "python",
   "name": "python3"
  },
  "language_info": {
   "codemirror_mode": {
    "name": "ipython",
    "version": 3
   },
   "file_extension": ".py",
   "mimetype": "text/x-python",
   "name": "python",
   "nbconvert_exporter": "python",
   "pygments_lexer": "ipython3",
   "version": "3.11.5"
  },
  "vscode": {
   "interpreter": {
    "hash": "3fc13ab7e79b368e8913ee9489736a3ec6aa6e620b54b7989a5eeb0416c11724"
   }
  }
 },
 "nbformat": 4,
 "nbformat_minor": 2
}
