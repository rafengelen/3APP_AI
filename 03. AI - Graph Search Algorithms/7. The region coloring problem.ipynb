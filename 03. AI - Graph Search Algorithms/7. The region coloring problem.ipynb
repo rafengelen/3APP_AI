{
 "cells": [
  {
   "cell_type": "markdown",
   "metadata": {},
   "source": [
    "# The region coloring problem - Exercise\n",
    "\n",
    "Let's use the constraint satisfaction framework to solve a region coloring problem. Consider the following map:\n",
    "\n",
    "<img src=\"./resources/mapempty.png\"  style=\"height: 400px\"/>\n",
    "\n",
    "We have a few regions in the preceding figure that are labeled with fictional country names. Our goal is to color the map with four colors so that no adjacent countries have the same color."
   ]
  },
  {
   "cell_type": "markdown",
   "metadata": {},
   "source": [
    "First import the classes, define the variables (the names of the countries) and the possible values (colors) that every variable (country) can take. There are four colors: red, green, blue and gray."
   ]
  },
  {
   "cell_type": "code",
   "execution_count": 7,
   "metadata": {},
   "outputs": [],
   "source": [
    "from simpleai.search import CspProblem, backtrack\n",
    "\n",
    "countries = ('Wakanda','Latveria','Genosha','Madripoor','Symkaria','Transia','Akima','Sokovia','Atlantis','Canaan','Murkatesh')\n",
    "domains = {\n",
    "    'Wakanda' : ['red','green','blue','grey'],\n",
    "    'Latveria' : ['red','green','blue','grey'],\n",
    "    'Genosha' : ['red','green','blue','grey'],\n",
    "    'Madripoor' : ['red','green','blue','grey'],\n",
    "    'Symkaria' : ['red','green','blue','grey'],\n",
    "    'Transia' : ['red','green','blue','grey'],\n",
    "    'Akima' : ['red','green','blue','grey'],\n",
    "    'Sokovia' : ['red','green','blue','grey'],\n",
    "    'Atlantis' : ['red','green','blue','grey'],\n",
    "    'Canaan' : ['red','green','blue','grey'],\n",
    "    'Murkatesh' : ['red','green','blue','grey'],\n",
    "}\n"
   ]
  },
  {
   "cell_type": "markdown",
   "metadata": {},
   "source": [
    "Define the constraint function that imposes that two neighbors should be colored differently. Apply the constraint for every pair of countries from the map above."
   ]
  },
  {
   "cell_type": "code",
   "execution_count": 8,
   "metadata": {},
   "outputs": [],
   "source": [
    "\n",
    "def constraint_function(variables,values):\n",
    "    return values[0] != values[1]\n",
    "\n",
    "constraints = [\n",
    "    (('Wakanda', 'Latveria'),constraint_function),\n",
    "    (('Wakanda', 'Madripoor'),constraint_function),\n",
    "    (('Latveria', 'Madripoor'),constraint_function),\n",
    "    (('Latveria', 'Symkaria'),constraint_function),\n",
    "    (('Latveria', 'Transia'),constraint_function),\n",
    "    (('Latveria', 'Genosha'),constraint_function),\n",
    "    (('Genosha', 'Transia'),constraint_function),\n",
    "    (('Genosha', 'Akima'),constraint_function),\n",
    "    (('Madripoor', 'Sokovia'),constraint_function),\n",
    "    (('Madripoor', 'Atlantis'),constraint_function),\n",
    "    (('Madripoor', 'Symkaria'),constraint_function),\n",
    "    (('Symkaria', 'Atlantis'),constraint_function),\n",
    "    (('Symkaria', 'Canaan'),constraint_function),\n",
    "    (('Symkaria', 'Transia'),constraint_function),\n",
    "    (('Transia', 'Canaan'),constraint_function),\n",
    "    (('Transia', 'Murkatesh'),constraint_function),\n",
    "    (('Transia', 'Akima'),constraint_function),\n",
    "    (('Akima', 'Murkatesh'),constraint_function),\n",
    "    (('Murkatesh', 'Canaan'),constraint_function),\n",
    "    (('Atlantis', 'Canaan'),constraint_function),\n",
    "    (('Atlantis', 'Sokovia'),constraint_function),\n",
    "]"
   ]
  },
  {
   "cell_type": "markdown",
   "metadata": {},
   "source": [
    "And finaly search for a solution and print it (something like this: \"Wakanda ==> red, ...\"). You can iterate over the solution as follows\n",
    "\n",
    "```python\n",
    "for country, color in output.items():\n",
    "```"
   ]
  },
  {
   "cell_type": "code",
   "execution_count": 9,
   "metadata": {},
   "outputs": [
    {
     "name": "stdout",
     "output_type": "stream",
     "text": [
      "\n",
      "Color mapping:\n",
      "\n",
      "Wakanda ==> red\n",
      "Latveria ==> green\n",
      "Genosha ==> red\n",
      "Madripoor ==> blue\n",
      "Symkaria ==> red\n",
      "Transia ==> blue\n",
      "Akima ==> green\n",
      "Sokovia ==> red\n",
      "Atlantis ==> green\n",
      "Canaan ==> grey\n",
      "Murkatesh ==> red\n"
     ]
    }
   ],
   "source": [
    "problem = CspProblem(countries,domains,constraints)\n",
    "output = backtrack(problem)\n",
    "\n",
    "print('\\nColor mapping:\\n')\n",
    "for country, color in output.items():\n",
    "    print(country,'==>',color)\n"
   ]
  },
  {
   "cell_type": "markdown",
   "metadata": {},
   "source": [
    "Use Paint or Photoshop to color the map with the colors from the solution and check that no two adjacent countries have the same color.\n",
    "\n",
    "Would it be possible to color the map with only three colors?"
   ]
  }
 ],
 "metadata": {
  "kernelspec": {
   "display_name": "Python 3.10.6 ('AI_env': venv)",
   "language": "python",
   "name": "python3"
  },
  "language_info": {
   "codemirror_mode": {
    "name": "ipython",
    "version": 3
   },
   "file_extension": ".py",
   "mimetype": "text/x-python",
   "name": "python",
   "nbconvert_exporter": "python",
   "pygments_lexer": "ipython3",
   "version": "3.11.5"
  },
  "vscode": {
   "interpreter": {
    "hash": "ee412e95a0a5fcd4bc718149b06e63b52799b36d97dd83a114f114becc1d8225"
   }
  }
 },
 "nbformat": 4,
 "nbformat_minor": 2
}
