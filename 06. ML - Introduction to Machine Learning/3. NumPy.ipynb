{
 "cells": [
  {
   "cell_type": "markdown",
   "metadata": {},
   "source": [
    "# NumPy\n",
    "\n",
    "NumPy is the most basic but powerful package for working with data in Python. At the core, NumPy provides the excellent ndarray objects, short for n-dimensional arrays. This Notebook can be skipped at first. Most parts of it will be explained in the Machine Learning Notebooks.\n",
    "\n",
    "<img src=\"./resources/numpy.png\"  style=\"height: 200px\"/>"
   ]
  },
  {
   "cell_type": "markdown",
   "metadata": {},
   "source": [
    "## 1. Creating a NumPy array\n",
    "\n",
    "The most common way is to create an array from a list by passing it to the `np.array` function."
   ]
  },
  {
   "cell_type": "code",
   "execution_count": 3,
   "metadata": {},
   "outputs": [
    {
     "name": "stdout",
     "output_type": "stream",
     "text": [
      "<class 'numpy.ndarray'>\n"
     ]
    },
    {
     "data": {
      "text/plain": [
       "array([0, 1, 2, 3, 4])"
      ]
     },
     "execution_count": 3,
     "metadata": {},
     "output_type": "execute_result"
    }
   ],
   "source": [
    "# create an 1d array from a list\n",
    "import numpy as np\n",
    "\n",
    "list1 = [0, 1, 2, 3, 4]\n",
    "arr1d = np.array(list1)\n",
    "\n",
    "# print the array and its type\n",
    "print(type(arr1d))\n",
    "arr1d"
   ]
  },
  {
   "cell_type": "markdown",
   "metadata": {},
   "source": [
    "What is the key difference between an array and a list? Arrays are designed to handle vectorized operations while a Python list is not. This means, if you apply a function it is performed __on every item in the array__, rather than on the whole array object."
   ]
  },
  {
   "cell_type": "code",
   "execution_count": 4,
   "metadata": {},
   "outputs": [
    {
     "data": {
      "text/plain": [
       "array([2, 3, 4, 5, 6])"
      ]
     },
     "execution_count": 4,
     "metadata": {},
     "output_type": "execute_result"
    }
   ],
   "source": [
    "# list1 + 2  # error\n",
    "\n",
    "# add 2 to each element of arr1d\n",
    "arr1d = arr1d + 2\n",
    "arr1d"
   ]
  },
  {
   "cell_type": "markdown",
   "metadata": {},
   "source": [
    "Another characteristic is that, once a NumPy array is created, you cannot increase its size. To do so, you will have to create a new array. Nevertheless, there are so many advantages. "
   ]
  },
  {
   "cell_type": "code",
   "execution_count": 5,
   "metadata": {},
   "outputs": [
    {
     "data": {
      "text/plain": [
       "array([[0, 1, 2],\n",
       "       [3, 4, 5],\n",
       "       [6, 7, 8]])"
      ]
     },
     "execution_count": 5,
     "metadata": {},
     "output_type": "execute_result"
    }
   ],
   "source": [
    "# create a 2d array from a list of lists\n",
    "list2 = [[0, 1, 2], [3, 4, 5], [6, 7, 8]]\n",
    "arr2d = np.array(list2)\n",
    "arr2d"
   ]
  },
  {
   "cell_type": "markdown",
   "metadata": {},
   "source": [
    "You may also specify the datatype by setting the dtype argument: 'float', 'int', 'bool', 'str' and 'object'."
   ]
  },
  {
   "cell_type": "code",
   "execution_count": 6,
   "metadata": {},
   "outputs": [
    {
     "data": {
      "text/plain": [
       "array([[0., 1., 2.],\n",
       "       [3., 4., 5.],\n",
       "       [6., 7., 8.]])"
      ]
     },
     "execution_count": 6,
     "metadata": {},
     "output_type": "execute_result"
    }
   ],
   "source": [
    "# create a float 2d array\n",
    "arr2d_f = np.array(list2, dtype='float')\n",
    "arr2d_f"
   ]
  },
  {
   "cell_type": "markdown",
   "metadata": {},
   "source": [
    "Every array has some properties."
   ]
  },
  {
   "cell_type": "code",
   "execution_count": 7,
   "metadata": {},
   "outputs": [
    {
     "name": "stdout",
     "output_type": "stream",
     "text": [
      "[[1. 2. 3. 4.]\n",
      " [3. 4. 5. 6.]\n",
      " [5. 6. 7. 8.]]\n",
      "Shape:  (3, 4)\n",
      "Datatype:  float64\n",
      "Size:  12\n",
      "Num Dimensions:  2\n"
     ]
    }
   ],
   "source": [
    "# create a 2d array with 3 rows and 4 columns\n",
    "list2 = [[1, 2, 3, 4], [3, 4, 5, 6], [5, 6, 7, 8]]\n",
    "arr2 = np.array(list2, dtype='float')\n",
    "print(arr2)\n",
    "\n",
    "# shape\n",
    "print('Shape: ', arr2.shape)\n",
    "# dtype\n",
    "print('Datatype: ', arr2.dtype)\n",
    "# size\n",
    "print('Size: ', arr2.size)\n",
    "# ndim\n",
    "print('Num Dimensions: ', arr2.ndim)"
   ]
  },
  {
   "cell_type": "markdown",
   "metadata": {},
   "source": [
    "## 2. Extracting specific items from an array\n",
    "\n",
    "You can extract specific portions of an array using indexing, starting with 0. NumPy arrays can accept as many parameters in the square brackets as the number of dimensions."
   ]
  },
  {
   "cell_type": "code",
   "execution_count": 8,
   "metadata": {},
   "outputs": [
    {
     "name": "stdout",
     "output_type": "stream",
     "text": [
      "[[1. 2. 3. 4.]\n",
      " [3. 4. 5. 6.]\n",
      " [5. 6. 7. 8.]]\n"
     ]
    },
    {
     "data": {
      "text/plain": [
       "array([[1., 2.],\n",
       "       [3., 4.]])"
      ]
     },
     "execution_count": 8,
     "metadata": {},
     "output_type": "execute_result"
    }
   ],
   "source": [
    "print(arr2)\n",
    "\n",
    "# extract the first 2 rows and columns\n",
    "arr2[:2, :2]\n",
    "\n",
    "# list2[:2, :2]  # error"
   ]
  },
  {
   "cell_type": "markdown",
   "metadata": {},
   "source": [
    "## 3. Computing mean, min, max\n",
    "\n",
    "The np.array has methods to compute mean, min and max for the whole array."
   ]
  },
  {
   "cell_type": "code",
   "execution_count": 9,
   "metadata": {},
   "outputs": [
    {
     "name": "stdout",
     "output_type": "stream",
     "text": [
      "[[1. 2. 3. 4.]\n",
      " [3. 4. 5. 6.]\n",
      " [5. 6. 7. 8.]]\n",
      "Mean value is:  4.5\n",
      "Max value is:  8.0\n",
      "Min value is:  1.0\n",
      "Column wise minimum:  [1. 2. 3. 4.]\n",
      "Row wise minimum:  [1. 3. 5.]\n"
     ]
    }
   ],
   "source": [
    "print(arr2)\n",
    "\n",
    "# mean, max and min\n",
    "print(\"Mean value is: \", arr2.mean())\n",
    "print(\"Max value is: \", arr2.max())\n",
    "print(\"Min value is: \", arr2.min())\n",
    "\n",
    "# row wise and column wise min\n",
    "print(\"Column wise minimum: \", np.amin(arr2, axis=0))\n",
    "print(\"Row wise minimum: \", np.amin(arr2, axis=1))"
   ]
  },
  {
   "cell_type": "markdown",
   "metadata": {},
   "source": [
    "## 4. Creating a new array from an existing array\n",
    "\n",
    "If you just assign a portion of an array to another array, the new array you just created actually __refers to the parent array__ in memory. That means, if you make any changes to the new array, it will reflect in the parent array as well.\n",
    "\n",
    "So to avoid disturbing the parent array, you need to make a copy of it using copy()."
   ]
  },
  {
   "cell_type": "code",
   "execution_count": 10,
   "metadata": {},
   "outputs": [
    {
     "name": "stdout",
     "output_type": "stream",
     "text": [
      "[[100.   2.   3.   4.]\n",
      " [  3.   4.   5.   6.]\n",
      " [  5.   6.   7.   8.]]\n",
      "[[100.   2.   3.   4.]\n",
      " [  3.   4.   5.   6.]\n",
      " [  5.   6.   7.   8.]]\n"
     ]
    }
   ],
   "source": [
    "# assign portion of arr2 to arr2a - doesn't really create a new array.\n",
    "arr2a = arr2[:2,:2]  \n",
    "arr2a[:1, :1] = 100  # 100 will reflect in arr2\n",
    "print(arr2)\n",
    "\n",
    "# copy portion of arr2 to arr2b\n",
    "arr2b = arr2[:2, :2].copy()\n",
    "arr2b[:1, :1] = 101  # 101 will not reflect in arr2\n",
    "print(arr2)"
   ]
  },
  {
   "cell_type": "markdown",
   "metadata": {},
   "source": [
    "## 5. Reshaping and Flattening multidimensional arrays"
   ]
  },
  {
   "cell_type": "code",
   "execution_count": 11,
   "metadata": {},
   "outputs": [
    {
     "name": "stdout",
     "output_type": "stream",
     "text": [
      "[[100.   2.   3.]\n",
      " [  4.   3.   4.]\n",
      " [  5.   6.   5.]\n",
      " [  6.   7.   8.]]\n",
      "[[100.   2.   3.   4.]\n",
      " [  3.   4.   5.   6.]\n",
      " [  5.   6.   7.   8.]]\n"
     ]
    }
   ],
   "source": [
    "# reshape a 3x4 array to 4x3 array\n",
    "print(arr2.reshape(4, 3))\n",
    "\n",
    "print(arr2)"
   ]
  },
  {
   "cell_type": "markdown",
   "metadata": {},
   "source": [
    "There are 2 popular ways to implement flattening: the flatten() method and the other using the ravel() method. The difference between ravel and flatten is: the new array created using ravel is actually a reference to the parent array."
   ]
  },
  {
   "cell_type": "code",
   "execution_count": 12,
   "metadata": {},
   "outputs": [
    {
     "name": "stdout",
     "output_type": "stream",
     "text": [
      "[100.   2.   3.   4.   3.   4.   5.   6.   5.   6.   7.   8.]\n",
      "[[1. 2. 3. 4.]\n",
      " [3. 4. 5. 6.]\n",
      " [5. 6. 7. 8.]]\n",
      "[101.   2.   3.   4.   3.   4.   5.   6.   5.   6.   7.   8.]\n",
      "[[101.   2.   3.   4.]\n",
      " [  3.   4.   5.   6.]\n",
      " [  5.   6.   7.   8.]]\n"
     ]
    }
   ],
   "source": [
    "list2 = [[1, 2, 3, 4], [3, 4, 5, 6], [5, 6, 7, 8]]\n",
    "arr2 = np.array(list2, dtype='float')\n",
    "\n",
    "# changing the flattened array does not change parent\n",
    "b1 = arr2.flatten()  \n",
    "b1[0] = 100  # changing b1 does not affect arr2\n",
    "print(b1)\n",
    "print(arr2)\n",
    "\n",
    "# changing the raveled array changes the parent also.\n",
    "b2 = arr2.ravel()  \n",
    "b2[0] = 101  # changing b2 changes arr2 also\n",
    "print(b2)\n",
    "print(arr2)"
   ]
  },
  {
   "cell_type": "markdown",
   "metadata": {},
   "source": [
    "## 6. Creating sequences\n",
    "\n",
    "The np.arange function comes handy to create customised number sequences as ndarray."
   ]
  },
  {
   "cell_type": "code",
   "execution_count": 13,
   "metadata": {},
   "outputs": [
    {
     "name": "stdout",
     "output_type": "stream",
     "text": [
      "[0 1 2 3 4]\n",
      "[0 1 2 3 4 5 6 7 8 9]\n",
      "[0 2 4 6 8]\n",
      "[10  9  8  7  6  5  4  3  2  1]\n"
     ]
    }
   ],
   "source": [
    "# lower limit is 0 be default\n",
    "print(np.arange(5))  \n",
    "\n",
    "# 0 to 9\n",
    "print(np.arange(0, 10))  \n",
    "\n",
    "# 0 to 9 with step of 2\n",
    "print(np.arange(0, 10, 2))  \n",
    "\n",
    "# 10 to 1, decreasing order\n",
    "print(np.arange(10, 0, -1))"
   ]
  },
  {
   "cell_type": "markdown",
   "metadata": {},
   "source": [
    "## 7. Visual Intro to NumPy\n",
    "\n",
    "Since NumPy is such an important library for datascience, there are many tutorials out there.\n",
    "One of the best we've seen so far, is the one by Jay Alammar, who explains numpy is a visual stunning way.\n",
    "Link: https://jalammar.github.io/visual-numpy/\n",
    "\n",
    "<img src=\"./resources/Visual_Repr_numpy.png\"  style=\"height: 400px\"/>"
   ]
  }
 ],
 "metadata": {
  "kernelspec": {
   "display_name": "Python 3.10.6 ('ML_env': venv)",
   "language": "python",
   "name": "python3"
  },
  "language_info": {
   "codemirror_mode": {
    "name": "ipython",
    "version": 3
   },
   "file_extension": ".py",
   "mimetype": "text/x-python",
   "name": "python",
   "nbconvert_exporter": "python",
   "pygments_lexer": "ipython3",
   "version": "3.10.6"
  },
  "vscode": {
   "interpreter": {
    "hash": "3762fa38335283772957b8ad4850e1d344741e862c3aa7ec1c26d17780db6975"
   }
  }
 },
 "nbformat": 4,
 "nbformat_minor": 2
}
