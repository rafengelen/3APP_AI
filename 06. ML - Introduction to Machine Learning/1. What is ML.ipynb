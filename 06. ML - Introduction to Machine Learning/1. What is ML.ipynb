{
 "cells": [
  {
   "cell_type": "markdown",
   "metadata": {},
   "source": [
    "# What is Machine Learning?\n",
    "\n",
    "Our second module will be all about Machine Learning. We already know that machine learning is a subset of AI. The theory is simple: machines take data and learn for themselves. It is currently the most promising tool in the AI pool for businesses. Let's dive a little bit deeper into it.\n",
    "\n",
    "Watch the video below (from 0:03 till 5:35) for a fast (take this literally) introduction to what Machine Learning is all about.\n",
    "\n",
    "<a href=\"https://www.youtube.com/embed/z-EtmaFJieY?start=3&end=335\"><img src=\"resources/video1.png\" width=\"400\"></a>"
   ]
  },
  {
   "cell_type": "markdown",
   "metadata": {},
   "source": [
    "## 1. Definitions\n",
    "\n",
    "### Machine Learning\n",
    "\n",
    "Algorithms that give computers the ability to learn from data and then make predictions and decisions.\n",
    "\n",
    "### Features\n",
    "\n",
    "Values that usefully characterize the things we wish to classify.\n",
    "\n",
    "### Labels\n",
    "\n",
    "The one feature that is the outcome of the training data."
   ]
  },
  {
   "cell_type": "markdown",
   "metadata": {},
   "source": [
    "## 2. The 7 steps in Machine Learning\n",
    "\n",
    "There are seven steps to machine learning, which will be explained in the video below (from 0:23 till 9:50).\n",
    "\n",
    "<a href=\"https://www.youtube.com/embed/nKW8Ndu7Mjw?start=23&end=590\"><img src=\"resources/video2.png\" width=\"400\"></a>"
   ]
  },
  {
   "cell_type": "markdown",
   "metadata": {},
   "source": [
    "The objective of machine learning is to derive meaning from data. Therefore, data is the key to unlock machine learning. As you now know, there are seven steps to machine learning, and each step revolves around data.\n",
    "\n",
    "<img src=\"./resources/7steps.png\"  style=\"height: 100px\"/>\n",
    "\n",
    "### STEP 1. Data collection\n",
    "\n",
    "Machine learning requires training data, a lot of it (either labelled, meaning supervised learning or not labelled, meaning unsupervised learning).\n",
    "\n",
    "### STEP 2. Data preparation\n",
    "Raw data alone is not very useful. The data needs to be prepared, de-duplicated and errors need to be removed. \n",
    "\n",
    "### STEP 3. Choosing a model\n",
    "The third step consists of selecting the right model. There are many models that can be used for many different purposes. Upon selecting the model, you need to make sure that the model meets the business goal.\n",
    "\n",
    "### STEP 4. Training\n",
    "Training your model is the bulk of machine learning. The objective is to use your training data and incrementally improve the predictions of the model.\n",
    "\n",
    "### STEP 5. Evaluation\n",
    "After training the model comes evaluating the model. This entails testing the machine learning against an unused control dataset to see how it performs.\n",
    "\n",
    "### STEP 6. Parameter tuning\n",
    "After evaluating your model, you should test the originally set parameters to improve the AI.\n",
    "\n",
    "### STEP 7. Prediction\n",
    "Now it is time to answer questions using predictions."
   ]
  },
  {
   "cell_type": "markdown",
   "metadata": {},
   "source": [
    "## 3. Types of Machine Learning (ML)\n",
    "\n",
    "Machine learning algorithms are categorized into two categories. They will be explained in the video below (from 0:06 till 7:24).\n",
    "\n",
    "<a href=\"https://www.youtube.com/embed/1AVrWvRvfxs?start=6\"><img src=\"resources/video3.png\" width=\"400\"></a>"
   ]
  },
  {
   "cell_type": "markdown",
   "metadata": {},
   "source": [
    "## A small recap\n",
    "\n",
    "### 3.1 Supervised machine learning algorithms\n",
    "\n",
    "This is the most commonly used machine learning algorithm. It is called supervised because the process of algorithm learning from the training dataset can be thought of as a teacher supervising the learning process. In this kind of ML algorithm, the possible outcomes are already known (we call them __labels__) and the training data is labeled with the correct answers. The goal is to build a model which can __predict__ the outcome for new instances.\n",
    "\n",
    "Mainly supervised leaning problems can be used for solving the following two kinds of problems:\n",
    "\n",
    "- __Classification__ − A problem is called a classification problem when we have categorized output such as \"black\", \"teaching\", \"non-teaching\", etc.\n",
    "\n",
    "- __Regression__ − A problem is called aregression problem when we have real value output such as \"distance\", \"kilogram\", etc.\n",
    "\n",
    "Because the data has a known value, the model can be evaluated by splitting the data into training and test data. We train the model with the training data and then make a prediction for each instance in the test set. Since we have the known value and the predicted value for every example in the test, we can estimate the performance of the model.\n",
    "\n",
    "*Decision tree, random forest, support vector machine, linear regression* are the examples of supervised machine learning algorithms.\n",
    "\n",
    "### 3.2 Unsupervised machine learning algorithms\n",
    "\n",
    "As the name suggests, these kinds of machine learning algorithms do not have any supervisor to provide any sort of guidance. We can say that in unsupervised learning the training data will have no correct answer or no specific outcome or label. Algorithms help to discover interesting patterns in data. \n",
    "\n",
    "Unsupervised learning problems can be used for solving the following three kinds of problems:\n",
    "\n",
    "- __Clustering__ − In clustering problems, we look for data that are similar and group them together. For example, grouping customers by their purchasing behavior.\n",
    "\n",
    "- __Anomaly dectection__ - Look for rows that are very unusual. For example, anomaly detection could help banks identify fraudulent transactions and transfers.\n",
    "\n",
    "- __Association__ − In association problems, we try to discover interesting relations between variables in our data. For example, finding the customers who buy both x and y.\n",
    "\n",
    "Because the data has no outcome, the model can not be evaluated.\n",
    "\n",
    "*K-means for clustering* is an example of an unsupervised machine learning algorithms.\n",
    "\n",
    "Actually there's a third category of machine learning algortihms, namely Reinforcement Learning. We will cover this in depth in one of the following lessons.\n",
    "\n",
    "### 3.3 Reinforcement machine learning algorithms\n",
    "\n",
    "These algorithms train the systems to make specific decisions. Basically, the machine is exposed to an environment where it trains itself continually using the trial and error method. These algorithms learn from past experience and try to capture the best possible knowledge to make accurate decisions."
   ]
  },
  {
   "cell_type": "markdown",
   "metadata": {},
   "source": [
    "## 4. Questions\n",
    "\n",
    "Suppose you want to answer the following questions. What machine learning technique would you use (supervised or unsupervised learning)? What kind of problem is it actually (regression, classification, ...)?\n",
    "\n",
    "1. Are these customers silimar?\n",
    "2. How many customers will apply for a loan next month?\n",
    "3. Is this bank transaction unusual?\n",
    "4. How much is this home worth?\n",
    "5. Are these products purchased together?\n",
    "6. Will this customer pay back his loan?\n",
    "7. Is this cancer malignant?"
   ]
  },
  {
   "cell_type": "code",
   "execution_count": null,
   "metadata": {},
   "outputs": [],
   "source": [
    "# answers ?\n",
    "\n",
    "# 1. Are these customers silimar? \n",
    "# 2. How many customers will apply for a loan next month? \n",
    "# 3. Is this bank transaction unusual? \n",
    "# 4. How much is this home worth? \n",
    "# 5. Are these products purchased together? \n",
    "# 6. Will this customer pay back his loan? \n",
    "# 7. Is this cancer malignant? "
   ]
  }
 ],
 "metadata": {
  "kernelspec": {
   "display_name": "Python 3.10.6 ('ML_env': venv)",
   "language": "python",
   "name": "python3"
  },
  "language_info": {
   "codemirror_mode": {
    "name": "ipython",
    "version": 3
   },
   "file_extension": ".py",
   "mimetype": "text/x-python",
   "name": "python",
   "nbconvert_exporter": "python",
   "pygments_lexer": "ipython3",
   "version": "3.10.6"
  },
  "vscode": {
   "interpreter": {
    "hash": "3762fa38335283772957b8ad4850e1d344741e862c3aa7ec1c26d17780db6975"
   }
  }
 },
 "nbformat": 4,
 "nbformat_minor": 2
}
