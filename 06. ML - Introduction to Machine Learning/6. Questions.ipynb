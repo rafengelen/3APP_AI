{
 "cells": [
  {
   "cell_type": "markdown",
   "metadata": {},
   "source": [
    "# Questions ML (test/exam)\n",
    "\n",
    "Below you will find the questions for the second module. Other data will be used for the exercises of the test/exam."
   ]
  },
  {
   "cell_type": "markdown",
   "metadata": {},
   "source": [
    "## 1. Introduction\n",
    "\n",
    "1. What are features and labels?\n",
    "2. Name the three types of Machine Learning (plus a very short explanation).\n",
    "3. What are the seven steps of Machine Learning (plus a very short explanation).\n",
    "4. What are the two kinds of problems that can be solved using supervised learning (plus a very short explanation)?\n",
    "5. Suppose you want to answer the following questions. What machine learning technique would you use (supervised or unsupervised learning)? What kind of problem is it actually (regression, classification, ...)?\n",
    "\n",
    "\n",
    "- Are these customers silimar?\n",
    "- How many customers will apply for a loan next month?\n",
    "- Is this transaction unusual?\n",
    "- How much is this home worth?\n",
    "- Are these products purchased together?\n",
    "- Will this customer pay back his loan?\n",
    "- Is this cancer malignant?"
   ]
  },
  {
   "cell_type": "markdown",
   "metadata": {},
   "source": [
    "## 2. Linear Regression\n",
    "\n",
    "6. Using linear regression, the system estimates a regression function with the equation 𝑓(𝑥) = 𝑏 + m𝑥. Can you explain the values of b and m?\n",
    "7. Can you explain the terms bias and variance? Is bias, resp. variance low or high for the straight line / squiggly line?\n",
    "8. Consider the following regression lines with different degrees. The green dots are the train data, the red dots the test data. Are the models underfitted, well-fitted or overfitted?\n",
    "\n",
    "<img src=\"./resources/LRoverunder.png\" style=\"height: 500px\"/>"
   ]
  },
  {
   "cell_type": "markdown",
   "metadata": {},
   "source": [
    "## 3. Recommender systems\n",
    "\n",
    "9. Name the three types of recommender systems (plus a short explanation).\n",
    "10. Name three companies that use recommender systems intensively. What are the items they recommend?\n",
    "\n",
    "11. Content based - exercise: what movie should we recommend?\n",
    "\n",
    "<img src=\"./resources/oef1.png\" style=\"height: 350px\"/>\n",
    "\n",
    "12. Collaborative Filtering - exercise: what movie should we recommend?\n",
    "\n",
    "<img src=\"./resources/oef2.png\" style=\"height: 350px\"/>\n",
    "\n",
    "13. Name the three challenges of collaborative filtering. Can you explain them?"
   ]
  },
  {
   "cell_type": "markdown",
   "metadata": {},
   "source": [
    "## 4. Decision trees and random forest\n",
    "\n",
    "14. Explain the following terms: entropy, information gain, leaf node, decision node, root node.\n",
    "\n",
    "15. Do the following datasets have a high, low or zero entropy?\n",
    "\n",
    "<img src=\"./resources/entropy.png\"  style=\"height: 250px\"/>\n",
    "\n",
    "16. Name one advantage and one disadvantage of decision trees.\n",
    "17. Draw a decission tree for the folowing dataset.\n",
    "\n",
    "<img src=\"./resources/tree.png\"  style=\"height: 150px\"/>\n",
    "\n",
    "18. What are the four steps in the Random Forest algorithm?"
   ]
  },
  {
   "cell_type": "markdown",
   "metadata": {},
   "source": [
    "## 5. Reinforcement Learning\n",
    "\n",
    "19. Explain, using the dog analogy, how reinforcement learning works.\n",
    "20. Draw a schematic representation of the Reinforcement Learning process.\n",
    "21. Why are there 500 different states in the taxi problem?\n",
    "22. What rewards and/or penalties are involved in the taxi problem?\n",
    "23. What are the six different actions that can be taken in the taxi problem?"
   ]
  }
 ],
 "metadata": {
  "kernelspec": {
   "display_name": "Python 3.10.6 ('ML_env': venv)",
   "language": "python",
   "name": "python3"
  },
  "language_info": {
   "codemirror_mode": {
    "name": "ipython",
    "version": 3
   },
   "file_extension": ".py",
   "mimetype": "text/x-python",
   "name": "python",
   "nbconvert_exporter": "python",
   "pygments_lexer": "ipython3",
   "version": "3.10.6"
  },
  "vscode": {
   "interpreter": {
    "hash": "3762fa38335283772957b8ad4850e1d344741e862c3aa7ec1c26d17780db6975"
   }
  }
 },
 "nbformat": 4,
 "nbformat_minor": 2
}
