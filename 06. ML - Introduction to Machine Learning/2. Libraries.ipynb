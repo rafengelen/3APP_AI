{
 "cells": [
  {
   "cell_type": "markdown",
   "metadata": {},
   "source": [
    "# Python Libraries for Machine Learning\n",
    "\n",
    "Python really shines in the field of machine learning. Its combination of consistent syntax, shorter development time and flexibility makes it well-suited to developing sophisticated models and prediction engines that can plug directly into production systems. One of Python’s greatest assets is its extensive set of Machine Learning libraries.\n",
    "\n",
    "Four important Machine Learning libraries are listed below. In the following Jupyter Notebooks of this lesson (*3. NumPy, 4. Pandas* and *5. Matplotlib*) you will find a short introduction to three libraries. __I suggest you skip these Notebooks (3, 4 and 5) for now.__ The libraries will be explained at the same time as when the machine learning techniques are discussed. If you then need additional explanation, you can still go through these Notebooks afterwards."
   ]
  },
  {
   "cell_type": "markdown",
   "metadata": {},
   "source": [
    "## 1. NumPy\n",
    "\n",
    "NumPy is the most basic but powerful package for working with data in Python. If you are going to work on data analysis or machine learning projects, then having an understanding of NumPy is advisable.\n",
    "\n",
    "<img src=\"./resources/numpy.png\"  style=\"height: 150px\"/>\n",
    "\n",
    "## 2. Pandas\n",
    "\n",
    "The Pandas package is the most important tool at the disposal of Data Scientists and Analysts working in Python today. It is the backbone of most data projects. Pandas is built on top of the NumPy package, meaning a lot of the structure of NumPy is used or replicated in Pandas.\n",
    "\n",
    "<img src=\"./resources/pandas.png\"  style=\"height: 150px\"/>\n",
    "\n",
    "## 3. Matplotlib\n",
    "\n",
    "Matplotlib is a Python library used for plotting beautiful and attractive Graphs. In Machine Learning visualization is an important step. By using visualization we can easily understand how data is split and predictions are made.\n",
    "\n",
    "<img src=\"./resources/matplotlib.webp\" style=\"height: 75px\"/>"
   ]
  },
  {
   "cell_type": "markdown",
   "metadata": {},
   "source": [
    "## 4. Scikit-learn\n",
    "\n",
    "Scikit-learn is the de-facto industry standard for Machine Learning with Python. The library combines quality code and good documentation, ease of use and high performance. The scikit-learn exposes a concise and consistent interface to the common machine learning algorithms, making it simple to bring ML into production systems.\n",
    "\n",
    "<img src=\"./resources/scikit.png\"  style=\"height: 200px\"/>\n",
    "\n"
   ]
  }
 ],
 "metadata": {
  "kernelspec": {
   "display_name": "Python 3.10.6 ('ML_env': venv)",
   "language": "python",
   "name": "python3"
  },
  "language_info": {
   "codemirror_mode": {
    "name": "ipython",
    "version": 3
   },
   "file_extension": ".py",
   "mimetype": "text/x-python",
   "name": "python",
   "nbconvert_exporter": "python",
   "pygments_lexer": "ipython3",
   "version": "3.10.6"
  },
  "vscode": {
   "interpreter": {
    "hash": "3762fa38335283772957b8ad4850e1d344741e862c3aa7ec1c26d17780db6975"
   }
  }
 },
 "nbformat": 4,
 "nbformat_minor": 2
}
