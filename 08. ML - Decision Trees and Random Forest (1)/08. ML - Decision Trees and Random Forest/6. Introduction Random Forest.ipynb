{
 "cells": [
  {
   "cell_type": "markdown",
   "metadata": {},
   "source": [
    "# Random Forest\n",
    "\n",
    "While great for producing models that are easy to understand and implement, decision trees also tend to overfit on their training data—making them perform poorly if data shown to them later, don’t closely match to what they were trained on. In other words, decision trees don’t generalize well.\n",
    "\n",
    "Random forest, like its name implies, consists of a large number of individual decision trees that operate as an ensemble. Each individual tree in the random forest makes a class prediction and the class with the most votes becomes our model’s prediction. The fundamental concept behind random forest is a simple but powerful one — the wisdom of crowds. \n",
    "\n",
    "At the end of this lesson we will try to create a random forest model to predict breast cancer.\n",
    "\n",
    "## Predicting Breast Cancer\n",
    "\n",
    "Breast cancer (BC) is one of the most common cancers among women worldwide, representing the majority of new cancer cases and cancer-related deaths according to global statistics, making it a significant public health problem in today’s society. We will use the Breast Cancer Wisconsin (Diagnostic) Database to create a classifier that can help diagnose patients.\n",
    "\n",
    "<img src=\"./resources/cancer.jpg\"  style=\"height: 250px\"/>"
   ]
  }
 ],
 "metadata": {
  "kernelspec": {
   "display_name": "Python 3",
   "language": "python",
   "name": "python3"
  },
  "language_info": {
   "codemirror_mode": {
    "name": "ipython",
    "version": 3
   },
   "file_extension": ".py",
   "mimetype": "text/x-python",
   "name": "python",
   "nbconvert_exporter": "python",
   "pygments_lexer": "ipython3",
   "version": "3.7.3"
  }
 },
 "nbformat": 4,
 "nbformat_minor": 2
}
