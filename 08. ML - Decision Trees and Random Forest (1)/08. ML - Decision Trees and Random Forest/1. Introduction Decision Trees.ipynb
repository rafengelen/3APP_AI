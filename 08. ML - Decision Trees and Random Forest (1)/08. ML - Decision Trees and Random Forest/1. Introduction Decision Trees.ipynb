{
 "cells": [
  {
   "cell_type": "markdown",
   "metadata": {},
   "source": [
    "# Decision Trees\n",
    "\n",
    "A Decision Tree is a structure that allows us to split a dataset into branches and then\n",
    "make simple decisions at each level. This will allow us to arrive at a final decision by\n",
    "walking down the tree. Decision Trees are produced by training algorithms, which identify\n",
    "how we can split the data in the best possible way.\n",
    "\n",
    "At the end of this lesson we will try to distinguish the difference between three iris species using the famous iris dataset.\n",
    "\n",
    "## Iris\n",
    "\n",
    "\n",
    "The iris dataset is made up of 4 features: the petal length, the petal width, the sepal length and the sepal width. The target variable to predict is the iris species. There are three of them: iris setosa, iris versicolor and iris virginica.\n",
    "\n",
    "<img src=\"./resources/iris.png\"  style=\"height: 250px\"/>\n",
    "\n",
    "First thing we can notice is that for a non-expert in gardening, it is quite difficult to distinguish the difference between these three iris species. Let’s use Machine Learning to do this task!"
   ]
  }
 ],
 "metadata": {
  "kernelspec": {
   "display_name": "Python 3",
   "language": "python",
   "name": "python3"
  },
  "language_info": {
   "codemirror_mode": {
    "name": "ipython",
    "version": 3
   },
   "file_extension": ".py",
   "mimetype": "text/x-python",
   "name": "python",
   "nbconvert_exporter": "python",
   "pygments_lexer": "ipython3",
   "version": "3.7.3"
  }
 },
 "nbformat": 4,
 "nbformat_minor": 2
}
