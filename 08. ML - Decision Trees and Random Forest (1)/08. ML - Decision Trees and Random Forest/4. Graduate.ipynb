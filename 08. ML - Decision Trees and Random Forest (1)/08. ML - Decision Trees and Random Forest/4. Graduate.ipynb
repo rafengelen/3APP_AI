{
 "cells": [
  {
   "cell_type": "markdown",
   "metadata": {},
   "source": [
    "# Graduate - Exercise\n",
    "\n",
    "In this exercise we try to predict whether a student, based on the results after the first examination period (in November), will be in the third year after two years and will be able to graduate. The data are real results from two years ago. Perhaps you can find your results in the file."
   ]
  },
  {
   "cell_type": "markdown",
   "metadata": {},
   "source": [
    "## 1. Import packages and classes\n",
    "\n",
    "First let's import the packages."
   ]
  },
  {
   "cell_type": "code",
   "execution_count": null,
   "metadata": {},
   "outputs": [],
   "source": [
    "import numpy as np\n",
    "import pandas as pd\n",
    "from sklearn.tree import DecisionTreeClassifier\n",
    "from sklearn.metrics import accuracy_score\n",
    "from sklearn import tree"
   ]
  },
  {
   "cell_type": "markdown",
   "metadata": {},
   "source": [
    "## 2. Import the data\n",
    "\n",
    "You can find the data in _firstexams.csv_ in the _resources_ folder. Read the data and print the first 5 records."
   ]
  },
  {
   "cell_type": "code",
   "execution_count": null,
   "metadata": {},
   "outputs": [],
   "source": []
  },
  {
   "cell_type": "markdown",
   "metadata": {},
   "source": [
    "Now, create two arrays: the input features X (python, webdesign, linux, networking and english) and output y (can this student graduate or not?). Print their content."
   ]
  },
  {
   "cell_type": "code",
   "execution_count": null,
   "metadata": {},
   "outputs": [],
   "source": [
    "# create X and y\n"
   ]
  },
  {
   "cell_type": "code",
   "execution_count": null,
   "metadata": {},
   "outputs": [],
   "source": [
    "# print X\n"
   ]
  },
  {
   "cell_type": "code",
   "execution_count": null,
   "metadata": {},
   "outputs": [],
   "source": [
    "# print y\n"
   ]
  },
  {
   "cell_type": "markdown",
   "metadata": {},
   "source": [
    "## 3. Create a model and fit it\n",
    "\n",
    "The next step is to create our decision tree. Use __two models with the two different methods for information gain (entropy and gini)__ and check if they come up with a different decision tree."
   ]
  },
  {
   "cell_type": "code",
   "execution_count": null,
   "metadata": {},
   "outputs": [],
   "source": [
    "# create a decision tree with entropy\n"
   ]
  },
  {
   "cell_type": "code",
   "execution_count": null,
   "metadata": {},
   "outputs": [],
   "source": [
    "# print the decision tree\n"
   ]
  },
  {
   "cell_type": "code",
   "execution_count": null,
   "metadata": {},
   "outputs": [],
   "source": [
    "# create a decision tree with gini\n"
   ]
  },
  {
   "cell_type": "code",
   "execution_count": null,
   "metadata": {},
   "outputs": [],
   "source": [
    "# print the decision tree\n"
   ]
  },
  {
   "cell_type": "markdown",
   "metadata": {},
   "source": [
    "## 4. Make predictions\n",
    "\n",
    "Can you predict if the following students will be in the third year or not according to the two classifiers?\n",
    "\n",
    "<table>\n",
    "    <tr><th>python</th><th>webdesign</th><th>linux</th><th>networking</th><th>english</th></tr>\n",
    "    <tr><td>52.91</td><td>41.66</td><td>80</td><td>43.18</td><td>59.01</td></tr>\n",
    "           <tr><td>61.78</td><td>53.52</td><td>43</td><td>10.56</td><td>61.5</td></tr>\n",
    "           <tr><td>42.45</td><td>49.47</td><td>53</td><td>24.03</td><td>50.32</td></tr>\n",
    "           <tr><td>62.84</td><td>44.46</td><td>45</td><td>68.03</td><td>50.32</td></tr>\n",
    "           <tr><td>63.45</td><td>51.66</td><td>52</td><td>53.03</td><td>40</td></tr>\n",
    "</table>"
   ]
  },
  {
   "cell_type": "code",
   "execution_count": null,
   "metadata": {},
   "outputs": [],
   "source": []
  }
 ],
 "metadata": {
  "celltoolbar": "Raw Cell Format",
  "kernelspec": {
   "display_name": "Python 3.10.6 ('ML_env': venv)",
   "language": "python",
   "name": "python3"
  },
  "language_info": {
   "codemirror_mode": {
    "name": "ipython",
    "version": 3
   },
   "file_extension": ".py",
   "mimetype": "text/x-python",
   "name": "python",
   "nbconvert_exporter": "python",
   "pygments_lexer": "ipython3",
   "version": "3.10.6"
  },
  "vscode": {
   "interpreter": {
    "hash": "3762fa38335283772957b8ad4850e1d344741e862c3aa7ec1c26d17780db6975"
   }
  }
 },
 "nbformat": 4,
 "nbformat_minor": 2
}
