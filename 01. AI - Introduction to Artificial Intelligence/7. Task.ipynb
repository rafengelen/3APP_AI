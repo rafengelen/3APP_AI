{
 "cells": [
  {
   "cell_type": "markdown",
   "metadata": {},
   "source": [
    "---\n",
    "## General Guidelines - Tasks: \n",
    "### **ipynb - pdf - Streamlit app**\n",
    "\n",
    "\n",
    "During the practical part of this course, each student has to complete three individual tasks, one for each of the three domains of AI that we'll cover.\n",
    "For each of those tasks, a notebook with the task description, and some general steps of what we expect to be covered in the solution, will be provided. \n",
    "We also expect you to **use Generative AI tools** to assist you in creating a solution. So, definetely have a look at our Generative AI Policy description as well.\n",
    "\n",
    "Each of the tasks, deals with a problem that first has to be solved via Python code, in a **Jupyter notebook (.ipynb) format**, so you can switch between code and comments (in Markdown). Also make sure, that you can **export the .ipynb into a pdf**, including the output of the code cells, since this will also be a **requirement on the practical exam**. You can even extend your notebook, to create a full blown report (see below).\n",
    "\n",
    "Next, this code has to be transformed into a **Streamlit application** (a very user friendly Python based web application framework). Streamlit is not part of the course material itself, and you're expected to master the basic principles yourself. It's really straightforward to use, especially if you use Bing AI or other GenAI tools. It will lift your simple tasks from code 'living in a notebook', to a nice visual web application, in a matter of minutes (after some practise). Another advantage of using Streamlit, is that you can even include the app in your online portfolio, if you want to.\n",
    "\n",
    "Finally, each tasks should have a **report in pdf**, where you explain your application, the different steps you took to get to the result, the reasoning/intention behind those steps, extra visualisations to make the solution more explainable, problems/roadblocks/speedbumps you encountered and how you conquered them, etc. And, **including a section on the GenAI tools** you employed (see GenAI Policy), and **the prompts** you used to generate your desired result. This report can be part of the exported Jupyter notebook (preferred), or can be a completely stand-alone new report.\n",
    "\n",
    "\n",
    "### General deliverables for each of the tasks:\n",
    "- a pdf version of your notebook, including the cell outputs (preferrably also including the reporting part)\n",
    "- a streamlit app. Preferrably a 'private' URL where we can test your application live. If your app isn't live, include screenshots in your report as well.\n",
    "- a pdf report, if you didn't include it in the pdf of your notebook\n",
    "\n",
    "\n",
    "### General Grading Guidelines\n",
    "\n",
    "Each task will have their own specific grading, but as a general guideline:\n",
    "\n",
    "The grading will be on a scale of 0 (insufficient completion of task, including not completing one or more subtasks, and/or insufficient reporting style) to 0.5 (completed every element of the task, but poor reporting style), to 1 (task completed, impressive solution, good reporting style)\n",
    "\n",
    "### Streamlit\n",
    "\n",
    "Streamlit is an easy to use Python webframework, and you can find many online tutorials to help you transform your code into a live Streamlit webapp. Remember: you are encouraged to use GenAI tools to get the job done.\n",
    "\n",
    "A couple of YouTube channels, explaining the possibilies of Streamlit very well:\n",
    "\n",
    "- Misra Turp: https://www.youtube.com/watch?v=-IM3531b1XU&list=PLM8lYG2MzHmRpyrk9_j9FW0HiMwD9jSl5&ab_channel=M%C4%B1sraTurp\n",
    "- Data Professor: https://www.youtube.com/watch?v=ZZ4B0QUHuNc&list=PLtqF5YXg7GLmCvTswG32NqQypOuYkPRUE&ab_channel=DataProfessor\n",
    "---"
   ]
  },
  {
   "cell_type": "markdown",
   "metadata": {},
   "source": [
    "# Task AI. Coding a GUI for an Cryptoarithmetic Puzzle\n",
    "\n",
    "During the lessons, we used Python along with some libraries to solve some very interesting AI problems using - generally speaking - search algorithms. The code was always run in a Jupyter notebook. While this method gave us the solutions to our problem, the output was far from fancy.\n",
    "\n",
    "During this first task, you'll try to use your Python knowledge to pimp one of these problems (make it more general), and transform it in a graphically more beautiful way, using Streamlit. "
   ]
  },
  {
   "cell_type": "markdown",
   "metadata": {},
   "source": [
    "## Cryptarithmetic Puzzles\n",
    "\n",
    "If you have done the exercises in the lessons about Graph Search Algorithms, you will already have some programs in which you use constraints to solve a cryptarithmetic puzzle with backtracking, using the simpleai library. Unfortunately, for all those programs, you had to define the constraints yourself and consequently the cryptarithmetic puzzle, you are trying to solve, is **hard-coded into your program**. \n",
    "\n",
    "The challenge: write a program where the cryptarithmetic puzzle could be entered as an input by the user. Next, depending on the input, the program should select, or generate, the appropriate constraints, and then solves them to generate a solution.\n",
    "\n",
    "Add **comments** in your Python code, or via the **Markdown cells**, but make sure you create a clear structure for your program, and explain what happens in more complex pieces of code. We don't want a 'code dump', without any explanation, or clear structure.\n",
    "\n",
    "So, write a program that allows a user to enter the puzzle to solve as input, e.g. \"TO + GO = OUT\". The program then forms its own constraints, finds the solution, and ultimately prints that solution (preferably in a graphically beautiful way).\n",
    "\n",
    "For the input of the example above, the output could look something like this:\n",
    "\n",
    "<img src=\"./resources/option2.png\"  style=\"height: 200px\"/>"
   ]
  },
  {
   "cell_type": "markdown",
   "metadata": {},
   "source": [
    "## To be submitted \n",
    "(remember: all aspects have to be covered to earn points)\n",
    "\n",
    "\n",
    "- a pdf version of your notebook, including the cell outputs and comments (preferrably **also including the reporting part**)\n",
    "- a pdf report (if you didn't include it in the pdf of your notebook)\n",
    "- a streamlit app \n",
    "    - as an URL where we can test your application live (we don't need the streamlit code in this case) - Checkout the Streamlit Community Cloud to deploy your app via Github\n",
    "    - if your app isn't live, include screenshots in your report as well, and include the code of the app in a seperate section of your pdf.\n",
    "\n",
    "We know that solutions can be found on the internet, or via GenAI tools. You may use those to get started, but don't copy them blindly! You are going to get the most satisfaction out of this assignment if you try to code it - at least partially - yourself. And don't forget a **section in your report about the GenAI usage**."
   ]
  },
  {
   "cell_type": "markdown",
   "metadata": {},
   "source": [
    "## Grading\n",
    "\n",
    "During the grading we will take into account:\n",
    "\n",
    "- is your code neatly structured?\n",
    "- do you have enough comments / explanations? Do they reflect that you have a solid understanding of the code?\n",
    "- is the report clear, professional, and does it give a good overall impression? No _bric a brac_\n",
    "- how impressive is the live app, or the screenshots when the app isn't live? Does it do what we asked it to do?\n",
    "- how's the usage of GenAI in this assignment?\n"
   ]
  }
 ],
 "metadata": {
  "kernelspec": {
   "display_name": "Python 3.9.13 64-bit (microsoft store)",
   "language": "python",
   "name": "python3"
  },
  "language_info": {
   "codemirror_mode": {
    "name": "ipython",
    "version": 3
   },
   "file_extension": ".py",
   "mimetype": "text/x-python",
   "name": "python",
   "nbconvert_exporter": "python",
   "pygments_lexer": "ipython3",
   "version": "3.9.13"
  },
  "vscode": {
   "interpreter": {
    "hash": "c793b23a15265166c51982d7cbd6f1cfd9bae4bf2bd11a226366ff427026a849"
   }
  }
 },
 "nbformat": 4,
 "nbformat_minor": 2
}
