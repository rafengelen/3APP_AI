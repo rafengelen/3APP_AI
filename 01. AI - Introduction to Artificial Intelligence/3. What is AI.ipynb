{
 "cells": [
  {
   "cell_type": "markdown",
   "metadata": {},
   "source": [
    "# What is Artificial Intelligence?\n",
    "\n",
    "According to the father of Artificial Intelligence, John McCarthy, it is \"The science and engineering of making intelligent machines, especially intelligent computer programs\".\n",
    "\n",
    "In other words: \"AI is a form of computer science used to create intelligent machines that can recognize human speech, objects, can learn, plan and solve problems like humans\".\n",
    "\n",
    "Watch the video below (from 8:45 till 20:20) for some indepth explanation.\n",
    "\n",
    "<a href=\"https://www.youtube.com/embed/JMUxmLyrhSk?start=524&end=1220\"><img src=\"resources/video4.png\" width=\"400\"></a>"
   ]
  },
  {
   "cell_type": "markdown",
   "metadata": {},
   "source": [
    "## 1. AI Applications - Questions\n",
    "\n",
    "Name at least five giant tech companies which used AI in their applications. What did they use AI for/what problem did they solve using AI? What AI technique did they apply?"
   ]
  },
  {
   "cell_type": "code",
   "execution_count": null,
   "metadata": {},
   "outputs": [],
   "source": [
    "# answer\n",
    "# Company        |  Problem solved-what?         |   AI technique\n",
    "\n",
    "#\n",
    "#\n",
    "#\n",
    "#\n",
    "#"
   ]
  },
  {
   "cell_type": "markdown",
   "metadata": {},
   "source": [
    "## 2. Types of AI\n",
    "\n",
    "The different types of AI depend on the level of intelligence embedded into a robot. We can clearly categorize AI into three types: \n",
    "\n",
    "\n",
    "### Artificial Narrow Intelligence or Weak AI\n",
    "\n",
    "Narrow AI (ANI) is a type of Artificial Intelligence focused on one single narrow task. It possesses a narrow-range of abilities. This is the only AI in existence today, for now. \n",
    "\n",
    "Narrow AI is something most of us interact with on a daily basis. Think of Google Assistant, Google Translate, Siri, selfdriving cars, Cortana, or Alexa. They are all machine intelligence that use Natural Language Processing (NLP). \n",
    "\t\n",
    "### Artificial General Intelligence or Strong AI\n",
    "\n",
    "When we talk about Artificial General Intelligence (AGI), we refer to a type of AI that is as capable as a human. However, AGI is still an emerging field. Since the human brain is the model to creating General Intelligence, it seems unlikely that this will happen relatively soon because there is lack of a comprehensive knowledge of the functionality of the human brain.\n",
    "\n",
    "### Artificial Super Intelligence\n",
    "\n",
    "Artificial Super Intelligence (ASI) is way into the future. Or, that is what we believe. To reach this point and to be called an ASI, an AI will need to surpass humans at absolutely everything. The ASI type is achieved when AI is more capable than a human.\n",
    "\n",
    "<img src=\"./resources/types.png\"  style=\"height: 200px\"/>"
   ]
  }
 ],
 "metadata": {
  "kernelspec": {
   "display_name": "Python 3.10.7 64-bit",
   "language": "python",
   "name": "python3"
  },
  "language_info": {
   "codemirror_mode": {
    "name": "ipython",
    "version": 3
   },
   "file_extension": ".py",
   "mimetype": "text/x-python",
   "name": "python",
   "nbconvert_exporter": "python",
   "pygments_lexer": "ipython3",
   "version": "3.10.7"
  },
  "vscode": {
   "interpreter": {
    "hash": "495ae52d0bdace51a6155b402a7938e77bd87f1fa94bc737a5c61e09660be6b7"
   }
  }
 },
 "nbformat": 4,
 "nbformat_minor": 2
}
