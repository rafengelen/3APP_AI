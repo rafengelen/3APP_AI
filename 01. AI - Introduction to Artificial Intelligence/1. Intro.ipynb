{
 "cells": [
  {
   "cell_type": "markdown",
   "metadata": {},
   "source": [
    "# Are you excited about Artificial Intelligence?\n",
    "\n",
    "Artificial Intelligence (AI) is currently the hottest buzzword in tech. Let's start our course with an inspirational video on the role of Artificial Intelligence and its scope in the future. In the video below, you will find the best clips on Artificial Intelligence by some well-known leaders and influencers such as Bill Gates, Tim Cook, Warren Buffett, Barack Obama, Elon Musk, Sundar Pichai and Jeff Bezos. Artifical Intelligence is definitely the future of the world.\n",
    "\n",
    "Watch the video below (from 0:00 till 4:45).\n",
    "\n",
    "<a href=\"https://www.youtube.com/embed/wTbrk0suwbg?start=0&end=286\"><img src=\"resources/video1.png\" width=\"400\"></a>"
   ]
  },
  {
   "cell_type": "code",
   "execution_count": 1,
   "metadata": {},
   "outputs": [
    {
     "name": "stdout",
     "output_type": "stream",
     "text": [
      "hello world\n"
     ]
    }
   ],
   "source": [
    "print(\"hello world\")"
   ]
  }
 ],
 "metadata": {
  "kernelspec": {
   "display_name": "Python 3.10.7 64-bit",
   "language": "python",
   "name": "python3"
  },
  "language_info": {
   "codemirror_mode": {
    "name": "ipython",
    "version": 3
   },
   "file_extension": ".py",
   "mimetype": "text/x-python",
   "name": "python",
   "nbconvert_exporter": "python",
   "pygments_lexer": "ipython3",
   "version": "3.11.5"
  },
  "vscode": {
   "interpreter": {
    "hash": "495ae52d0bdace51a6155b402a7938e77bd87f1fa94bc737a5c61e09660be6b7"
   }
  }
 },
 "nbformat": 4,
 "nbformat_minor": 2
}
