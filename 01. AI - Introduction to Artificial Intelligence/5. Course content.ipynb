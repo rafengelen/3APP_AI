{
 "cells": [
  {
   "cell_type": "markdown",
   "metadata": {},
   "source": [
    "# Course content, important dates, deadlines and evaluation\n",
    "\n",
    "Now that we know the three main concepts, let's have a look at the course content (divided into the three domains).\n",
    "\n",
    "<img src=\"./resources/word.png\"  style=\"height: 350px\"/>"
   ]
  },
  {
   "cell_type": "markdown",
   "metadata": {},
   "source": [
    "## 1. Course content\n",
    "\n",
    "### Module 1: Artificial Intelligence\n",
    "\n",
    "- Lesson 1: Introduction to Artificial Intelligence (19/9)\n",
    "- Lesson 2: Recursion (19/9)\n",
    "- Lesson 3: Graph Search Algorithms (26/9)\n",
    "- Lesson 4: Logic Programming (3/10)\n",
    "- (No lesson 5: Games with AI (minimax algorith), due to Congress Day on 14/11)\n",
    "\n",
    "### Module 2: Machine Learning\n",
    "\n",
    "- Lesson 6: Introduction to Machine Learning (10/10)\n",
    "- Lesson 7: Linear Regression (10/10)\n",
    "- Lesson 8: Recommender Systems (**24/10** - switched with lesson 9)\n",
    "- Lesson 9: Decision Trees and Random Forest (**17/10** - switched with lesson 8)\n",
    "- Lesson 10: Reinforcement Learning (7/11)\n",
    "\n",
    "### Module 3: Deep Learning\n",
    "\n",
    "- Lesson 11: Introduction to Deep Learning (21/11)\n",
    "- Lesson 12: Artificial Neural Networks (21/11)\n",
    "- Lesson 13: Computer Vision (28/11)\n",
    "- Lesson 14: Natural Language Processing (5/12)\n",
    "- Lesson 15: Speech Recognition (12/12)"
   ]
  },
  {
   "cell_type": "markdown",
   "metadata": {},
   "source": [
    "## 2. Evaluation\n",
    "\n",
    "- Three tasks (see deadlines below): 3/20\n",
    "- Three tests about the concepts (see dates below): 5/20\n",
    "- Online conceptual exam: 4/20 + Online practical exam: 8/20\n"
   ]
  },
  {
   "cell_type": "markdown",
   "metadata": {},
   "source": [
    "## 3. Important dates and deadlines\n",
    "\n",
    "### Tasks\n",
    "\n",
    "- Friday 6/10: Task 1 (AI): Coding a crypto-puzzle\n",
    "- Friday 10/11: Task 2 (ML): Benchmarking two Machine Learning Algorithms\n",
    "- Friday 15/12: Task 3 (DL): Image Classification\n",
    "\n",
    "### Quiz / Tests (only in class / on campus, at beginning of class)\n",
    "\n",
    "- Tuesday 10/10: Test 1: AI\n",
    "- Tuesday 21/11: Test 2: Machine Learning\n",
    "- Tuesday 12/12: Test 3: Deep Learning\n"
   ]
  }
 ],
 "metadata": {
  "kernelspec": {
   "display_name": "Python 3.10.7 64-bit",
   "language": "python",
   "name": "python3"
  },
  "language_info": {
   "codemirror_mode": {
    "name": "ipython",
    "version": 3
   },
   "file_extension": ".py",
   "mimetype": "text/x-python",
   "name": "python",
   "nbconvert_exporter": "python",
   "pygments_lexer": "ipython3",
   "version": "3.10.7"
  },
  "vscode": {
   "interpreter": {
    "hash": "495ae52d0bdace51a6155b402a7938e77bd87f1fa94bc737a5c61e09660be6b7"
   }
  }
 },
 "nbformat": 4,
 "nbformat_minor": 2
}
