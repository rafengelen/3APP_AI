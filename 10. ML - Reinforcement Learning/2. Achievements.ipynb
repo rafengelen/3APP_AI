{
 "cells": [
  {
   "cell_type": "markdown",
   "metadata": {},
   "source": [
    "# Achievements\n",
    "\n",
    "Reinforcement Learning (RL) is a type of machine learning technique that enables an **agent** to learn in an interactive **environment** by trial and error using feedback from its own **actions and experiences**. Some AI experts believe Reinforcement Learning is the most viable strategy for achieving human or superhuman Artificial General Intelligence (AGI). Below you can find two (fun) examples of what Reinforcement Learning is capable of."
   ]
  },
  {
   "cell_type": "markdown",
   "metadata": {},
   "source": [
    "## 1. Hide and Seek\n",
    "\n",
    "During this lesson we will use OpenAI Gym. Gym is a toolkit for developing and comparing Reinforcement Learning algorithms. It supports teaching agents everything from walking to playing games like Pong or Pinball. \n",
    "\n",
    "To test Gym, OpenAI made an environment, where agents play a team-based hide-and-seek game. Hiders (blue) are tasked with avoiding line-of-sight from the seekers (red), and seekers are tasked with keeping vision of the hiders. There are objects scattered throughout the environment that hiders and seekers can grab and lock in place. Before the game begins, hiders are given a preparation phase where seekers are immobilized to give hiders a chance to run away or change their environment. \n",
    "\n",
    "As you can see in the video below (from 0:00 till 2:57), through training, the agents build a series of six distinct strategies and counterstrategies, some of which OpenAI did not know its environment supported.\n",
    "\n",
    "<a href=\"https://www.youtube.com/embed/kopoLzvh5jY\"><img src=\"resources/video1.png\" width=\"400\"></a>"
   ]
  },
  {
   "cell_type": "markdown",
   "metadata": {},
   "source": [
    "## Question\n",
    "\n",
    "What are the six different strategies and counterstrategies the hiders and seekers developed?"
   ]
  },
  {
   "cell_type": "code",
   "execution_count": null,
   "metadata": {},
   "outputs": [],
   "source": [
    "# 1 \n",
    "# 2 \n",
    "# 3 \n",
    "# 4 \n",
    "# 5 \n",
    "# 6 "
   ]
  },
  {
   "cell_type": "markdown",
   "metadata": {},
   "source": [
    "## 2. AlphaGo\n",
    "\n",
    "AlphaGo is a computer program developed by Google DeepMind to play the board game Go. AlphaGo's algorithm uses a combination of machine learning and tree search techniques, combined with extensive training, both from human and computer play. Once it had reached a certain degree of proficiency, it was trained further by being set to play large numbers of games against other instances of itself, using Reinforcement Learning to improve its play.\n",
    "\n",
    "AlphaGo versus Lee Sedol was a five-game Go match between 18-time world champion Lee Sedol and AlphaGo, played in Seoul, South Korea between the 9th and 15th of March 2016. AlphaGo won the game. You can watch a trailer of the movie (now free available on YouTube) below (from 0:00 till 1:30).\n",
    "\n",
    "<a href=\"https://www.youtube.com/embed/8tq1C8spV_g\"><img src=\"resources/video2.png\" width=\"400\"></a>"
   ]
  }
 ],
 "metadata": {
  "kernelspec": {
   "display_name": "Python 3.10.6 ('ML_env': venv)",
   "language": "python",
   "name": "python3"
  },
  "language_info": {
   "codemirror_mode": {
    "name": "ipython",
    "version": 3
   },
   "file_extension": ".py",
   "mimetype": "text/x-python",
   "name": "python",
   "nbconvert_exporter": "python",
   "pygments_lexer": "ipython3",
   "version": "3.10.6"
  },
  "vscode": {
   "interpreter": {
    "hash": "3762fa38335283772957b8ad4850e1d344741e862c3aa7ec1c26d17780db6975"
   }
  }
 },
 "nbformat": 4,
 "nbformat_minor": 2
}
