{
 "cells": [
  {
   "cell_type": "markdown",
   "metadata": {},
   "source": [
    "# How does it work?\n",
    "\n",
    "Reinforcement learning is one of three basic machine learning paradigms, alongside supervised learning and unsupervised learning. A Reinforcement Learning algorithm, or **agent, learns by interacting with its environment**. The agent receives rewards by performing correctly and penalties for performing incorrectly. The agent learns without intervention from a human by **maximizing its reward** and minimizing its penalty.\n",
    "\n",
    "Watch the following video (from 3:10 till 9:27) for an indepth explanation.\n",
    "\n",
    "<a href=\"https://www.youtube.com/embed/i6Mi2_QM3rA?start=190&end=545\"><img src=\"resources/video3.png\" width=\"400\"></a>"
   ]
  },
  {
   "cell_type": "markdown",
   "metadata": {},
   "source": [
    "## 1. Question\n",
    "\n",
    "The speaker in the movie above talks about the three types of Machine Learning. What are the three types of data these techniques need to train them? Can you give an example (apple) of the goal that can be achieved using the three techniques?"
   ]
  },
  {
   "cell_type": "code",
   "execution_count": null,
   "metadata": {},
   "outputs": [],
   "source": [
    "# ML technique: data => apple example\n",
    "# supervised learning: ... => ...\n",
    "# unsupervised learning:  ... => ...\n",
    "# reinforcement learning:  ... => ..."
   ]
  },
  {
   "cell_type": "markdown",
   "metadata": {},
   "source": [
    "## 2. Reinforcement Learning Analogy\n",
    "\n",
    "Consider the scenario of teaching a dog new tricks. The dog doesn't understand our language, so we can't tell him what to do. Instead, we emulate a situation and the dog tries to respond. If the dog's response is the desired one, we reward them with snacks. Now guess what, the next time the dog is exposed to the same situation, the dog executes a similar action with even more enthusiasm in expectation of more food. That's like learning \"what to do\" from positive experiences. Similarly, dogs will tend to learn what not to do when faced with negative experiences.\n",
    "\n",
    "<img src=\"./resources/reward.png\" style=\"height: 200px\"/>\n",
    "\n",
    "That's exactly how Reinforcement Learning works in a broader sense:\n",
    "\n",
    "- Your dog is an __agent__ that is exposed to the environment. The __environment__ could be your house.\n",
    "- The situations they encounter are analogous to a __state__. An example of a state could be your dog standing and you using a specific word in a certain tone in your living room\n",
    "- Our agents react by performing an __action__ to transition from one *state* to another *state*, your dog goes from standing to sitting, for example.\n",
    "- After the transition, the agent may receive a __reward__ or a __penalty__ in return. You give your dog a treat! Or a \"No\" as a penalty.\n",
    "- The __policy__ is the strategy of choosing an action given a state in expectation of better outcomes."
   ]
  },
  {
   "cell_type": "markdown",
   "metadata": {},
   "source": [
    "## 3. The Reinforcement Learning Process\n",
    "\n",
    "In a way, Reinforcement Learning is the science of **making optimal decisions using experiences**. Breaking it down, the process of Reinforcement Learning involves these simple steps:\n",
    "\n",
    "1. Observation of the environment\n",
    "2. Deciding how to act using some **strategy**\n",
    "3. Acting accordingly\n",
    "4. Receiving a reward or a penalty\n",
    "5. Learning from the experiences and **refining your strategy**\n",
    "6. Iterate until an optimal strategy is found\n",
    "\n",
    "<img src=\"./resources/RL.gif\" style=\"height: 250px\"/>"
   ]
  }
 ],
 "metadata": {
  "kernelspec": {
   "display_name": "Python 3.10.6 ('ML_env': venv)",
   "language": "python",
   "name": "python3"
  },
  "language_info": {
   "codemirror_mode": {
    "name": "ipython",
    "version": 3
   },
   "file_extension": ".py",
   "mimetype": "text/x-python",
   "name": "python",
   "nbconvert_exporter": "python",
   "pygments_lexer": "ipython3",
   "version": "3.10.6"
  },
  "vscode": {
   "interpreter": {
    "hash": "3762fa38335283772957b8ad4850e1d344741e862c3aa7ec1c26d17780db6975"
   }
  }
 },
 "nbformat": 4,
 "nbformat_minor": 2
}
