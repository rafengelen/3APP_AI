{
 "cells": [
  {
   "attachments": {},
   "cell_type": "markdown",
   "metadata": {},
   "source": [
    "# MountainCar-v0 - Exercise\n",
    "\n",
    "The Mountain Car problem is described as follows: a car is on a one-dimensional track, positioned between two mountains. The goal is to drive up the mountain on the right; however, the car’s engine is not strong enough to scale the mountain in a single pass. Therefore, the only way to succeed is to drive back and forth to build up momentum."
   ]
  },
  {
   "attachments": {},
   "cell_type": "markdown",
   "metadata": {},
   "source": [
    "## 1. State space\n",
    "\n",
    "The car’s state, at any point in time, is given by a vector containing its horizontal position and velocity. The car commences each episode stationary, at the bottom of the valley between the hills (at position approximately -0.5), and the episode ends when either the car reaches the flag (position  0.6) or after 200 moves.\n",
    "\n",
    "<img src=\"./resources/mountaincar.png\" style=\"height: 250px\"/>"
   ]
  },
  {
   "attachments": {},
   "cell_type": "markdown",
   "metadata": {},
   "source": [
    "We can load the game environment and render what it looks like."
   ]
  },
  {
   "cell_type": "code",
   "execution_count": 1,
   "metadata": {},
   "outputs": [],
   "source": [
    "import gymnasium as gym\n",
    "\n",
    "\n",
    "env = gym.make('MountainCar-v0', render_mode=\"human\") # load the game environment\n",
    "state, info = env.reset()\n",
    "\n",
    "env.render() # visualize the environment - we only need to render it once - the rendering will be automatically updated\n",
    "\n",
    "\n"
   ]
  },
  {
   "attachments": {},
   "cell_type": "markdown",
   "metadata": {},
   "source": [
    "The environment opens in a different window. The environment is rendered, but the window is created via pygame, which is notorious for its 'Not Responding' windows. \n",
    "Especially after you try to interact with it, like dragging it to another position on your screen...\n",
    "\n",
    "To close a (non-responsive) window, you can use the env.close()-command. But be warned: this also clears some other variables of the view, so you might run into trouble of you want to render it again. Best to restart your kernel after you've closed an environment..."
   ]
  },
  {
   "cell_type": "code",
   "execution_count": 2,
   "metadata": {},
   "outputs": [],
   "source": [
    "# Use with caution: \n",
    "\n",
    "env.close()"
   ]
  },
  {
   "attachments": {},
   "cell_type": "markdown",
   "metadata": {},
   "source": [
    "Or, maybe a better way of doing things: drag your window where you want it, and reset the environment. This will bring your pygame window back to an 'active' state..."
   ]
  },
  {
   "cell_type": "code",
   "execution_count": 3,
   "metadata": {},
   "outputs": [],
   "source": [
    "state, info = env.reset()"
   ]
  },
  {
   "attachments": {},
   "cell_type": "markdown",
   "metadata": {},
   "source": [
    "Now we can ask the car's state and print it."
   ]
  },
  {
   "cell_type": "code",
   "execution_count": 4,
   "metadata": {},
   "outputs": [
    {
     "name": "stdout",
     "output_type": "stream",
     "text": [
      "State Space: [-0.48277802  0.        ]\n",
      "\n",
      "Position: -0.482778 \n",
      "Velocity: 0.000000 \n"
     ]
    }
   ],
   "source": [
    "print(\"State Space: {}\\n\".format(env.state))\n",
    "print(\"Position: %f \" % env.state[0])\n",
    "print(\"Velocity: %f \" % env.state[1])"
   ]
  },
  {
   "attachments": {},
   "cell_type": "markdown",
   "metadata": {},
   "source": [
    "As you can see, the state is a vector containing its horizontal position and velocity. Check in the figure if the car is indeed at the given horizontal position. The velocity should be zero. Right?\n",
    "\n",
    "## 2. Reset the environment - Exercise\n",
    "\n",
    "Try to reset the environment to a new random state, render it and print the state again. Do you see the car at a different location?"
   ]
  },
  {
   "cell_type": "code",
   "execution_count": 5,
   "metadata": {},
   "outputs": [
    {
     "name": "stdout",
     "output_type": "stream",
     "text": [
      "State Space: [-0.57187293  0.        ]\n",
      "\n"
     ]
    }
   ],
   "source": [
    "state, info = env.reset() # reset the environment to a new, random state\n",
    "print(\"State Space: {}\\n\".format(env.state))"
   ]
  },
  {
   "attachments": {},
   "cell_type": "markdown",
   "metadata": {},
   "source": [
    "## 3. Action space\n",
    "\n",
    "At each move, the car has three possible actions: push left (=0), push right (=2) or do nothing (=1), and a penalty of 1 unit is applied for each move taken (including doing nothing). This means that, unless the car can figure out a way to ascend the mountain in less than 200 moves, it will always achieve a total *reward* of -200 units.\n",
    "\n",
    "The car performs an action by using the step-method:\n",
    "\n",
    "```python\n",
    "state, reward, done, truncated, info = env.step(action)\n",
    "```\n",
    "\n",
    "The episode will end after 200 moves (truncated). We will try to push the car to the right at each move and render the environment at each step. We will also count the number of steps and print it. As you can see, the car's engine is not strong enough to drive up the mountain."
   ]
  },
  {
   "cell_type": "code",
   "execution_count": 6,
   "metadata": {},
   "outputs": [
    {
     "name": "stdout",
     "output_type": "stream",
     "text": [
      "Steps: 200\n"
     ]
    }
   ],
   "source": [
    "state, info = env.reset()\n",
    "i = 0\n",
    "finished = False\n",
    "while not finished:\n",
    "    state, reward, done, truncated, info = env.step(2)\n",
    "    i = i + 1\n",
    "    finished = done or truncated\n",
    "\n",
    "print(\"Steps: %d\" % i)"
   ]
  },
  {
   "attachments": {},
   "cell_type": "markdown",
   "metadata": {},
   "source": [
    "## 4. Random actions - Exercise\n",
    "\n",
    "Maybe you can try to reach the flag by performing a random action at each step? Any success?"
   ]
  },
  {
   "cell_type": "code",
   "execution_count": 7,
   "metadata": {},
   "outputs": [
    {
     "name": "stdout",
     "output_type": "stream",
     "text": [
      "Steps: 200\n"
     ]
    }
   ],
   "source": [
    "\n"
   ]
  },
  {
   "attachments": {},
   "cell_type": "markdown",
   "metadata": {},
   "source": [
    "## 5. Solving the environment without Reinforcement Learning - Exercise\n",
    "\n",
    "Can you figure out a strategy to reach the flag within 200 moves? Try to code your strategy! Count the number of steps. My best try was reaching the flag in 89 steps. Can you do better?"
   ]
  },
  {
   "cell_type": "code",
   "execution_count": 8,
   "metadata": {},
   "outputs": [
    {
     "name": "stdout",
     "output_type": "stream",
     "text": [
      "Steps: 114\n"
     ]
    }
   ],
   "source": []
  },
  {
   "attachments": {},
   "cell_type": "markdown",
   "metadata": {},
   "source": [
    "## 6. Solving the environment with Reinforcement Learning\n",
    "\n",
    "So far, we have driven the car ourselves. This of course has nothing to do with Reinforcement Learning. The code below will use the Q-learning algorithm to let the agent use the environment's rewards to learn, over time, to take the best action to drive up the mountain. This code is just to demonstrate. This won't be an exam question.\n",
    "\n",
    "We're making a new environment from scratch, because we don't want to render it for human consumption through our training of the Q-table. It would otherwise take way too long..."
   ]
  },
  {
   "cell_type": "code",
   "execution_count": 15,
   "metadata": {},
   "outputs": [],
   "source": [
    "env.close()\n",
    "# probably a good idea to restart your kernel after this one..."
   ]
  },
  {
   "cell_type": "code",
   "execution_count": 17,
   "metadata": {},
   "outputs": [],
   "source": [
    "import gymnasium as gym\n",
    "env = gym.make('MountainCar-v0') # load the game environment - with the default rendering mode of 'none'\n",
    "state, info = env.reset()\n",
    "\n",
    "env.render()"
   ]
  },
  {
   "attachments": {},
   "cell_type": "markdown",
   "metadata": {},
   "source": [
    "Warning: the code block below will run for a long time (10-15min), so the Q table is updated nicely. On average, it should take 170 steps (awards) or so. See below"
   ]
  },
  {
   "cell_type": "code",
   "execution_count": 19,
   "metadata": {},
   "outputs": [
    {
     "name": "stdout",
     "output_type": "stream",
     "text": [
      "Episode 1000 Average Reward: -200.0\n",
      "Episode 2000 Average Reward: -200.0\n",
      "Episode 3000 Average Reward: -200.0\n",
      "Episode 4000 Average Reward: -200.0\n",
      "Episode 5000 Average Reward: -200.0\n",
      "Episode 6000 Average Reward: -200.0\n",
      "Episode 7000 Average Reward: -200.0\n",
      "Episode 8000 Average Reward: -199.995\n",
      "Episode 9000 Average Reward: -200.0\n",
      "Episode 10000 Average Reward: -200.0\n"
     ]
    }
   ],
   "source": [
    "import numpy as np\n",
    "import matplotlib.pyplot as plt\n",
    "\n",
    "state, info = env.reset()\n",
    "\n",
    "# define Q-learning function\n",
    "def QLearning(env, learning, discount, epsilon, min_eps, episodes):\n",
    "    # Determine size of discretized state space\n",
    "    num_states = (env.observation_space.high - env.observation_space.low)*\\\n",
    "                    np.array([10, 100])\n",
    "    #changed\n",
    "    num_states = np.round(num_states, 0).astype(int) + 1\n",
    "    # Initialize Q table\n",
    "    Q = np.random.uniform(low = -1, high = 1, \n",
    "                          size = (num_states[0], num_states[1], \n",
    "                                  env.action_space.n))\n",
    "    \n",
    "    # Initialize variables to track rewards\n",
    "    reward_list = []\n",
    "    ave_reward_list = []\n",
    "    \n",
    "    # Calculate episodic reduction in epsilon\n",
    "    reduction = (epsilon - min_eps)/episodes\n",
    "    \n",
    "    # Run Q learning algorithm\n",
    "    for i in range(episodes):\n",
    "        # Initialize parameters\n",
    "        finished = False\n",
    "        tot_reward, reward = 0,0\n",
    "        state, info = env.reset()\n",
    "        \n",
    "        # Discretize state\n",
    "        state_adj = (state - env.observation_space.low)*np.array([10, 100])\n",
    "        state_adj = np.round(state_adj, 0).astype(int)\n",
    "    \n",
    "        while finished != True:                  \n",
    "            # Determine next action - epsilon greedy strategy\n",
    "            if np.random.random() < 1 - epsilon:\n",
    "                action = np.argmax(Q[state_adj[0], state_adj[1]]) \n",
    "            else:\n",
    "                action = np.random.randint(0, env.action_space.n)\n",
    "                \n",
    "            # Get next state and reward\n",
    "            state2, reward, done, truncated, info = env.step(action) \n",
    "            finished = done or truncated\n",
    "\n",
    "            # Discretize state2\n",
    "            state2_adj = (state2 - env.observation_space.low)*np.array([10, 100])\n",
    "            state2_adj = np.round(state2_adj, 0).astype(int)\n",
    "            \n",
    "            # Allow for terminal states\n",
    "            if finished and state2[0] >= 0.5:\n",
    "                Q[state_adj[0], state_adj[1], action] = reward\n",
    "                \n",
    "            # Adjust Q value for current state\n",
    "            else:\n",
    "                delta = learning*(reward + \n",
    "                                 discount*np.max(Q[state2_adj[0], \n",
    "                                                   state2_adj[1]]) - \n",
    "                                 Q[state_adj[0], state_adj[1],action])\n",
    "                Q[state_adj[0], state_adj[1],action] += delta\n",
    "                                     \n",
    "            # Update variables\n",
    "            tot_reward += reward\n",
    "            state_adj = state2_adj\n",
    "        \n",
    "        # Decay epsilon\n",
    "        if epsilon > min_eps:\n",
    "            epsilon -= reduction\n",
    "        \n",
    "        # Track rewards\n",
    "        reward_list.append(tot_reward)\n",
    "        \n",
    "        if (i+1) % 1000 == 0:\n",
    "            ave_reward = np.mean(reward_list)\n",
    "            ave_reward_list.append(ave_reward)\n",
    "            reward_list = []\n",
    "            \n",
    "        if (i+1) % 1000 == 0:    \n",
    "            print('Episode {} Average Reward: {}'.format(i+1, ave_reward))\n",
    "                \n",
    "    return Q, ave_reward_list\n",
    "\n",
    "# run Q-learning algorithm\n",
    "Q, rewards = QLearning(env, 0.35, 0.9, 0.8, 0, 100000)"
   ]
  },
  {
   "attachments": {},
   "cell_type": "markdown",
   "metadata": {},
   "source": [
    "Plotting the average reward vs the episode number after a lot of episodes, we can see that, initially, the average reward is fairly flat, with each run terminating once the maximum 200 movements is reached. This is the exploration phase of the algorithm. Only after a decent amount of episodes, the agent is making progress. This is because in Q learning, we need to update each posible action for each state. But here we have a big number of states (we had to make it the position and the velocity discrete), so it takes a lot of time..."
   ]
  },
  {
   "cell_type": "code",
   "execution_count": 20,
   "metadata": {},
   "outputs": [
    {
     "data": {
      "text/plain": [
       "Text(0.5, 1.0, 'Average Reward vs Episodes')"
      ]
     },
     "execution_count": 20,
     "metadata": {},
     "output_type": "execute_result"
    },
    {
     "data": {
      "image/png": "[encoded data removed]",
      "text/plain": [
       "<Figure size 640x480 with 1 Axes>"
      ]
     },
     "metadata": {},
     "output_type": "display_data"
    }
   ],
   "source": [
    "# plot rewards\n",
    "plt.plot(100*(np.arange(len(rewards)) + 1), rewards)\n",
    "plt.xlabel('Episodes')\n",
    "plt.ylabel('Average Reward')\n",
    "plt.title('Average Reward vs Episodes')"
   ]
  },
  {
   "cell_type": "code",
   "execution_count": 21,
   "metadata": {},
   "outputs": [
    {
     "name": "stdout",
     "output_type": "stream",
     "text": [
      "Steps: 200\n"
     ]
    }
   ],
   "source": [
    "env = gym.make('MountainCar-v0', render_mode=\"human\") # load the game environment\n",
    "state, info = env.reset()\n",
    "# Discretize state\n",
    "state_adj = (state - env.observation_space.low)*np.array([10, 100])\n",
    "state_adj = np.round(state_adj, 0).astype(int)\n",
    "\n",
    "env.render()\n",
    "\n",
    "state, info = env.reset()\n",
    "i = 0\n",
    "finished = False\n",
    "while not finished:\n",
    "    # Discretize state\n",
    "    state_adj = (state - env.observation_space.low)*np.array([10, 100])\n",
    "    state_adj = np.round(state_adj, 0).astype(int)\n",
    "    action = np.argmax(Q[state_adj[0], state_adj[1]]) \n",
    "    state, reward, done, truncated, info = env.step(action)\n",
    "    i = i + 1\n",
    "    finished = done or truncated\n",
    "\n",
    "print(\"Steps: %d\" % i)\n"
   ]
  },
  {
   "attachments": {},
   "cell_type": "markdown",
   "metadata": {},
   "source": [
    "Don't forget to close the environment."
   ]
  },
  {
   "cell_type": "code",
   "execution_count": 22,
   "metadata": {},
   "outputs": [],
   "source": [
    "env.close()"
   ]
  }
 ],
 "metadata": {
  "kernelspec": {
   "display_name": "Python 3",
   "language": "python",
   "name": "python3"
  },
  "language_info": {
   "codemirror_mode": {
    "name": "ipython",
    "version": 3
   },
   "file_extension": ".py",
   "mimetype": "text/x-python",
   "name": "python",
   "nbconvert_exporter": "python",
   "pygments_lexer": "ipython3",
   "version": "3.10.6"
  }
 },
 "nbformat": 4,
 "nbformat_minor": 2
}
