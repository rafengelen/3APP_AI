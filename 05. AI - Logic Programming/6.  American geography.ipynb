{
 "cells": [
  {
   "cell_type": "markdown",
   "metadata": {},
   "source": [
    "# American geography - Exercise\n",
    "\n",
    "Let's use logic programming once more to build a solver to analyze American geography. In this problem, we\n",
    "will specify information about the location of various states in the US and then query our\n",
    "program to answer various questions based on those facts and rules. We can get interesting information like: What states are adjacent to both Oklahoma and Texas? Which coastal state is adjacent to both New Mexico and Louisiana?\n",
    "\n",
    "The following is a map of the US:\n",
    "\n",
    "<img src=\"./resources/mapus.png\"  style=\"height: 550px\"/>"
   ]
  },
  {
   "cell_type": "markdown",
   "metadata": {},
   "source": [
    "## 1. Facts\n",
    "\n",
    "First we will create the relations."
   ]
  },
  {
   "cell_type": "code",
   "execution_count": null,
   "metadata": {},
   "outputs": [],
   "source": [
    "from kanren import run, fact, eq, Relation, var, conde\n",
    "\n",
    "border = Relation()\n",
    "adjacent = Relation()\n",
    "coastal  = Relation()"
   ]
  },
  {
   "cell_type": "markdown",
   "metadata": {},
   "source": [
    "Now we will create the facts. Let's start with the coastal states."
   ]
  },
  {
   "cell_type": "code",
   "execution_count": null,
   "metadata": {},
   "outputs": [],
   "source": [
    "coastal_states = ['Washington', 'Oregon', 'California', 'Texas', 'Louisiana', 'Michigan', 'Alabama', 'Georgia', \n",
    "                  'Florida', 'South Carolina', 'North Carolina', 'Maryland', 'New Jersey', 'New York', 'Connecticut', \n",
    "                  'Rhode Island', 'Massachusetts', 'Minnesota', 'New Hampshire']\n",
    "\n",
    "# facts for the coastal states\n",
    "for state in coastal_states:        # ['Washington', 'Oregon', 'California', ...]\n",
    "    fact(coastal, state)            # e.g. 'Washington' is coastal"
   ]
  },
  {
   "cell_type": "markdown",
   "metadata": {},
   "source": [
    "One more time for all the bordering states."
   ]
  },
  {
   "cell_type": "code",
   "execution_count": null,
   "metadata": {},
   "outputs": [],
   "source": [
    "all = [['Alaska'], \n",
    "       ['Alabama', 'Mississippi', 'Tennessee', 'Georgia', 'Florida'], \n",
    "       ['Arkansas', 'Missouri', 'Tennessee', 'Mississippi', 'Louisiana', 'Texas', 'Oklahoma'], \n",
    "       ['Arizona', 'California', 'Nevada', 'Utah', 'Colorado', 'New Mexico'], \n",
    "       ['California', 'Oregon', 'Nevada', 'Arizona'], \n",
    "       ['Colorado', 'Wyoming', 'Nebraska', 'Kansas', 'Oklahoma', 'New Mexico', 'Arizona', 'Utah'], \n",
    "       ['Connecticut', 'New York', 'Massachusetts', 'Rhode Island'], \n",
    "       ['Washington DC', 'Maryland', 'Virginia'], \n",
    "       ['Delaware', 'Maryland', 'Pennsylvania', 'New Jersey'], \n",
    "       ['Florida', 'Alabama', 'Georgia'], \n",
    "       ['Georgia', 'Florida', 'Alabama', 'Tennessee', 'North Carolina', 'South Carolina'], \n",
    "       ['Hawaii'], \n",
    "       ['Iowa', 'Minnesota', 'Wisconsin', 'Illinois', 'Missouri', 'Nebraska', 'South Dakota'], \n",
    "       ['Idaho', 'Montana', 'Wyoming', 'Utah', 'Nevada', 'Oregon', 'Washington'], \n",
    "       ['Illinois', 'Indiana', 'Kentucky', 'Missouri', 'Iowa', 'Wisconsin'], \n",
    "       ['Indiana', 'Michigan', 'Ohio', 'Kentucky', 'Illinois'], \n",
    "       ['Kansas', 'Nebraska', 'Missouri', 'Oklahoma', 'Colorado'], \n",
    "       ['Kentucky', 'Indiana', 'Ohio', 'West Virginia', 'Virginia', 'Tennessee', 'Missouri', 'Illinois'], \n",
    "       ['Louisiana', 'Texas', 'Arkansas', 'Mississippi'], \n",
    "       ['Massachusetts', 'Rhode Island', 'Connecticut', 'New York', 'New Hampshire', 'Vermont'], \n",
    "       ['Maryland', 'Virginia', 'West Virginia', 'Pennsylvania', 'Washington DC', 'Delaware'], \n",
    "       ['Maine', 'New Hampshire'], \n",
    "       ['Michigan', 'Wisconsin', 'Indiana', 'Ohio'], \n",
    "       ['Minnesota', 'Wisconsin', 'Iowa', 'South Dakota', 'North Dakota'], \n",
    "       ['Missouri', 'Iowa', 'Illinois', 'Kentucky', 'Tennessee', 'Arkansas', 'Oklahoma', 'Kansas', 'Nebraska'], \n",
    "       ['Mississippi', 'Louisiana', 'Arkansas', 'Tennessee', 'Alabama'], \n",
    "       ['Montana', 'North Dakota', 'South Dakota', 'Wyoming', 'Idaho'], \n",
    "       ['North Carolina', 'Virginia', 'Tennessee', 'Georgia', 'South Carolina'], \n",
    "       ['North Dakota', 'Minnesota', 'South Dakota', 'Montana'], \n",
    "       ['Nebraska', 'South Dakota', 'Iowa', 'Missouri', 'Kansas', 'Colorado', 'Wyoming'], \n",
    "       ['New Hampshire', 'Vermont', 'Maine', 'Massachusetts'], \n",
    "       ['New Jersey', 'Delaware', 'Pennsylvania', 'New York'], \n",
    "       ['New Mexico', 'Arizona', 'Utah', 'Colorado', 'Oklahoma', 'Texas'], \n",
    "       ['Nevada', 'Idaho', 'Utah', 'Arizona', 'California', 'Oregon'], \n",
    "       ['New York', 'New Jersey', 'Pennsylvania', 'Vermont', 'Massachusetts', 'Connecticut'], \n",
    "       ['Ohio', 'Pennsylvania', 'West Virginia', 'Kentucky', 'Indiana', 'Michigan'], \n",
    "       ['Oklahoma', 'Kansas', 'Missouri', 'Arkansas', 'Texas', 'New Mexico', 'Colorado'], \n",
    "       ['Oregon', 'California', 'Nevada', 'Idaho', 'Washington'], \n",
    "       ['Pennsylvania', 'New York', 'New Jersey', 'Delaware', 'Maryland', 'West Virginia', 'Ohio'], \n",
    "       ['Rhode Island', 'Connecticut', 'Massachusetts'], \n",
    "       ['South Carolina', 'Georgia', 'North Carolina'], \n",
    "       ['South Dakota', 'North Dakota', 'Minnesota', 'Iowa', 'Nebraska', 'Wyoming', 'Montana'], \n",
    "       ['Tennessee', 'Kentucky', 'Virginia', 'North Carolina', 'Georgia', 'Alabama', 'Mississippi', 'Arkansas', 'Missouri'], \n",
    "       ['Texas', 'New Mexico', 'Oklahoma', 'Arkansas', 'Louisiana'], \n",
    "       ['Utah', 'Idaho', 'Wyoming', 'Colorado', 'New Mexico', 'Arizona', 'Nevada'], \n",
    "       ['Virginia', 'North Carolina', 'Tennessee', 'Kentucky', 'West Virginia', 'Maryland', 'Washington DC'], \n",
    "       ['Vermont', 'New York', 'New Hampshire', 'Massachusetts'], \n",
    "       ['Washington', 'Idaho', 'Oregon'], \n",
    "       ['Wisconsin', 'Michigan', 'Minnesota', 'Iowa', 'Illinois'], \n",
    "       ['West Virginia', 'Ohio', 'Pennsylvania', 'Maryland', 'Virginia', 'Kentucky'], \n",
    "       ['Wyoming', 'Montana', 'South Dakota', 'Nebraska', 'Colorado', 'Utah', 'Idaho']]\n",
    "\n",
    "for A in all:                       # A = ['Washington', 'Idaho', 'Oregon'] => first state borders to the rest of the array\n",
    "    head, tail = A[0], A[1:]        # head = 'Washington', tail = ['Idaho', 'Oregon']\n",
    "    for state in tail:\n",
    "        fact(border, head, state)   # e.g. 'Washington' borders 'Idaho',\n",
    "                                    #      'Washington' borders 'Oregon', etc..."
   ]
  },
  {
   "cell_type": "markdown",
   "metadata": {},
   "source": [
    "## 2. Rules\n",
    "\n",
    "x is adjacent to y if x borders y or y borders x."
   ]
  },
  {
   "cell_type": "code",
   "execution_count": null,
   "metadata": {},
   "outputs": [],
   "source": [
    "# this rule we know already\n",
    "def adjacent(x, y):\n",
    "    return conde([border(x, y)], [border(y, x)])"
   ]
  },
  {
   "cell_type": "markdown",
   "metadata": {},
   "source": [
    "## 3. Ask Kanren\n",
    "\n",
    "Now that our facts and rules are ready, we can ask Kanren anything we would like to know. Complete the code if necessary."
   ]
  },
  {
   "cell_type": "code",
   "execution_count": null,
   "metadata": {},
   "outputs": [],
   "source": [
    "x = var()\n",
    "y = var()"
   ]
  },
  {
   "cell_type": "code",
   "execution_count": null,
   "metadata": {},
   "outputs": [],
   "source": [
    "# Is California adjacent to New York?\n",
    "name1 = \"California\"\n",
    "name2 = \"New York\"\n",
    "\n",
    "output = # TODO\n",
    "print('\\nIs %s adjacent to %s?' % (name1, name2))\n",
    "print('Yes' if len(output) else 'No')"
   ]
  },
  {
   "cell_type": "code",
   "execution_count": null,
   "metadata": {},
   "outputs": [],
   "source": [
    "# Is California adjacent to Nevada?\n",
    "name1 = \"California\"\n",
    "name2 = \"Nevada\"\n",
    "\n",
    "output = # TODO\n",
    "print('\\nIs %s adjacent to %s?' % (name1, name2))\n",
    "print('Yes' if len(output) else 'No')"
   ]
  },
  {
   "cell_type": "code",
   "execution_count": null,
   "metadata": {},
   "outputs": [],
   "source": [
    "# All states next to Wyoming (check the map)\n",
    "state = \"Wyoming\"\n",
    "\n",
    "output = # TODO\n",
    "print('\\nList of states adjacent to %s:' % state)\n",
    "for item in output:\n",
    "    print(item)"
   ]
  },
  {
   "cell_type": "code",
   "execution_count": null,
   "metadata": {},
   "outputs": [],
   "source": [
    "# States adjacent to Tennessee that are coastal (check the map)\n",
    "state = \"Tennessee\"\n",
    "\n",
    "output = # TODO\n",
    "print('\\nList of coastal states adjacent to %s:' % state)\n",
    "for item in output:\n",
    "    print(item)"
   ]
  },
  {
   "cell_type": "code",
   "execution_count": null,
   "metadata": {},
   "outputs": [],
   "source": [
    "# List of 'n' states that border a coastal state\n",
    "n = 7\n",
    "output = # TODO\n",
    "print('\\nList of %d states that border a coastal state:' % n)\n",
    "for item in output:\n",
    "    print(item)"
   ]
  },
  {
   "cell_type": "code",
   "execution_count": null,
   "metadata": {},
   "outputs": [],
   "source": [
    "# List of states that adjacent to the two given states\n",
    "state1 = \"Arkansas\"\n",
    "state2 = \"Kentucky\"\n",
    "\n",
    "output = # TODO\n",
    "print('\\nList of states that are adjacent to %s and %s:' % (state1,state2))\n",
    "for item in output:\n",
    "    print(item)"
   ]
  }
 ],
 "metadata": {
  "kernelspec": {
   "display_name": "Python 3.10.6 64-bit",
   "language": "python",
   "name": "python3"
  },
  "language_info": {
   "codemirror_mode": {
    "name": "ipython",
    "version": 3
   },
   "file_extension": ".py",
   "mimetype": "text/x-python",
   "name": "python",
   "nbconvert_exporter": "python",
   "pygments_lexer": "ipython3",
   "version": "3.10.6"
  },
  "vscode": {
   "interpreter": {
    "hash": "3fc13ab7e79b368e8913ee9489736a3ec6aa6e620b54b7989a5eeb0416c11724"
   }
  }
 },
 "nbformat": 4,
 "nbformat_minor": 2
}
