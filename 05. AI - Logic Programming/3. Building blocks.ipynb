{
 "cells": [
  {
   "cell_type": "markdown",
   "metadata": {},
   "source": [
    "# Building blocks\n",
    "\n",
    "Declarative programming is a non-imperative style of programming in which programs describe their desired results without explicitly listing commands or steps that must be performed. Logical programming languages are characterized by a declarative programming style.\n",
    "\n",
    "In the following video the speaker will explain the most important building blocks of logical programming. The code will be in Prolog, the most famous logical programming language. Later we will see how we can apply logic programming in Python. Start watching the video (from 19:48 till 28:03).\n",
    "\n",
    "<a href=\"https://www.youtube.com/embed/cgVVZMfLjEI?start=1188&end=1683\"><img src=\"resources/video2.png\" width=\"400\"></a>"
   ]
  },
  {
   "cell_type": "markdown",
   "metadata": {},
   "source": [
    "## 1. Definitions\n",
    "\n",
    "Logic Programming uses facts and rules for solving the problem. That is why they are called the building blocks of logic programming.\n",
    "\n",
    "__Facts__\n",
    "\n",
    "Actually, every logic program needs facts to work with so that it can achieve the given goal. Facts basically are true statements about the program and data. For example, Delhi is the capital of India.\n",
    "\n",
    "__Rules__\n",
    "\n",
    "Actually, rules are the constraints which allow us to make conclusions about the problem domain. Rules are basically written as logical clauses to express various facts. Rules specify relationships between facts."
   ]
  },
  {
   "cell_type": "markdown",
   "metadata": {},
   "source": [
    "## 2. Questions\n",
    "\n",
    "Imperative programming focuses on HOW a problem is solved. Declarative programming focuses on WHAT needs to be solved. Declarative programming provides a constant to check to ensure the problem is solved correctly, but does not provide instructions on how to solve the problem. The exact manner in which the problem is solved, is defined by the programming language’s implementation through models.\n",
    "\n",
    "1. Consider the following programming languages. How would you solve a problem in those langugages? By describing the HOW or the WHAT?"
   ]
  },
  {
   "cell_type": "code",
   "execution_count": 6,
   "metadata": {},
   "outputs": [],
   "source": [
    "# Java: WHAT or HOW\n",
    "# SQL: WHAT or HOW\n",
    "# Prolog: WHAT or HOW\n",
    "# Python: WHAT or HOW"
   ]
  },
  {
   "cell_type": "markdown",
   "metadata": {},
   "source": [
    "2. What examples were used by the speaker for facts and rules? For now use the Prolog syntax."
   ]
  },
  {
   "cell_type": "code",
   "execution_count": null,
   "metadata": {},
   "outputs": [],
   "source": [
    "# facts\n",
    "\n",
    "\n",
    "# rule"
   ]
  }
 ],
 "metadata": {
  "kernelspec": {
   "display_name": "Python 3.10.6 ('AI_env': venv)",
   "language": "python",
   "name": "python3"
  },
  "language_info": {
   "codemirror_mode": {
    "name": "ipython",
    "version": 3
   },
   "file_extension": ".py",
   "mimetype": "text/x-python",
   "name": "python",
   "nbconvert_exporter": "python",
   "pygments_lexer": "ipython3",
   "version": "3.10.6"
  },
  "vscode": {
   "interpreter": {
    "hash": "ee412e95a0a5fcd4bc718149b06e63b52799b36d97dd83a114f114becc1d8225"
   }
  }
 },
 "nbformat": 4,
 "nbformat_minor": 2
}
