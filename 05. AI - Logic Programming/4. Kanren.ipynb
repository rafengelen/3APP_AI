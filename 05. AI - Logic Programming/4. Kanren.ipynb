{
 "cells": [
  {
   "cell_type": "markdown",
   "metadata": {},
   "source": [
    "# Kanren\n",
    "\n",
    "As you should know by now, Python is not really a logical programming language. Before we start logic programming in Python, we need to install Kanren, a Python package that enables logic programming in Python. "
   ]
  },
  {
   "cell_type": "markdown",
   "metadata": {},
   "source": [
    "## 1. Installation\n",
    "\n",
    "First install the library using the following command:\n",
    "\n",
    "**WARNING:** Kanren is a pretty old library, and will only run on Python 3.9 or below. So, if your Python kernel is too recent, you can't run it. Either use https://colab.research.google.com/ or install an older Python kernel (https://www.python.org/downloads/), and create a dedicated virtual env for this part, based on this older kernel."
   ]
  },
  {
   "cell_type": "code",
   "execution_count": 1,
   "metadata": {},
   "outputs": [
    {
     "name": "stdout",
     "output_type": "stream",
     "text": [
      "Requirement already satisfied: kanren in c:\\users\\u0040810\\appdata\\local\\programs\\python\\python39\\lib\\site-packages (0.2.3)\n",
      "Requirement already satisfied: multipledispatch in c:\\users\\u0040810\\appdata\\local\\programs\\python\\python39\\lib\\site-packages (from kanren) (0.6.0)\n",
      "Requirement already satisfied: unification in c:\\users\\u0040810\\appdata\\local\\programs\\python\\python39\\lib\\site-packages (from kanren) (0.2.2)\n",
      "Requirement already satisfied: toolz in c:\\users\\u0040810\\appdata\\local\\programs\\python\\python39\\lib\\site-packages (from kanren) (0.11.1)\n",
      "Requirement already satisfied: six in c:\\users\\u0040810\\appdata\\roaming\\python\\python39\\site-packages (from multipledispatch->kanren) (1.15.0)\n",
      "Note: you may need to restart the kernel to use updated packages.\n"
     ]
    },
    {
     "name": "stderr",
     "output_type": "stream",
     "text": [
      "WARNING: You are using pip version 22.0.4; however, version 23.2.1 is available.\n",
      "You should consider upgrading via the 'c:\\Users\\u0040810\\AppData\\Local\\Programs\\Python\\Python39\\python.exe -m pip install --upgrade pip' command.\n"
     ]
    }
   ],
   "source": [
    "pip install kanren"
   ]
  },
  {
   "cell_type": "markdown",
   "metadata": {},
   "source": [
    "## 2. Ask Kanren\n",
    "\n",
    "Kanren enables the expression of relations and the search for values which satisfy them. The following code is the *Hello world!* of logic programming."
   ]
  },
  {
   "cell_type": "code",
   "execution_count": 11,
   "metadata": {},
   "outputs": [
    {
     "name": "stdout",
     "output_type": "stream",
     "text": [
      "~_2\n",
      "(5,)\n"
     ]
    }
   ],
   "source": [
    "from kanren import run, eq, membero, var, conde # some of these imports will be used later\n",
    "\n",
    "x = var() # declare a variable x\n",
    "print(x) # there's no token-name for this variable (see code cell below)\n",
    "result = run(1, x, eq(x, 5)) # ask kanren 1 value x, such that x equals 5\n",
    "\n",
    "print(result)"
   ]
  },
  {
   "cell_type": "markdown",
   "metadata": {},
   "source": [
    "Multiple variables and multiple goals can be used simultaneously. The\n",
    "following code asks for a number x such that `x == z` and `z == 3`"
   ]
  },
  {
   "cell_type": "code",
   "execution_count": 13,
   "metadata": {},
   "outputs": [
    {
     "name": "stdout",
     "output_type": "stream",
     "text": [
      "~z\n"
     ]
    },
    {
     "data": {
      "text/plain": [
       "(3,)"
      ]
     },
     "execution_count": 13,
     "metadata": {},
     "output_type": "execute_result"
    }
   ],
   "source": [
    "z = var('z') # you may also, optionally, pass a token name for a variable...\n",
    "print(z)     # and print it - notice that now you do have a 'meaningful' name for the variable\n",
    "\n",
    "run(0, x, eq(x, z), eq(z, 3)) # ask kanren for all values (just say 0), immediately print the result, you may omit the print statement"
   ]
  },
  {
   "cell_type": "markdown",
   "metadata": {},
   "source": [
    "The following code asks for a number, x, such that `(1, 2) == (1, x)` holds. The variable x was already declared above."
   ]
  },
  {
   "cell_type": "code",
   "execution_count": 4,
   "metadata": {},
   "outputs": [
    {
     "data": {
      "text/plain": [
       "(2,)"
      ]
     },
     "execution_count": 4,
     "metadata": {},
     "output_type": "execute_result"
    }
   ],
   "source": [
    "run(0, x, eq((1, 2), (1, x)))"
   ]
  },
  {
   "cell_type": "markdown",
   "metadata": {},
   "source": [
    "The above examples use `eq`, a *goal constructor* to state that two expressions\n",
    "are equal. Other goal constructors exist such as `membero(item, coll)` which\n",
    "states that `item` is a member of `coll`, a collection.\n",
    "\n",
    "The following example uses `membero` twice to ask for the values of x,\n",
    "such that x is a member of `(1, 2, 3)` and that x is a member of `(2, 3, 4)`."
   ]
  },
  {
   "cell_type": "code",
   "execution_count": 5,
   "metadata": {},
   "outputs": [
    {
     "data": {
      "text/plain": [
       "(2, 3)"
      ]
     },
     "execution_count": 5,
     "metadata": {},
     "output_type": "execute_result"
    }
   ],
   "source": [
    "run(0, x, membero(x, (1, 2, 3)),  # x is a member of (1, 2, 3)\n",
    "          membero(x, (2, 3, 4)))  # x is a member of (2, 3, 4)"
   ]
  },
  {
   "cell_type": "markdown",
   "metadata": {},
   "source": [
    "## 3. Facts\n",
    "\n",
    "Kanren stores data as facts. Facts are **relationships** (between terms), in Kanren. In the next example *state* and *border* are two relations."
   ]
  },
  {
   "cell_type": "code",
   "execution_count": 14,
   "metadata": {},
   "outputs": [
    {
     "data": {
      "text/plain": [
       "('washington',)"
      ]
     },
     "execution_count": 14,
     "metadata": {},
     "output_type": "execute_result"
    }
   ],
   "source": [
    "from kanren import fact, facts, Relation\n",
    "\n",
    "state = Relation()\n",
    "border = Relation()\n",
    "\n",
    "fact(state, \"washington\")   # declare one fact\n",
    "fact(state, \"oregon\")\n",
    "facts(state, \"idaho\",       # use facts to declare more facts in one statement\n",
    "             \"california\")\n",
    "\n",
    "fact(border, \"washington\", \"oregon\") # one fact\n",
    "facts(border, (\"washington\", \"idaho\"), # facts to declare multiple facts\n",
    "              (\"oregon\", \"california\"))\n",
    "\n",
    "run(0, x, border(x, \"oregon\")) # ask Kanren which state borders oregon, note that it outputs only washington"
   ]
  },
  {
   "cell_type": "markdown",
   "metadata": {},
   "source": [
    "## 4. Rules\n",
    "\n",
    "Use the Python `def` statement to declare a rule. x and y are adjacent if x borders y."
   ]
  },
  {
   "cell_type": "code",
   "execution_count": 19,
   "metadata": {},
   "outputs": [
    {
     "name": "stdout",
     "output_type": "stream",
     "text": [
      "yes\n",
      "(~neighbor,)\n",
      "no\n",
      "()\n"
     ]
    }
   ],
   "source": [
    "x = var('neighbor')\n",
    "\n",
    "def adjacent(x, y):\n",
    "    return border(x, y)\n",
    "\n",
    "result = run(0, x, adjacent(\"washington\", \"oregon\"))\n",
    "print('yes' if len(result) else 'no') # print yes if the length of the result is > 0, no otherwise\n",
    "print(result)\n",
    "\n",
    "\n",
    "result = run(0, x, adjacent(\"oregon\", \"washington\"))\n",
    "print('yes' if len(result) else 'no')\n",
    "\n",
    "print(result)"
   ]
  },
  {
   "cell_type": "markdown",
   "metadata": {},
   "source": [
    "Use `conde`, a goal constructor for logical *and* and *or*.  __Use brackets for *and*, square brackets for *or*. Please note the position of the brackets! They are different for the normal and square brackets!__\n",
    "\n",
    "```python\n",
    "def adjacent(x, y):\n",
    "    return conde([border(x, y)], [border(y, x)]) # x is adjacent to y if x borders y OR y borders x\n",
    "\n",
    "def grandparent(x, y):\n",
    "    z = var()\n",
    "    return conde((parent(x, z), parent(z, y)))   # x is the grandparent of y if x is the parent of z AND z is the parent of y\n",
    "\n",
    "```    "
   ]
  },
  {
   "cell_type": "code",
   "execution_count": 20,
   "metadata": {},
   "outputs": [
    {
     "name": "stdout",
     "output_type": "stream",
     "text": [
      "yes\n",
      "yes\n"
     ]
    }
   ],
   "source": [
    "def adjacent(x, y):\n",
    "    return conde([border(x, y)], [border(y, x)])\n",
    "\n",
    "result = run(0, x, adjacent(\"washington\", \"oregon\"))\n",
    "print('yes' if len(result) else 'no')\n",
    "\n",
    "result = run(0, x, adjacent(\"oregon\", \"washington\"))\n",
    "print('yes' if len(result) else 'no')"
   ]
  },
  {
   "cell_type": "code",
   "execution_count": 21,
   "metadata": {},
   "outputs": [
    {
     "name": "stdout",
     "output_type": "stream",
     "text": [
      "('washington', 'california')\n",
      "('idaho', 'oregon')\n"
     ]
    }
   ],
   "source": [
    "print(run(0, x, adjacent(x, \"oregon\"))) # both states are found now!\n",
    "print(run(0, x, adjacent(x, \"washington\"))) # both states are found now!"
   ]
  }
 ],
 "metadata": {
  "kernelspec": {
   "display_name": "Python 3.10.6 ('AI_env': venv)",
   "language": "python",
   "name": "python3"
  },
  "language_info": {
   "codemirror_mode": {
    "name": "ipython",
    "version": 3
   },
   "file_extension": ".py",
   "mimetype": "text/x-python",
   "name": "python",
   "nbconvert_exporter": "python",
   "pygments_lexer": "ipython3",
   "version": "3.9.4"
  },
  "vscode": {
   "interpreter": {
    "hash": "ee412e95a0a5fcd4bc718149b06e63b52799b36d97dd83a114f114becc1d8225"
   }
  }
 },
 "nbformat": 4,
 "nbformat_minor": 2
}
