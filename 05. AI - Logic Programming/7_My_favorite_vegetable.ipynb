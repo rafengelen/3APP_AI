{
  "cells": [
    {
      "cell_type": "markdown",
      "metadata": {
        "id": "W0XMmWbNCkAR"
      },
      "source": [
        "# My favorite vegetable - Exercise\n",
        "\n",
        "Program the following facts. __Don't use the facts function from Kanren, but make use of the fact (singular) function (do this several times).__\n",
        "\n",
        "- Define a relation food and program these facts: avocado, carrot, tomato and broccoli are food.\n",
        "- Define a relation color and program these facts: carrot is orange, avocado is green, broccoli is green and tomato is red.\n",
        "- Define a relation likes and program these facts: Jeff likes carrot, avocado and baseball, Bill likes avocado and baseball, Steve likes tomato and baseball, Mary likes broccoli and Peter likes baseball.\n"
      ]
    },
    {
      "cell_type": "code",
      "execution_count": 1,
      "metadata": {
        "colab": {
          "base_uri": "https://localhost:8080/"
        },
        "id": "JIdaWHWxCmAx",
        "outputId": "2a5c76ec-c518-45dc-b957-5f0a70f2eec1"
      },
      "outputs": [
        {
          "name": "stderr",
          "output_type": "stream",
          "text": [
            "'apt-get' is not recognized as an internal or external command,\n",
            "operable program or batch file.\n",
            "'sudo' is not recognized as an internal or external command,\n",
            "operable program or batch file.\n",
            "'sudo' is not recognized as an internal or external command,\n",
            "operable program or batch file.\n",
            "'apt-get' is not recognized as an internal or external command,\n",
            "operable program or batch file.\n",
            "'apt' is not recognized as an internal or external command,\n",
            "operable program or batch file.\n"
          ]
        }
      ],
      "source": [
        "!apt-get install python3.7\n",
        "!sudo update-alternatives --install /usr/bin/python3 python3 /usr/bin/python3.7 1\n",
        "!sudo update-alternatives --config python3\n",
        "!apt-get install --reinstall python3.7-distutils\n",
        "!apt install python3-pip"
      ]
    },
    {
      "cell_type": "code",
      "execution_count": 2,
      "metadata": {
        "colab": {
          "base_uri": "https://localhost:8080/"
        },
        "id": "2f3NieCICmsy",
        "outputId": "dae5ec01-677f-47c4-827b-b5b01a4c3d93"
      },
      "outputs": [
        {
          "name": "stdout",
          "output_type": "stream",
          "text": [
            "Requirement already satisfied: kanren in c:\\users\\rafen\\appdata\\local\\programs\\python\\python311\\lib\\site-packages (0.2.3)Note: you may need to restart the kernel to use updated packages.\n"
          ]
        },
        {
          "name": "stderr",
          "output_type": "stream",
          "text": [
            "\n",
            "[notice] A new release of pip is available: 23.3.1 -> 23.3.2\n",
            "[notice] To update, run: python.exe -m pip install --upgrade pip\n"
          ]
        },
        {
          "name": "stdout",
          "output_type": "stream",
          "text": [
            "\n",
            "Requirement already satisfied: toolz in c:\\users\\rafen\\appdata\\local\\programs\\python\\python311\\lib\\site-packages (from kanren) (0.12.0)\n",
            "Requirement already satisfied: multipledispatch in c:\\users\\rafen\\appdata\\local\\programs\\python\\python311\\lib\\site-packages (from kanren) (1.0.0)\n",
            "Requirement already satisfied: unification in c:\\users\\rafen\\appdata\\local\\programs\\python\\python311\\lib\\site-packages (from kanren) (0.2.2)\n"
          ]
        }
      ],
      "source": [
        "pip install kanren"
      ]
    },
    {
      "cell_type": "code",
      "execution_count": 1,
      "metadata": {
        "id": "BBGTSSpiCohM"
      },
      "outputs": [],
      "source": [
        "from kanren import run, eq, var, conde, Relation, fact, lall, lany"
      ]
    },
    {
      "cell_type": "code",
      "execution_count": 6,
      "metadata": {
        "id": "cbrHSk9GCkAU"
      },
      "outputs": [],
      "source": [
        "# A) Facts\n",
        "food = Relation()\n",
        "\n",
        "fact(food,\"avocado\")\n",
        "fact(food,\"carrot\")\n",
        "fact(food,\"tomato\")\n",
        "fact(food,\"broccoli\")\n",
        "\n",
        "color = Relation()\n",
        "\n",
        "fact(color,\"carrot\",\"orange\")\n",
        "fact(color,\"avocado\",\"green\")\n",
        "fact(color,\"broccoli\",\"green\")\n",
        "fact(color,\"tomato\",\"red\")\n",
        "\n",
        "likes = Relation()\n",
        "fact(likes,\"Jeff\",\"carrot\")\n",
        "fact(likes,\"Jeff\",\"avocado\")\n",
        "fact(likes,\"Jeff\",\"baseball\")\n",
        "fact(likes,\"Bill\",\"avocado\")\n",
        "fact(likes,\"Bill\",\"baseball\")\n",
        "fact(likes,\"Steve\",\"tomato\")\n",
        "fact(likes,\"Steve\",\"baseball\")\n",
        "fact(likes,\"Mary\",\"broccoli\")\n",
        "fact(likes,\"Peter\",\"baseball\")\n"
      ]
    },
    {
      "cell_type": "markdown",
      "metadata": {
        "id": "m0ExYbFrCkAY"
      },
      "source": [
        "Program a list of all people who like baseball. The output should be:\n",
        "\n",
        "bill\n",
        "steve\n",
        "jeff\n",
        "peter"
      ]
    },
    {
      "cell_type": "code",
      "execution_count": 7,
      "metadata": {
        "colab": {
          "base_uri": "https://localhost:8080/"
        },
        "id": "TFlbAhFxCkAZ",
        "outputId": "75325d17-bff8-457b-d6c4-02796156b06b"
      },
      "outputs": [
        {
          "name": "stdout",
          "output_type": "stream",
          "text": [
            "('Peter', 'Steve', 'Jeff', 'Bill')\n"
          ]
        }
      ],
      "source": [
        "# B) Who likes baseball?\n",
        "x=var()\n",
        "print(run(0,x,likes(x, \"baseball\")))\n"
      ]
    },
    {
      "cell_type": "markdown",
      "metadata": {
        "id": "7xxc0dZwCkAb"
      },
      "source": [
        "Program a list of all people who like food. The output should be:\n",
        "\n",
        "mary\n",
        "steve\n",
        "jeff\n",
        "bill"
      ]
    },
    {
      "cell_type": "code",
      "execution_count": 9,
      "metadata": {
        "colab": {
          "base_uri": "https://localhost:8080/"
        },
        "id": "dmOlaIXfCkAd",
        "outputId": "6df84031-8ab2-421b-f2f7-6e65c1e1cb17"
      },
      "outputs": [
        {
          "data": {
            "text/plain": [
              "{'Bill', 'Jeff', 'Mary', 'Steve'}"
            ]
          },
          "execution_count": 9,
          "metadata": {},
          "output_type": "execute_result"
        }
      ],
      "source": [
        "# C) Who likes food?\n",
        "def likes_food(x):\n",
        "  y = var()\n",
        "  return lall(likes(x,y), food(y))\n",
        "set(run(0,x,likes_food(x)))\n"
      ]
    },
    {
      "cell_type": "markdown",
      "metadata": {
        "id": "prI7_ngdCkAe"
      },
      "source": [
        "Program a list of all people who like red food. The output should be:\n",
        "\n",
        "steve"
      ]
    },
    {
      "cell_type": "code",
      "execution_count": 10,
      "metadata": {
        "colab": {
          "base_uri": "https://localhost:8080/"
        },
        "id": "5fI2fyo-CkAf",
        "outputId": "5d607321-aee2-436d-d6f4-dffa7d7669d0"
      },
      "outputs": [
        {
          "data": {
            "text/plain": [
              "{'Bill', 'Jeff', 'Mary', 'Steve'}"
            ]
          },
          "execution_count": 10,
          "metadata": {},
          "output_type": "execute_result"
        }
      ],
      "source": [
        "# D) Who likes red food?\n",
        "def likes_red_food(x):\n",
        "  y = var()\n",
        "  return lall(likes(x,y), food(y), color(y, \"red\"))\n",
        "set(run(0, x, likes_red_food(x)))\n"
      ]
    },
    {
      "cell_type": "markdown",
      "metadata": {
        "id": "bppgSGa4CkAg"
      },
      "source": [
        "Program a list of all people who like food with the same color that Mary likes. The output should be:\n",
        "\n",
        "jeff\n",
        "bill"
      ]
    },
    {
      "cell_type": "code",
      "execution_count": 11,
      "metadata": {
        "colab": {
          "base_uri": "https://localhost:8080/"
        },
        "id": "xQml9zoZCkAh",
        "outputId": "e8dbf565-5241-40e9-a2b4-938567b0b00c"
      },
      "outputs": [
        {
          "data": {
            "text/plain": [
              "{'Bill', 'Jeff', 'Mary'}"
            ]
          },
          "execution_count": 11,
          "metadata": {},
          "output_type": "execute_result"
        }
      ],
      "source": [
        "# E) Who likes food with the same color that Mary likes?\n",
        "def likes_same_color_food(x,y):\n",
        "  f1 = var()\n",
        "  f2= var()\n",
        "  c= var()\n",
        "  return lall(likes(x,f1), food(f1), color(f1, c), color(f2, c), food(f2), likes(y,f2))\n",
        "set(run(0, x, likes_same_color_food(\"Mary\", x)))\n"
      ]
    },
    {
      "cell_type": "code",
      "execution_count": null,
      "metadata": {
        "id": "88g7BKlaCkAj"
      },
      "outputs": [],
      "source": []
    }
  ],
  "metadata": {
    "colab": {
      "provenance": []
    },
    "kernelspec": {
      "display_name": "Python 3",
      "language": "python",
      "name": "python3"
    },
    "language_info": {
      "codemirror_mode": {
        "name": "ipython",
        "version": 3
      },
      "file_extension": ".py",
      "mimetype": "text/x-python",
      "name": "python",
      "nbconvert_exporter": "python",
      "pygments_lexer": "ipython3",
      "version": "3.8.8"
    }
  },
  "nbformat": 4,
  "nbformat_minor": 0
}
