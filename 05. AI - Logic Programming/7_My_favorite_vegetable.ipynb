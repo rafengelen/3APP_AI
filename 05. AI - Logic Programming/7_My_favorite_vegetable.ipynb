{
  "cells": [
    {
      "cell_type": "markdown",
      "metadata": {
        "id": "W0XMmWbNCkAR"
      },
      "source": [
        "# My favorite vegetable - Exercise\n",
        "\n",
        "Program the following facts. __Don't use the facts function from Kanren, but make use of the fact (singular) function (do this several times).__\n",
        "\n",
        "- Define a relation food and program these facts: avocado, carrot, tomato and broccoli are food.\n",
        "- Define a relation color and program these facts: carrot is orange, avocado is green, broccoli is green and tomato is red.\n",
        "- Define a relation likes and program these facts: Jeff likes carrot, avocado and baseball, Bill likes avocado and baseball, Steve likes tomato and baseball, Mary likes broccoli and Peter likes baseball.\n"
      ]
    },
    {
      "cell_type": "code",
      "source": [
        "!apt-get install python3.7\n",
        "!sudo update-alternatives --install /usr/bin/python3 python3 /usr/bin/python3.7 1\n",
        "!sudo update-alternatives --config python3\n",
        "!apt-get install --reinstall python3.7-distutils\n",
        "!apt install python3-pip"
      ],
      "metadata": {
        "colab": {
          "base_uri": "https://localhost:8080/"
        },
        "id": "JIdaWHWxCmAx",
        "outputId": "2a5c76ec-c518-45dc-b957-5f0a70f2eec1"
      },
      "execution_count": 1,
      "outputs": [
        {
          "output_type": "stream",
          "name": "stdout",
          "text": [
            "Reading package lists... Done\n",
            "Building dependency tree... Done\n",
            "Reading state information... Done\n",
            "The following additional packages will be installed:\n",
            "  libpython3.7-minimal libpython3.7-stdlib mailcap mime-support\n",
            "  python3.7-minimal\n",
            "Suggested packages:\n",
            "  python3.7-venv binfmt-support\n",
            "The following NEW packages will be installed:\n",
            "  libpython3.7-minimal libpython3.7-stdlib mailcap mime-support python3.7\n",
            "  python3.7-minimal\n",
            "0 upgraded, 6 newly installed, 0 to remove and 18 not upgraded.\n",
            "Need to get 4,698 kB of archives.\n",
            "After this operation, 17.8 MB of additional disk space will be used.\n",
            "Get:1 https://ppa.launchpadcontent.net/deadsnakes/ppa/ubuntu jammy/main amd64 libpython3.7-minimal amd64 3.7.17-1+jammy1 [608 kB]\n",
            "Get:2 https://ppa.launchpadcontent.net/deadsnakes/ppa/ubuntu jammy/main amd64 python3.7-minimal amd64 3.7.17-1+jammy1 [1,837 kB]\n",
            "Get:3 https://ppa.launchpadcontent.net/deadsnakes/ppa/ubuntu jammy/main amd64 libpython3.7-stdlib amd64 3.7.17-1+jammy1 [1,864 kB]\n",
            "Get:4 https://ppa.launchpadcontent.net/deadsnakes/ppa/ubuntu jammy/main amd64 python3.7 amd64 3.7.17-1+jammy1 [362 kB]\n",
            "Get:5 http://archive.ubuntu.com/ubuntu jammy/main amd64 mailcap all 3.70+nmu1ubuntu1 [23.8 kB]\n",
            "Get:6 http://archive.ubuntu.com/ubuntu jammy/main amd64 mime-support all 3.66 [3,696 B]\n",
            "Fetched 4,698 kB in 5s (892 kB/s)\n",
            "Selecting previously unselected package libpython3.7-minimal:amd64.\n",
            "(Reading database ... 120895 files and directories currently installed.)\n",
            "Preparing to unpack .../0-libpython3.7-minimal_3.7.17-1+jammy1_amd64.deb ...\n",
            "Unpacking libpython3.7-minimal:amd64 (3.7.17-1+jammy1) ...\n",
            "Selecting previously unselected package python3.7-minimal.\n",
            "Preparing to unpack .../1-python3.7-minimal_3.7.17-1+jammy1_amd64.deb ...\n",
            "Unpacking python3.7-minimal (3.7.17-1+jammy1) ...\n",
            "Selecting previously unselected package mailcap.\n",
            "Preparing to unpack .../2-mailcap_3.70+nmu1ubuntu1_all.deb ...\n",
            "Unpacking mailcap (3.70+nmu1ubuntu1) ...\n",
            "Selecting previously unselected package mime-support.\n",
            "Preparing to unpack .../3-mime-support_3.66_all.deb ...\n",
            "Unpacking mime-support (3.66) ...\n",
            "Selecting previously unselected package libpython3.7-stdlib:amd64.\n",
            "Preparing to unpack .../4-libpython3.7-stdlib_3.7.17-1+jammy1_amd64.deb ...\n",
            "Unpacking libpython3.7-stdlib:amd64 (3.7.17-1+jammy1) ...\n",
            "Selecting previously unselected package python3.7.\n",
            "Preparing to unpack .../5-python3.7_3.7.17-1+jammy1_amd64.deb ...\n",
            "Unpacking python3.7 (3.7.17-1+jammy1) ...\n",
            "Setting up libpython3.7-minimal:amd64 (3.7.17-1+jammy1) ...\n",
            "Setting up python3.7-minimal (3.7.17-1+jammy1) ...\n",
            "Setting up mailcap (3.70+nmu1ubuntu1) ...\n",
            "Setting up mime-support (3.66) ...\n",
            "Setting up libpython3.7-stdlib:amd64 (3.7.17-1+jammy1) ...\n",
            "Setting up python3.7 (3.7.17-1+jammy1) ...\n",
            "Processing triggers for man-db (2.10.2-1) ...\n",
            "update-alternatives: using /usr/bin/python3.7 to provide /usr/bin/python3 (python3) in auto mode\n",
            "There is only one alternative in link group python3 (providing /usr/bin/python3): /usr/bin/python3.7\n",
            "Nothing to configure.\n",
            "Reading package lists... Done\n",
            "Building dependency tree... Done\n",
            "Reading state information... Done\n",
            "The following additional packages will be installed:\n",
            "  python3.7-lib2to3\n",
            "The following NEW packages will be installed:\n",
            "  python3.7-distutils python3.7-lib2to3\n",
            "0 upgraded, 2 newly installed, 0 to remove and 18 not upgraded.\n",
            "Need to get 313 kB of archives.\n",
            "After this operation, 1,229 kB of additional disk space will be used.\n",
            "Get:1 https://ppa.launchpadcontent.net/deadsnakes/ppa/ubuntu jammy/main amd64 python3.7-lib2to3 all 3.7.17-1+jammy1 [124 kB]\n",
            "Get:2 https://ppa.launchpadcontent.net/deadsnakes/ppa/ubuntu jammy/main amd64 python3.7-distutils all 3.7.17-1+jammy1 [189 kB]\n",
            "Fetched 313 kB in 0s (1,508 kB/s)\n",
            "Selecting previously unselected package python3.7-lib2to3.\n",
            "(Reading database ... 121540 files and directories currently installed.)\n",
            "Preparing to unpack .../python3.7-lib2to3_3.7.17-1+jammy1_all.deb ...\n",
            "Unpacking python3.7-lib2to3 (3.7.17-1+jammy1) ...\n",
            "Selecting previously unselected package python3.7-distutils.\n",
            "Preparing to unpack .../python3.7-distutils_3.7.17-1+jammy1_all.deb ...\n",
            "Unpacking python3.7-distutils (3.7.17-1+jammy1) ...\n",
            "Setting up python3.7-lib2to3 (3.7.17-1+jammy1) ...\n",
            "Setting up python3.7-distutils (3.7.17-1+jammy1) ...\n",
            "Reading package lists... Done\n",
            "Building dependency tree... Done\n",
            "Reading state information... Done\n",
            "The following additional packages will be installed:\n",
            "  python3-setuptools python3-wheel\n",
            "Suggested packages:\n",
            "  python-setuptools-doc\n",
            "The following NEW packages will be installed:\n",
            "  python3-pip python3-setuptools python3-wheel\n",
            "0 upgraded, 3 newly installed, 0 to remove and 18 not upgraded.\n",
            "Need to get 1,677 kB of archives.\n",
            "After this operation, 8,965 kB of additional disk space will be used.\n",
            "Get:1 http://archive.ubuntu.com/ubuntu jammy-updates/main amd64 python3-setuptools all 59.6.0-1.2ubuntu0.22.04.1 [339 kB]\n",
            "Get:2 http://archive.ubuntu.com/ubuntu jammy-updates/universe amd64 python3-wheel all 0.37.1-2ubuntu0.22.04.1 [32.0 kB]\n",
            "Get:3 http://archive.ubuntu.com/ubuntu jammy-updates/universe amd64 python3-pip all 22.0.2+dfsg-1ubuntu0.3 [1,305 kB]\n",
            "Fetched 1,677 kB in 1s (1,905 kB/s)\n",
            "Selecting previously unselected package python3-setuptools.\n",
            "(Reading database ... 121679 files and directories currently installed.)\n",
            "Preparing to unpack .../python3-setuptools_59.6.0-1.2ubuntu0.22.04.1_all.deb ...\n",
            "Unpacking python3-setuptools (59.6.0-1.2ubuntu0.22.04.1) ...\n",
            "Selecting previously unselected package python3-wheel.\n",
            "Preparing to unpack .../python3-wheel_0.37.1-2ubuntu0.22.04.1_all.deb ...\n",
            "Unpacking python3-wheel (0.37.1-2ubuntu0.22.04.1) ...\n",
            "Selecting previously unselected package python3-pip.\n",
            "Preparing to unpack .../python3-pip_22.0.2+dfsg-1ubuntu0.3_all.deb ...\n",
            "Unpacking python3-pip (22.0.2+dfsg-1ubuntu0.3) ...\n",
            "Setting up python3-setuptools (59.6.0-1.2ubuntu0.22.04.1) ...\n",
            "Setting up python3-wheel (0.37.1-2ubuntu0.22.04.1) ...\n",
            "Setting up python3-pip (22.0.2+dfsg-1ubuntu0.3) ...\n",
            "Processing triggers for man-db (2.10.2-1) ...\n"
          ]
        }
      ]
    },
    {
      "cell_type": "code",
      "source": [
        "pip install kanren"
      ],
      "metadata": {
        "colab": {
          "base_uri": "https://localhost:8080/"
        },
        "id": "2f3NieCICmsy",
        "outputId": "dae5ec01-677f-47c4-827b-b5b01a4c3d93"
      },
      "execution_count": 2,
      "outputs": [
        {
          "output_type": "stream",
          "name": "stdout",
          "text": [
            "Collecting kanren\n",
            "  Downloading kanren-0.2.3.tar.gz (23 kB)\n",
            "  Preparing metadata (setup.py) ... \u001b[?25l\u001b[?25hdone\n",
            "Collecting multipledispatch\n",
            "  Downloading multipledispatch-1.0.0-py3-none-any.whl (12 kB)\n",
            "Collecting toolz\n",
            "  Downloading toolz-0.12.0-py3-none-any.whl (55 kB)\n",
            "\u001b[2K     \u001b[90m━━━━━━━━━━━━━━━━━━━━━━━━━━━━━━━━━━━━━━━━\u001b[0m \u001b[32m55.8/55.8 KB\u001b[0m \u001b[31m4.7 MB/s\u001b[0m eta \u001b[36m0:00:00\u001b[0m\n",
            "\u001b[?25hCollecting unification\n",
            "  Downloading unification-0.2.2-py2.py3-none-any.whl (10 kB)\n",
            "Building wheels for collected packages: kanren\n",
            "  Building wheel for kanren (setup.py) ... \u001b[?25l\u001b[?25hdone\n",
            "  Created wheel for kanren: filename=kanren-0.2.3-py3-none-any.whl size=15871 sha256=1c20083ff4ead43415714ce20b5df7fdeaf98e9faf5e0e17185a82f06446af8b\n",
            "  Stored in directory: /root/.cache/pip/wheels/26/cb/32/093b860ec60752641d76d706af25a175597cf56e152282cbbe\n",
            "Successfully built kanren\n",
            "Installing collected packages: multipledispatch, toolz, unification, kanren\n",
            "Successfully installed kanren-0.2.3 multipledispatch-1.0.0 toolz-0.12.0 unification-0.2.2\n",
            "\u001b[33mWARNING: Running pip as the 'root' user can result in broken permissions and conflicting behaviour with the system package manager. It is recommended to use a virtual environment instead: https://pip.pypa.io/warnings/venv\u001b[0m\u001b[33m\n",
            "\u001b[0m"
          ]
        }
      ]
    },
    {
      "cell_type": "code",
      "source": [
        "from kanren import run, eq, var, conde, Relation, fact, lall, lany"
      ],
      "metadata": {
        "id": "BBGTSSpiCohM"
      },
      "execution_count": 5,
      "outputs": []
    },
    {
      "cell_type": "code",
      "execution_count": 6,
      "metadata": {
        "id": "cbrHSk9GCkAU"
      },
      "outputs": [],
      "source": [
        "# A) Facts\n",
        "food = Relation()\n",
        "\n",
        "fact(food,\"avocado\")\n",
        "fact(food,\"carrot\")\n",
        "fact(food,\"tomato\")\n",
        "fact(food,\"broccoli\")\n",
        "\n",
        "color = Relation()\n",
        "\n",
        "fact(color,\"carrot\",\"orange\")\n",
        "fact(color,\"avocado\",\"green\")\n",
        "fact(color,\"broccoli\",\"green\")\n",
        "fact(color,\"tomato\",\"red\")\n",
        "\n",
        "likes = Relation()\n",
        "fact(likes,\"Jeff\",\"carrot\")\n",
        "fact(likes,\"Jeff\",\"avocado\")\n",
        "fact(likes,\"Jeff\",\"baseball\")\n",
        "fact(likes,\"Bill\",\"avocado\")\n",
        "fact(likes,\"Bill\",\"baseball\")\n",
        "fact(likes,\"Steve\",\"tomato\")\n",
        "fact(likes,\"Steve\",\"baseball\")\n",
        "fact(likes,\"Mary\",\"broccoli\")\n",
        "fact(likes,\"Peter\",\"baseball\")\n"
      ]
    },
    {
      "cell_type": "markdown",
      "metadata": {
        "id": "m0ExYbFrCkAY"
      },
      "source": [
        "Program a list of all people who like baseball. The output should be:\n",
        "\n",
        "bill\n",
        "steve\n",
        "jeff\n",
        "peter"
      ]
    },
    {
      "cell_type": "code",
      "execution_count": 7,
      "metadata": {
        "colab": {
          "base_uri": "https://localhost:8080/"
        },
        "id": "TFlbAhFxCkAZ",
        "outputId": "75325d17-bff8-457b-d6c4-02796156b06b"
      },
      "outputs": [
        {
          "output_type": "stream",
          "name": "stdout",
          "text": [
            "('Peter', 'Steve', 'Jeff', 'Bill')\n"
          ]
        }
      ],
      "source": [
        "# B) Who likes baseball?\n",
        "x=var()\n",
        "print(run(0,x,likes(x, \"baseball\")))\n"
      ]
    },
    {
      "cell_type": "markdown",
      "metadata": {
        "id": "7xxc0dZwCkAb"
      },
      "source": [
        "Program a list of all people who like food. The output should be:\n",
        "\n",
        "mary\n",
        "steve\n",
        "jeff\n",
        "bill"
      ]
    },
    {
      "cell_type": "code",
      "execution_count": 9,
      "metadata": {
        "colab": {
          "base_uri": "https://localhost:8080/"
        },
        "id": "dmOlaIXfCkAd",
        "outputId": "6df84031-8ab2-421b-f2f7-6e65c1e1cb17"
      },
      "outputs": [
        {
          "output_type": "execute_result",
          "data": {
            "text/plain": [
              "{'Bill', 'Jeff', 'Mary', 'Steve'}"
            ]
          },
          "metadata": {},
          "execution_count": 9
        }
      ],
      "source": [
        "# C) Who likes food?\n",
        "def likes_food(x):\n",
        "  y = var()\n",
        "  return lall(likes(x,y), food(y))\n",
        "set(run(0,x,likes_food(x)))\n"
      ]
    },
    {
      "cell_type": "markdown",
      "metadata": {
        "id": "prI7_ngdCkAe"
      },
      "source": [
        "Program a list of all people who like red food. The output should be:\n",
        "\n",
        "steve"
      ]
    },
    {
      "cell_type": "code",
      "execution_count": 10,
      "metadata": {
        "colab": {
          "base_uri": "https://localhost:8080/"
        },
        "id": "5fI2fyo-CkAf",
        "outputId": "5d607321-aee2-436d-d6f4-dffa7d7669d0"
      },
      "outputs": [
        {
          "output_type": "execute_result",
          "data": {
            "text/plain": [
              "{'Bill', 'Jeff', 'Mary', 'Steve'}"
            ]
          },
          "metadata": {},
          "execution_count": 10
        }
      ],
      "source": [
        "# D) Who likes red food?\n",
        "def likes_red_food(x):\n",
        "  y = var()\n",
        "  return lall(likes(x,y), food(y), color(y, \"red\"))\n",
        "set(run(0, x, likes_red_food(x)))\n"
      ]
    },
    {
      "cell_type": "markdown",
      "metadata": {
        "id": "bppgSGa4CkAg"
      },
      "source": [
        "Program a list of all people who like food with the same color that Mary likes. The output should be:\n",
        "\n",
        "jeff\n",
        "bill"
      ]
    },
    {
      "cell_type": "code",
      "execution_count": 11,
      "metadata": {
        "colab": {
          "base_uri": "https://localhost:8080/"
        },
        "id": "xQml9zoZCkAh",
        "outputId": "e8dbf565-5241-40e9-a2b4-938567b0b00c"
      },
      "outputs": [
        {
          "output_type": "execute_result",
          "data": {
            "text/plain": [
              "{'Bill', 'Jeff', 'Mary'}"
            ]
          },
          "metadata": {},
          "execution_count": 11
        }
      ],
      "source": [
        "# E) Who likes food with the same color that Mary likes?\n",
        "def likes_same_color_food(x,y):\n",
        "  f1 = var()\n",
        "  f2= var()\n",
        "  c= var()\n",
        "  return lall(likes(x,f1), food(f1), color(f1, c), color(f2, c), food(f2), likes(y,f2))\n",
        "set(run(0, x, likes_same_color_food(\"Mary\", x)))\n"
      ]
    },
    {
      "cell_type": "code",
      "execution_count": null,
      "metadata": {
        "id": "88g7BKlaCkAj"
      },
      "outputs": [],
      "source": []
    }
  ],
  "metadata": {
    "kernelspec": {
      "display_name": "Python 3",
      "language": "python",
      "name": "python3"
    },
    "language_info": {
      "codemirror_mode": {
        "name": "ipython",
        "version": 3
      },
      "file_extension": ".py",
      "mimetype": "text/x-python",
      "name": "python",
      "nbconvert_exporter": "python",
      "pygments_lexer": "ipython3",
      "version": "3.7.3"
    },
    "colab": {
      "provenance": []
    }
  },
  "nbformat": 4,
  "nbformat_minor": 0
}