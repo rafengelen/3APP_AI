{
 "cells": [
  {
   "cell_type": "markdown",
   "metadata": {},
   "source": [
    "# Zebra puzzle\n",
    "\n",
    "The last interesting application of logic programming is in solving puzzles. We can specify\n",
    "the conditions of a puzzle and the program will come up with a solution. In this section, we\n",
    "will specify various bits and pieces of information about five people and ask for the missing\n",
    "piece of information. \n",
    "\n",
    "We specify the puzzle as follows:\n",
    "    \n",
    "1. There are five houses.\n",
    "2. The Englishman lives in the red house.\n",
    "3. The Spaniard owns the dog.\n",
    "4. Coffee is drunk in the green house.\n",
    "5. The Ukrainian drinks tea.\n",
    "6. The green house is immediately to the left of the ivory house.\n",
    "7. The Old Gold smoker owns snails.\n",
    "8. Kools are smoked in the yellow house.\n",
    "9. Milk is drunk in the middle house.\n",
    "10. The Norwegian lives in the first house.\n",
    "11. The man who smokes Chesterfields lives in the house next to the man with the fox.\n",
    "12. Kools are smoked in the house next to the house where the horse is kept.\n",
    "13. The Lucky Strike smoker drinks orange juice.\n",
    "14. The Japanese smokes Parliaments.\n",
    "15. The Norwegian lives next to the blue house.\n",
    "\n",
    "__Who owns the zebra?__"
   ]
  },
  {
   "cell_type": "markdown",
   "metadata": {},
   "source": [
    "## 1. Rules\n",
    "\n",
    "We need to define the rules with the help of lall package as follows (by the way, the Zebra puzzle won't be an exam question)."
   ]
  },
  {
   "cell_type": "code",
   "execution_count": 1,
   "metadata": {},
   "outputs": [],
   "source": [
    "def lefto(q, p, list):\n",
    "    # give me q such that q is left of p in list\n",
    "    # zip(list, list[1:]) gives a list of 2-tuples of neighboring combinations\n",
    "    # which can then be pattern-matched against the query\n",
    "    return membero((q,p), zip(list, list[1:]))\n",
    "\n",
    "def nexto(q, p, list):\n",
    "    # give me q such that q is next to p in list\n",
    "    # match lefto(q, p) OR lefto(p, q)\n",
    "    # requirement of vector args instead of tuples doesn't seem to be documented\n",
    "    return conde([lefto(q, p, list)], [lefto(p, q, list)])\n",
    "\n",
    "from kanren import *\n",
    "from kanren.core import lall\n",
    "\n",
    "houses = var()\n",
    "\n",
    "zebraRules = lall(\n",
    "    # There are five houses\n",
    "    (eq,(var(), var(), var(), var(), var()), houses),\n",
    "    # The Englishman lives in the red house\n",
    "    (membero,('Englishman', var(), var(), var(), 'red'), houses),\n",
    "    # The Spaniard owns the dog\n",
    "    (membero,('Spaniard', var(), var(), 'dog', var()), houses),\n",
    "    # Coffee is drunk in the green house\n",
    "    (membero,(var(), var(), 'coffee', var(), 'green'), houses),\n",
    "    # The Ukrainian drinks tea\n",
    "    (membero,('Ukrainian', var(), 'tea', var(), var()), houses),\n",
    "    # The green house is immediately to the left of the ivory house\n",
    "    (lefto,(var(), var(), var(), var(), 'green'),\n",
    "                (var(), var(), var(), var(), 'ivory'), houses),\n",
    "    # The Old Gold smoker owns snails\n",
    "    (membero,(var(), 'Old Gold', var(), 'snails', var()), houses),\n",
    "    # Kools are smoked in the yellow house\n",
    "    (membero,(var(), 'Kools', var(), var(), 'yellow'), houses),\n",
    "    # Milk is drunk in the middle house\n",
    "    (eq,(var(), var(), (var(), var(), 'milk', var(), var()), var(), var()), houses),\n",
    "    # The Norwegian lives in the first house\n",
    "    (eq,(('Norwegian', var(), var(), var(), var()), var(), var(), var(), var()), houses),\n",
    "    # The man who smokes Chesterfields lives in the house next to the man with the fox\n",
    "    (nexto,(var(), 'Chesterfields', var(), var(), var()),\n",
    "        (var(), var(), var(), 'fox', var()), houses),\n",
    "    # Kools are smoked in the house next to the house where the horse is kept\n",
    "    (nexto,(var(), 'Kools', var(), var(), var()),\n",
    "        (var(), var(), var(), 'horse', var()), houses),\n",
    "    # The Lucky Strike smoker drinks orange juice\n",
    "    (membero,(var(), 'Lucky Strike', 'orange juice', var(), var()), houses),\n",
    "    # The Japanese smokes Parliaments\n",
    "    (membero,('Japanese', 'Parliaments', var(), var(), var()), houses),\n",
    "    # The Norwegian lives next to the blue house\n",
    "    (nexto,('Norwegian', var(), var(), var(), var()),\n",
    "            (var(), var(), var(), var(), 'blue'), houses),\n",
    "    # Who owns the zebra?\n",
    "    (membero,(var(), var(), var(), 'zebra', var()), houses)\n",
    ")"
   ]
  },
  {
   "cell_type": "markdown",
   "metadata": {},
   "source": [
    "## 2. Solution\n",
    "\n",
    "Now, run the solver with the preceding constraints and extract the output from the solver"
   ]
  },
  {
   "cell_type": "code",
   "execution_count": 2,
   "metadata": {},
   "outputs": [
    {
     "name": "stdout",
     "output_type": "stream",
     "text": [
      "Solutions: 1 \n",
      "\n",
      "The Japanese guy has a zebra.\n"
     ]
    }
   ],
   "source": [
    "solutions = run(0, houses, zebraRules)\n",
    "\n",
    "print(\"Solutions: %d \" % len(solutions))\n",
    "\n",
    "zebraOwner = [house for house in solutions[0] if 'zebra' in house][0][0]\n",
    "print ('\\nThe '+ zebraOwner + ' guy has a zebra.')"
   ]
  },
  {
   "cell_type": "code",
   "execution_count": 3,
   "metadata": {},
   "outputs": [
    {
     "name": "stdout",
     "output_type": "stream",
     "text": [
      "(('Norwegian', 'Kools', ~_42, 'fox', 'yellow'), ('Ukrainian', 'Chesterfields', 'tea', 'horse', 'blue'), ('Englishman', 'Old Gold', 'milk', 'snails', 'red'), ('Japanese', 'Parliaments', 'coffee', 'zebra', 'green'), ('Spaniard', 'Lucky Strike', 'orange juice', 'dog', 'ivory'))\n"
     ]
    }
   ],
   "source": [
    "print(solutions[0])"
   ]
  },
  {
   "cell_type": "markdown",
   "metadata": {},
   "source": [
    "## 3. Rabbit puzzle - Exercise\n",
    "\n",
    "The Rabbit puzzle is a simplified version of the Zebra puzzle. This one you should be able to solve at the exam.\n",
    "\n",
    "The puzzle goes as follows:\n",
    "\n",
    "1. Steve has a blue car\n",
    "2. The person who owns the cat lives in Canada\n",
    "3. Matthew lives in USA\n",
    "4. The person with the black car lives in Australia\n",
    "5. Jack has a cat\n",
    "6. Alfred lives in Australia\n",
    "7. The person who has a dog lives in France\n",
    "8. The man with the horse has a black car\n",
    "9. The person who lives in the USA has a red car\n",
    "\n",
    "__Now, who has a rabbit?__"
   ]
  },
  {
   "cell_type": "code",
   "execution_count": null,
   "metadata": {},
   "outputs": [],
   "source": [
    "from kanren import *\n",
    "from kanren.core import lall\n",
    "\n",
    "people = var()\n",
    "\n",
    "rules = lall(\n",
    "  # There are 4 people\n",
    "  \n",
    "  # Steve's car is blue\n",
    "  \n",
    "  # Person who has a cat lives in Canada\n",
    "  \n",
    "  # Matthew lives in USA\n",
    "  \n",
    "  # The person who has a black car lives in Australia\n",
    "  \n",
    "  # Jack has a cat\n",
    "  \n",
    "  # Alfred lives in Australia\n",
    "  \n",
    "  # Person who owns the dog lives in France\n",
    "  \n",
    "  # The man with the horse has a black car\n",
    "    \n",
    "  # The person who lives in the USA has a red car\n",
    "  \n",
    "  # Who has a rabbit?\n",
    "  \n",
    ")"
   ]
  },
  {
   "cell_type": "code",
   "execution_count": null,
   "metadata": {},
   "outputs": [],
   "source": [
    "solutions = run(0, people, rules)\n",
    "\n",
    "output = [people for people in solutions[0] if 'rabbit' in people][0][0]\n",
    "\n",
    "print ('\\n'+ output + ' has a rabbit.')"
   ]
  },
  {
   "cell_type": "markdown",
   "metadata": {},
   "source": [
    "Print the full matrix obtained from the solver:"
   ]
  },
  {
   "cell_type": "code",
   "execution_count": null,
   "metadata": {},
   "outputs": [],
   "source": [
    "print('\\nHere are all the details:')\n",
    "attribs = ['Name', 'Pet', 'Color', 'Country']\n",
    "print('\\n' + '\\t\\t'.join(attribs))\n",
    "print('=' * 57)\n",
    "for item in solutions[0]:\n",
    "  print('')\n",
    "  print('\\t\\t'.join([str(x) for x in item]))"
   ]
  },
  {
   "cell_type": "markdown",
   "metadata": {},
   "source": [
    "The preceding figure shows all the values obtained using the solver. One value is still\n",
    "unknown as indicated by a numbered name. Even though the information was incomplete,\n",
    "our solver was able to answer our question. But in order to answer every single question,\n",
    "you may need to add more rules. This program was to demonstrate how to solve a puzzle\n",
    "with incomplete information. You can play around with it (add/delete some rules and see how you can build\n",
    "puzzle solvers for various scenarios."
   ]
  }
 ],
 "metadata": {
  "kernelspec": {
   "display_name": "Python 3.9.4 64-bit",
   "language": "python",
   "name": "python3"
  },
  "language_info": {
   "codemirror_mode": {
    "name": "ipython",
    "version": 3
   },
   "file_extension": ".py",
   "mimetype": "text/x-python",
   "name": "python",
   "nbconvert_exporter": "python",
   "pygments_lexer": "ipython3",
   "version": "3.9.4"
  },
  "vscode": {
   "interpreter": {
    "hash": "ac19fea7ca157f65070a947d4f1cdd50788aaffbd4bca54f0297c51647d6a9e5"
   }
  }
 },
 "nbformat": 4,
 "nbformat_minor": 2
}
