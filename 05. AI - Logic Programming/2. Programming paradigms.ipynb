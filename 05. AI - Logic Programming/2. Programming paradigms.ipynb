{
 "cells": [
  {
   "cell_type": "markdown",
   "metadata": {},
   "source": [
    "# Programming paradigms\n",
    "\n",
    "A programming paradigm is a philosophy, a style or a general approach to writing code. The programming paradigm we've used the most is object oriented programming, which groups the code within the program in such a way that\n",
    "each object is responsible for itself. But there are other paradigms as well. One of them is declarative programming, which logic programming is a part of.\n",
    "\n",
    "The YouTube movie below will explain the four most important programming paradigms. Watch the video (from 9:45 till 22:15).\n",
    "\n",
    "<a href=\"https://www.youtube.com/embed/Pg3UeB-5FdA?start=585&end=1335\"><img src=\"resources/video1.png\" width=\"400\"></a>"
   ]
  },
  {
   "cell_type": "markdown",
   "metadata": {},
   "source": [
    "## 1. Four important programming paradigms\n",
    "\n",
    "- Imperative programming\n",
    "    * follow my commands\n",
    "    * in the order I give them\n",
    "    * remember state\n",
    "<br /><br />\n",
    "\n",
    "- Object-oriented programming\n",
    "    * keep your state to yourself\n",
    "    * receive my messages\n",
    "    * respond as you see fit\n",
    "<br /><br />\n",
    "\n",
    "- Functional programming\n",
    "    * mutable state is dangerous\n",
    "    * pure functions are safe\n",
    "    * data goes in, data comes out\n",
    " <br /><br />   \n",
    "    \n",
    "- Declarative programming\n",
    "    * these are the facts\n",
    "    * this is what I want\n",
    "    * I don't care how you do it"
   ]
  },
  {
   "cell_type": "markdown",
   "metadata": {},
   "source": [
    "## 2. Question\n",
    "\n",
    "- What visual metaphors were used by the speaker for these four programming paradigms? What languages were used as an example?"
   ]
  },
  {
   "cell_type": "code",
   "execution_count": null,
   "metadata": {},
   "outputs": [],
   "source": [
    "# Paradigm                     Metaphor             Language    \n",
    "# Imperative programming       -                    -\n",
    "# Object-oriented programming  -                    -\n",
    "# Functional programming       -                    -\n",
    "# Logical programming          -                    -"
   ]
  },
  {
   "cell_type": "markdown",
   "metadata": {},
   "source": [
    "# 3. Definition\n",
    "\n",
    "In computer science, declarative programming is a programming paradigm — a style of building the structure and elements of computer programs — that expresses the logic of a computation without describing its control flow."
   ]
  }
 ],
 "metadata": {
  "kernelspec": {
   "display_name": "Python 3.10.6 ('AI_env': venv)",
   "language": "python",
   "name": "python3"
  },
  "language_info": {
   "codemirror_mode": {
    "name": "ipython",
    "version": 3
   },
   "file_extension": ".py",
   "mimetype": "text/x-python",
   "name": "python",
   "nbconvert_exporter": "python",
   "pygments_lexer": "ipython3",
   "version": "3.10.6"
  },
  "vscode": {
   "interpreter": {
    "hash": "ee412e95a0a5fcd4bc718149b06e63b52799b36d97dd83a114f114becc1d8225"
   }
  }
 },
 "nbformat": 4,
 "nbformat_minor": 2
}
