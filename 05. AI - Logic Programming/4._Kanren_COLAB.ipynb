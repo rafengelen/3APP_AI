{
 "cells": [
  {
   "cell_type": "markdown",
   "metadata": {},
   "source": [
    "# Kanren\n",
    "\n",
    "As you should know by now, Python is not really a logical programming language. Before we start logic programming in Python, we need to install Kanren, a Python package that enables logic programming in Python. "
   ]
  },
  {
   "cell_type": "markdown",
   "metadata": {},
   "source": [
    "## 1. Installation\n",
    "\n",
    "Current Python version?"
   ]
  },
  {
   "cell_type": "code",
   "execution_count": null,
   "metadata": {},
   "outputs": [],
   "source": [
    "!python --version"
   ]
  },
  {
   "cell_type": "markdown",
   "metadata": {},
   "source": [
    "Back to 3.7"
   ]
  },
  {
   "cell_type": "code",
   "execution_count": null,
   "metadata": {},
   "outputs": [],
   "source": [
    "!apt-get install python3.7\n",
    "!sudo update-alternatives --install /usr/bin/python3 python3 /usr/bin/python3.7 1\n",
    "!sudo update-alternatives --config python3\n",
    "!apt-get install --reinstall python3.7-distutils\n",
    "!apt install python3-pip"
   ]
  },
  {
   "cell_type": "markdown",
   "metadata": {},
   "source": [
    "Install kanren"
   ]
  },
  {
   "cell_type": "code",
   "execution_count": null,
   "metadata": {},
   "outputs": [],
   "source": [
    "pip install kanren"
   ]
  },
  {
   "cell_type": "markdown",
   "metadata": {},
   "source": [
    "## 2. Ask Kanren\n",
    "\n",
    "Kanren enables the expression of relations and the search for values which satisfy them. The following code is the *Hello world!* of logic programming."
   ]
  },
  {
   "cell_type": "code",
   "execution_count": null,
   "metadata": {},
   "outputs": [],
   "source": [
    "from kanren import run, eq, membero, var, conde, lany, lall # some of these imports will be used later\n",
    "\n",
    "\n",
    "x = var() # declare a variable x\n",
    "result = run(1, x, eq(x, 5)) # ask kanren 1 value x, such that x equals 5\n",
    "\n",
    "print(result)"
   ]
  },
  {
   "cell_type": "markdown",
   "metadata": {},
   "source": [
    "Multiple variables and multiple goals can be used simultaneously. The\n",
    "following code asks for a number x such that `x == z` and `z == 3`"
   ]
  },
  {
   "cell_type": "code",
   "execution_count": null,
   "metadata": {},
   "outputs": [],
   "source": [
    "z = var('z') # you may also, optionally, pass a token name for a variable...\n",
    "print(z)     # and print it\n",
    "\n",
    "run(0, x, eq(x, z), eq(z, 3)) # ask kanren for all values (just say 0), immediately print the result, you may omit the print statement"
   ]
  },
  {
   "cell_type": "markdown",
   "metadata": {},
   "source": [
    "The following code asks for a number, x, such that `(1, 2) == (1, x)` holds. The variable x was already declared above."
   ]
  },
  {
   "cell_type": "code",
   "execution_count": null,
   "metadata": {},
   "outputs": [],
   "source": [
    "run(0, x, eq((1, 2), (1, x)))"
   ]
  },
  {
   "cell_type": "markdown",
   "metadata": {},
   "source": [
    "The above examples use `eq`, a *goal constructor* to state that two expressions\n",
    "are equal. Other goal constructors exist such as `membero(item, coll)` which\n",
    "states that `item` is a member of `coll`, a collection.\n",
    "\n",
    "The following example uses `membero` twice to ask for the values of x,\n",
    "such that x is a member of `(1, 2, 3)` and that x is a member of `(2, 3, 4)`."
   ]
  },
  {
   "cell_type": "code",
   "execution_count": null,
   "metadata": {},
   "outputs": [],
   "source": [
    "run(0, x, membero(x, (1, 2, 3)),  # x is a member of (1, 2, 3)\n",
    "          membero(x, (2, 3, 4)))  # x is a member of (2, 3, 4)"
   ]
  },
  {
   "cell_type": "markdown",
   "metadata": {},
   "source": [
    "## 3. Facts\n",
    "\n",
    "Kanren stores data as facts. Facts are relationships (between terms). In the next example *state* and *border* are two relations."
   ]
  },
  {
   "cell_type": "code",
   "execution_count": null,
   "metadata": {},
   "outputs": [],
   "source": [
    "from kanren import fact, facts, Relation\n",
    "\n",
    "state = Relation()\n",
    "border = Relation()\n",
    "\n",
    "fact(state, \"washington\")   # declare one fact\n",
    "fact(state, \"oregon\")\n",
    "facts(state, \"idaho\",       # use facts to declare more facts in one statement\n",
    "             \"california\")\n",
    "\n",
    "fact(border, \"washington\", \"oregon\") # one fact\n",
    "facts(border, (\"washington\", \"idaho\"), # facts to declare multiple facts\n",
    "              (\"oregon\", \"california\"))\n",
    "\n",
    "run(0, x, border(x, \"oregon\")) # ask Kanren which state borders oregon, note that it outputs only washington"
   ]
  },
  {
   "cell_type": "markdown",
   "metadata": {},
   "source": [
    "## 4. Rules\n",
    "\n",
    "Use the Python `def` statement to declare a rule. x and y are adjacent if x borders y."
   ]
  },
  {
   "cell_type": "code",
   "execution_count": null,
   "metadata": {},
   "outputs": [],
   "source": [
    "def adjacent(x, y):\n",
    "    return border(x, y)\n",
    "\n",
    "result = run(0, x, adjacent(\"washington\", \"oregon\"))\n",
    "print('yes' if len(result) else 'no') # print yes if the length of the result is > 0, no otherwise\n",
    "\n",
    "result = run(0, x, adjacent(\"oregon\", \"washington\"))\n",
    "print('yes' if len(result) else 'no')"
   ]
  },
  {
   "cell_type": "markdown",
   "metadata": {},
   "source": [
    "Use `conde`, a goal constructor for logical *and* and *or*.  __Use brackets for *and*, square brackets for *or*. Please note the position of the brackets! They are different for the normal and square brackets!__\n",
    "\n",
    "```python\n",
    "def adjacent(x, y):\n",
    "    return conde([border(x, y)], [border(y, x)]) # x is adjacent to y if x borders y OR y borders x\n",
    "\n",
    "def grandparent(x, y):\n",
    "    z = var()\n",
    "    return conde((parent(x, z), parent(z, y)))   # x is the grandparent of y if x is the parent of z AND z is the parent of y\n",
    "\n",
    "```    "
   ]
  },
  {
   "cell_type": "code",
   "execution_count": null,
   "metadata": {},
   "outputs": [],
   "source": [
    "def adjacent(x, y):\n",
    "    return conde([border(x, y)], [border(y, x)])\n",
    "\n",
    "result = run(0, x, adjacent(\"washington\", \"oregon\"))\n",
    "print('yes' if len(result) else 'no')\n",
    "\n",
    "result = run(0, x, adjacent(\"oregon\", \"washington\"))\n",
    "print('yes' if len(result) else 'no')"
   ]
  },
  {
   "cell_type": "code",
   "execution_count": null,
   "metadata": {},
   "outputs": [],
   "source": [
    "print(run(0, x, adjacent(x, \"oregon\"))) # both states are found now!\n",
    "print(run(0, x, adjacent(x, \"washington\"))) # both states are found now!"
   ]
  }
 ],
 "metadata": {
  "kernelspec": {
   "display_name": "Python 3.10.7 ('AI_env': venv)",
   "language": "python",
   "name": "python3"
  },
  "language_info": {
   "codemirror_mode": {
    "name": "ipython",
    "version": 3
   },
   "file_extension": ".py",
   "mimetype": "text/x-python",
   "name": "python",
   "nbconvert_exporter": "python",
   "pygments_lexer": "ipython3",
   "version": "3.10.7"
  },
  "vscode": {
   "interpreter": {
    "hash": "7c9d238fad2d77abbfcc5affba2026e18ae58af493c0c48950094d72d2bb4033"
   }
  }
 },
 "nbformat": 4,
 "nbformat_minor": 2
}
