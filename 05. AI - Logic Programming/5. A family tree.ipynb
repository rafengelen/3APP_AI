{
 "cells": [
  {
   "cell_type": "markdown",
   "metadata": {},
   "source": [
    "# A family tree - Exercise\n",
    "\n",
    "Now that we are more familiar with logic programming, let's use it to solve an interesting\n",
    "problem. Consider the following family tree:\n",
    "\n",
    "<img src=\"./resources/tree.png\"  style=\"height: 400px\"/>\n",
    "\n",
    "John and Megan have three sons – William, David, and Adam. The wives of William,\n",
    "David, and Adam are Emma, Olivia, and Lily respectively. William and Emma have two\n",
    "children – Chris and Stephanie. David and Olivia have five children – Wayne, Tiffany, Julie,\n",
    "Neil, and Peter. Adam and Lily have one child – Sophia.\n",
    "\n",
    "Based on these facts, can we create\n",
    "a program that can tell us the name of Wayne's grandfather? Or tell us who Sophia's uncles are?"
   ]
  },
  {
   "cell_type": "markdown",
   "metadata": {},
   "source": [
    "## 1. Facts\n",
    "\n",
    "Define the two relations and the facts that represent the tree above:"
   ]
  },
  {
   "cell_type": "code",
   "execution_count": 1,
   "metadata": {},
   "outputs": [],
   "source": [
    "from kanren import run, eq, var, conde, Relation, facts\n",
    "\n",
    "father = Relation()\n",
    "mother = Relation()\n",
    "\n",
    "facts(father, (\"John\", \"William\"),\n",
    "              (\"John\", \"David\"),\n",
    "              (\"John\", \"Adam\"),\n",
    "              (\"William\", \"Chris\"),\n",
    "              (\"William\", \"Stephanie\"),\n",
    "              (\"David\", \"Wayne\"),\n",
    "              (\"David\", \"Tiffany\"),\n",
    "              (\"David\", \"Julie\"),\n",
    "              (\"David\", \"Neil\"),\n",
    "              (\"David\", \"Peter\"),\n",
    "              (\"Adam\", \"Sophia\"))\n",
    "\n",
    "facts(mother, (\"Megan\", \"William\"),\n",
    "              (\"Megan\", \"David\"),\n",
    "              (\"Megan\", \"Adam\"),\n",
    "              (\"Emma\", \"Stephanie\"),\n",
    "              (\"Emma\", \"Chris\"),\n",
    "              (\"Olivia\", \"Tiffany\"),\n",
    "              (\"Olivia\", \"Julie\"),\n",
    "              (\"Olivia\", \"Neil\"),\n",
    "              (\"Olivia\", \"Peter\"),\n",
    "              (\"Lily\", \"Sophia\"))"
   ]
  },
  {
   "cell_type": "markdown",
   "metadata": {},
   "source": [
    "## 2. Rules\n",
    "\n",
    "Write a rule for each of the cases below:"
   ]
  },
  {
   "cell_type": "code",
   "execution_count": null,
   "metadata": {},
   "outputs": [],
   "source": [
    "# Check if x is the parent of y => x is the father OR the mother of y\n",
    "def parent(x, y):\n",
    "    # TODO\n",
    "\n",
    "# Check if x is the grandparent of y => x is the parent of the parent of y\n",
    "def grandparent(x, y):\n",
    "    # TODO\n",
    "\n",
    "# Check for sibling relationship between x and y => they have the same parent\n",
    "def sibling(x, y):\n",
    "    # TODO\n",
    "\n",
    "# Check if x is y's uncle => the father of x is the grandparent of y\n",
    "def uncle(x, y):\n",
    "    # TODO\n"
   ]
  },
  {
   "cell_type": "markdown",
   "metadata": {},
   "source": [
    "You can check your rules by executing the following code. Check in the family tree above if Kanren displays the right answers."
   ]
  },
  {
   "cell_type": "code",
   "execution_count": null,
   "metadata": {},
   "outputs": [],
   "source": [
    "x = var()\n",
    "\n",
    "print(run(0, x, parent(x, \"Julie\")))\n",
    "print(run(0, x, grandparent(\"John\", x)))\n",
    "print(run(0, x, sibling(x, \"Peter\")))\n",
    "print(run(0, x, uncle(x, \"Peter\")))"
   ]
  },
  {
   "cell_type": "markdown",
   "metadata": {},
   "source": [
    "## 3. Ask Kanren\n",
    "\n",
    "Now that our facts and rules are ready, we can ask Kanren anything we would like to know. Complete the code if necessary."
   ]
  },
  {
   "cell_type": "code",
   "execution_count": null,
   "metadata": {},
   "outputs": [],
   "source": [
    "# John's children\n",
    "name = \"John\"\n",
    "output = # TODO (run(...))\n",
    "print(\"\\nList of %s's children:\" % name)\n",
    "for item in output:\n",
    "    print(item)"
   ]
  },
  {
   "cell_type": "code",
   "execution_count": null,
   "metadata": {},
   "outputs": [],
   "source": [
    "# William's mother\n",
    "name = \"William\"\n",
    "output = # TODO\n",
    "print(\"\\n %s's mother: %s\\n\" % (name, output[0]))"
   ]
  },
  {
   "cell_type": "code",
   "execution_count": null,
   "metadata": {},
   "outputs": [],
   "source": [
    "# Adam's parents\n",
    "name = \"Adam\"\n",
    "output = # TODO\n",
    "print(\"\\nList of %s's parents:\" % name)\n",
    "for item in output:\n",
    "    print(item)"
   ]
  },
  {
   "cell_type": "code",
   "execution_count": null,
   "metadata": {},
   "outputs": [],
   "source": [
    "# Wayne's grandparents\n",
    "name = \"Wayne\"\n",
    "output = # TODO\n",
    "print(\"\\nList of %s's grandparents:\" % name)\n",
    "for item in output:\n",
    "    print(item)"
   ]
  },
  {
   "cell_type": "code",
   "execution_count": null,
   "metadata": {},
   "outputs": [],
   "source": [
    "# Megan's grandchildren\n",
    "name = \"Megan\"\n",
    "output = # TODO\n",
    "print(\"\\nList of %s's grandchildren:\" % name)\n",
    "for item in output:\n",
    "    print(item)"
   ]
  },
  {
   "cell_type": "code",
   "execution_count": null,
   "metadata": {},
   "outputs": [],
   "source": [
    "# Neil's siblings\n",
    "name = \"Neil\"\n",
    "output = # TODO\n",
    "siblings = [x for x in output if x != name] # you can't be a sibling of yourself\n",
    "print(\"\\nList of %s's siblings:\" % name)\n",
    "for item in siblings:\n",
    "    print(item)"
   ]
  },
  {
   "cell_type": "code",
   "execution_count": null,
   "metadata": {},
   "outputs": [],
   "source": [
    "# Sophia's uncles\n",
    "name = \"Sophia\"\n",
    "name_father = run(0, x, father(x, name))[0]\n",
    "output = # TODO\n",
    "output = [x for x in output if x != name_father] # your father is not your uncle\n",
    "print(\"\\nList of %s's uncles:\" % name)\n",
    "for item in output:\n",
    "    print(item)"
   ]
  },
  {
   "cell_type": "code",
   "execution_count": null,
   "metadata": {},
   "outputs": [],
   "source": [
    "# All spouses\n",
    "a, b, c = var(), var(), var()\n",
    "output = run(0, (a, b), father(a, c), mother(b, c))\n",
    "print(\"\\nList of all spouses:\")\n",
    "for item in output:\n",
    "    print('Husband: %s <==> Wife: %s' % item)"
   ]
  }
 ],
 "metadata": {
  "kernelspec": {
   "display_name": "Python 3.10.6 64-bit",
   "language": "python",
   "name": "python3"
  },
  "language_info": {
   "codemirror_mode": {
    "name": "ipython",
    "version": 3
   },
   "file_extension": ".py",
   "mimetype": "text/x-python",
   "name": "python",
   "nbconvert_exporter": "python",
   "pygments_lexer": "ipython3",
   "version": "3.9.4"
  },
  "vscode": {
   "interpreter": {
    "hash": "3fc13ab7e79b368e8913ee9489736a3ec6aa6e620b54b7989a5eeb0416c11724"
   }
  }
 },
 "nbformat": 4,
 "nbformat_minor": 2
}
