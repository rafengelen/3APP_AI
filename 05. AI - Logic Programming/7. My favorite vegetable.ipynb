{
 "cells": [
  {
   "cell_type": "markdown",
   "metadata": {},
   "source": [
    "# My favorite vegetable - Exercise\n",
    "\n",
    "Program the following facts. __Don't use the facts function from Kanren, but make use of the fact (singular) function (do this several times).__\n",
    "\n",
    "- Define a relation food and program these facts: avocado, carrot, tomato and broccoli are food.\n",
    "- Define a relation color and program these facts: carrot is orange, avocado is green, broccoli is green and tomato is red.\n",
    "- Define a relation likes and program these facts: Jeff likes carrot, avocado and baseball, Bill likes avocado and baseball, Steve likes tomato and baseball, Mary likes broccoli and Peter likes baseball.\n"
   ]
  },
  {
   "cell_type": "code",
   "execution_count": null,
   "metadata": {},
   "outputs": [],
   "source": [
    "# A) Facts\n",
    "\n"
   ]
  },
  {
   "cell_type": "markdown",
   "metadata": {},
   "source": [
    "Program a list of all people who like baseball. The output should be:\n",
    "\n",
    "bill\n",
    "steve\n",
    "jeff\n",
    "peter"
   ]
  },
  {
   "cell_type": "code",
   "execution_count": null,
   "metadata": {},
   "outputs": [],
   "source": [
    "# B) Who likes baseball?\n",
    "\n"
   ]
  },
  {
   "cell_type": "markdown",
   "metadata": {},
   "source": [
    "Program a list of all people who like food. The output should be:\n",
    "\n",
    "mary\n",
    "steve\n",
    "jeff\n",
    "bill"
   ]
  },
  {
   "cell_type": "code",
   "execution_count": null,
   "metadata": {},
   "outputs": [],
   "source": [
    "# C) Who likes food?\n",
    "\n"
   ]
  },
  {
   "cell_type": "markdown",
   "metadata": {},
   "source": [
    "Program a list of all people who like red food. The output should be:\n",
    "\n",
    "steve"
   ]
  },
  {
   "cell_type": "code",
   "execution_count": null,
   "metadata": {},
   "outputs": [],
   "source": [
    "# D) Who likes red food?\n",
    "\n"
   ]
  },
  {
   "cell_type": "markdown",
   "metadata": {},
   "source": [
    "Program a list of all people who like food with the same color that Mary likes. The output should be:\n",
    "\n",
    "jeff\n",
    "bill"
   ]
  },
  {
   "cell_type": "code",
   "execution_count": null,
   "metadata": {},
   "outputs": [],
   "source": [
    "# E) Who likes food with the same color that Mary likes?\n",
    "\n"
   ]
  },
  {
   "cell_type": "code",
   "execution_count": null,
   "metadata": {},
   "outputs": [],
   "source": []
  }
 ],
 "metadata": {
  "kernelspec": {
   "display_name": "Python 3",
   "language": "python",
   "name": "python3"
  },
  "language_info": {
   "codemirror_mode": {
    "name": "ipython",
    "version": 3
   },
   "file_extension": ".py",
   "mimetype": "text/x-python",
   "name": "python",
   "nbconvert_exporter": "python",
   "pygments_lexer": "ipython3",
   "version": "3.7.3"
  }
 },
 "nbformat": 4,
 "nbformat_minor": 2
}
